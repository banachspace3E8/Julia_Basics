{
 "cells": [
  {
   "cell_type": "code",
   "execution_count": 1,
   "id": "bb128f46-07bd-46f0-87d6-b5c4170d985b",
   "metadata": {},
   "outputs": [],
   "source": [
    "#Shishir Khanal\n",
    "#01/19/2023\n",
    "#Function definition with optional args in Julia"
   ]
  },
  {
   "cell_type": "code",
   "execution_count": 2,
   "id": "c5744eca-76be-46ce-a057-cbde1095476f",
   "metadata": {},
   "outputs": [
    {
     "data": {
      "text/plain": [
       "pow (generic function with 2 methods)"
      ]
     },
     "execution_count": 2,
     "metadata": {},
     "output_type": "execute_result"
    }
   ],
   "source": [
    "pow(a, b=2) = a^b"
   ]
  },
  {
   "cell_type": "code",
   "execution_count": 3,
   "id": "38aeb74f-3f3d-4645-bd4b-13431be638e1",
   "metadata": {},
   "outputs": [
    {
     "data": {
      "text/plain": [
       "81"
      ]
     },
     "execution_count": 3,
     "metadata": {},
     "output_type": "execute_result"
    }
   ],
   "source": [
    "pow(3,4)"
   ]
  },
  {
   "cell_type": "code",
   "execution_count": 4,
   "id": "151c85cd-a7a5-4610-ba1d-ceaa83dcff32",
   "metadata": {},
   "outputs": [
    {
     "data": {
      "text/plain": [
       "196"
      ]
     },
     "execution_count": 4,
     "metadata": {},
     "output_type": "execute_result"
    }
   ],
   "source": [
    "pow(14)"
   ]
  },
  {
   "cell_type": "code",
   "execution_count": 8,
   "id": "89e071cf-55e3-4005-96a0-9d8475ec1beb",
   "metadata": {},
   "outputs": [
    {
     "data": {
      "text/plain": [
       "findmin (generic function with 3 methods)"
      ]
     },
     "execution_count": 8,
     "metadata": {},
     "output_type": "execute_result"
    }
   ],
   "source": [
    "#Gives error for single valued function\n",
    "#findmin(x, y) = x < y ? x : y\n",
    "#findmin(x,y...) = findmin(x, findmin(y...))\n",
    "findmin(x, y=x) = x < y ? x : y\n",
    "findmin(x,y...) = findmin(x, findmin(y...))"
   ]
  },
  {
   "cell_type": "code",
   "execution_count": 9,
   "id": "c5229385-2cfc-4ffb-97c9-706f0c253579",
   "metadata": {},
   "outputs": [
    {
     "data": {
      "text/plain": [
       "10"
      ]
     },
     "execution_count": 9,
     "metadata": {},
     "output_type": "execute_result"
    }
   ],
   "source": [
    "findmin(10)"
   ]
  },
  {
   "cell_type": "code",
   "execution_count": null,
   "id": "6edd3906-0225-48c8-b85b-314514f83497",
   "metadata": {},
   "outputs": [],
   "source": []
  }
 ],
 "metadata": {
  "kernelspec": {
   "display_name": "Julia 1.8.3",
   "language": "julia",
   "name": "julia-1.8"
  },
  "language_info": {
   "file_extension": ".jl",
   "mimetype": "application/julia",
   "name": "julia",
   "version": "1.8.3"
  }
 },
 "nbformat": 4,
 "nbformat_minor": 5
}
