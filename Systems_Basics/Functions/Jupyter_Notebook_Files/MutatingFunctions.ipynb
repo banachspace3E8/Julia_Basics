{
 "cells": [
  {
   "cell_type": "code",
   "execution_count": 1,
   "id": "9809b968-0043-447e-8281-e713d7e7ed16",
   "metadata": {},
   "outputs": [],
   "source": [
    "#Shishir Khanal\n",
    "#01/19/2023\n",
    "#Mutating Functions in Julia"
   ]
  },
  {
   "cell_type": "code",
   "execution_count": 2,
   "id": "a9ae03dc-dc88-4489-8fe9-90270873fb1b",
   "metadata": {},
   "outputs": [],
   "source": [
    "x = [35, 76, -43, -36, 12, 3, 24, -45];"
   ]
  },
  {
   "cell_type": "code",
   "execution_count": 5,
   "id": "c1f04ed3-a3ec-4967-982b-0b4e10f7468f",
   "metadata": {},
   "outputs": [
    {
     "data": {
      "text/plain": [
       "8-element Vector{Int64}:\n",
       " -45\n",
       " -43\n",
       " -36\n",
       "   3\n",
       "  12\n",
       "  24\n",
       "  35\n",
       "  76"
      ]
     },
     "execution_count": 5,
     "metadata": {},
     "output_type": "execute_result"
    }
   ],
   "source": [
    "sort!(x)"
   ]
  },
  {
   "cell_type": "code",
   "execution_count": 6,
   "id": "6f2e5b35-47a1-473b-8818-c5cfb196f50c",
   "metadata": {},
   "outputs": [
    {
     "data": {
      "text/plain": [
       "8-element Vector{Int64}:\n",
       " -45\n",
       " -43\n",
       " -36\n",
       "   3\n",
       "  12\n",
       "  24\n",
       "  35\n",
       "  76"
      ]
     },
     "execution_count": 6,
     "metadata": {},
     "output_type": "execute_result"
    }
   ],
   "source": [
    "x"
   ]
  },
  {
   "cell_type": "code",
   "execution_count": 7,
   "id": "0a090777-dd53-48a6-88ea-9fd7b236c3b0",
   "metadata": {},
   "outputs": [
    {
     "data": {
      "text/plain": [
       "padwithzeros (generic function with 1 method)"
      ]
     },
     "execution_count": 7,
     "metadata": {},
     "output_type": "execute_result"
    }
   ],
   "source": [
    "#Nonmutating Function\n",
    "function padwithzeros(vector, n)\n",
    "    x = [zeros(n); vector; zeros(n)]\n",
    "    return x\n",
    "end"
   ]
  },
  {
   "cell_type": "code",
   "execution_count": 8,
   "id": "82f50974-ad06-4b63-8bfe-d003cee9f696",
   "metadata": {},
   "outputs": [
    {
     "data": {
      "text/plain": [
       "14-element Vector{Float64}:\n",
       "   0.0\n",
       "   0.0\n",
       "   0.0\n",
       " -45.0\n",
       " -43.0\n",
       " -36.0\n",
       "   3.0\n",
       "  12.0\n",
       "  24.0\n",
       "  35.0\n",
       "  76.0\n",
       "   0.0\n",
       "   0.0\n",
       "   0.0"
      ]
     },
     "execution_count": 8,
     "metadata": {},
     "output_type": "execute_result"
    }
   ],
   "source": [
    "padwithzeros(x, 3)"
   ]
  },
  {
   "cell_type": "code",
   "execution_count": 9,
   "id": "e47afcd1-0f82-4e98-bf7e-ce21e2d5d141",
   "metadata": {},
   "outputs": [
    {
     "data": {
      "text/plain": [
       "8-element Vector{Int64}:\n",
       " -45\n",
       " -43\n",
       " -36\n",
       "   3\n",
       "  12\n",
       "  24\n",
       "  35\n",
       "  76"
      ]
     },
     "execution_count": 9,
     "metadata": {},
     "output_type": "execute_result"
    }
   ],
   "source": [
    "x"
   ]
  },
  {
   "cell_type": "code",
   "execution_count": 12,
   "id": "9e09217d-2444-4d95-a75b-34acb3be7d5d",
   "metadata": {},
   "outputs": [
    {
     "data": {
      "text/plain": [
       "padwithzeros! (generic function with 1 method)"
      ]
     },
     "execution_count": 12,
     "metadata": {},
     "output_type": "execute_result"
    }
   ],
   "source": [
    "#Mutating Function\n",
    "function padwithzeros!(vector, n)\n",
    "    for i in 1:n\n",
    "        insert!(vector, 1, 0)\n",
    "    end\n",
    "    \n",
    "    for i in 1:n\n",
    "        append!(vector, 0)\n",
    "    end\n",
    "end"
   ]
  },
  {
   "cell_type": "code",
   "execution_count": 13,
   "id": "c0577291-7555-4473-aa18-6ed381bc468b",
   "metadata": {},
   "outputs": [],
   "source": [
    "padwithzeros!(x, 3)"
   ]
  },
  {
   "cell_type": "code",
   "execution_count": 14,
   "id": "03eaea0f-4397-4989-b3bc-4ce8543113ac",
   "metadata": {},
   "outputs": [
    {
     "data": {
      "text/plain": [
       "14-element Vector{Int64}:\n",
       "   0\n",
       "   0\n",
       "   0\n",
       " -45\n",
       " -43\n",
       " -36\n",
       "   3\n",
       "  12\n",
       "  24\n",
       "  35\n",
       "  76\n",
       "   0\n",
       "   0\n",
       "   0"
      ]
     },
     "execution_count": 14,
     "metadata": {},
     "output_type": "execute_result"
    }
   ],
   "source": [
    "x"
   ]
  },
  {
   "cell_type": "code",
   "execution_count": null,
   "id": "cd4e8977-c3cf-457f-a20e-bba9f3599845",
   "metadata": {},
   "outputs": [],
   "source": []
  }
 ],
 "metadata": {
  "kernelspec": {
   "display_name": "Julia 1.8.3",
   "language": "julia",
   "name": "julia-1.8"
  },
  "language_info": {
   "file_extension": ".jl",
   "mimetype": "application/julia",
   "name": "julia",
   "version": "1.8.3"
  }
 },
 "nbformat": 4,
 "nbformat_minor": 5
}
