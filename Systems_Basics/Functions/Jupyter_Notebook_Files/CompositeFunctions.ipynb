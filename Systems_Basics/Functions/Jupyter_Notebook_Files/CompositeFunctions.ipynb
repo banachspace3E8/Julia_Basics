{
 "cells": [
  {
   "cell_type": "code",
   "execution_count": 1,
   "id": "ddc8e898-d9c2-4238-b419-06742e6f585d",
   "metadata": {},
   "outputs": [],
   "source": [
    "#Shishir Khanal\n",
    "#01/19/2023\n",
    "#Composite Functions in Julia"
   ]
  },
  {
   "cell_type": "code",
   "execution_count": 2,
   "id": "52c0deac-46d3-43d0-8c63-2abb09006e15",
   "metadata": {},
   "outputs": [
    {
     "data": {
      "text/plain": [
       "712"
      ]
     },
     "execution_count": 2,
     "metadata": {},
     "output_type": "execute_result"
    }
   ],
   "source": [
    "x = rand(-10:10, 20);\n",
    "square(x) = x.^2;\n",
    "(sum ∘ square)(x) #\\circ<TAB>"
   ]
  },
  {
   "cell_type": "code",
   "execution_count": 3,
   "id": "efed78f3-dc71-444d-b295-bfbe9a365eac",
   "metadata": {},
   "outputs": [
    {
     "data": {
      "text/plain": [
       "712"
      ]
     },
     "execution_count": 3,
     "metadata": {},
     "output_type": "execute_result"
    }
   ],
   "source": [
    "x |> square |> sum"
   ]
  },
  {
   "cell_type": "code",
   "execution_count": 5,
   "id": "cf7b22e4-3dd6-47be-a324-f58f9b3e34b9",
   "metadata": {},
   "outputs": [],
   "source": [
    "str = \"Writing functions in Julia Programming is fun.\";"
   ]
  },
  {
   "cell_type": "code",
   "execution_count": 7,
   "id": "d20013d8-657c-4de2-b8c3-8352025ce56e",
   "metadata": {},
   "outputs": [
    {
     "data": {
      "text/plain": [
       "7-element Vector{Int64}:\n",
       "  7\n",
       "  9\n",
       "  2\n",
       "  5\n",
       " 11\n",
       "  2\n",
       "  4"
      ]
     },
     "execution_count": 7,
     "metadata": {},
     "output_type": "execute_result"
    }
   ],
   "source": [
    "#Pipe operator \n",
    "#dot operator for broadcasting\n",
    "str |> split .|> length"
   ]
  },
  {
   "cell_type": "code",
   "execution_count": 8,
   "id": "89f804a0-1639-4182-9519-3c33142310c4",
   "metadata": {},
   "outputs": [
    {
     "data": {
      "text/plain": [
       "7-element Vector{Char}:\n",
       " 'W': ASCII/Unicode U+0057 (category Lu: Letter, uppercase)\n",
       " 'f': ASCII/Unicode U+0066 (category Ll: Letter, lowercase)\n",
       " 'i': ASCII/Unicode U+0069 (category Ll: Letter, lowercase)\n",
       " 'J': ASCII/Unicode U+004A (category Lu: Letter, uppercase)\n",
       " 'P': ASCII/Unicode U+0050 (category Lu: Letter, uppercase)\n",
       " 'i': ASCII/Unicode U+0069 (category Ll: Letter, lowercase)\n",
       " 'f': ASCII/Unicode U+0066 (category Ll: Letter, lowercase)"
      ]
     },
     "execution_count": 8,
     "metadata": {},
     "output_type": "execute_result"
    }
   ],
   "source": [
    "str |> split .|> first"
   ]
  }
 ],
 "metadata": {
  "kernelspec": {
   "display_name": "Julia 1.8.3",
   "language": "julia",
   "name": "julia-1.8"
  },
  "language_info": {
   "file_extension": ".jl",
   "mimetype": "application/julia",
   "name": "julia",
   "version": "1.8.3"
  }
 },
 "nbformat": 4,
 "nbformat_minor": 5
}
