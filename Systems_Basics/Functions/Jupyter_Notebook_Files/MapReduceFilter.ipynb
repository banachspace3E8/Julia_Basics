{
 "cells": [
  {
   "cell_type": "code",
   "execution_count": 1,
   "id": "5fdc13c8-9658-4ddb-a24c-4d7e663d317d",
   "metadata": {},
   "outputs": [],
   "source": [
    "#Shishir Khanal\n",
    "#01/18/2023\n",
    "#Map, Reduce and Filter in Julia\n",
    "#Higher order functions in Julia like broadcast"
   ]
  },
  {
   "cell_type": "code",
   "execution_count": 3,
   "id": "eeedde39-94ae-4284-a2ae-f715ce63c166",
   "metadata": {},
   "outputs": [
    {
     "name": "stdout",
     "output_type": "stream",
     "text": [
      "[25, 64, 144, 289, 576, 1764]\n"
     ]
    }
   ],
   "source": [
    "arr = [5, 8, 12, 17, 24, 42];\n",
    "sqarr = Int64[];\n",
    "\n",
    "for e1 in arr\n",
    "    append!(sqarr, e1^2)\n",
    "end\n",
    "println(sqarr)"
   ]
  },
  {
   "cell_type": "code",
   "execution_count": 6,
   "id": "5bd3e786-6313-45c6-8707-6caf46cddf36",
   "metadata": {},
   "outputs": [
    {
     "name": "stdout",
     "output_type": "stream",
     "text": [
      "[25, 64, 144, 289, 576, 1764]"
     ]
    }
   ],
   "source": [
    "#Map and broadcast are similar for sinle arguments\n",
    "#For multiple arguments, broadcast is stronger\n",
    "sqarr = map(x -> x^2, arr)\n",
    "print(sqarr)"
   ]
  },
  {
   "cell_type": "code",
   "execution_count": 11,
   "id": "8c3f852e-1222-4488-8a4b-3e4a6d15082f",
   "metadata": {},
   "outputs": [],
   "source": [
    "rowvec = [1 2 3 4 5]\n",
    "colvec = [10, 20, 30, 40, 50];"
   ]
  },
  {
   "cell_type": "code",
   "execution_count": 12,
   "id": "94bc4dbd-9fa3-471b-8ed8-765d5146f3d4",
   "metadata": {},
   "outputs": [
    {
     "data": {
      "text/plain": [
       "5-element Vector{Int64}:\n",
       " 11\n",
       " 22\n",
       " 33\n",
       " 44\n",
       " 55"
      ]
     },
     "execution_count": 12,
     "metadata": {},
     "output_type": "execute_result"
    }
   ],
   "source": [
    "map(+, rowvec, colvec)"
   ]
  },
  {
   "cell_type": "code",
   "execution_count": 13,
   "id": "6a1179e2-9276-4c73-961c-03205fa12653",
   "metadata": {},
   "outputs": [
    {
     "data": {
      "text/plain": [
       "5×5 Matrix{Int64}:\n",
       " 11  12  13  14  15\n",
       " 21  22  23  24  25\n",
       " 31  32  33  34  35\n",
       " 41  42  43  44  45\n",
       " 51  52  53  54  55"
      ]
     },
     "execution_count": 13,
     "metadata": {},
     "output_type": "execute_result"
    }
   ],
   "source": [
    "#broadcasting takes dimensions into account\n",
    "rowvec .+ colvec"
   ]
  },
  {
   "cell_type": "code",
   "execution_count": 14,
   "id": "07894fb7-4f77-46bb-8dbd-d6f20f72a93b",
   "metadata": {},
   "outputs": [
    {
     "data": {
      "text/plain": [
       "108"
      ]
     },
     "execution_count": 14,
     "metadata": {},
     "output_type": "execute_result"
    }
   ],
   "source": [
    "#reduce function\n",
    "reduce(+, arr)"
   ]
  },
  {
   "cell_type": "code",
   "execution_count": 16,
   "id": "56a14046-d04f-4b28-8fb9-ceefe4c36ccd",
   "metadata": {},
   "outputs": [
    {
     "data": {
      "text/plain": [
       "2862"
      ]
     },
     "execution_count": 16,
     "metadata": {},
     "output_type": "execute_result"
    }
   ],
   "source": [
    "sqarr = map(x -> x^2, arr)\n",
    "sumsqar = reduce(+, sqarr)"
   ]
  },
  {
   "cell_type": "code",
   "execution_count": 17,
   "id": "1a12ef30-dad1-4f25-973a-fc511bd083a6",
   "metadata": {},
   "outputs": [
    {
     "data": {
      "text/plain": [
       "2862"
      ]
     },
     "execution_count": 17,
     "metadata": {},
     "output_type": "execute_result"
    }
   ],
   "source": [
    "#Evaluated squared sum of array\n",
    "mapreduce(x -> x^2, +, arr)"
   ]
  },
  {
   "cell_type": "code",
   "execution_count": 18,
   "id": "42d9d8c5-1565-4a2a-982e-8a541224a03b",
   "metadata": {},
   "outputs": [
    {
     "data": {
      "text/plain": [
       "3-element Vector{Int64}:\n",
       "  8\n",
       " 12\n",
       " 24"
      ]
     },
     "execution_count": 18,
     "metadata": {},
     "output_type": "execute_result"
    }
   ],
   "source": [
    "#Filter selects some of the elements based on given functions\n",
    " filter(x -> x % 4 == 0, arr)"
   ]
  },
  {
   "cell_type": "code",
   "execution_count": 19,
   "id": "38dde938-68b4-4f44-9487-6b2e571a9fa1",
   "metadata": {},
   "outputs": [],
   "source": [
    "struct Course\n",
    "    subject::Symbol\n",
    "    field::Symbol\n",
    "    ncourses::Int\n",
    "    nstudents::Int #average number of students in a course\n",
    "end"
   ]
  },
  {
   "cell_type": "code",
   "execution_count": 20,
   "id": "5f592ea2-5bc2-43cc-ad00-db420ce0cac2",
   "metadata": {},
   "outputs": [
    {
     "data": {
      "text/plain": [
       "5-element Vector{Course}:\n",
       " Course(:Julia, :Programming, 10, 250)\n",
       " Course(:Python, :Programming, 50, 750)\n",
       " Course(:Mathematics, :Science, 30, 100)\n",
       " Course(:Physics, :Science, 45, 300)\n",
       " Course(:R, :Programming, 35, 300)"
      ]
     },
     "execution_count": 20,
     "metadata": {},
     "output_type": "execute_result"
    }
   ],
   "source": [
    "coursedata = [Course(:Julia, :Programming, 10, 250), Course(:Python, :Programming, 50, 750),\n",
    "Course(:Mathematics, :Science, 30, 100), Course(:Physics, :Science, 45, 300), Course(:R, :Programming, 35, 300)]"
   ]
  },
  {
   "cell_type": "code",
   "execution_count": 22,
   "id": "ad593973-7efe-4f91-b00e-24866762c765",
   "metadata": {},
   "outputs": [
    {
     "data": {
      "text/plain": [
       "3-element Vector{Course}:\n",
       " Course(:Julia, :Programming, 10, 250)\n",
       " Course(:Python, :Programming, 50, 750)\n",
       " Course(:R, :Programming, 35, 300)"
      ]
     },
     "execution_count": 22,
     "metadata": {},
     "output_type": "execute_result"
    }
   ],
   "source": [
    "#Filter for courses in programming field\n",
    "nprogramming = filter(x -> x.field === :Programming, coursedata)"
   ]
  },
  {
   "cell_type": "code",
   "execution_count": 23,
   "id": "25629c82-08bc-4ef0-9598-a40883b2e92c",
   "metadata": {},
   "outputs": [
    {
     "data": {
      "text/plain": [
       "3-element Vector{Int64}:\n",
       "  2500\n",
       " 37500\n",
       " 10500"
      ]
     },
     "execution_count": 23,
     "metadata": {},
     "output_type": "execute_result"
    }
   ],
   "source": [
    "nstudents = map(x -> x.ncourses * x.nstudents, nprogramming) "
   ]
  },
  {
   "cell_type": "code",
   "execution_count": 24,
   "id": "69e02845-0ad0-4393-880b-091cc4c1e5e2",
   "metadata": {},
   "outputs": [
    {
     "data": {
      "text/plain": [
       "50500"
      ]
     },
     "execution_count": 24,
     "metadata": {},
     "output_type": "execute_result"
    }
   ],
   "source": [
    "totalstudents = reduce(+, nstudents)"
   ]
  },
  {
   "cell_type": "code",
   "execution_count": 27,
   "id": "2a96feb5-f98a-4cfd-a597-405d5e052bb1",
   "metadata": {},
   "outputs": [
    {
     "data": {
      "text/plain": [
       "nfield (generic function with 1 method)"
      ]
     },
     "execution_count": 27,
     "metadata": {},
     "output_type": "execute_result"
    }
   ],
   "source": [
    "function nfield(data, field)\n",
    "    f = filter(x -> x.field === Symbol(field), data)\n",
    "    s = mapreduce(x -> x.ncourses * x.nstudents, +, f)\n",
    "    return s\n",
    "end"
   ]
  },
  {
   "cell_type": "code",
   "execution_count": 28,
   "id": "3d5be639-7fdf-4eca-b891-f769fbcec543",
   "metadata": {},
   "outputs": [
    {
     "data": {
      "text/plain": [
       "50500"
      ]
     },
     "execution_count": 28,
     "metadata": {},
     "output_type": "execute_result"
    }
   ],
   "source": [
    "nfield(coursedata, \"Programming\")"
   ]
  },
  {
   "cell_type": "code",
   "execution_count": null,
   "id": "5ce51b0d-ab42-44b9-9299-abdaa823c78f",
   "metadata": {},
   "outputs": [
    {
     "data": {
      "text/plain": [
       "16500"
      ]
     },
     "execution_count": 29,
     "metadata": {},
     "output_type": "execute_result"
    }
   ],
   "source": [
    "nfield(coursedata, \"Science\")"
   ]
  },
  {
   "cell_type": "code",
   "execution_count": 30,
   "id": "9f1e5733-fa2b-4f62-81ca-9f2e842d6176",
   "metadata": {},
   "outputs": [
    {
     "data": {
      "text/plain": [
       "f (generic function with 1 method)"
      ]
     },
     "execution_count": 30,
     "metadata": {},
     "output_type": "execute_result"
    }
   ],
   "source": [
    "#Function that classifies number based on their divisibility y 2, 3, 6\n",
    "function f(x)\n",
    "    if (x % 2 == 0) && (x % 3 != 0)\n",
    "        return \"Div2\"\n",
    "    elseif (x % 3 == 0) && (x % 2 != 0)\n",
    "        return \"Div3\"\n",
    "    elseif(x % 6 == 0)\n",
    "        return \"Div6\"\n",
    "    else\n",
    "        return \"DivNone\"\n",
    "    end\n",
    "end"
   ]
  },
  {
   "cell_type": "code",
   "execution_count": 31,
   "id": "79d89979-a4b8-49ae-bf20-9fef30c18ede",
   "metadata": {},
   "outputs": [
    {
     "data": {
      "text/plain": [
       "6-element Vector{String}:\n",
       " \"DivNone\"\n",
       " \"Div2\"\n",
       " \"Div6\"\n",
       " \"DivNone\"\n",
       " \"Div6\"\n",
       " \"Div6\""
      ]
     },
     "execution_count": 31,
     "metadata": {},
     "output_type": "execute_result"
    }
   ],
   "source": [
    "map(f, arr)"
   ]
  },
  {
   "cell_type": "code",
   "execution_count": 32,
   "id": "10f69627-b4ac-4a9e-a181-e8cdc0ad3be8",
   "metadata": {},
   "outputs": [
    {
     "data": {
      "text/plain": [
       "6-element Vector{String}:\n",
       " \"DivNone\"\n",
       " \"Div2\"\n",
       " \"Div6\"\n",
       " \"DivNone\"\n",
       " \"Div6\"\n",
       " \"Div6\""
      ]
     },
     "execution_count": 32,
     "metadata": {},
     "output_type": "execute_result"
    }
   ],
   "source": [
    "#Not recommended\n",
    "map(x -> begin\n",
    "    if (x % 2 == 0) && (x % 3 != 0)\n",
    "        return \"Div2\"\n",
    "    elseif (x % 3 == 0) && (x % 2 != 0)\n",
    "        return \"Div3\"\n",
    "    elseif(x % 6 == 0)\n",
    "        return \"Div6\"\n",
    "    else\n",
    "        return \"DivNone\"\n",
    "    end\n",
    "    end,\n",
    "arr)"
   ]
  },
  {
   "cell_type": "code",
   "execution_count": 33,
   "id": "a0c779cc-4ccc-4dce-88fe-b09dc2d96511",
   "metadata": {},
   "outputs": [
    {
     "data": {
      "text/plain": [
       "6-element Vector{String}:\n",
       " \"DivNone\"\n",
       " \"Div2\"\n",
       " \"Div6\"\n",
       " \"DivNone\"\n",
       " \"Div6\"\n",
       " \"Div6\""
      ]
     },
     "execution_count": 33,
     "metadata": {},
     "output_type": "execute_result"
    }
   ],
   "source": [
    "map(arr) do x\n",
    "    if (x % 2 == 0) && (x % 3 != 0)\n",
    "        return \"Div2\"\n",
    "    elseif (x % 3 == 0) && (x % 2 != 0)\n",
    "        return \"Div3\"\n",
    "    elseif(x % 6 == 0)\n",
    "        return \"Div6\"\n",
    "    else\n",
    "        return \"DivNone\"\n",
    "    end\n",
    "end"
   ]
  },
  {
   "cell_type": "code",
   "execution_count": 36,
   "id": "96ee268a-e62f-4b4c-a3a6-2c0ccaf73a3e",
   "metadata": {},
   "outputs": [
    {
     "data": {
      "text/plain": [
       "72"
      ]
     },
     "execution_count": 36,
     "metadata": {},
     "output_type": "execute_result"
    }
   ],
   "source": [
    "data = \"Programming with Julia. \\nHigher order functions.\\nMap, reduce and filter.\";\n",
    "\n",
    "open(\"input.txt\", \"w\") do io\n",
    "    write(io, data)\n",
    "end"
   ]
  }
 ],
 "metadata": {
  "kernelspec": {
   "display_name": "Julia 1.8.3",
   "language": "julia",
   "name": "julia-1.8"
  },
  "language_info": {
   "file_extension": ".jl",
   "mimetype": "application/julia",
   "name": "julia",
   "version": "1.8.3"
  }
 },
 "nbformat": 4,
 "nbformat_minor": 5
}
