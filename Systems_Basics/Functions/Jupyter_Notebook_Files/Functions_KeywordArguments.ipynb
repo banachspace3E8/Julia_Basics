{
 "cells": [
  {
   "cell_type": "code",
   "execution_count": 1,
   "id": "fffdcb18-3980-49ee-9578-bd0c53287696",
   "metadata": {},
   "outputs": [],
   "source": [
    "#Shishir Khanal\n",
    "#01/19/2023\n",
    "#Function definition with keyword args in Julia"
   ]
  },
  {
   "cell_type": "code",
   "execution_count": 2,
   "id": "444478d3-c8fd-4830-a62e-64676b1acca1",
   "metadata": {},
   "outputs": [
    {
     "data": {
      "text/plain": [
       "positionargs (generic function with 4 methods)"
      ]
     },
     "execution_count": 2,
     "metadata": {},
     "output_type": "execute_result"
    }
   ],
   "source": [
    "function positionargs(x, y=10, z=20, t=30)\n",
    "    println(\"x = $x\")\n",
    "    println(\"y = $y\")\n",
    "    println(\"z = $z\")\n",
    "    println(\"t = $t\")\n",
    "end"
   ]
  },
  {
   "cell_type": "code",
   "execution_count": 3,
   "id": "3e86c6a7-9d11-40ea-8150-150b46dbf8f3",
   "metadata": {},
   "outputs": [
    {
     "name": "stdout",
     "output_type": "stream",
     "text": [
      "x = 1\n",
      "y = 10\n",
      "z = 20\n",
      "t = 30\n"
     ]
    }
   ],
   "source": [
    "positionargs(1)"
   ]
  },
  {
   "cell_type": "code",
   "execution_count": 4,
   "id": "1418b390-3037-44b6-9ff6-f7aac1a15bd9",
   "metadata": {},
   "outputs": [
    {
     "name": "stdout",
     "output_type": "stream",
     "text": [
      "x = 1\n",
      "y = 2\n",
      "z = 20\n",
      "t = 30\n"
     ]
    }
   ],
   "source": [
    "positionargs(1, 2)"
   ]
  },
  {
   "cell_type": "code",
   "execution_count": 5,
   "id": "e4419da4-62f8-4cdc-bfb9-66597d3d0e57",
   "metadata": {},
   "outputs": [
    {
     "name": "stdout",
     "output_type": "stream",
     "text": [
      "x = 1\n",
      "y = 2\n",
      "z = 3\n",
      "t = 30\n"
     ]
    }
   ],
   "source": [
    "positionargs(1,2,3)"
   ]
  },
  {
   "cell_type": "code",
   "execution_count": 11,
   "id": "3b908d42-7c94-4a96-b9d9-994e4488a3b8",
   "metadata": {},
   "outputs": [
    {
     "name": "stdout",
     "output_type": "stream",
     "text": [
      "x = 1\n",
      "y = 2\n",
      "z = 3\n",
      "t = 4\n"
     ]
    }
   ],
   "source": [
    "positionargs(1,2,3,4)\n",
    "#Unique to Julia:\n",
    "#Args are taken in the order they are defined\n",
    "#Can't ask to use default value for z and define a new value for t"
   ]
  },
  {
   "cell_type": "code",
   "execution_count": 17,
   "id": "a1ea0724-9151-4cc9-aca0-d5ba58706264",
   "metadata": {},
   "outputs": [
    {
     "data": {
      "text/plain": [
       "keywordargs (generic function with 1 method)"
      ]
     },
     "execution_count": 17,
     "metadata": {},
     "output_type": "execute_result"
    }
   ],
   "source": [
    "function keywordargs(x; y=10, z=20, t=30)\n",
    "    println(\"x = $x\")\n",
    "    println(\"y = $y\")\n",
    "    println(\"z = $z\")\n",
    "    println(\"t = $t\")\n",
    "end"
   ]
  },
  {
   "cell_type": "code",
   "execution_count": 18,
   "id": "028024f2-839f-4d31-8699-caecf79efa53",
   "metadata": {},
   "outputs": [
    {
     "name": "stdout",
     "output_type": "stream",
     "text": [
      "x = 1\n",
      "y = 10\n",
      "z = 20\n",
      "t = 30\n"
     ]
    }
   ],
   "source": [
    "keywordargs(1)"
   ]
  },
  {
   "cell_type": "code",
   "execution_count": 19,
   "id": "0852c21c-df9d-46bc-8eeb-718dd486ead1",
   "metadata": {},
   "outputs": [
    {
     "name": "stdout",
     "output_type": "stream",
     "text": [
      "x = 1\n",
      "y = 10\n",
      "z = 200\n",
      "t = 300\n"
     ]
    }
   ],
   "source": [
    "keywordargs(1, t=300, z=200)"
   ]
  },
  {
   "cell_type": "code",
   "execution_count": 20,
   "id": "44951baf-6ad9-4dcc-9a17-1c3f76ab9517",
   "metadata": {},
   "outputs": [
    {
     "name": "stdout",
     "output_type": "stream",
     "text": [
      "x = 1\n",
      "y = 444\n",
      "z = 999\n",
      "t = 555\n"
     ]
    }
   ],
   "source": [
    "#can separate positional and keyword args with a semicolon but its optional\n",
    "keywordargs(1; z=999, y=444, t=555)"
   ]
  },
  {
   "cell_type": "code",
   "execution_count": null,
   "id": "83c7a127-6f52-490e-ac8b-501f4ea275c9",
   "metadata": {},
   "outputs": [],
   "source": []
  }
 ],
 "metadata": {
  "kernelspec": {
   "display_name": "Julia 1.8.3",
   "language": "julia",
   "name": "julia-1.8"
  },
  "language_info": {
   "file_extension": ".jl",
   "mimetype": "application/julia",
   "name": "julia",
   "version": "1.8.3"
  }
 },
 "nbformat": 4,
 "nbformat_minor": 5
}
