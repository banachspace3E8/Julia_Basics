{
 "cells": [
  {
   "cell_type": "code",
   "execution_count": 2,
   "id": "247639b0-ed9a-405a-ad5a-9340f5517a74",
   "metadata": {},
   "outputs": [],
   "source": [
    "#Shishir Khanal\n",
    "#01/18/2023\n",
    "#Functions in Julia\n",
    "#Julia functions may change the global state of the program"
   ]
  },
  {
   "cell_type": "code",
   "execution_count": 3,
   "id": "c5d3fdae-95de-41c8-930b-4ac2da122ea0",
   "metadata": {},
   "outputs": [
    {
     "data": {
      "text/plain": [
       "200-element Vector{Int64}:\n",
       "  640\n",
       "   26\n",
       "  513\n",
       "  655\n",
       " -977\n",
       "  849\n",
       " -824\n",
       "  525\n",
       "  453\n",
       " -376\n",
       " -792\n",
       "  894\n",
       " -856\n",
       "    ⋮\n",
       " -421\n",
       "  333\n",
       " -630\n",
       "  557\n",
       " -856\n",
       "   -3\n",
       " -553\n",
       " -889\n",
       "  209\n",
       "  400\n",
       "  524\n",
       "  603"
      ]
     },
     "execution_count": 3,
     "metadata": {},
     "output_type": "execute_result"
    }
   ],
   "source": [
    "numbers = rand(-1000:1000, 200)"
   ]
  },
  {
   "cell_type": "code",
   "execution_count": 8,
   "id": "855830a4-914e-4573-a198-34b3a42ea5f1",
   "metadata": {},
   "outputs": [
    {
     "name": "stdout",
     "output_type": "stream",
     "text": [
      "983\n"
     ]
    }
   ],
   "source": [
    "maxnum = typemin(Int64)\n",
    "\n",
    "for num in numbers\n",
    "    if num > maxnum\n",
    "        maxnum = num\n",
    "    end\n",
    "end\n",
    "println(maxnum)"
   ]
  },
  {
   "cell_type": "code",
   "execution_count": 9,
   "id": "9da3d5a2-efb4-4233-bafe-4cfd48510d62",
   "metadata": {},
   "outputs": [],
   "source": [
    "newnumbers = rand(0:100_000, 1000);"
   ]
  },
  {
   "cell_type": "code",
   "execution_count": 10,
   "id": "09ad6833-1426-44f3-a062-65168d2396aa",
   "metadata": {},
   "outputs": [
    {
     "name": "stdout",
     "output_type": "stream",
     "text": [
      "99982\n"
     ]
    }
   ],
   "source": [
    "for num in newnumbers\n",
    "    if num > maxnum\n",
    "        maxnum = num\n",
    "    end\n",
    "end\n",
    "println(maxnum)"
   ]
  },
  {
   "cell_type": "code",
   "execution_count": 11,
   "id": "afffd893-7b5c-4cb2-a145-f795478125b1",
   "metadata": {},
   "outputs": [
    {
     "data": {
      "text/plain": [
       "mymax (generic function with 1 method)"
      ]
     },
     "execution_count": 11,
     "metadata": {},
     "output_type": "execute_result"
    }
   ],
   "source": [
    "function mymax(array)\n",
    "    maxnum = typemin(Int64)\n",
    "    for num in array\n",
    "        if num > maxnum\n",
    "            maxnum = num\n",
    "        end\n",
    "    end\n",
    "    return maxnum\n",
    "end"
   ]
  },
  {
   "cell_type": "code",
   "execution_count": 12,
   "id": "d7f4f5df-89ff-4af1-8829-f3ea9dc9f772",
   "metadata": {},
   "outputs": [
    {
     "data": {
      "text/plain": [
       "983"
      ]
     },
     "execution_count": 12,
     "metadata": {},
     "output_type": "execute_result"
    }
   ],
   "source": [
    "mymax(numbers)"
   ]
  },
  {
   "cell_type": "code",
   "execution_count": 13,
   "id": "9964848c-d8ea-4511-8ccf-c047d978549d",
   "metadata": {},
   "outputs": [
    {
     "data": {
      "text/plain": [
       "99982"
      ]
     },
     "execution_count": 13,
     "metadata": {},
     "output_type": "execute_result"
    }
   ],
   "source": [
    "mymax(newnumbers)"
   ]
  },
  {
   "cell_type": "code",
   "execution_count": 14,
   "id": "3d6bf28b-81b2-4796-8263-772edd2a991a",
   "metadata": {},
   "outputs": [
    {
     "data": {
      "text/plain": [
       "983"
      ]
     },
     "execution_count": 14,
     "metadata": {},
     "output_type": "execute_result"
    }
   ],
   "source": [
    "max1 = mymax(numbers)"
   ]
  },
  {
   "cell_type": "code",
   "execution_count": 15,
   "id": "24bc1eff-c531-4c55-9703-bf46a1842393",
   "metadata": {},
   "outputs": [
    {
     "data": {
      "text/plain": [
       "99982"
      ]
     },
     "execution_count": 15,
     "metadata": {},
     "output_type": "execute_result"
    }
   ],
   "source": [
    "max2 = mymax(newnumbers)"
   ]
  },
  {
   "cell_type": "code",
   "execution_count": 16,
   "id": "727c48eb-1084-4a3c-86ba-0ac8f351a10d",
   "metadata": {},
   "outputs": [
    {
     "data": {
      "text/plain": [
       "greet (generic function with 1 method)"
      ]
     },
     "execution_count": 16,
     "metadata": {},
     "output_type": "execute_result"
    }
   ],
   "source": [
    "function greet()\n",
    "    println(\"Welcome to Julia Programming Course!\")\n",
    "    println(\"I hope you enjoy it...\")\n",
    "end"
   ]
  },
  {
   "cell_type": "code",
   "execution_count": 17,
   "id": "b1a80e3f-6b4b-4928-8c88-a2ab68b1dd79",
   "metadata": {},
   "outputs": [
    {
     "name": "stdout",
     "output_type": "stream",
     "text": [
      "Welcome to Julia Programming Course!\n",
      "I hope you enjoy it...\n"
     ]
    }
   ],
   "source": [
    "greet()"
   ]
  },
  {
   "cell_type": "code",
   "execution_count": 18,
   "id": "f80dc524-7098-4028-850d-abd75f911d3f",
   "metadata": {},
   "outputs": [
    {
     "data": {
      "text/plain": [
       "power (generic function with 1 method)"
      ]
     },
     "execution_count": 18,
     "metadata": {},
     "output_type": "execute_result"
    }
   ],
   "source": [
    "function power(x,y)\n",
    "    x^y\n",
    "end"
   ]
  },
  {
   "cell_type": "code",
   "execution_count": 19,
   "id": "49458b9e-6699-480c-bfc9-5718913423c1",
   "metadata": {},
   "outputs": [
    {
     "data": {
      "text/plain": [
       "81"
      ]
     },
     "execution_count": 19,
     "metadata": {},
     "output_type": "execute_result"
    }
   ],
   "source": [
    "power(3,4)"
   ]
  },
  {
   "cell_type": "code",
   "execution_count": 20,
   "id": "4d701d6c-2959-4f5e-bcba-d5a138020b49",
   "metadata": {},
   "outputs": [
    {
     "data": {
      "text/plain": [
       "p (generic function with 1 method)"
      ]
     },
     "execution_count": 20,
     "metadata": {},
     "output_type": "execute_result"
    }
   ],
   "source": [
    "p(x,y) = x^y"
   ]
  },
  {
   "cell_type": "code",
   "execution_count": 21,
   "id": "18c15aea-0823-4e46-8360-8c8c3bba52ed",
   "metadata": {},
   "outputs": [
    {
     "data": {
      "text/plain": [
       "81"
      ]
     },
     "execution_count": 21,
     "metadata": {},
     "output_type": "execute_result"
    }
   ],
   "source": [
    "p(3,4)"
   ]
  },
  {
   "cell_type": "code",
   "execution_count": 22,
   "id": "de137045-55de-4840-9287-cca4e86e6390",
   "metadata": {},
   "outputs": [
    {
     "data": {
      "text/plain": [
       "Φ (generic function with 1 method)"
      ]
     },
     "execution_count": 22,
     "metadata": {},
     "output_type": "execute_result"
    }
   ],
   "source": [
    "Φ(x,y) = x^y"
   ]
  },
  {
   "cell_type": "code",
   "execution_count": 23,
   "id": "87df5e86-b3a4-4cc9-b073-af472b20121a",
   "metadata": {},
   "outputs": [
    {
     "data": {
      "text/plain": [
       "81"
      ]
     },
     "execution_count": 23,
     "metadata": {},
     "output_type": "execute_result"
    }
   ],
   "source": [
    "Φ(3,4)"
   ]
  },
  {
   "cell_type": "code",
   "execution_count": 24,
   "id": "8bed93aa-f910-4014-9ebc-b908a06a0ee0",
   "metadata": {},
   "outputs": [
    {
     "data": {
      "text/plain": [
       "81"
      ]
     },
     "execution_count": 24,
     "metadata": {},
     "output_type": "execute_result"
    }
   ],
   "source": [
    "phi = Φ\n",
    "phi(3,4)"
   ]
  },
  {
   "cell_type": "code",
   "execution_count": 25,
   "id": "5f7c1c78-1965-423b-b629-cff3d68099ee",
   "metadata": {},
   "outputs": [
    {
     "data": {
      "text/plain": [
       "fact (generic function with 1 method)"
      ]
     },
     "execution_count": 25,
     "metadata": {},
     "output_type": "execute_result"
    }
   ],
   "source": [
    "function fact(n::Integer)\n",
    "    f = 1\n",
    "    for i ∈ 1:n\n",
    "        f *= i\n",
    "    end\n",
    "    return f\n",
    "end"
   ]
  },
  {
   "cell_type": "code",
   "execution_count": 26,
   "id": "716e2f49-f2cd-42e0-967a-a4d3fb3ee283",
   "metadata": {},
   "outputs": [
    {
     "data": {
      "text/plain": [
       "6"
      ]
     },
     "execution_count": 26,
     "metadata": {},
     "output_type": "execute_result"
    }
   ],
   "source": [
    "fact(3)"
   ]
  },
  {
   "cell_type": "code",
   "execution_count": 27,
   "id": "f875a113-14f8-4f72-a7ad-1f513c8f78bc",
   "metadata": {},
   "outputs": [
    {
     "data": {
      "text/plain": [
       "120"
      ]
     },
     "execution_count": 27,
     "metadata": {},
     "output_type": "execute_result"
    }
   ],
   "source": [
    "fact(5)"
   ]
  },
  {
   "cell_type": "code",
   "execution_count": 28,
   "id": "56cc2ec9-51a4-441a-8248-82a78f90e64c",
   "metadata": {},
   "outputs": [
    {
     "data": {
      "text/plain": [
       "fact (generic function with 1 method)"
      ]
     },
     "execution_count": 28,
     "metadata": {},
     "output_type": "execute_result"
    }
   ],
   "source": [
    "#Specify type of return value \n",
    "function fact(n::Integer)::Integer\n",
    "    f = 1\n",
    "    for i ∈ 1:n\n",
    "        f *= i\n",
    "    end\n",
    "    return f\n",
    "end"
   ]
  },
  {
   "cell_type": "code",
   "execution_count": 29,
   "id": "38125a2f-4d80-4905-9ddd-8dff755326e0",
   "metadata": {},
   "outputs": [
    {
     "data": {
      "text/plain": [
       "absDiff (generic function with 1 method)"
      ]
     },
     "execution_count": 29,
     "metadata": {},
     "output_type": "execute_result"
    }
   ],
   "source": [
    "function absDiff(a,b)\n",
    "    if a > b\n",
    "        return a - b\n",
    "    else\n",
    "        return b - a\n",
    "    end\n",
    "end"
   ]
  },
  {
   "cell_type": "code",
   "execution_count": 30,
   "id": "347f2a87-55a6-4386-871e-e0344dafee1a",
   "metadata": {},
   "outputs": [
    {
     "data": {
      "text/plain": [
       "7"
      ]
     },
     "execution_count": 30,
     "metadata": {},
     "output_type": "execute_result"
    }
   ],
   "source": [
    "absDiff(-2, 5)"
   ]
  },
  {
   "cell_type": "code",
   "execution_count": 31,
   "id": "b753cb55-faee-440b-b9d8-6ef80ac71555",
   "metadata": {},
   "outputs": [
    {
     "data": {
      "text/plain": [
       "60"
      ]
     },
     "execution_count": 31,
     "metadata": {},
     "output_type": "execute_result"
    }
   ],
   "source": [
    "*(3,4,5)"
   ]
  },
  {
   "cell_type": "code",
   "execution_count": 32,
   "id": "adcc7ef7-c535-429f-bd29-a9db5d016cfd",
   "metadata": {},
   "outputs": [
    {
     "data": {
      "text/plain": [
       "60"
      ]
     },
     "execution_count": 32,
     "metadata": {},
     "output_type": "execute_result"
    }
   ],
   "source": [
    "m = *;\n",
    "m(3,4,5)"
   ]
  },
  {
   "cell_type": "code",
   "execution_count": 34,
   "id": "a36210c0-75bf-4598-af64-9e1546b7c22c",
   "metadata": {},
   "outputs": [
    {
     "data": {
      "text/plain": [
       "findmeansd (generic function with 1 method)"
      ]
     },
     "execution_count": 34,
     "metadata": {},
     "output_type": "execute_result"
    }
   ],
   "source": [
    "#return mean and std dev in array\n",
    "function findmeansd(array)\n",
    "    total = 0\n",
    "    n = 0\n",
    "    \n",
    "    for e1 in array\n",
    "        total += e1\n",
    "        n += 1\n",
    "    end\n",
    "    μ = total / n\n",
    "    \n",
    "    α = 0\n",
    "    for e1 in array\n",
    "        α += (e1 - μ)^2\n",
    "    end\n",
    "    α = √(α/(n-1))\n",
    "    \n",
    "    return μ,α\n",
    "end"
   ]
  },
  {
   "cell_type": "code",
   "execution_count": 35,
   "id": "68f16f1e-67ba-42d5-9c78-b951f4f913e8",
   "metadata": {},
   "outputs": [
    {
     "data": {
      "text/plain": [
       "11-element Vector{Int64}:\n",
       "   4\n",
       "   5\n",
       "   6\n",
       "   8\n",
       "  12\n",
       "  34\n",
       "  65\n",
       "  98\n",
       "  76\n",
       "  35\n",
       " 100"
      ]
     },
     "execution_count": 35,
     "metadata": {},
     "output_type": "execute_result"
    }
   ],
   "source": [
    "array = [4, 5, 6, 8, 12, 34, 65, 98, 76, 35, 100]"
   ]
  },
  {
   "cell_type": "code",
   "execution_count": 36,
   "id": "5770c6ed-d93a-4111-b6b2-2f1529baf938",
   "metadata": {},
   "outputs": [
    {
     "data": {
      "text/plain": [
       "(40.27272727272727, 37.98707914302154)"
      ]
     },
     "execution_count": 36,
     "metadata": {},
     "output_type": "execute_result"
    }
   ],
   "source": [
    "findmeansd(array)"
   ]
  },
  {
   "cell_type": "code",
   "execution_count": 37,
   "id": "7f1e75a6-75c2-41dd-bb1b-14bff155bb62",
   "metadata": {},
   "outputs": [
    {
     "data": {
      "text/plain": [
       "(40.27272727272727, 37.98707914302154)"
      ]
     },
     "execution_count": 37,
     "metadata": {},
     "output_type": "execute_result"
    }
   ],
   "source": [
    "avg, sd = findmeansd(array)"
   ]
  },
  {
   "cell_type": "code",
   "execution_count": 38,
   "id": "aff15f07-ffc3-4616-91be-9831f059d2f9",
   "metadata": {},
   "outputs": [
    {
     "data": {
      "text/plain": [
       "(40.27272727272727, 37.98707914302154)"
      ]
     },
     "execution_count": 38,
     "metadata": {},
     "output_type": "execute_result"
    }
   ],
   "source": [
    "res = findmeansd(array)"
   ]
  },
  {
   "cell_type": "code",
   "execution_count": 39,
   "id": "09c8fc73-679d-4c54-b66a-bba4906e9580",
   "metadata": {},
   "outputs": [
    {
     "data": {
      "text/plain": [
       "40.27272727272727"
      ]
     },
     "execution_count": 39,
     "metadata": {},
     "output_type": "execute_result"
    }
   ],
   "source": [
    "res[1]"
   ]
  },
  {
   "cell_type": "code",
   "execution_count": 40,
   "id": "e627aba5-585f-4504-98d5-693b3836db38",
   "metadata": {},
   "outputs": [
    {
     "data": {
      "text/plain": [
       "37.98707914302154"
      ]
     },
     "execution_count": 40,
     "metadata": {},
     "output_type": "execute_result"
    }
   ],
   "source": [
    "res[2]"
   ]
  },
  {
   "cell_type": "code",
   "execution_count": 41,
   "id": "e92e81b4-1721-415e-8159-fc088692bfdf",
   "metadata": {},
   "outputs": [
    {
     "data": {
      "text/plain": [
       "#1 (generic function with 1 method)"
      ]
     },
     "execution_count": 41,
     "metadata": {},
     "output_type": "execute_result"
    }
   ],
   "source": [
    "x -> 3x^2 + 5x - 4"
   ]
  },
  {
   "cell_type": "code",
   "execution_count": 42,
   "id": "f7dbee4e-c62f-4f67-ad68-65857a7c529a",
   "metadata": {},
   "outputs": [
    {
     "data": {
      "text/plain": [
       "#3 (generic function with 1 method)"
      ]
     },
     "execution_count": 42,
     "metadata": {},
     "output_type": "execute_result"
    }
   ],
   "source": [
    "g = x -> 3x^2 + 5x - 4 "
   ]
  },
  {
   "cell_type": "code",
   "execution_count": 43,
   "id": "a7a42db1-cff0-443e-ab14-95dadcfc52a4",
   "metadata": {},
   "outputs": [
    {
     "data": {
      "text/plain": [
       "96"
      ]
     },
     "execution_count": 43,
     "metadata": {},
     "output_type": "execute_result"
    }
   ],
   "source": [
    "g(5)"
   ]
  },
  {
   "cell_type": "code",
   "execution_count": 44,
   "id": "850aadc5-8e4e-4ac2-b929-783a9543e109",
   "metadata": {},
   "outputs": [
    {
     "data": {
      "text/plain": [
       "#5 (generic function with 1 method)"
      ]
     },
     "execution_count": 44,
     "metadata": {},
     "output_type": "execute_result"
    }
   ],
   "source": [
    "(x, y, z) -> (x^3 - y^3)/z^3"
   ]
  },
  {
   "cell_type": "code",
   "execution_count": 45,
   "id": "bd6f4fca-2945-46d8-92bc-d6cd7d27ea87",
   "metadata": {},
   "outputs": [
    {
     "data": {
      "text/plain": [
       "fact (generic function with 2 methods)"
      ]
     },
     "execution_count": 45,
     "metadata": {},
     "output_type": "execute_result"
    }
   ],
   "source": [
    "#Factorial of n using recursion\n",
    "fact(n) = n == 1 ? n : n * fact(n - 1) "
   ]
  },
  {
   "cell_type": "code",
   "execution_count": 50,
   "id": "3fccc7b3-d871-4802-816c-19f6fb3a34ee",
   "metadata": {},
   "outputs": [
    {
     "data": {
      "text/plain": [
       "fibo (generic function with 1 method)"
      ]
     },
     "execution_count": 50,
     "metadata": {},
     "output_type": "execute_result"
    }
   ],
   "source": [
    "fibo(n) = n < 2 ? n : fibo(n-1) + fibo(n-2)"
   ]
  },
  {
   "cell_type": "code",
   "execution_count": 51,
   "id": "c70faf7b-e6ad-4d50-a17c-54872e21ca8a",
   "metadata": {},
   "outputs": [
    {
     "data": {
      "text/plain": [
       "55"
      ]
     },
     "execution_count": 51,
     "metadata": {},
     "output_type": "execute_result"
    }
   ],
   "source": [
    "fibo(10)"
   ]
  },
  {
   "cell_type": "code",
   "execution_count": null,
   "id": "08eb38a0-c88a-4c40-952d-52c3bbde4886",
   "metadata": {},
   "outputs": [],
   "source": []
  }
 ],
 "metadata": {
  "kernelspec": {
   "display_name": "Julia 1.8.3",
   "language": "julia",
   "name": "julia-1.8"
  },
  "language_info": {
   "file_extension": ".jl",
   "mimetype": "application/julia",
   "name": "julia",
   "version": "1.8.3"
  }
 },
 "nbformat": 4,
 "nbformat_minor": 5
}
