{
 "cells": [
  {
   "cell_type": "code",
   "execution_count": null,
   "id": "5d4360c4-3e28-4a74-bfdd-37521f9388f6",
   "metadata": {},
   "outputs": [],
   "source": [
    "#Shishir Khanal\n",
    "#01/19/2023\n",
    "#Function Exercise"
   ]
  },
  {
   "cell_type": "code",
   "execution_count": 2,
   "id": "be058ee9-7c0d-41c5-a864-f10ddae78ad9",
   "metadata": {},
   "outputs": [
    {
     "data": {
      "text/plain": [
       "gcd (generic function with 1 method)"
      ]
     },
     "execution_count": 2,
     "metadata": {},
     "output_type": "execute_result"
    }
   ],
   "source": [
    "#GCD\n",
    "function gcd(int1::Int64, int2::Int64)::Int64\n",
    "    if int2 == 0\n",
    "        return int1\n",
    "    end\n",
    "    return gcd(int2, int1 % int2)\n",
    "end"
   ]
  },
  {
   "cell_type": "code",
   "execution_count": 3,
   "id": "46ec0c75-182f-4f64-9e24-b517e6e7289d",
   "metadata": {},
   "outputs": [
    {
     "data": {
      "text/plain": [
       "nfibo (generic function with 1 method)"
      ]
     },
     "execution_count": 3,
     "metadata": {},
     "output_type": "execute_result"
    }
   ],
   "source": [
    "function nfibo(n::Int64)::Int64\n",
    "    x, y = 0, 1\n",
    "    for i in 1:n\n",
    "      x, y = y, x+y\n",
    "    end\n",
    "    return x\n",
    "end"
   ]
  },
  {
   "cell_type": "code",
   "execution_count": 4,
   "id": "b333c38d-16fa-4150-9666-5b4f6f7be33f",
   "metadata": {},
   "outputs": [
    {
     "data": {
      "text/plain": [
       "1"
      ]
     },
     "execution_count": 4,
     "metadata": {},
     "output_type": "execute_result"
    }
   ],
   "source": [
    "gcd(2,3)"
   ]
  },
  {
   "cell_type": "code",
   "execution_count": 5,
   "id": "66059665-12f2-4b80-a93d-d1220673c4af",
   "metadata": {},
   "outputs": [
    {
     "data": {
      "text/plain": [
       "100"
      ]
     },
     "execution_count": 5,
     "metadata": {},
     "output_type": "execute_result"
    }
   ],
   "source": [
    "gcd(100,200)"
   ]
  },
  {
   "cell_type": "code",
   "execution_count": 6,
   "id": "40ef15df-14c0-447f-9c88-351aa2ba26ac",
   "metadata": {},
   "outputs": [
    {
     "data": {
      "text/plain": [
       "1"
      ]
     },
     "execution_count": 6,
     "metadata": {},
     "output_type": "execute_result"
    }
   ],
   "source": [
    "nfibo(1)"
   ]
  },
  {
   "cell_type": "code",
   "execution_count": 7,
   "id": "daba5085-a80c-451a-a4a0-90eaf75707b4",
   "metadata": {},
   "outputs": [
    {
     "data": {
      "text/plain": [
       "-1123705814761610347"
      ]
     },
     "execution_count": 7,
     "metadata": {},
     "output_type": "execute_result"
    }
   ],
   "source": [
    "nfibo(200)"
   ]
  }
 ],
 "metadata": {
  "kernelspec": {
   "display_name": "Julia 1.8.3",
   "language": "julia",
   "name": "julia-1.8"
  },
  "language_info": {
   "file_extension": ".jl",
   "mimetype": "application/julia",
   "name": "julia",
   "version": "1.8.3"
  }
 },
 "nbformat": 4,
 "nbformat_minor": 5
}
