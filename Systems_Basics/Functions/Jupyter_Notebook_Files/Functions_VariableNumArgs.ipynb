{
 "cells": [
  {
   "cell_type": "code",
   "execution_count": 1,
   "id": "74b2fbcb-a1c4-4a82-b7e3-065c9d57ec93",
   "metadata": {},
   "outputs": [],
   "source": [
    "#Shishir Khanal\n",
    "#01/19/2023\n",
    "#Function definition with variable number of args in Julia\n",
    "#Slurping: Combining many arguments into one single argument\n",
    "#Splating: Splitting one arguments into many arguments"
   ]
  },
  {
   "cell_type": "code",
   "execution_count": 2,
   "id": "50dd4f8a-5e18-4419-8461-9022e443606e",
   "metadata": {},
   "outputs": [
    {
     "data": {
      "text/plain": [
       "varfunc (generic function with 1 method)"
      ]
     },
     "execution_count": 2,
     "metadata": {},
     "output_type": "execute_result"
    }
   ],
   "source": [
    "varfunc(x...) = (x)"
   ]
  },
  {
   "cell_type": "code",
   "execution_count": 3,
   "id": "faf3fe1f-00d6-4d21-8f4e-b7ef9896b822",
   "metadata": {},
   "outputs": [
    {
     "data": {
      "text/plain": [
       "(3, 4, 5)"
      ]
     },
     "execution_count": 3,
     "metadata": {},
     "output_type": "execute_result"
    }
   ],
   "source": [
    "varfunc(3,4,5)"
   ]
  },
  {
   "cell_type": "code",
   "execution_count": 4,
   "id": "a93d64a8-295b-4f44-8a63-bceb8254c412",
   "metadata": {},
   "outputs": [
    {
     "data": {
      "text/plain": [
       "(3,)"
      ]
     },
     "execution_count": 4,
     "metadata": {},
     "output_type": "execute_result"
    }
   ],
   "source": [
    "varfunc(3)"
   ]
  },
  {
   "cell_type": "code",
   "execution_count": 5,
   "id": "dfaca605-08be-44bf-8ea7-a0cb8440682d",
   "metadata": {},
   "outputs": [
    {
     "data": {
      "text/plain": [
       "printall (generic function with 1 method)"
      ]
     },
     "execution_count": 5,
     "metadata": {},
     "output_type": "execute_result"
    }
   ],
   "source": [
    "function printall(x...)\n",
    "    println(x)\n",
    "end"
   ]
  },
  {
   "cell_type": "code",
   "execution_count": 6,
   "id": "8cdbda30-1db9-44ef-9dde-1efe7830707c",
   "metadata": {},
   "outputs": [
    {
     "name": "stdout",
     "output_type": "stream",
     "text": [
      "(\"Julia\",)\n"
     ]
    }
   ],
   "source": [
    "printall(\"Julia\")"
   ]
  },
  {
   "cell_type": "code",
   "execution_count": 7,
   "id": "d981996a-40d0-4e37-934d-bb760e3eedb8",
   "metadata": {},
   "outputs": [
    {
     "name": "stdout",
     "output_type": "stream",
     "text": [
      "(\"Julia\", \"Python\")\n"
     ]
    }
   ],
   "source": [
    "printall(\"Julia\", \"Python\")"
   ]
  },
  {
   "cell_type": "code",
   "execution_count": 8,
   "id": "37c20648-9a05-4bd0-8c24-c0801187c40f",
   "metadata": {},
   "outputs": [
    {
     "name": "stdout",
     "output_type": "stream",
     "text": [
      "(\"Julia\", \"Python\", \"C++\", \"R\", \"Java\")\n"
     ]
    }
   ],
   "source": [
    "printall(\"Julia\", \"Python\", \"C++\", \"R\", \"Java\")"
   ]
  },
  {
   "cell_type": "code",
   "execution_count": 13,
   "id": "209a3bcb-2148-4301-9ca7-aa02302c7428",
   "metadata": {},
   "outputs": [
    {
     "data": {
      "text/plain": [
       "addall (generic function with 2 methods)"
      ]
     },
     "execution_count": 13,
     "metadata": {},
     "output_type": "execute_result"
    }
   ],
   "source": [
    "#Sum of all the arguments whatever is the number of arguments\n",
    "#Recursive structure\n",
    "addall(x,y...) = x + addall(y...)\n",
    "#If there is only one argument\n",
    "addall(x) = x"
   ]
  },
  {
   "cell_type": "code",
   "execution_count": 14,
   "id": "10377483-986d-4b72-ac1f-98f100765aa4",
   "metadata": {},
   "outputs": [
    {
     "data": {
      "text/plain": [
       "7"
      ]
     },
     "execution_count": 14,
     "metadata": {},
     "output_type": "execute_result"
    }
   ],
   "source": [
    "addall(7)"
   ]
  },
  {
   "cell_type": "code",
   "execution_count": 15,
   "id": "d23500d2-e5dd-4ca9-9076-83707240f86e",
   "metadata": {},
   "outputs": [
    {
     "data": {
      "text/plain": [
       "24"
      ]
     },
     "execution_count": 15,
     "metadata": {},
     "output_type": "execute_result"
    }
   ],
   "source": [
    "addall(5, 7, 12)"
   ]
  },
  {
   "cell_type": "code",
   "execution_count": 16,
   "id": "fafb4f7b-6a67-4615-9202-4c142a019104",
   "metadata": {},
   "outputs": [
    {
     "data": {
      "text/plain": [
       "100"
      ]
     },
     "execution_count": 16,
     "metadata": {},
     "output_type": "execute_result"
    }
   ],
   "source": [
    "addall(7, 12, 14, 32, 35)"
   ]
  },
  {
   "cell_type": "code",
   "execution_count": 17,
   "id": "dbd72e37-f997-43f8-b2e3-e34f94c56052",
   "metadata": {},
   "outputs": [
    {
     "data": {
      "text/plain": [
       "findmin (generic function with 1 method)"
      ]
     },
     "execution_count": 17,
     "metadata": {},
     "output_type": "execute_result"
    }
   ],
   "source": [
    "#find min of two numbers\n",
    "findmin(x, y) = x < y ? x : y"
   ]
  },
  {
   "cell_type": "code",
   "execution_count": 18,
   "id": "d1ff1a43-0111-40e7-9aad-a59db4da6712",
   "metadata": {},
   "outputs": [
    {
     "data": {
      "text/plain": [
       "findmin (generic function with 2 methods)"
      ]
     },
     "execution_count": 18,
     "metadata": {},
     "output_type": "execute_result"
    }
   ],
   "source": [
    "findmin(x,y...) = findmin(x, findmin(y...))"
   ]
  },
  {
   "cell_type": "code",
   "execution_count": 19,
   "id": "aa510e2a-a587-4aec-8884-ff01d9f7b3b5",
   "metadata": {},
   "outputs": [
    {
     "data": {
      "text/plain": [
       "-5"
      ]
     },
     "execution_count": 19,
     "metadata": {},
     "output_type": "execute_result"
    }
   ],
   "source": [
    "findmin(4, 1, -5, 17, 7)"
   ]
  },
  {
   "cell_type": "code",
   "execution_count": 21,
   "id": "de1af676-339c-401d-aa32-7429a45eeb6a",
   "metadata": {},
   "outputs": [],
   "source": [
    "a, b, c... = [3, 5, 9, 3, 11, 35];"
   ]
  },
  {
   "cell_type": "code",
   "execution_count": 22,
   "id": "9494d2f2-23c9-4286-bc51-ab94df36b95e",
   "metadata": {},
   "outputs": [
    {
     "data": {
      "text/plain": [
       "3"
      ]
     },
     "execution_count": 22,
     "metadata": {},
     "output_type": "execute_result"
    }
   ],
   "source": [
    "a"
   ]
  },
  {
   "cell_type": "code",
   "execution_count": 23,
   "id": "4e000fd9-a2bb-432b-825b-e6bcc9fb5d91",
   "metadata": {},
   "outputs": [
    {
     "data": {
      "text/plain": [
       "5"
      ]
     },
     "execution_count": 23,
     "metadata": {},
     "output_type": "execute_result"
    }
   ],
   "source": [
    "b"
   ]
  },
  {
   "cell_type": "code",
   "execution_count": 24,
   "id": "7502ee2f-b491-43c0-b132-8d823a44b561",
   "metadata": {},
   "outputs": [
    {
     "data": {
      "text/plain": [
       "4-element Vector{Int64}:\n",
       "  9\n",
       "  3\n",
       " 11\n",
       " 35"
      ]
     },
     "execution_count": 24,
     "metadata": {},
     "output_type": "execute_result"
    }
   ],
   "source": [
    "c"
   ]
  },
  {
   "cell_type": "code",
   "execution_count": 27,
   "id": "b878e4d9-a228-4719-80fc-cf2fbdcc7b6d",
   "metadata": {},
   "outputs": [
    {
     "data": {
      "text/plain": [
       "printtype (generic function with 1 method)"
      ]
     },
     "execution_count": 27,
     "metadata": {},
     "output_type": "execute_result"
    }
   ],
   "source": [
    "function printtype(args...)\n",
    "    for (i, arg) in enumerate(args)\n",
    "        println(\"$i: Type of $arg is $(typeof(arg))\")\n",
    "    end\n",
    "end"
   ]
  },
  {
   "cell_type": "code",
   "execution_count": 28,
   "id": "46232f66-a2b2-47a3-ad72-ec36aa0f820a",
   "metadata": {},
   "outputs": [
    {
     "name": "stdout",
     "output_type": "stream",
     "text": [
      "1: Type of 1 is Int64\n",
      "2: Type of 3 is Int64\n",
      "3: Type of 2.78 is Float64\n",
      "4: Type of math is String\n",
      "5: Type of true is Bool\n",
      "6: Type of 4 + 6im is Complex{Int64}\n"
     ]
    }
   ],
   "source": [
    "printtype(1, 3, 2.78, \"math\", true, 4 + 6im)"
   ]
  },
  {
   "cell_type": "code",
   "execution_count": 30,
   "id": "fe6cb0da-f16c-4096-b7c1-061d9c7999ca",
   "metadata": {},
   "outputs": [
    {
     "data": {
      "text/plain": [
       "(1, 2, 3, 4, 5, 6, 7, 8, 9, 10)"
      ]
     },
     "execution_count": 30,
     "metadata": {},
     "output_type": "execute_result"
    }
   ],
   "source": [
    "(1:10...,)"
   ]
  },
  {
   "cell_type": "code",
   "execution_count": 32,
   "id": "ca579dfb-1325-461d-9302-3e8043ce40e8",
   "metadata": {},
   "outputs": [
    {
     "data": {
      "text/plain": [
       "printargs (generic function with 1 method)"
      ]
     },
     "execution_count": 32,
     "metadata": {},
     "output_type": "execute_result"
    }
   ],
   "source": [
    "function printargs(a, b, c)\n",
    "    println(a)\n",
    "    println(b)\n",
    "    println(c)\n",
    "end"
   ]
  },
  {
   "cell_type": "code",
   "execution_count": 33,
   "id": "e858d06d-0f4c-4a53-937c-025b504ac807",
   "metadata": {},
   "outputs": [
    {
     "data": {
      "text/plain": [
       "3-element Vector{String}:\n",
       " \"mathematics\"\n",
       " \"physics\"\n",
       " \"chemistry\""
      ]
     },
     "execution_count": 33,
     "metadata": {},
     "output_type": "execute_result"
    }
   ],
   "source": [
    "tpl = [\"mathematics\", \"physics\", \"chemistry\"]"
   ]
  },
  {
   "cell_type": "code",
   "execution_count": 34,
   "id": "beb29d28-1c62-49bb-b670-7cde22dea83e",
   "metadata": {},
   "outputs": [
    {
     "ename": "LoadError",
     "evalue": "MethodError: no method matching printargs(::Vector{String})\n\u001b[0mClosest candidates are:\n\u001b[0m  printargs(::Any, \u001b[91m::Any\u001b[39m, \u001b[91m::Any\u001b[39m) at In[32]:1",
     "output_type": "error",
     "traceback": [
      "MethodError: no method matching printargs(::Vector{String})\n\u001b[0mClosest candidates are:\n\u001b[0m  printargs(::Any, \u001b[91m::Any\u001b[39m, \u001b[91m::Any\u001b[39m) at In[32]:1",
      "",
      "Stacktrace:",
      " [1] top-level scope",
      "   @ In[34]:1"
     ]
    }
   ],
   "source": [
    "printargs(tpl)"
   ]
  },
  {
   "cell_type": "code",
   "execution_count": 35,
   "id": "104c4817-a87a-44be-add3-20f20ed3f05f",
   "metadata": {},
   "outputs": [
    {
     "name": "stdout",
     "output_type": "stream",
     "text": [
      "mathematics\n",
      "physics\n",
      "chemistry\n"
     ]
    }
   ],
   "source": [
    "#Splating\n",
    "printargs(tpl...)"
   ]
  },
  {
   "cell_type": "code",
   "execution_count": null,
   "id": "54674fed-0fa3-4f0e-8071-56b79ec6a638",
   "metadata": {},
   "outputs": [],
   "source": []
  }
 ],
 "metadata": {
  "kernelspec": {
   "display_name": "Julia 1.8.3",
   "language": "julia",
   "name": "julia-1.8"
  },
  "language_info": {
   "file_extension": ".jl",
   "mimetype": "application/julia",
   "name": "julia",
   "version": "1.8.3"
  }
 },
 "nbformat": 4,
 "nbformat_minor": 5
}
