{
 "cells": [
  {
   "cell_type": "code",
   "execution_count": 1,
   "id": "ce284072-cf1d-43d4-b0e4-85ae6ea9bae3",
   "metadata": {},
   "outputs": [],
   "source": [
    "#Shishir Khanal\n",
    "#01/18/2023\n",
    "#Sets in Julia"
   ]
  },
  {
   "cell_type": "code",
   "execution_count": 2,
   "id": "7bc3a528-c505-4064-959d-7ff8684cbaf8",
   "metadata": {},
   "outputs": [
    {
     "data": {
      "text/plain": [
       "10-element Vector{Int64}:\n",
       "  3\n",
       "  5\n",
       "  7\n",
       "  7\n",
       "  7\n",
       "  8\n",
       "  8\n",
       "  8\n",
       " 12\n",
       " 15"
      ]
     },
     "execution_count": 2,
     "metadata": {},
     "output_type": "execute_result"
    }
   ],
   "source": [
    "vec = [3,5,7,7,7,8,8,8,12,15]"
   ]
  },
  {
   "cell_type": "code",
   "execution_count": 3,
   "id": "6f4ebb00-85e1-4308-af7b-24bf2a668f69",
   "metadata": {},
   "outputs": [
    {
     "data": {
      "text/plain": [
       "Set{Int64} with 6 elements:\n",
       "  5\n",
       "  15\n",
       "  7\n",
       "  12\n",
       "  8\n",
       "  3"
      ]
     },
     "execution_count": 3,
     "metadata": {},
     "output_type": "execute_result"
    }
   ],
   "source": [
    "Set(vec)"
   ]
  },
  {
   "cell_type": "code",
   "execution_count": 4,
   "id": "22560fea-0cbd-4782-8a59-6a3903fb2961",
   "metadata": {},
   "outputs": [
    {
     "data": {
      "text/plain": [
       "(3, 5, 7, 7, 7, 8, 8, 8, 12, 15)"
      ]
     },
     "execution_count": 4,
     "metadata": {},
     "output_type": "execute_result"
    }
   ],
   "source": [
    "tup = (3,5,7,7,7,8,8,8,12,15)"
   ]
  },
  {
   "cell_type": "code",
   "execution_count": 5,
   "id": "b43cf7cc-eacb-4ad8-9d60-28b0299f7680",
   "metadata": {},
   "outputs": [
    {
     "data": {
      "text/plain": [
       "Set{Int64} with 6 elements:\n",
       "  5\n",
       "  15\n",
       "  7\n",
       "  12\n",
       "  8\n",
       "  3"
      ]
     },
     "execution_count": 5,
     "metadata": {},
     "output_type": "execute_result"
    }
   ],
   "source": [
    "Set(tup)"
   ]
  },
  {
   "cell_type": "code",
   "execution_count": 6,
   "id": "5da04cd2-c6ac-49b1-8371-d6923f9f736a",
   "metadata": {},
   "outputs": [],
   "source": [
    "x1 = [1 2 2 3 3 4 4 4 5 6 7 7 7];\n",
    "x2 = [3 5 6 6 6 7 8 8 9 9 9];"
   ]
  },
  {
   "cell_type": "code",
   "execution_count": 7,
   "id": "68c86d46-de80-4220-abb6-313f64dd8f43",
   "metadata": {},
   "outputs": [
    {
     "data": {
      "text/plain": [
       "9-element Vector{Int64}:\n",
       " 1\n",
       " 2\n",
       " 3\n",
       " 4\n",
       " 5\n",
       " 6\n",
       " 7\n",
       " 8\n",
       " 9"
      ]
     },
     "execution_count": 7,
     "metadata": {},
     "output_type": "execute_result"
    }
   ],
   "source": [
    "union(x1, x2)"
   ]
  },
  {
   "cell_type": "code",
   "execution_count": 8,
   "id": "59696718-5269-499b-ab16-dfb733bf4da7",
   "metadata": {},
   "outputs": [
    {
     "data": {
      "text/plain": [
       "4-element Vector{Int64}:\n",
       " 3\n",
       " 5\n",
       " 6\n",
       " 7"
      ]
     },
     "execution_count": 8,
     "metadata": {},
     "output_type": "execute_result"
    }
   ],
   "source": [
    "intersect(x1, x2)"
   ]
  },
  {
   "cell_type": "code",
   "execution_count": 9,
   "id": "6d8bab11-dbc8-48fc-a87b-0038cf6cf4e0",
   "metadata": {},
   "outputs": [
    {
     "data": {
      "text/plain": [
       "3-element Vector{Int64}:\n",
       " 1\n",
       " 2\n",
       " 4"
      ]
     },
     "execution_count": 9,
     "metadata": {},
     "output_type": "execute_result"
    }
   ],
   "source": [
    "setdiff(x1, x2)"
   ]
  },
  {
   "cell_type": "code",
   "execution_count": 10,
   "id": "d0ef1db2-ed01-4a09-af17-d8042533c791",
   "metadata": {},
   "outputs": [
    {
     "data": {
      "text/plain": [
       "2-element Vector{Int64}:\n",
       " 8\n",
       " 9"
      ]
     },
     "execution_count": 10,
     "metadata": {},
     "output_type": "execute_result"
    }
   ],
   "source": [
    "setdiff(x2, x1)"
   ]
  },
  {
   "cell_type": "code",
   "execution_count": 11,
   "id": "22241748-38d0-4d7d-bbd2-69c1eb91c290",
   "metadata": {},
   "outputs": [
    {
     "data": {
      "text/plain": [
       "Set{Int64} with 5 elements:\n",
       "  4\n",
       "  2\n",
       "  9\n",
       "  8\n",
       "  1"
      ]
     },
     "execution_count": 11,
     "metadata": {},
     "output_type": "execute_result"
    }
   ],
   "source": [
    "#For symmetric difference you essentially need to provide sets as arguments\n",
    "symdiff(Set(x1), Set(x2))"
   ]
  },
  {
   "cell_type": "code",
   "execution_count": 12,
   "id": "bc5554b5-075c-4566-8efc-7be215eed4f6",
   "metadata": {},
   "outputs": [
    {
     "data": {
      "text/plain": [
       "true"
      ]
     },
     "execution_count": 12,
     "metadata": {},
     "output_type": "execute_result"
    }
   ],
   "source": [
    "issubset([1,2,3], [1,2,3,3,5,7])"
   ]
  },
  {
   "cell_type": "code",
   "execution_count": 14,
   "id": "07b91851-1f3c-4353-b42d-700e3c5797a4",
   "metadata": {},
   "outputs": [
    {
     "data": {
      "text/plain": [
       "true"
      ]
     },
     "execution_count": 14,
     "metadata": {},
     "output_type": "execute_result"
    }
   ],
   "source": [
    "[1,2,3] ⊆ [1,2,3,3,5,7]"
   ]
  },
  {
   "cell_type": "code",
   "execution_count": null,
   "id": "fd798ddb-f660-4bbb-ab85-bb1b40c3878b",
   "metadata": {},
   "outputs": [],
   "source": []
  }
 ],
 "metadata": {
  "kernelspec": {
   "display_name": "Julia 1.8.3",
   "language": "julia",
   "name": "julia-1.8"
  },
  "language_info": {
   "file_extension": ".jl",
   "mimetype": "application/julia",
   "name": "julia",
   "version": "1.8.3"
  }
 },
 "nbformat": 4,
 "nbformat_minor": 5
}
