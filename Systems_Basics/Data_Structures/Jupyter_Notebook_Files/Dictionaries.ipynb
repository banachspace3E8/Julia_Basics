{
 "cells": [
  {
   "cell_type": "code",
   "execution_count": 1,
   "id": "2b1a0c36-989c-4117-930c-d2eab60876f3",
   "metadata": {},
   "outputs": [],
   "source": [
    "#Shishir Khanal\n",
    "#01/17/2023\n",
    "#Dictionaries in Julia"
   ]
  },
  {
   "cell_type": "code",
   "execution_count": 2,
   "id": "f53931ab-fc7c-460b-a34c-6bccda4abd43",
   "metadata": {},
   "outputs": [
    {
     "data": {
      "text/plain": [
       "Dict{Any, Any}()"
      ]
     },
     "execution_count": 2,
     "metadata": {},
     "output_type": "execute_result"
    }
   ],
   "source": [
    "d1 = Dict()"
   ]
  },
  {
   "cell_type": "code",
   "execution_count": 3,
   "id": "8bf1edeb-e970-4444-b3ed-c2ef6901ac1b",
   "metadata": {},
   "outputs": [
    {
     "data": {
      "text/plain": [
       "Dict{String, Int64} with 4 entries:\n",
       "  \"albert\"  => 100\n",
       "  \"carl\"    => 97\n",
       "  \"marie\"   => 99\n",
       "  \"richard\" => 98"
      ]
     },
     "execution_count": 3,
     "metadata": {},
     "output_type": "execute_result"
    }
   ],
   "source": [
    "studentgrades = Dict([(\"albert\",100), (\"marie\", 99), (\"richard\", 98), (\"carl\", 97)])"
   ]
  },
  {
   "cell_type": "code",
   "execution_count": 4,
   "id": "60007974-4bdc-4f29-b756-f3f4a5749dad",
   "metadata": {},
   "outputs": [
    {
     "data": {
      "text/plain": [
       "Dict{String, Int64} with 4 entries:\n",
       "  \"albert\"  => 100\n",
       "  \"carl\"    => 97\n",
       "  \"marie\"   => 99\n",
       "  \"richard\" => 98"
      ]
     },
     "execution_count": 4,
     "metadata": {},
     "output_type": "execute_result"
    }
   ],
   "source": [
    "studentgrades = Dict(\"albert\" => 100, \"marie\" => 99, \"richard\" => 98, \"carl\" => 97)"
   ]
  },
  {
   "cell_type": "code",
   "execution_count": 5,
   "id": "b54aa1cc-b451-440b-9eb4-1b9314150eee",
   "metadata": {},
   "outputs": [
    {
     "data": {
      "text/plain": [
       "Dict{Any, Any}()"
      ]
     },
     "execution_count": 5,
     "metadata": {},
     "output_type": "execute_result"
    }
   ],
   "source": [
    "grades = Dict()"
   ]
  },
  {
   "cell_type": "code",
   "execution_count": 11,
   "id": "fa0371eb-4597-4852-b3dd-d89c1e201e5d",
   "metadata": {},
   "outputs": [
    {
     "data": {
      "text/plain": [
       "100"
      ]
     },
     "execution_count": 11,
     "metadata": {},
     "output_type": "execute_result"
    }
   ],
   "source": [
    "grades[\"albert\"] = 100"
   ]
  },
  {
   "cell_type": "code",
   "execution_count": 12,
   "id": "5b0e5a8a-2e4b-4947-9f63-7bf8af85f1b6",
   "metadata": {},
   "outputs": [
    {
     "data": {
      "text/plain": [
       "97"
      ]
     },
     "execution_count": 12,
     "metadata": {},
     "output_type": "execute_result"
    }
   ],
   "source": [
    "grades[\"marie\"] = 99\n",
    "grades[\"richard\"] = 98\n",
    "grades[\"carl\"] = 97"
   ]
  },
  {
   "cell_type": "code",
   "execution_count": 15,
   "id": "9ed78a4c-3976-4965-bde1-5509bb99d665",
   "metadata": {},
   "outputs": [
    {
     "data": {
      "text/plain": [
       "Dict{Any, Any} with 5 entries:\n",
       "  \"albert\"  => 100\n",
       "  \"Albert\"  => 100\n",
       "  \"carl\"    => 100\n",
       "  \"marie\"   => 99\n",
       "  \"richard\" => 98"
      ]
     },
     "execution_count": 15,
     "metadata": {},
     "output_type": "execute_result"
    }
   ],
   "source": [
    "grades\n",
    "#There is not specific order in which the dictionary is displayed"
   ]
  },
  {
   "cell_type": "code",
   "execution_count": 16,
   "id": "f5efaf2f-d175-49af-bab6-fa3ff7fbbec5",
   "metadata": {},
   "outputs": [
    {
     "data": {
      "text/plain": [
       "100"
      ]
     },
     "execution_count": 16,
     "metadata": {},
     "output_type": "execute_result"
    }
   ],
   "source": [
    "grades[\"carl\"] = 100\n"
   ]
  },
  {
   "cell_type": "code",
   "execution_count": 17,
   "id": "17fdb36d-cd18-4237-8eb2-7b9ef1b3050d",
   "metadata": {},
   "outputs": [
    {
     "data": {
      "text/plain": [
       "99"
      ]
     },
     "execution_count": 17,
     "metadata": {},
     "output_type": "execute_result"
    }
   ],
   "source": [
    "grades[\"marie\"]"
   ]
  },
  {
   "cell_type": "code",
   "execution_count": 19,
   "id": "1fd31ca1-c9d0-4de6-ac7c-a80da51d326b",
   "metadata": {},
   "outputs": [],
   "source": [
    "#error because rosalind doesn't exist in dictionary\n",
    "#grades[\"rosalind\"]"
   ]
  },
  {
   "cell_type": "code",
   "execution_count": 20,
   "id": "cd9d345e-8d42-4f8f-8bc4-726efe2ef321",
   "metadata": {},
   "outputs": [
    {
     "data": {
      "text/plain": [
       "5"
      ]
     },
     "execution_count": 20,
     "metadata": {},
     "output_type": "execute_result"
    }
   ],
   "source": [
    "length(grades)"
   ]
  },
  {
   "cell_type": "code",
   "execution_count": 21,
   "id": "9546a64c-ea4b-4555-9347-d2d04733aa60",
   "metadata": {},
   "outputs": [
    {
     "data": {
      "text/plain": [
       "KeySet for a Dict{Any, Any} with 5 entries. Keys:\n",
       "  \"albert\"\n",
       "  \"Albert\"\n",
       "  \"carl\"\n",
       "  \"marie\"\n",
       "  \"richard\""
      ]
     },
     "execution_count": 21,
     "metadata": {},
     "output_type": "execute_result"
    }
   ],
   "source": [
    "keys(grades)"
   ]
  },
  {
   "cell_type": "code",
   "execution_count": 22,
   "id": "449d56ff-3fd6-45fd-8dd4-9e2713f02779",
   "metadata": {},
   "outputs": [
    {
     "data": {
      "text/plain": [
       "ValueIterator for a Dict{Any, Any} with 5 entries. Values:\n",
       "  100\n",
       "  100\n",
       "  100\n",
       "  99\n",
       "  98"
      ]
     },
     "execution_count": 22,
     "metadata": {},
     "output_type": "execute_result"
    }
   ],
   "source": [
    "values(grades)"
   ]
  },
  {
   "cell_type": "code",
   "execution_count": 23,
   "id": "b974a366-6e3f-4887-8591-febb0c6da0ab",
   "metadata": {},
   "outputs": [
    {
     "data": {
      "text/plain": [
       "true"
      ]
     },
     "execution_count": 23,
     "metadata": {},
     "output_type": "execute_result"
    }
   ],
   "source": [
    "\"albert\" ∈ keys(grades)"
   ]
  },
  {
   "cell_type": "code",
   "execution_count": 24,
   "id": "d6705f5b-7638-4c41-9fda-3b6cb18d6d03",
   "metadata": {},
   "outputs": [
    {
     "data": {
      "text/plain": [
       "true"
      ]
     },
     "execution_count": 24,
     "metadata": {},
     "output_type": "execute_result"
    }
   ],
   "source": [
    "100 ∈ values(grades)"
   ]
  },
  {
   "cell_type": "code",
   "execution_count": 25,
   "id": "32f9a05b-e8a9-4292-a1e3-bf8a76b7c9f4",
   "metadata": {},
   "outputs": [
    {
     "data": {
      "text/plain": [
       "false"
      ]
     },
     "execution_count": 25,
     "metadata": {},
     "output_type": "execute_result"
    }
   ],
   "source": [
    "\"isaac\" ∈ keys(grades)"
   ]
  },
  {
   "cell_type": "code",
   "execution_count": 26,
   "id": "1aed74e3-bd1d-4b27-a1eb-b2f9fa48eaa1",
   "metadata": {},
   "outputs": [
    {
     "data": {
      "text/plain": [
       "false"
      ]
     },
     "execution_count": 26,
     "metadata": {},
     "output_type": "execute_result"
    }
   ],
   "source": [
    "haskey(grades, \"isaac\")"
   ]
  },
  {
   "cell_type": "code",
   "execution_count": 27,
   "id": "b7cd50e3-87d8-466e-8018-faac0a2eeb2f",
   "metadata": {},
   "outputs": [
    {
     "data": {
      "text/plain": [
       "true"
      ]
     },
     "execution_count": 27,
     "metadata": {},
     "output_type": "execute_result"
    }
   ],
   "source": [
    "haskey(grades, \"marie\")"
   ]
  },
  {
   "cell_type": "code",
   "execution_count": 28,
   "id": "ca64e84a-b850-4a41-b701-81fa0d8c27d9",
   "metadata": {},
   "outputs": [
    {
     "data": {
      "text/plain": [
       "100"
      ]
     },
     "execution_count": 28,
     "metadata": {},
     "output_type": "execute_result"
    }
   ],
   "source": [
    "get(grades, \"albert\", \"not found\")"
   ]
  },
  {
   "cell_type": "code",
   "execution_count": 29,
   "id": "3f292674-aea4-4794-a73e-94e875511c82",
   "metadata": {},
   "outputs": [
    {
     "data": {
      "text/plain": [
       "\"not found\""
      ]
     },
     "execution_count": 29,
     "metadata": {},
     "output_type": "execute_result"
    }
   ],
   "source": [
    "get(grades, \"bertrand\", \"not found\")"
   ]
  },
  {
   "cell_type": "code",
   "execution_count": 32,
   "id": "62f9f210-5858-42ff-a062-ef920a16f969",
   "metadata": {},
   "outputs": [
    {
     "data": {
      "text/plain": [
       "85"
      ]
     },
     "execution_count": 32,
     "metadata": {},
     "output_type": "execute_result"
    }
   ],
   "source": [
    "# ! at the end offunction names means that the function makes modification in one or more\n",
    "# of its arguments \n",
    "\n",
    "get!(grades, \"bertrand\", 85)\n",
    "#if brtrand is a member, return its value. If not, set bertrand member with value 85"
   ]
  },
  {
   "cell_type": "code",
   "execution_count": 33,
   "id": "188fbd90-3b0a-45e5-ba68-3f5de95510b7",
   "metadata": {},
   "outputs": [
    {
     "data": {
      "text/plain": [
       "\"albert\""
      ]
     },
     "execution_count": 33,
     "metadata": {},
     "output_type": "execute_result"
    }
   ],
   "source": [
    "getkey(grades, \"albert\",\"einstein\")"
   ]
  },
  {
   "cell_type": "code",
   "execution_count": 34,
   "id": "2761001e-a3b4-4894-9823-337e5551a593",
   "metadata": {},
   "outputs": [
    {
     "data": {
      "text/plain": [
       "\"newton\""
      ]
     },
     "execution_count": 34,
     "metadata": {},
     "output_type": "execute_result"
    }
   ],
   "source": [
    "getkey(grades, \"isaac\", \"newton\")"
   ]
  },
  {
   "cell_type": "code",
   "execution_count": 35,
   "id": "73fefdbc-37bf-4b6f-bb06-5dbcb3544754",
   "metadata": {},
   "outputs": [
    {
     "data": {
      "text/plain": [
       "Dict{Any, Any} with 5 entries:\n",
       "  \"albert\"   => 100\n",
       "  \"Albert\"   => 100\n",
       "  \"bertrand\" => 85\n",
       "  \"marie\"    => 99\n",
       "  \"richard\"  => 98"
      ]
     },
     "execution_count": 35,
     "metadata": {},
     "output_type": "execute_result"
    }
   ],
   "source": [
    "delete!(grades, \"carl\")"
   ]
  },
  {
   "cell_type": "code",
   "execution_count": 36,
   "id": "8fbc5033-c033-4bab-9529-02c5a8b29495",
   "metadata": {},
   "outputs": [
    {
     "data": {
      "text/plain": [
       "Dict{String, Int64} with 3 entries:\n",
       "  \"c\" => 9\n",
       "  \"b\" => 7\n",
       "  \"a\" => 5"
      ]
     },
     "execution_count": 36,
     "metadata": {},
     "output_type": "execute_result"
    }
   ],
   "source": [
    "dict1 = Dict(\"a\" => 5, \"b\" => 7, \"c\" => 9)"
   ]
  },
  {
   "cell_type": "code",
   "execution_count": 37,
   "id": "c5201f46-4aa6-4179-adb1-dcab52c14665",
   "metadata": {},
   "outputs": [
    {
     "data": {
      "text/plain": [
       "Dict{String, Int64} with 3 entries:\n",
       "  \"f\" => 10\n",
       "  \"e\" => 8\n",
       "  \"d\" => 6"
      ]
     },
     "execution_count": 37,
     "metadata": {},
     "output_type": "execute_result"
    }
   ],
   "source": [
    "dict2 = Dict(\"d\" => 6, \"e\" => 8, \"f\" => 10)"
   ]
  },
  {
   "cell_type": "code",
   "execution_count": 38,
   "id": "e67934b0-6a22-429b-8164-173e06957c7e",
   "metadata": {},
   "outputs": [
    {
     "data": {
      "text/plain": [
       "Dict{String, Int64} with 6 entries:\n",
       "  \"f\" => 10\n",
       "  \"c\" => 9\n",
       "  \"e\" => 8\n",
       "  \"b\" => 7\n",
       "  \"a\" => 5\n",
       "  \"d\" => 6"
      ]
     },
     "execution_count": 38,
     "metadata": {},
     "output_type": "execute_result"
    }
   ],
   "source": [
    "merge(dict1, dict2)"
   ]
  },
  {
   "cell_type": "code",
   "execution_count": 40,
   "id": "30cdf2d8-6b22-4018-ba46-18d10ad25b5a",
   "metadata": {},
   "outputs": [
    {
     "data": {
      "text/plain": [
       "Dict{String, Int64} with 3 entries:\n",
       "  \"b\" => 10\n",
       "  \"a\" => 7\n",
       "  \"d\" => 15"
      ]
     },
     "execution_count": 40,
     "metadata": {},
     "output_type": "execute_result"
    }
   ],
   "source": [
    "dict1 = Dict(\"a\" => 5, \"b\" => 7, \"c\" => 9)\n",
    "dict2 = Dict(\"a\" => 7, \"b\" => 10, \"d\" => 15)"
   ]
  },
  {
   "cell_type": "code",
   "execution_count": 42,
   "id": "17d630ad-11fd-4897-a575-b8860662cd13",
   "metadata": {},
   "outputs": [
    {
     "data": {
      "text/plain": [
       "Dict{String, Int64} with 4 entries:\n",
       "  \"c\" => 9\n",
       "  \"b\" => 17\n",
       "  \"a\" => 12\n",
       "  \"d\" => 15"
      ]
     },
     "execution_count": 42,
     "metadata": {},
     "output_type": "execute_result"
    }
   ],
   "source": [
    "#Add the values for the elements with same keys\n",
    "mergewith(+, dict1, dict2)"
   ]
  },
  {
   "cell_type": "code",
   "execution_count": 43,
   "id": "7f09b7f1-2101-483a-a849-7fa8c07a7966",
   "metadata": {},
   "outputs": [
    {
     "data": {
      "text/plain": [
       "Dict{Any, Any} with 3 entries:\n",
       "  3.5   => true\n",
       "  \"two\" => 2\n",
       "  1     => \"one\""
      ]
     },
     "execution_count": 43,
     "metadata": {},
     "output_type": "execute_result"
    }
   ],
   "source": [
    "dct = Dict(1 => \"one\", \"two\" => 2, 3.5 => true)"
   ]
  },
  {
   "cell_type": "code",
   "execution_count": 45,
   "id": "9f2aca9d-1689-4b30-b082-4da3b657cf34",
   "metadata": {},
   "outputs": [
    {
     "data": {
      "text/plain": [
       "KeySet for a Dict{Any, Any} with 3 entries. Keys:\n",
       "  3.5\n",
       "  \"two\"\n",
       "  1"
      ]
     },
     "execution_count": 45,
     "metadata": {},
     "output_type": "execute_result"
    }
   ],
   "source": [
    "keys(dct)"
   ]
  },
  {
   "cell_type": "code",
   "execution_count": 46,
   "id": "eed144e8-6dcc-48d7-870a-92570ce67536",
   "metadata": {},
   "outputs": [
    {
     "data": {
      "text/plain": [
       "ValueIterator for a Dict{Any, Any} with 3 entries. Values:\n",
       "  true\n",
       "  2\n",
       "  \"one\""
      ]
     },
     "execution_count": 46,
     "metadata": {},
     "output_type": "execute_result"
    }
   ],
   "source": [
    "values(dct)"
   ]
  },
  {
   "cell_type": "code",
   "execution_count": null,
   "id": "380633ee-e704-4d57-a23e-6fc9c3de2df6",
   "metadata": {},
   "outputs": [],
   "source": []
  }
 ],
 "metadata": {
  "kernelspec": {
   "display_name": "Julia 1.8.3",
   "language": "julia",
   "name": "julia-1.8"
  },
  "language_info": {
   "file_extension": ".jl",
   "mimetype": "application/julia",
   "name": "julia",
   "version": "1.8.3"
  }
 },
 "nbformat": 4,
 "nbformat_minor": 5
}
