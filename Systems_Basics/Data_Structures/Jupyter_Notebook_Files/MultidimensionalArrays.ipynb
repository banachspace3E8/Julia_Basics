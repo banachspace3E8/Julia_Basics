{
 "cells": [
  {
   "cell_type": "code",
   "execution_count": 1,
   "id": "5b06e6f8-457e-4d96-9254-9ee08ef15c02",
   "metadata": {},
   "outputs": [],
   "source": [
    "#Shishir Khanal\n",
    "#01/17/2023\n",
    "#Multidimensional Arrays in Julia"
   ]
  },
  {
   "cell_type": "code",
   "execution_count": 2,
   "id": "3d9c0ed8-bdc1-4d92-b5dc-69f514a1bd8c",
   "metadata": {},
   "outputs": [],
   "source": [
    "# Array{T}\n",
    "#Array{T, N}"
   ]
  },
  {
   "cell_type": "code",
   "execution_count": 3,
   "id": "274df62e-752b-4b87-a0de-de45b33f8ad9",
   "metadata": {},
   "outputs": [
    {
     "data": {
      "text/plain": [
       "5×4×3 Array{Float64, 3}:\n",
       "[:, :, 1] =\n",
       " 6.94941e-310  6.94941e-310  6.94941e-310  6.94941e-310\n",
       " 6.94941e-310  6.94941e-310  6.94941e-310  6.94941e-310\n",
       " 6.94941e-310  6.94941e-310  6.94941e-310  6.94941e-310\n",
       " 6.94941e-310  6.94941e-310  6.94941e-310  6.94941e-310\n",
       " 6.94941e-310  6.94941e-310  6.94941e-310  6.94941e-310\n",
       "\n",
       "[:, :, 2] =\n",
       " 6.94941e-310  6.94941e-310  6.94941e-310  6.94941e-310\n",
       " 6.94941e-310  6.94941e-310  6.94941e-310  6.94941e-310\n",
       " 6.94941e-310  6.94941e-310  6.94941e-310  6.94941e-310\n",
       " 6.94941e-310  6.94941e-310  6.94941e-310  6.94941e-310\n",
       " 6.94941e-310  6.94941e-310  6.94941e-310  6.94941e-310\n",
       "\n",
       "[:, :, 3] =\n",
       " 6.94941e-310  6.94941e-310  6.94941e-310  6.94941e-310\n",
       " 6.94941e-310  6.94941e-310  6.94941e-310  6.94942e-310\n",
       " 6.94941e-310  6.94941e-310  6.94941e-310  6.94941e-310\n",
       " 6.94941e-310  6.94941e-310  6.94941e-310  6.94942e-310\n",
       " 6.94941e-310  6.94941e-310  6.94941e-310  6.94942e-310"
      ]
     },
     "execution_count": 3,
     "metadata": {},
     "output_type": "execute_result"
    }
   ],
   "source": [
    "Array{Float64, 3}(undef, (5, 4, 3))"
   ]
  },
  {
   "cell_type": "code",
   "execution_count": 4,
   "id": "2a1c25a9-95f7-433e-af86-4611e22d49b8",
   "metadata": {},
   "outputs": [
    {
     "data": {
      "text/plain": [
       "2×3×2×3 Array{Union{Nothing, Int64}, 4}:\n",
       "[:, :, 1, 1] =\n",
       " nothing  nothing  nothing\n",
       " nothing  nothing  nothing\n",
       "\n",
       "[:, :, 2, 1] =\n",
       " nothing  nothing  nothing\n",
       " nothing  nothing  nothing\n",
       "\n",
       "[:, :, 1, 2] =\n",
       " nothing  nothing  nothing\n",
       " nothing  nothing  nothing\n",
       "\n",
       "[:, :, 2, 2] =\n",
       " nothing  nothing  nothing\n",
       " nothing  nothing  nothing\n",
       "\n",
       "[:, :, 1, 3] =\n",
       " nothing  nothing  nothing\n",
       " nothing  nothing  nothing\n",
       "\n",
       "[:, :, 2, 3] =\n",
       " nothing  nothing  nothing\n",
       " nothing  nothing  nothing"
      ]
     },
     "execution_count": 4,
     "metadata": {},
     "output_type": "execute_result"
    }
   ],
   "source": [
    "Array{Union{Int64, Nothing}, 4}(nothing, (2,3,2,3))"
   ]
  },
  {
   "cell_type": "code",
   "execution_count": 5,
   "id": "0015fd14-ea3f-4a64-b717-a5ef35f191d3",
   "metadata": {},
   "outputs": [
    {
     "data": {
      "text/plain": [
       "4×3×2 Array{Union{Missing, String}, 3}:\n",
       "[:, :, 1] =\n",
       " missing  missing  missing\n",
       " missing  missing  missing\n",
       " missing  missing  missing\n",
       " missing  missing  missing\n",
       "\n",
       "[:, :, 2] =\n",
       " missing  missing  missing\n",
       " missing  missing  missing\n",
       " missing  missing  missing\n",
       " missing  missing  missing"
      ]
     },
     "execution_count": 5,
     "metadata": {},
     "output_type": "execute_result"
    }
   ],
   "source": [
    "Array{Union{String, Missing}}(missing, 4, 3, 2)"
   ]
  },
  {
   "cell_type": "code",
   "execution_count": 9,
   "id": "d10dd077-2128-4523-9d29-8d2c2ff19cec",
   "metadata": {},
   "outputs": [
    {
     "data": {
      "text/plain": [
       "5×4×3 Array{Int64, 3}:\n",
       "[:, :, 1] =\n",
       " 1   6  11  16\n",
       " 2   7  12  17\n",
       " 3   8  13  18\n",
       " 4   9  14  19\n",
       " 5  10  15  20\n",
       "\n",
       "[:, :, 2] =\n",
       " 21  26  31  36\n",
       " 22  27  32  37\n",
       " 23  28  33  38\n",
       " 24  29  34  39\n",
       " 25  30  35  40\n",
       "\n",
       "[:, :, 3] =\n",
       " 41  46  51  56\n",
       " 42  47  52  57\n",
       " 43  48  53  58\n",
       " 44  49  54  59\n",
       " 45  50  55  60"
      ]
     },
     "execution_count": 9,
     "metadata": {},
     "output_type": "execute_result"
    }
   ],
   "source": [
    "v = Vector(1:60)\n",
    "arr1 = reshape(v, (5,4,3))"
   ]
  },
  {
   "cell_type": "code",
   "execution_count": 10,
   "id": "e9aafb27-0fbc-4a63-a121-561f6735733a",
   "metadata": {},
   "outputs": [
    {
     "data": {
      "text/plain": [
       "2×4 Matrix{Int64}:\n",
       " 1  2  3  4\n",
       " 5  6  7  8"
      ]
     },
     "execution_count": 10,
     "metadata": {},
     "output_type": "execute_result"
    }
   ],
   "source": [
    "[1 2 3 4; 5 6 7 8]"
   ]
  },
  {
   "cell_type": "code",
   "execution_count": 11,
   "id": "295a3b61-477b-44d4-aa0a-3e62fa07509a",
   "metadata": {},
   "outputs": [
    {
     "data": {
      "text/plain": [
       "2×4 Matrix{Int64}:\n",
       " 1  2  3  4\n",
       " 5  6  7  8"
      ]
     },
     "execution_count": 11,
     "metadata": {},
     "output_type": "execute_result"
    }
   ],
   "source": [
    "[1;5 ;; 2;6 ;; 3;7 ;; 4;8]"
   ]
  },
  {
   "cell_type": "code",
   "execution_count": 13,
   "id": "87c9b72c-3459-4104-b747-0a826e105f00",
   "metadata": {},
   "outputs": [
    {
     "data": {
      "text/plain": [
       "2×4×2 Array{Int64, 3}:\n",
       "[:, :, 1] =\n",
       " 1  2  3  4\n",
       " 5  6  7  8\n",
       "\n",
       "[:, :, 2] =\n",
       "  9  10  11  12\n",
       " 13  14  15  16"
      ]
     },
     "execution_count": 13,
     "metadata": {},
     "output_type": "execute_result"
    }
   ],
   "source": [
    "[1;5 ;; 2;6 ;; 3;7 ;; 4;8 ;;; 9;13 ;; 10;14 ;; 11;15 ;; 12;16]"
   ]
  },
  {
   "cell_type": "code",
   "execution_count": 14,
   "id": "2a23e4de-7875-4c57-95c0-dea35e449be6",
   "metadata": {},
   "outputs": [
    {
     "data": {
      "text/plain": [
       "57"
      ]
     },
     "execution_count": 14,
     "metadata": {},
     "output_type": "execute_result"
    }
   ],
   "source": [
    "arr1[2,4,3]"
   ]
  },
  {
   "cell_type": "code",
   "execution_count": 15,
   "id": "fe9c793c-9c22-4a51-a3e9-9c8841cb759e",
   "metadata": {},
   "outputs": [
    {
     "data": {
      "text/plain": [
       "20"
      ]
     },
     "execution_count": 15,
     "metadata": {},
     "output_type": "execute_result"
    }
   ],
   "source": [
    "arr1[5,4,1]"
   ]
  },
  {
   "cell_type": "code",
   "execution_count": 16,
   "id": "3d5d8642-9749-4ed1-a8af-a99dd76cfa94",
   "metadata": {},
   "outputs": [
    {
     "data": {
      "text/plain": [
       "43"
      ]
     },
     "execution_count": 16,
     "metadata": {},
     "output_type": "execute_result"
    }
   ],
   "source": [
    "arr1[43]"
   ]
  },
  {
   "cell_type": "code",
   "execution_count": null,
   "id": "3eb221a7-2812-4910-a0b6-dca5dfbd69b7",
   "metadata": {},
   "outputs": [],
   "source": []
  }
 ],
 "metadata": {
  "kernelspec": {
   "display_name": "Julia 1.8.3",
   "language": "julia",
   "name": "julia-1.8"
  },
  "language_info": {
   "file_extension": ".jl",
   "mimetype": "application/julia",
   "name": "julia",
   "version": "1.8.3"
  }
 },
 "nbformat": 4,
 "nbformat_minor": 5
}
