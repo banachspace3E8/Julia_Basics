{
 "cells": [
  {
   "cell_type": "code",
   "execution_count": 4,
   "id": "86b971a3-ea5f-443e-a953-02dc17d372da",
   "metadata": {},
   "outputs": [],
   "source": [
    "#Shishir Khanal\n",
    "#01/17/2023\n",
    "#Arrays in Julia\n",
    "#Can think of arrays as mutable tuple\n",
    "#2D array is called matrix"
   ]
  },
  {
   "cell_type": "code",
   "execution_count": 5,
   "id": "167f4288-577c-403b-8448-634e72dc45a6",
   "metadata": {},
   "outputs": [
    {
     "data": {
      "text/plain": [
       "4-element Vector{Any}:\n",
       "    3\n",
       "     \"Julia\"\n",
       " 2012\n",
       "    4.12"
      ]
     },
     "execution_count": 5,
     "metadata": {},
     "output_type": "execute_result"
    }
   ],
   "source": [
    "arr = [3, \"Julia\", 2012, 4.12]"
   ]
  },
  {
   "cell_type": "code",
   "execution_count": 6,
   "id": "cd708736-9010-4699-97f1-79217cba265f",
   "metadata": {},
   "outputs": [
    {
     "data": {
      "text/plain": [
       "3-element Vector{Float64}:\n",
       " 2.2\n",
       " 2.4\n",
       " 2.6"
      ]
     },
     "execution_count": 6,
     "metadata": {},
     "output_type": "execute_result"
    }
   ],
   "source": [
    "arrfloat = [2.2, 2.4, 2.6]"
   ]
  },
  {
   "cell_type": "code",
   "execution_count": 7,
   "id": "501d6f68-9240-49a8-b7f9-b2cddc52b783",
   "metadata": {},
   "outputs": [
    {
     "data": {
      "text/plain": [
       "3-element Vector{Int64}:\n",
       "  7\n",
       " 11\n",
       " 13"
      ]
     },
     "execution_count": 7,
     "metadata": {},
     "output_type": "execute_result"
    }
   ],
   "source": [
    "arrint = [7, 11, 13]"
   ]
  },
  {
   "cell_type": "code",
   "execution_count": 8,
   "id": "f308443f-b7fb-4ec1-95b8-9a73f1bca45a",
   "metadata": {},
   "outputs": [
    {
     "data": {
      "text/plain": [
       "4-element Vector{String}:\n",
       " \"abc\"\n",
       " \"def\"\n",
       " \"xyz\"\n",
       " \"αβγ\""
      ]
     },
     "execution_count": 8,
     "metadata": {},
     "output_type": "execute_result"
    }
   ],
   "source": [
    "arrstr = [\"abc\", \"def\", \"xyz\", \"αβγ\"]"
   ]
  },
  {
   "cell_type": "code",
   "execution_count": 9,
   "id": "d3aa068c-37d0-4dd0-8f7e-b6d3744f92e2",
   "metadata": {},
   "outputs": [
    {
     "data": {
      "text/plain": [
       "Vector{Any}\u001b[90m (alias for \u001b[39m\u001b[90mArray{Any, 1}\u001b[39m\u001b[90m)\u001b[39m"
      ]
     },
     "execution_count": 9,
     "metadata": {},
     "output_type": "execute_result"
    }
   ],
   "source": [
    "typeof(arr)"
   ]
  },
  {
   "cell_type": "code",
   "execution_count": 10,
   "id": "fbb5804b-7df8-4e86-837f-ce392610c1fa",
   "metadata": {},
   "outputs": [
    {
     "data": {
      "text/plain": [
       "Vector{Float64}\u001b[90m (alias for \u001b[39m\u001b[90mArray{Float64, 1}\u001b[39m\u001b[90m)\u001b[39m"
      ]
     },
     "execution_count": 10,
     "metadata": {},
     "output_type": "execute_result"
    }
   ],
   "source": [
    "typeof(arrfloat)"
   ]
  },
  {
   "cell_type": "code",
   "execution_count": 11,
   "id": "5a27d149-e08f-404f-ba53-6c957b413253",
   "metadata": {},
   "outputs": [
    {
     "data": {
      "text/plain": [
       "Vector{Int64}\u001b[90m (alias for \u001b[39m\u001b[90mArray{Int64, 1}\u001b[39m\u001b[90m)\u001b[39m"
      ]
     },
     "execution_count": 11,
     "metadata": {},
     "output_type": "execute_result"
    }
   ],
   "source": [
    "typeof(arrint)"
   ]
  },
  {
   "cell_type": "code",
   "execution_count": 12,
   "id": "eaaba352-0198-4130-a9e7-d08912ebc5d7",
   "metadata": {},
   "outputs": [
    {
     "data": {
      "text/plain": [
       "Vector{String}\u001b[90m (alias for \u001b[39m\u001b[90mArray{String, 1}\u001b[39m\u001b[90m)\u001b[39m"
      ]
     },
     "execution_count": 12,
     "metadata": {},
     "output_type": "execute_result"
    }
   ],
   "source": [
    "typeof(arrstr)"
   ]
  },
  {
   "cell_type": "code",
   "execution_count": 13,
   "id": "04dc9ef8-ac47-44cd-b819-9c0b47b27677",
   "metadata": {},
   "outputs": [
    {
     "data": {
      "text/plain": [
       "4-element Vector{Int64}:\n",
       " 2\n",
       " 3\n",
       " 5\n",
       " 7"
      ]
     },
     "execution_count": 13,
     "metadata": {},
     "output_type": "execute_result"
    }
   ],
   "source": [
    "arrprime = Int64[2, 3, 5, 7]"
   ]
  },
  {
   "cell_type": "code",
   "execution_count": 15,
   "id": "df185156-eabf-40ce-99af-e8fcc9a3553f",
   "metadata": {},
   "outputs": [
    {
     "data": {
      "text/plain": [
       "3-element Vector{Float64}:\n",
       " 3.14\n",
       " 2.718\n",
       " 1.6"
      ]
     },
     "execution_count": 15,
     "metadata": {},
     "output_type": "execute_result"
    }
   ],
   "source": [
    "arrdouble = Float64[3.14, 2.718, 1.6]"
   ]
  },
  {
   "cell_type": "code",
   "execution_count": 16,
   "id": "ce129d18-07ab-4c69-913b-8bae93e5d5fb",
   "metadata": {},
   "outputs": [
    {
     "data": {
      "text/plain": [
       "3-element Vector{Any}:\n",
       " 7\n",
       " 8.2\n",
       "  [3, 5, 7]"
      ]
     },
     "execution_count": 16,
     "metadata": {},
     "output_type": "execute_result"
    }
   ],
   "source": [
    "arrmixed = [7, 8.2, [3, 5, 7]]"
   ]
  },
  {
   "cell_type": "code",
   "execution_count": 17,
   "id": "435cf856-78eb-45be-8f4a-b1f8b39ac7c3",
   "metadata": {},
   "outputs": [
    {
     "data": {
      "text/plain": [
       "3"
      ]
     },
     "execution_count": 17,
     "metadata": {},
     "output_type": "execute_result"
    }
   ],
   "source": [
    "arr[1]"
   ]
  },
  {
   "cell_type": "code",
   "execution_count": 18,
   "id": "a66195fb-9205-40f6-83e0-e207d4c4dd81",
   "metadata": {},
   "outputs": [
    {
     "data": {
      "text/plain": [
       "4.12"
      ]
     },
     "execution_count": 18,
     "metadata": {},
     "output_type": "execute_result"
    }
   ],
   "source": [
    "arr[end]"
   ]
  },
  {
   "cell_type": "code",
   "execution_count": 19,
   "id": "ebbe838b-6782-4c23-9437-629a7cb23831",
   "metadata": {},
   "outputs": [
    {
     "data": {
      "text/plain": [
       "Int64"
      ]
     },
     "execution_count": 19,
     "metadata": {},
     "output_type": "execute_result"
    }
   ],
   "source": [
    "typeof(arr[3])"
   ]
  },
  {
   "cell_type": "code",
   "execution_count": 20,
   "id": "e4f1d719-b335-4cbb-8b28-3cff076718a0",
   "metadata": {},
   "outputs": [
    {
     "data": {
      "text/plain": [
       "2-element Vector{Any}:\n",
       " 2012\n",
       "    4.12"
      ]
     },
     "execution_count": 20,
     "metadata": {},
     "output_type": "execute_result"
    }
   ],
   "source": [
    "arr[3:4]"
   ]
  },
  {
   "cell_type": "code",
   "execution_count": 21,
   "id": "5f55a66b-d0ea-4e66-8b8f-0135b816a2aa",
   "metadata": {},
   "outputs": [
    {
     "data": {
      "text/plain": [
       "3-element Vector{Any}:\n",
       "     \"Julia\"\n",
       " 2012\n",
       "    4.12"
      ]
     },
     "execution_count": 21,
     "metadata": {},
     "output_type": "execute_result"
    }
   ],
   "source": [
    "arr[2:end]"
   ]
  },
  {
   "cell_type": "code",
   "execution_count": 22,
   "id": "c9416012-7bc0-4031-a18e-13e62961a6e7",
   "metadata": {},
   "outputs": [
    {
     "data": {
      "text/plain": [
       "4-element Vector{Any}:\n",
       "    3\n",
       "     \"Julia\"\n",
       " 2012\n",
       "    4.12"
      ]
     },
     "execution_count": 22,
     "metadata": {},
     "output_type": "execute_result"
    }
   ],
   "source": [
    "newarray = arr[:]"
   ]
  },
  {
   "cell_type": "code",
   "execution_count": 24,
   "id": "c61cd175-67ec-4dfb-86a8-0a25d7cbef1b",
   "metadata": {},
   "outputs": [
    {
     "data": {
      "text/plain": [
       "true"
      ]
     },
     "execution_count": 24,
     "metadata": {},
     "output_type": "execute_result"
    }
   ],
   "source": [
    "newarray == arr"
   ]
  },
  {
   "cell_type": "code",
   "execution_count": 26,
   "id": "7d70b42b-5565-437d-a460-309b3f08a8e7",
   "metadata": {},
   "outputs": [
    {
     "data": {
      "text/plain": [
       "4-element Vector{Any}:\n",
       "    3\n",
       "     \"Julia\"\n",
       " 2012\n",
       "    4.12"
      ]
     },
     "execution_count": 26,
     "metadata": {},
     "output_type": "execute_result"
    }
   ],
   "source": [
    "newarray = arr"
   ]
  },
  {
   "cell_type": "code",
   "execution_count": 27,
   "id": "e78155a9-1846-4d14-b63c-3f23c7f66144",
   "metadata": {},
   "outputs": [
    {
     "data": {
      "text/plain": [
       "99999"
      ]
     },
     "execution_count": 27,
     "metadata": {},
     "output_type": "execute_result"
    }
   ],
   "source": [
    "arr[1] = 99999"
   ]
  },
  {
   "cell_type": "code",
   "execution_count": 28,
   "id": "f3bf4322-4944-4fb4-9e36-9201b7d4d4f2",
   "metadata": {},
   "outputs": [
    {
     "ename": "LoadError",
     "evalue": "MethodError: \u001b[0mCannot `convert` an object of type \u001b[92mString\u001b[39m\u001b[0m to an object of type \u001b[91mInt64\u001b[39m\n\u001b[0mClosest candidates are:\n\u001b[0m  convert(::Type{T}, \u001b[91m::Ptr\u001b[39m) where T<:Integer at pointer.jl:23\n\u001b[0m  convert(::Type{T}, \u001b[91m::T\u001b[39m) where T<:Number at number.jl:6\n\u001b[0m  convert(::Type{T}, \u001b[91m::Number\u001b[39m) where T<:Number at number.jl:7\n\u001b[0m  ...",
     "output_type": "error",
     "traceback": [
      "MethodError: \u001b[0mCannot `convert` an object of type \u001b[92mString\u001b[39m\u001b[0m to an object of type \u001b[91mInt64\u001b[39m\n\u001b[0mClosest candidates are:\n\u001b[0m  convert(::Type{T}, \u001b[91m::Ptr\u001b[39m) where T<:Integer at pointer.jl:23\n\u001b[0m  convert(::Type{T}, \u001b[91m::T\u001b[39m) where T<:Number at number.jl:6\n\u001b[0m  convert(::Type{T}, \u001b[91m::Number\u001b[39m) where T<:Number at number.jl:7\n\u001b[0m  ...",
      "",
      "Stacktrace:",
      " [1] setindex!(A::Vector{Int64}, x::String, i1::Int64)",
      "   @ Base ./array.jl:966",
      " [2] top-level scope",
      "   @ In[28]:1"
     ]
    }
   ],
   "source": [
    "arrprime[2] = \"three\""
   ]
  },
  {
   "cell_type": "code",
   "execution_count": 31,
   "id": "3fb1f629-c38b-48fb-918a-e942fd7b8fe0",
   "metadata": {},
   "outputs": [
    {
     "data": {
      "text/plain": [
       "2-element Vector{Int64}:\n",
       " 111\n",
       " 222"
      ]
     },
     "execution_count": 31,
     "metadata": {},
     "output_type": "execute_result"
    }
   ],
   "source": [
    "arr[2:3] = [111,222]"
   ]
  },
  {
   "cell_type": "code",
   "execution_count": 33,
   "id": "10aebe25-7d12-4411-b589-01743ee8fe70",
   "metadata": {},
   "outputs": [
    {
     "ename": "LoadError",
     "evalue": "ArgumentError: indexed assignment with a single value to possibly many locations is not supported; perhaps use broadcasting `.=` instead?",
     "output_type": "error",
     "traceback": [
      "ArgumentError: indexed assignment with a single value to possibly many locations is not supported; perhaps use broadcasting `.=` instead?",
      "",
      "Stacktrace:",
      " [1] setindex_shape_check(::Int64, ::Int64)",
      "   @ Base ./indices.jl:261",
      " [2] _unsafe_setindex!(#unused#::IndexLinear, A::Vector{Any}, x::Int64, I::UnitRange{Int64})",
      "   @ Base ./multidimensional.jl:939",
      " [3] _setindex!",
      "   @ ./multidimensional.jl:930 [inlined]",
      " [4] setindex!(A::Vector{Any}, v::Int64, I::UnitRange{Int64})",
      "   @ Base ./abstractarray.jl:1344",
      " [5] top-level scope",
      "   @ In[33]:2"
     ]
    }
   ],
   "source": [
    "#Need two elements and only one is assigned\n",
    "arr[2:3] = 4"
   ]
  },
  {
   "cell_type": "code",
   "execution_count": 34,
   "id": "07c06a47-0f6d-43a4-b3ce-ce77088367c7",
   "metadata": {},
   "outputs": [
    {
     "data": {
      "text/plain": [
       "false"
      ]
     },
     "execution_count": 34,
     "metadata": {},
     "output_type": "execute_result"
    }
   ],
   "source": [
    "111 ∈ arrstr"
   ]
  },
  {
   "cell_type": "code",
   "execution_count": 35,
   "id": "e3f5541b-3f6a-4ad9-a287-213c457b0108",
   "metadata": {},
   "outputs": [
    {
     "data": {
      "text/plain": [
       "true"
      ]
     },
     "execution_count": 35,
     "metadata": {},
     "output_type": "execute_result"
    }
   ],
   "source": [
    "issubset([\"abc\", \"def\"], arrstr)"
   ]
  },
  {
   "cell_type": "code",
   "execution_count": 38,
   "id": "b2af1deb-f7c7-4c81-a281-0c717ffe971f",
   "metadata": {},
   "outputs": [
    {
     "data": {
      "text/plain": [
       "true"
      ]
     },
     "execution_count": 38,
     "metadata": {},
     "output_type": "execute_result"
    }
   ],
   "source": [
    "[\"abc\", \"def\"] ⊆ arrstr  #\\subseteq<TAB>"
   ]
  },
  {
   "cell_type": "code",
   "execution_count": 39,
   "id": "0f4f91fd-2a86-4843-9599-2fd82bfa00ad",
   "metadata": {},
   "outputs": [
    {
     "data": {
      "text/plain": [
       "true"
      ]
     },
     "execution_count": 39,
     "metadata": {},
     "output_type": "execute_result"
    }
   ],
   "source": [
    "[\"abc\", \"def\"] ⊊ arrstr #\\subsetneq"
   ]
  },
  {
   "cell_type": "code",
   "execution_count": 40,
   "id": "0e05c399-9107-4b55-8f74-188eee00b387",
   "metadata": {},
   "outputs": [
    {
     "data": {
      "text/plain": [
       "false"
      ]
     },
     "execution_count": 40,
     "metadata": {},
     "output_type": "execute_result"
    }
   ],
   "source": [
    "arrstr ⊊ arrstr"
   ]
  },
  {
   "cell_type": "code",
   "execution_count": 41,
   "id": "7310b9e9-2aa1-4197-af63-68c433c91be4",
   "metadata": {},
   "outputs": [
    {
     "data": {
      "text/plain": [
       "true"
      ]
     },
     "execution_count": 41,
     "metadata": {},
     "output_type": "execute_result"
    }
   ],
   "source": [
    "arrstr ⊇ [\"abc\", \"def\"]"
   ]
  },
  {
   "cell_type": "code",
   "execution_count": 60,
   "id": "8797dc1d-62bd-44e5-88cc-9d876fa3ddb5",
   "metadata": {},
   "outputs": [
    {
     "data": {
      "text/plain": [
       "4-element Vector{String}:\n",
       " \"α\"\n",
       " \"β\"\n",
       " \"γ\"\n",
       " \"δ\""
      ]
     },
     "execution_count": 60,
     "metadata": {},
     "output_type": "execute_result"
    }
   ],
   "source": [
    "arr = [\"α\", \"β\", \"γ\", \"δ\"]"
   ]
  },
  {
   "cell_type": "code",
   "execution_count": 61,
   "id": "273ad241-1819-4656-837f-42c2613588c1",
   "metadata": {},
   "outputs": [
    {
     "data": {
      "text/plain": [
       "String"
      ]
     },
     "execution_count": 61,
     "metadata": {},
     "output_type": "execute_result"
    }
   ],
   "source": [
    "eltype(arr)"
   ]
  },
  {
   "cell_type": "code",
   "execution_count": 62,
   "id": "3deedb40-dac2-4ceb-82fb-6c0381bc25d9",
   "metadata": {},
   "outputs": [
    {
     "data": {
      "text/plain": [
       "4"
      ]
     },
     "execution_count": 62,
     "metadata": {},
     "output_type": "execute_result"
    }
   ],
   "source": [
    "length(arr)"
   ]
  },
  {
   "cell_type": "code",
   "execution_count": 63,
   "id": "4e692271-58de-4ee5-9144-5b05e512646b",
   "metadata": {},
   "outputs": [
    {
     "data": {
      "text/plain": [
       "5-element Vector{String}:\n",
       " \"α\"\n",
       " \"β\"\n",
       " \"γ\"\n",
       " \"δ\"\n",
       " \"α\""
      ]
     },
     "execution_count": 63,
     "metadata": {},
     "output_type": "execute_result"
    }
   ],
   "source": [
    "push!(arr, \"α\")"
   ]
  },
  {
   "cell_type": "code",
   "execution_count": 64,
   "id": "5b166646-f9b6-478f-a866-dfdbd9e2f7a2",
   "metadata": {},
   "outputs": [
    {
     "data": {
      "text/plain": [
       "7-element Vector{String}:\n",
       " \"α\"\n",
       " \"β\"\n",
       " \"γ\"\n",
       " \"δ\"\n",
       " \"α\"\n",
       " \"Δ\"\n",
       " \"θ\""
      ]
     },
     "execution_count": 64,
     "metadata": {},
     "output_type": "execute_result"
    }
   ],
   "source": [
    "arr2 = [\"Δ\", \"θ\"];\n",
    "append!(arr, arr2)"
   ]
  },
  {
   "cell_type": "code",
   "execution_count": 65,
   "id": "11e9dec6-e95d-4ad9-9a52-324812cb7cbe",
   "metadata": {},
   "outputs": [
    {
     "data": {
      "text/plain": [
       "4-element Vector{String}:\n",
       " \"β\"\n",
       " \"α\"\n",
       " \"Δ\"\n",
       " \"θ\""
      ]
     },
     "execution_count": 65,
     "metadata": {},
     "output_type": "execute_result"
    }
   ],
   "source": [
    "#Delete firstm third and 4th element of array\n",
    "deleteat!(arr, [1,3,4])"
   ]
  },
  {
   "cell_type": "code",
   "execution_count": 66,
   "id": "c0ec9499-5b3e-4781-98ba-9ababb3a8f0c",
   "metadata": {},
   "outputs": [
    {
     "data": {
      "text/plain": [
       "4-element Vector{String}:\n",
       " \"β\"\n",
       " \"α\"\n",
       " \"Δ\"\n",
       " \"θ\""
      ]
     },
     "execution_count": 66,
     "metadata": {},
     "output_type": "execute_result"
    }
   ],
   "source": [
    "arr"
   ]
  },
  {
   "cell_type": "code",
   "execution_count": 67,
   "id": "08591314-9cbe-4da7-8bf6-c88a5ce36840",
   "metadata": {},
   "outputs": [
    {
     "data": {
      "text/plain": [
       "\"θ\""
      ]
     },
     "execution_count": 67,
     "metadata": {},
     "output_type": "execute_result"
    }
   ],
   "source": [
    "#Delete last element\n",
    "pop!(arr)"
   ]
  },
  {
   "cell_type": "code",
   "execution_count": 68,
   "id": "bab7d0f3-62fe-467b-b2e0-0da915db7b49",
   "metadata": {},
   "outputs": [
    {
     "data": {
      "text/plain": [
       "\"β\""
      ]
     },
     "execution_count": 68,
     "metadata": {},
     "output_type": "execute_result"
    }
   ],
   "source": [
    "#Delete first element\n",
    "popfirst!(arr)"
   ]
  },
  {
   "cell_type": "code",
   "execution_count": 69,
   "id": "04f33193-35fd-4ed9-8ff7-ddb337daad6f",
   "metadata": {},
   "outputs": [
    {
     "data": {
      "text/plain": [
       "2-element Vector{String}:\n",
       " \"α\"\n",
       " \"Δ\""
      ]
     },
     "execution_count": 69,
     "metadata": {},
     "output_type": "execute_result"
    }
   ],
   "source": [
    "arr"
   ]
  },
  {
   "cell_type": "code",
   "execution_count": 71,
   "id": "0bb7bac3-bd90-4aa3-9742-65ee014fc1a1",
   "metadata": {},
   "outputs": [
    {
     "data": {
      "text/plain": [
       "3-element Vector{String}:\n",
       " \"α\"\n",
       " \"α\"\n",
       " \"Δ\""
      ]
     },
     "execution_count": 71,
     "metadata": {},
     "output_type": "execute_result"
    }
   ],
   "source": [
    "insert!(arr, 1, \"α\")"
   ]
  },
  {
   "cell_type": "code",
   "execution_count": 73,
   "id": "290a933f-2586-4dbb-b276-e6372608afbc",
   "metadata": {},
   "outputs": [
    {
     "data": {
      "text/plain": [
       "4-element Vector{String}:\n",
       " \"α\"\n",
       " \"λ\"\n",
       " \"α\"\n",
       " \"Δ\""
      ]
     },
     "execution_count": 73,
     "metadata": {},
     "output_type": "execute_result"
    }
   ],
   "source": [
    "insert!(arr, 2, \"λ\")"
   ]
  },
  {
   "cell_type": "code",
   "execution_count": 74,
   "id": "70249d6f-7a31-48c5-8b12-2b13768ccd72",
   "metadata": {},
   "outputs": [
    {
     "data": {
      "text/plain": [
       "8-element Vector{SubString{String}}:\n",
       " \"Julia\"\n",
       " \"Python\"\n",
       " \"R\"\n",
       " \"Matlab\"\n",
       " \"C\"\n",
       " \"C++\"\n",
       " \"Go\"\n",
       " \"Java\""
      ]
     },
     "execution_count": 74,
     "metadata": {},
     "output_type": "execute_result"
    }
   ],
   "source": [
    "#Split string into vector of strings based on ',' delimiter\n",
    "str = \"Julia,Python,R,Matlab,C,C++,Go,Java\"\n",
    "arrstr = split(str, \",\")"
   ]
  },
  {
   "cell_type": "code",
   "execution_count": null,
   "id": "cbe41df9-7530-4749-8abc-157ce3786d21",
   "metadata": {},
   "outputs": [],
   "source": []
  }
 ],
 "metadata": {
  "kernelspec": {
   "display_name": "Julia 1.8.3",
   "language": "julia",
   "name": "julia-1.8"
  },
  "language_info": {
   "file_extension": ".jl",
   "mimetype": "application/julia",
   "name": "julia",
   "version": "1.8.3"
  }
 },
 "nbformat": 4,
 "nbformat_minor": 5
}
