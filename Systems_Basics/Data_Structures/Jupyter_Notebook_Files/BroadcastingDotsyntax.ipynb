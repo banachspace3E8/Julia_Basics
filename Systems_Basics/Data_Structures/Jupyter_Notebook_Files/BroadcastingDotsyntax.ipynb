{
 "cells": [
  {
   "cell_type": "code",
   "execution_count": 1,
   "id": "0a225f2b-3445-446a-adb2-8bbfd7909822",
   "metadata": {},
   "outputs": [],
   "source": [
    "#Shishir Khanal\n",
    "#01/18/2023\n",
    "#Broadcasting and Dot syntax in Julia\n",
    "#Advantages of Vectorized languages(eg, Matlab, Python)\n",
    "#  Easy to perform elementwise binary operation on arrays of different sizes (a.k.a Broadcasting)"
   ]
  },
  {
   "cell_type": "code",
   "execution_count": 2,
   "id": "0f007780-025c-4a6e-a7ec-c286bcbb22f7",
   "metadata": {},
   "outputs": [],
   "source": [
    "v = Vector(1:5);\n",
    "n = 7;"
   ]
  },
  {
   "cell_type": "code",
   "execution_count": 3,
   "id": "cd040831-5bc5-41d8-81ad-ae5002315f30",
   "metadata": {},
   "outputs": [
    {
     "ename": "LoadError",
     "evalue": "MethodError: no method matching +(::Vector{Int64}, ::Int64)\nFor element-wise addition, use broadcasting with dot syntax: array .+ scalar\n\u001b[0mClosest candidates are:\n\u001b[0m  +(::Any, ::Any, \u001b[91m::Any\u001b[39m, \u001b[91m::Any...\u001b[39m) at operators.jl:591\n\u001b[0m  +(\u001b[91m::T\u001b[39m, ::T) where T<:Union{Int128, Int16, Int32, Int64, Int8, UInt128, UInt16, UInt32, UInt64, UInt8} at int.jl:87\n\u001b[0m  +(\u001b[91m::T\u001b[39m, ::Integer) where T<:AbstractChar at char.jl:237\n\u001b[0m  ...",
     "output_type": "error",
     "traceback": [
      "MethodError: no method matching +(::Vector{Int64}, ::Int64)\nFor element-wise addition, use broadcasting with dot syntax: array .+ scalar\n\u001b[0mClosest candidates are:\n\u001b[0m  +(::Any, ::Any, \u001b[91m::Any\u001b[39m, \u001b[91m::Any...\u001b[39m) at operators.jl:591\n\u001b[0m  +(\u001b[91m::T\u001b[39m, ::T) where T<:Union{Int128, Int16, Int32, Int64, Int8, UInt128, UInt16, UInt32, UInt64, UInt8} at int.jl:87\n\u001b[0m  +(\u001b[91m::T\u001b[39m, ::Integer) where T<:AbstractChar at char.jl:237\n\u001b[0m  ...",
      "",
      "Stacktrace:",
      " [1] top-level scope",
      "   @ In[3]:1"
     ]
    }
   ],
   "source": [
    "#Dimensions are not same hence Julia throws error\n",
    "v + n"
   ]
  },
  {
   "cell_type": "code",
   "execution_count": 5,
   "id": "3b54c7d6-8306-4840-96c8-d05fe7d41056",
   "metadata": {},
   "outputs": [
    {
     "data": {
      "text/plain": [
       "5-element Vector{Int64}:\n",
       "  8\n",
       "  9\n",
       " 10\n",
       " 11\n",
       " 12"
      ]
     },
     "execution_count": 5,
     "metadata": {},
     "output_type": "execute_result"
    }
   ],
   "source": [
    "#Works but is not efficient\n",
    "v + repeat([n], size(v,1))"
   ]
  },
  {
   "cell_type": "code",
   "execution_count": 6,
   "id": "72a3a83d-74cf-4541-9018-16d6aa170443",
   "metadata": {},
   "outputs": [
    {
     "data": {
      "text/plain": [
       "5-element Vector{Int64}:\n",
       "  8\n",
       "  9\n",
       " 10\n",
       " 11\n",
       " 12"
      ]
     },
     "execution_count": 6,
     "metadata": {},
     "output_type": "execute_result"
    }
   ],
   "source": [
    "broadcast(+,v,n)"
   ]
  },
  {
   "cell_type": "code",
   "execution_count": 7,
   "id": "d059a38c-b862-46e0-a2d7-5f151b144fa8",
   "metadata": {},
   "outputs": [
    {
     "data": {
      "text/plain": [
       "5-element Vector{Int64}:\n",
       "  8\n",
       "  9\n",
       " 10\n",
       " 11\n",
       " 12"
      ]
     },
     "execution_count": 7,
     "metadata": {},
     "output_type": "execute_result"
    }
   ],
   "source": [
    "v .+ n"
   ]
  },
  {
   "cell_type": "code",
   "execution_count": 11,
   "id": "ec0adf0c-9856-41fb-86e2-386e0f82b9ea",
   "metadata": {},
   "outputs": [
    {
     "data": {
      "text/plain": [
       "1×6 BitMatrix:\n",
       " 0  1  0  1  0  1"
      ]
     },
     "execution_count": 11,
     "metadata": {},
     "output_type": "execute_result"
    }
   ],
   "source": [
    "a = [4 7 2 9 11 15];\n",
    "b = [3 7 3 9 12 15];\n",
    "a .== b"
   ]
  },
  {
   "cell_type": "code",
   "execution_count": 12,
   "id": "a44fc7b4-086b-4f0c-b91f-dac8de20e3dd",
   "metadata": {},
   "outputs": [
    {
     "data": {
      "text/plain": [
       "2×3 Matrix{Int64}:\n",
       " 1  2  3\n",
       " 4  5  6"
      ]
     },
     "execution_count": 12,
     "metadata": {},
     "output_type": "execute_result"
    }
   ],
   "source": [
    "mat = [1 2 3; 4 5 6]"
   ]
  },
  {
   "cell_type": "code",
   "execution_count": 13,
   "id": "8f7e7e34-f819-4892-8a7c-08efc98ede69",
   "metadata": {},
   "outputs": [
    {
     "data": {
      "text/plain": [
       "7.38905609893065"
      ]
     },
     "execution_count": 13,
     "metadata": {},
     "output_type": "execute_result"
    }
   ],
   "source": [
    "ℯ^2"
   ]
  },
  {
   "cell_type": "code",
   "execution_count": 16,
   "id": "1e5158ae-c7d8-4a07-88d8-cddbf5ececeb",
   "metadata": {},
   "outputs": [
    {
     "data": {
      "text/plain": [
       "2×3 Matrix{Float64}:\n",
       "  2.71828    7.38906   20.0855\n",
       " 54.5982   148.413    403.429"
      ]
     },
     "execution_count": 16,
     "metadata": {},
     "output_type": "execute_result"
    }
   ],
   "source": [
    "#broadcasting\n",
    "ℯ.^mat"
   ]
  },
  {
   "cell_type": "code",
   "execution_count": 17,
   "id": "6b9bb0fa-1c6c-450a-bcff-d9d300c362bd",
   "metadata": {},
   "outputs": [
    {
     "data": {
      "text/plain": [
       "2×3 Matrix{Float64}:\n",
       "  2.71828    7.38906   20.0855\n",
       " 54.5982   148.413    403.429"
      ]
     },
     "execution_count": 17,
     "metadata": {},
     "output_type": "execute_result"
    }
   ],
   "source": [
    "#broadcasting\n",
    "exp.(mat)"
   ]
  },
  {
   "cell_type": "code",
   "execution_count": 18,
   "id": "988d0755-004a-4982-9509-bb18543bfd37",
   "metadata": {},
   "outputs": [
    {
     "data": {
      "text/plain": [
       "2×3 Matrix{Float64}:\n",
       " 1.0  1.41421  1.73205\n",
       " 2.0  2.23607  2.44949"
      ]
     },
     "execution_count": 18,
     "metadata": {},
     "output_type": "execute_result"
    }
   ],
   "source": [
    "sqrt.(mat)"
   ]
  },
  {
   "cell_type": "code",
   "execution_count": 19,
   "id": "9eb011fb-6e35-4251-b923-eebfffc33784",
   "metadata": {},
   "outputs": [
    {
     "data": {
      "text/plain": [
       "2×3 Matrix{Float64}:\n",
       " 1.0  1.41421  1.73205\n",
       " 2.0  2.23607  2.44949"
      ]
     },
     "execution_count": 19,
     "metadata": {},
     "output_type": "execute_result"
    }
   ],
   "source": [
    ".√mat"
   ]
  },
  {
   "cell_type": "code",
   "execution_count": 20,
   "id": "6839025e-eaff-4555-8145-b859040cf763",
   "metadata": {},
   "outputs": [
    {
     "data": {
      "text/plain": [
       "1×6 Matrix{Int64}:\n",
       " 3  5  7  9  12  15"
      ]
     },
     "execution_count": 20,
     "metadata": {},
     "output_type": "execute_result"
    }
   ],
   "source": [
    "x = [3 5 7 9 12 15]"
   ]
  },
  {
   "cell_type": "code",
   "execution_count": 22,
   "id": "5aebafe5-1330-43f9-82a9-ce7f180e096f",
   "metadata": {},
   "outputs": [
    {
     "data": {
      "text/plain": [
       "1×6 Matrix{Int64}:\n",
       " 38  90  166  266  461  710"
      ]
     },
     "execution_count": 22,
     "metadata": {},
     "output_type": "execute_result"
    }
   ],
   "source": [
    "3 .* x .^2 .+ 2 .* x .+ 5"
   ]
  },
  {
   "cell_type": "code",
   "execution_count": 23,
   "id": "95809c80-617e-4a00-9570-f0f0ac6f2e25",
   "metadata": {},
   "outputs": [
    {
     "data": {
      "text/plain": [
       "1×6 Matrix{Int64}:\n",
       " 38  90  166  266  461  710"
      ]
     },
     "execution_count": 23,
     "metadata": {},
     "output_type": "execute_result"
    }
   ],
   "source": [
    "#do not have to use '.' symbol with multiplication\n",
    "3 * x .^2 .+ 2 * x .+ 5"
   ]
  },
  {
   "cell_type": "code",
   "execution_count": 24,
   "id": "65810e39-1e65-4329-9d9d-91920a2fc2a5",
   "metadata": {},
   "outputs": [
    {
     "data": {
      "text/plain": [
       "1×8 Matrix{Int64}:\n",
       " 7  22  12  13  16  21  18  76"
      ]
     },
     "execution_count": 24,
     "metadata": {},
     "output_type": "execute_result"
    }
   ],
   "source": [
    "vec = [7 22 12 13 16 21 18 76]"
   ]
  },
  {
   "cell_type": "code",
   "execution_count": 26,
   "id": "6871de63-cf0e-42ba-9770-847542f63bc6",
   "metadata": {},
   "outputs": [
    {
     "data": {
      "text/plain": [
       "2-element Vector{Int64}:\n",
       "  7\n",
       " 76"
      ]
     },
     "execution_count": 26,
     "metadata": {},
     "output_type": "execute_result"
    }
   ],
   "source": [
    "#Select elements using boolean\n",
    "vec[[true false false false false false false true]]"
   ]
  },
  {
   "cell_type": "code",
   "execution_count": 27,
   "id": "9977d681-b886-4241-a804-faf9f335c9d1",
   "metadata": {},
   "outputs": [
    {
     "data": {
      "text/plain": [
       "1×8 BitMatrix:\n",
       " 0  1  0  0  0  1  0  1"
      ]
     },
     "execution_count": 27,
     "metadata": {},
     "output_type": "execute_result"
    }
   ],
   "source": [
    "# Get vector elements greater than 20\n",
    "#check elements individually whether they are greater than 20\n",
    "vec .> 20"
   ]
  },
  {
   "cell_type": "code",
   "execution_count": 28,
   "id": "fe1d6c6e-2c2a-4364-abd5-b4c444bd6651",
   "metadata": {},
   "outputs": [
    {
     "data": {
      "text/plain": [
       "3-element Vector{Int64}:\n",
       " 22\n",
       " 21\n",
       " 76"
      ]
     },
     "execution_count": 28,
     "metadata": {},
     "output_type": "execute_result"
    }
   ],
   "source": [
    "vec[vec .> 20]"
   ]
  },
  {
   "cell_type": "code",
   "execution_count": 29,
   "id": "bb23572c-9b02-4e85-80a5-2fac6f20f2b2",
   "metadata": {},
   "outputs": [
    {
     "data": {
      "text/plain": [
       "1×8 Matrix{Int64}:\n",
       " 3  2  0  1  0  1  2  0"
      ]
     },
     "execution_count": 29,
     "metadata": {},
     "output_type": "execute_result"
    }
   ],
   "source": [
    "#elements divisible by 4\n",
    "vec .% 4"
   ]
  },
  {
   "cell_type": "code",
   "execution_count": 30,
   "id": "998a43b0-a994-417b-a1f6-c2f621461d1c",
   "metadata": {},
   "outputs": [
    {
     "data": {
      "text/plain": [
       "1×8 BitMatrix:\n",
       " 0  0  1  0  1  0  0  1"
      ]
     },
     "execution_count": 30,
     "metadata": {},
     "output_type": "execute_result"
    }
   ],
   "source": [
    "(vec .% 4) .== 0"
   ]
  },
  {
   "cell_type": "code",
   "execution_count": 32,
   "id": "412cccdf-cfbd-468e-af34-d31a86f4a01f",
   "metadata": {},
   "outputs": [
    {
     "data": {
      "text/plain": [
       "3-element Vector{Int64}:\n",
       " 12\n",
       " 16\n",
       " 76"
      ]
     },
     "execution_count": 32,
     "metadata": {},
     "output_type": "execute_result"
    }
   ],
   "source": [
    "cond = (vec .% 4) .== 0\n",
    "vec[cond]"
   ]
  },
  {
   "cell_type": "code",
   "execution_count": 33,
   "id": "120dec52-4a97-4480-b0e5-0b16e1b2a55c",
   "metadata": {},
   "outputs": [
    {
     "data": {
      "text/plain": [
       "200×10 Matrix{Int64}:\n",
       "  39  15  74   69   7  68  66   37   71   23\n",
       "   5   8  65   21  50  55  46   74   93   95\n",
       "   6  30  82   38  65  14  93   10   68   77\n",
       "   8  96   7   92  84   5   6   87   47   97\n",
       "  61  73  86   85   3  51  49   54   52   56\n",
       "   5  23  30   74  85  12  56   65   33   48\n",
       "   9  52  99   41  81  36  80  100   67   68\n",
       "  21  36  59   36  34  12  18   39   55   96\n",
       "  93  24  35    4  35  35  76   57   73   97\n",
       "  41  44  39   74  70  84  42   26   64   11\n",
       "  73  66  71   52   5  60  23   91   29   83\n",
       " 100  30  65   17   2  51  83   41   25   46\n",
       "  49  88  77   82  71  28   7   31   58   41\n",
       "   ⋮                    ⋮                \n",
       "  13   6  78   39  34  23   4   43   25  100\n",
       "  93  84   9  100  97  70  21   69    5   96\n",
       "  29  84   4   85  22  59  77   56   84   73\n",
       "  52  81   6   21  21  59  27   24   20  100\n",
       "  30  18  32   79  26  20  86   44   63   45\n",
       "  47  71  63   96  62  68  20   23   56   70\n",
       "  71  52  44   36  13  13  53   92   57   59\n",
       "   4  81  80   16  30   6  44   85    8   29\n",
       "  13  31  20   96  52  63  17   39   39   38\n",
       "  42  10  45   84  24  50  36   73   18   19\n",
       "  84  79  89   46  24  17  12   71  100   38\n",
       "  70  77  77   85  90  34  74   60   36   53"
      ]
     },
     "execution_count": 33,
     "metadata": {},
     "output_type": "execute_result"
    }
   ],
   "source": [
    "#matrix of size(200, 10) containing random values between 1 and 100\n",
    "mat = rand(1:100, 200,10)"
   ]
  },
  {
   "cell_type": "code",
   "execution_count": 36,
   "id": "462ce95e-bb56-42f0-963b-93ea8dd6e085",
   "metadata": {},
   "outputs": [],
   "source": [
    "#rows in which first col is divisible by 3 \n",
    "cond1 = mat[:, 1].% 3 .== 0;"
   ]
  },
  {
   "cell_type": "code",
   "execution_count": 40,
   "id": "c3ff0491-02d8-45c1-b6e0-f93d11a530ff",
   "metadata": {},
   "outputs": [],
   "source": [
    "#rows in which second col is divisible by 4\n",
    "cond2 = mat[:, 2] .% 4 .== 0;"
   ]
  },
  {
   "cell_type": "code",
   "execution_count": 41,
   "id": "e98d5b16-d926-4bdf-b932-82406cda407a",
   "metadata": {},
   "outputs": [
    {
     "data": {
      "text/plain": [
       "19×10 Matrix{Int64}:\n",
       "  9   52  99   41  81  36   80  100  67  68\n",
       " 21   36  59   36  34  12   18   39  55  96\n",
       " 93   24  35    4  35  35   76   57  73  97\n",
       " 75   84  69   16   1  19   98   71   3  62\n",
       " 87   28  56   31  28  74   71   67  50  58\n",
       " 42  100  28    7  32   4   92   14  83  39\n",
       " 39    4  85   64  11  81   14   82  12  15\n",
       "  6   24  25   94  77  79   21   16   2  43\n",
       " 42   56  83   24  92  56   73   43  98  24\n",
       " 48   76  28    5   6  99   44   36  80  39\n",
       "  6   12  70   66  81  50    5    8  87  80\n",
       " 30   48  72    7  68  28   91   33  44  42\n",
       " 54   80   9   60  24  74   79   48  75  18\n",
       " 81   88  36   34  80  96   43   38  63   4\n",
       " 99    4  23   19  69  37  100   27  21  71\n",
       " 96   84  44   88  42   2   65   67  55  98\n",
       " 60   60  73   46  42  50   44   37  89  43\n",
       " 18   56  10   64  89  36   62   76  23   6\n",
       " 93   84   9  100  97  70   21   69   5  96"
      ]
     },
     "execution_count": 41,
     "metadata": {},
     "output_type": "execute_result"
    }
   ],
   "source": [
    "# rows in which cond1 and cond2 is true \n",
    "mat[cond1 .& cond2, :]"
   ]
  }
 ],
 "metadata": {
  "kernelspec": {
   "display_name": "Julia 1.8.3",
   "language": "julia",
   "name": "julia-1.8"
  },
  "language_info": {
   "file_extension": ".jl",
   "mimetype": "application/julia",
   "name": "julia",
   "version": "1.8.3"
  }
 },
 "nbformat": 4,
 "nbformat_minor": 5
}
