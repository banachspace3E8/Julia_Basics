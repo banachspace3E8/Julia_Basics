{
 "cells": [
  {
   "cell_type": "code",
   "execution_count": 3,
   "id": "737680bb-32ef-46cc-a3e7-f7eb9b054212",
   "metadata": {},
   "outputs": [],
   "source": [
    "#Shishir Khanal\n",
    "#01/17/2023\n",
    "#Ranges in Julia\n",
    "#Helpful in workin with ranges of numbers"
   ]
  },
  {
   "cell_type": "code",
   "execution_count": 4,
   "id": "23e3e942-d748-438a-aa72-2468a247866e",
   "metadata": {},
   "outputs": [
    {
     "data": {
      "text/plain": [
       "1:10"
      ]
     },
     "execution_count": 4,
     "metadata": {},
     "output_type": "execute_result"
    }
   ],
   "source": [
    "1:10"
   ]
  },
  {
   "cell_type": "code",
   "execution_count": 5,
   "id": "9211c17e-7c64-4f2b-b309-079df90d6645",
   "metadata": {},
   "outputs": [
    {
     "data": {
      "text/plain": [
       "1:10"
      ]
     },
     "execution_count": 5,
     "metadata": {},
     "output_type": "execute_result"
    }
   ],
   "source": [
    "rng = 1:10"
   ]
  },
  {
   "cell_type": "code",
   "execution_count": 7,
   "id": "7fe8a527-2b2c-4d0c-882c-a0bbd7ca7e6a",
   "metadata": {},
   "outputs": [
    {
     "data": {
      "text/plain": [
       "10-element Vector{Int64}:\n",
       "  1\n",
       "  2\n",
       "  3\n",
       "  4\n",
       "  5\n",
       "  6\n",
       "  7\n",
       "  8\n",
       "  9\n",
       " 10"
      ]
     },
     "execution_count": 7,
     "metadata": {},
     "output_type": "execute_result"
    }
   ],
   "source": [
    "collect(rng)\n",
    "#range is converted into an array and size of an object increases"
   ]
  },
  {
   "cell_type": "code",
   "execution_count": 8,
   "id": "360a7509-435e-47d2-a0f6-d482c6c51856",
   "metadata": {},
   "outputs": [
    {
     "data": {
      "text/plain": [
       "16"
      ]
     },
     "execution_count": 8,
     "metadata": {},
     "output_type": "execute_result"
    }
   ],
   "source": [
    "sizeof(1:10)"
   ]
  },
  {
   "cell_type": "code",
   "execution_count": 9,
   "id": "0b1f5a02-b8a2-44d7-bb94-4c6374bf3950",
   "metadata": {},
   "outputs": [
    {
     "data": {
      "text/plain": [
       "80"
      ]
     },
     "execution_count": 9,
     "metadata": {},
     "output_type": "execute_result"
    }
   ],
   "source": [
    "sizeof(collect(1:10))"
   ]
  },
  {
   "cell_type": "code",
   "execution_count": 10,
   "id": "3fce142b-9f9e-4fd6-9414-9c3112bbafcb",
   "metadata": {},
   "outputs": [
    {
     "data": {
      "text/plain": [
       "UnitRange{Int64}"
      ]
     },
     "execution_count": 10,
     "metadata": {},
     "output_type": "execute_result"
    }
   ],
   "source": [
    "typeof(rng)"
   ]
  },
  {
   "cell_type": "code",
   "execution_count": 11,
   "id": "ce192fce-18b0-4a58-a5cb-dc7142bef5c4",
   "metadata": {},
   "outputs": [
    {
     "data": {
      "text/plain": [
       "AbstractUnitRange{T} where T<:Real"
      ]
     },
     "execution_count": 11,
     "metadata": {},
     "output_type": "execute_result"
    }
   ],
   "source": [
    "supertype(UnitRange)"
   ]
  },
  {
   "cell_type": "code",
   "execution_count": 12,
   "id": "d656dd3d-14b5-44f3-9d7f-cae551bee8d5",
   "metadata": {},
   "outputs": [
    {
     "data": {
      "text/plain": [
       "AbstractRange"
      ]
     },
     "execution_count": 12,
     "metadata": {},
     "output_type": "execute_result"
    }
   ],
   "source": [
    "supertype(OrdinalRange)"
   ]
  },
  {
   "cell_type": "code",
   "execution_count": 13,
   "id": "d87beddf-a7cd-49f5-8b99-38a46e309f0c",
   "metadata": {},
   "outputs": [
    {
     "data": {
      "text/plain": [
       "AbstractVector\u001b[90m (alias for \u001b[39m\u001b[90mAbstractArray{T, 1} where T\u001b[39m\u001b[90m)\u001b[39m"
      ]
     },
     "execution_count": 13,
     "metadata": {},
     "output_type": "execute_result"
    }
   ],
   "source": [
    "supertype(AbstractRange)"
   ]
  },
  {
   "cell_type": "code",
   "execution_count": 14,
   "id": "52beb992-4a0a-415a-8b21-367467c99efc",
   "metadata": {},
   "outputs": [
    {
     "data": {
      "text/plain": [
       "Any"
      ]
     },
     "execution_count": 14,
     "metadata": {},
     "output_type": "execute_result"
    }
   ],
   "source": [
    "supertype(AbstractVector)"
   ]
  },
  {
   "cell_type": "code",
   "execution_count": 15,
   "id": "abb9c9d1-6d02-45d6-b2cb-4076dfbd239b",
   "metadata": {},
   "outputs": [
    {
     "data": {
      "text/plain": [
       "1:2:19"
      ]
     },
     "execution_count": 15,
     "metadata": {},
     "output_type": "execute_result"
    }
   ],
   "source": [
    "rng2 = 1:2:20"
   ]
  },
  {
   "cell_type": "code",
   "execution_count": 16,
   "id": "059d6046-c9e4-4044-9cd5-a63f6e5b246b",
   "metadata": {},
   "outputs": [
    {
     "data": {
      "text/plain": [
       "20:-2:2"
      ]
     },
     "execution_count": 16,
     "metadata": {},
     "output_type": "execute_result"
    }
   ],
   "source": [
    "rng3 = 20:-2:1"
   ]
  },
  {
   "cell_type": "code",
   "execution_count": 17,
   "id": "bdc9ee5f-e5f4-414d-91da-30019ad7174f",
   "metadata": {},
   "outputs": [
    {
     "data": {
      "text/plain": [
       "-3.0:0.1:3.0"
      ]
     },
     "execution_count": 17,
     "metadata": {},
     "output_type": "execute_result"
    }
   ],
   "source": [
    "-3:0.1:3"
   ]
  },
  {
   "cell_type": "code",
   "execution_count": 19,
   "id": "d94749dc-e738-434c-a310-72114a3f660f",
   "metadata": {},
   "outputs": [
    {
     "data": {
      "text/plain": [
       "0:2:20"
      ]
     },
     "execution_count": 19,
     "metadata": {},
     "output_type": "execute_result"
    }
   ],
   "source": [
    "range(start=0, step=2, stop=20)"
   ]
  },
  {
   "cell_type": "code",
   "execution_count": 20,
   "id": "380ab069-7f21-4b41-8feb-1e907f4a5cf0",
   "metadata": {},
   "outputs": [
    {
     "data": {
      "text/plain": [
       "2:11"
      ]
     },
     "execution_count": 20,
     "metadata": {},
     "output_type": "execute_result"
    }
   ],
   "source": [
    "range(2, length=10)"
   ]
  },
  {
   "cell_type": "code",
   "execution_count": 21,
   "id": "89c83aa0-2d53-43f0-8b8c-9d89e6a18539",
   "metadata": {},
   "outputs": [
    {
     "data": {
      "text/plain": [
       "5:20"
      ]
     },
     "execution_count": 21,
     "metadata": {},
     "output_type": "execute_result"
    }
   ],
   "source": [
    "range(5, stop=20)"
   ]
  },
  {
   "cell_type": "code",
   "execution_count": 22,
   "id": "980ad2d1-5e57-458b-ae79-fb67e7b4bff4",
   "metadata": {},
   "outputs": [
    {
     "data": {
      "text/plain": [
       "4:4:40"
      ]
     },
     "execution_count": 22,
     "metadata": {},
     "output_type": "execute_result"
    }
   ],
   "source": [
    "range(4, step=4, length=10)"
   ]
  },
  {
   "cell_type": "code",
   "execution_count": 23,
   "id": "49236a2f-395c-4781-950a-7e25de7576a8",
   "metadata": {},
   "outputs": [
    {
     "data": {
      "text/plain": [
       "-3.0:0.06:3.0"
      ]
     },
     "execution_count": 23,
     "metadata": {},
     "output_type": "execute_result"
    }
   ],
   "source": [
    "range(-3, 3, length=101)"
   ]
  },
  {
   "cell_type": "code",
   "execution_count": 24,
   "id": "91302f69-5900-47a9-adb7-c6f9100f9c75",
   "metadata": {},
   "outputs": [
    {
     "data": {
      "text/plain": [
       "1:3:28"
      ]
     },
     "execution_count": 24,
     "metadata": {},
     "output_type": "execute_result"
    }
   ],
   "source": [
    "range(1, 30, step=3)"
   ]
  },
  {
   "cell_type": "code",
   "execution_count": 25,
   "id": "bdfa0133-ea75-4d59-aa57-cbb940f7ec7e",
   "metadata": {},
   "outputs": [
    {
     "data": {
      "text/plain": [
       "11:20"
      ]
     },
     "execution_count": 25,
     "metadata": {},
     "output_type": "execute_result"
    }
   ],
   "source": [
    "range(stop=20, length=10)"
   ]
  },
  {
   "cell_type": "code",
   "execution_count": 26,
   "id": "e0567ea4-2a50-4258-84e5-963a37efdf08",
   "metadata": {},
   "outputs": [
    {
     "data": {
      "text/plain": [
       "2:2:20"
      ]
     },
     "execution_count": 26,
     "metadata": {},
     "output_type": "execute_result"
    }
   ],
   "source": [
    "range(stop=20, step=2, length=10)"
   ]
  },
  {
   "cell_type": "code",
   "execution_count": 27,
   "id": "03d1e55a-7063-4dcc-9330-720cd0112f4f",
   "metadata": {},
   "outputs": [
    {
     "data": {
      "text/plain": [
       "100-element LinRange{Float64, Int64}:\n",
       " 10.0,18.9899,27.9798,36.9697,45.9596,…,864.04,873.03,882.02,891.01,900.0"
      ]
     },
     "execution_count": 27,
     "metadata": {},
     "output_type": "execute_result"
    }
   ],
   "source": [
    "LinRange(10, 900, 100)"
   ]
  },
  {
   "cell_type": "code",
   "execution_count": null,
   "id": "f0166e27-8f65-4b89-ab00-aceb24eab013",
   "metadata": {},
   "outputs": [],
   "source": []
  }
 ],
 "metadata": {
  "kernelspec": {
   "display_name": "Julia 1.8.3",
   "language": "julia",
   "name": "julia-1.8"
  },
  "language_info": {
   "file_extension": ".jl",
   "mimetype": "application/julia",
   "name": "julia",
   "version": "1.8.3"
  }
 },
 "nbformat": 4,
 "nbformat_minor": 5
}
