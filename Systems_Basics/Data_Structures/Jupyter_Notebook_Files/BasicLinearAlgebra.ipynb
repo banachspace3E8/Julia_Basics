{
 "cells": [
  {
   "cell_type": "code",
   "execution_count": 1,
   "id": "1d5506bb-b442-46f4-8dcc-7c492dbcd9db",
   "metadata": {},
   "outputs": [],
   "source": [
    "#Shishir Khanal\n",
    "#01/18/2023\n",
    "#Basic Linear Algebra implementation in Julia"
   ]
  },
  {
   "cell_type": "code",
   "execution_count": 2,
   "id": "ede26b39-ad47-45bf-b772-0c6132e3868b",
   "metadata": {},
   "outputs": [],
   "source": [
    "using LinearAlgebra"
   ]
  },
  {
   "cell_type": "code",
   "execution_count": 3,
   "id": "45359a44-1478-4f62-a5cc-e6d6c505dab2",
   "metadata": {},
   "outputs": [
    {
     "data": {
      "text/plain": [
       "3×3 Matrix{Int64}:\n",
       " 1  4  8\n",
       " 2  5  9\n",
       " 3  6  7"
      ]
     },
     "execution_count": 3,
     "metadata": {},
     "output_type": "execute_result"
    }
   ],
   "source": [
    "mat = [1 4 8; 2 5 9; 3 6 7]"
   ]
  },
  {
   "cell_type": "code",
   "execution_count": 4,
   "id": "4884a758-5c9f-498e-8312-f8124a00f176",
   "metadata": {},
   "outputs": [
    {
     "data": {
      "text/plain": [
       "13"
      ]
     },
     "execution_count": 4,
     "metadata": {},
     "output_type": "execute_result"
    }
   ],
   "source": [
    "tr(mat)"
   ]
  },
  {
   "cell_type": "code",
   "execution_count": 5,
   "id": "622aff97-34e2-478f-9be5-f755ca613dda",
   "metadata": {},
   "outputs": [
    {
     "data": {
      "text/plain": [
       "9.0"
      ]
     },
     "execution_count": 5,
     "metadata": {},
     "output_type": "execute_result"
    }
   ],
   "source": [
    "det(mat)"
   ]
  },
  {
   "cell_type": "code",
   "execution_count": 6,
   "id": "d020e1d8-c732-46fe-8349-12b11b41998d",
   "metadata": {},
   "outputs": [
    {
     "data": {
      "text/plain": [
       "3×3 transpose(::Matrix{Int64}) with eltype Int64:\n",
       " 1  2  3\n",
       " 4  5  6\n",
       " 8  9  7"
      ]
     },
     "execution_count": 6,
     "metadata": {},
     "output_type": "execute_result"
    }
   ],
   "source": [
    "transpose(mat)"
   ]
  },
  {
   "cell_type": "code",
   "execution_count": 7,
   "id": "ae08b990-6857-4681-85fb-5ecbecc92690",
   "metadata": {},
   "outputs": [
    {
     "data": {
      "text/plain": [
       "3×3 adjoint(::Matrix{Int64}) with eltype Int64:\n",
       " 1  2  3\n",
       " 4  5  6\n",
       " 8  9  7"
      ]
     },
     "execution_count": 7,
     "metadata": {},
     "output_type": "execute_result"
    }
   ],
   "source": [
    "mat'"
   ]
  },
  {
   "cell_type": "code",
   "execution_count": 8,
   "id": "0de7f682-f34e-4e93-ba74-99d9f18854a2",
   "metadata": {},
   "outputs": [
    {
     "data": {
      "text/plain": [
       "3×3 Matrix{Int64}:\n",
       " 4  2  1\n",
       " 5  0  3\n",
       " 3  2  1"
      ]
     },
     "execution_count": 8,
     "metadata": {},
     "output_type": "execute_result"
    }
   ],
   "source": [
    "mat2 = [4 2 1; 5 0 3; 3 2 1]"
   ]
  },
  {
   "cell_type": "code",
   "execution_count": 10,
   "id": "04019737-465a-46eb-b9cf-f7c423fafc34",
   "metadata": {},
   "outputs": [
    {
     "data": {
      "text/plain": [
       "3×3 Matrix{Int64}:\n",
       " 48  18  21\n",
       " 60  22  26\n",
       " 63  20  28"
      ]
     },
     "execution_count": 10,
     "metadata": {},
     "output_type": "execute_result"
    }
   ],
   "source": [
    "mat * mat2"
   ]
  },
  {
   "cell_type": "code",
   "execution_count": 11,
   "id": "08c9e163-ef1e-450a-8a75-541064518bb8",
   "metadata": {},
   "outputs": [
    {
     "data": {
      "text/plain": [
       "3×3 Matrix{Int64}:\n",
       "  4   8   8\n",
       " 10   0  27\n",
       "  9  12   7"
      ]
     },
     "execution_count": 11,
     "metadata": {},
     "output_type": "execute_result"
    }
   ],
   "source": [
    "#element-wise multiplication\n",
    "mat .* mat2"
   ]
  },
  {
   "cell_type": "code",
   "execution_count": 13,
   "id": "cb1cd620-4d1a-404d-99d1-dc87ff0b69b2",
   "metadata": {},
   "outputs": [
    {
     "data": {
      "text/plain": [
       "0.13157894736842105"
      ]
     },
     "execution_count": 13,
     "metadata": {},
     "output_type": "execute_result"
    }
   ],
   "source": [
    "x = 7.6;\n",
    "y = 1 / x"
   ]
  },
  {
   "cell_type": "code",
   "execution_count": 14,
   "id": "d6636de0-0e62-49cd-a0dd-b530b97064d0",
   "metadata": {},
   "outputs": [
    {
     "data": {
      "text/plain": [
       "3×3 Matrix{Int64}:\n",
       " 1  0  0\n",
       " 0  1  0\n",
       " 0  0  1"
      ]
     },
     "execution_count": 14,
     "metadata": {},
     "output_type": "execute_result"
    }
   ],
   "source": [
    "idt = [1 0 0; 0 1 0; 0 0 1]"
   ]
  },
  {
   "cell_type": "code",
   "execution_count": 15,
   "id": "89e7604f-f963-4f58-816f-b9012c4ad255",
   "metadata": {},
   "outputs": [
    {
     "data": {
      "text/plain": [
       "UniformScaling{Bool}\n",
       "true*I"
      ]
     },
     "execution_count": 15,
     "metadata": {},
     "output_type": "execute_result"
    }
   ],
   "source": [
    "I"
   ]
  },
  {
   "cell_type": "code",
   "execution_count": 17,
   "id": "3d58eb5b-0e70-4972-abab-161ecbbbccb6",
   "metadata": {},
   "outputs": [
    {
     "data": {
      "text/plain": [
       "3×3 Diagonal{Bool, Vector{Bool}}:\n",
       " 1  ⋅  ⋅\n",
       " ⋅  1  ⋅\n",
       " ⋅  ⋅  1"
      ]
     },
     "execution_count": 17,
     "metadata": {},
     "output_type": "execute_result"
    }
   ],
   "source": [
    "I(3)"
   ]
  },
  {
   "cell_type": "code",
   "execution_count": 18,
   "id": "46896343-5ff4-47f1-b217-0fbc618f1613",
   "metadata": {},
   "outputs": [
    {
     "data": {
      "text/plain": [
       "true"
      ]
     },
     "execution_count": 18,
     "metadata": {},
     "output_type": "execute_result"
    }
   ],
   "source": [
    "idt == I(3)"
   ]
  },
  {
   "cell_type": "code",
   "execution_count": 19,
   "id": "3efba4dd-c161-412a-a833-f4b2243ebbc5",
   "metadata": {},
   "outputs": [
    {
     "data": {
      "text/plain": [
       "3×3 Matrix{Float64}:\n",
       " -2.11111    2.22222   -0.444444\n",
       "  1.44444   -1.88889    0.777778\n",
       " -0.333333   0.666667  -0.333333"
      ]
     },
     "execution_count": 19,
     "metadata": {},
     "output_type": "execute_result"
    }
   ],
   "source": [
    "invmat = inv(mat)"
   ]
  },
  {
   "cell_type": "code",
   "execution_count": 20,
   "id": "a9d0b2a7-4ff7-4bc3-8e42-f524f5015381",
   "metadata": {},
   "outputs": [
    {
     "data": {
      "text/plain": [
       "3×3 Matrix{Float64}:\n",
       "  1.0          0.0           0.0\n",
       "  0.0          1.0          -4.44089e-16\n",
       " -8.88178e-16  8.88178e-16   1.0"
      ]
     },
     "execution_count": 20,
     "metadata": {},
     "output_type": "execute_result"
    }
   ],
   "source": [
    "mat * invmat"
   ]
  },
  {
   "cell_type": "code",
   "execution_count": 21,
   "id": "8d9f7c6e-46cc-431f-949d-47ce48f3fb1f",
   "metadata": {},
   "outputs": [
    {
     "data": {
      "text/plain": [
       "2×2 Matrix{Int64}:\n",
       " 1   2\n",
       " 2  -4"
      ]
     },
     "execution_count": 21,
     "metadata": {},
     "output_type": "execute_result"
    }
   ],
   "source": [
    "A = [1 2; 2 -4]"
   ]
  },
  {
   "cell_type": "code",
   "execution_count": 22,
   "id": "a2257335-384c-49a1-925e-cd4bd405e6b5",
   "metadata": {},
   "outputs": [
    {
     "data": {
      "text/plain": [
       "2-element Vector{Int64}:\n",
       " 28\n",
       " -2"
      ]
     },
     "execution_count": 22,
     "metadata": {},
     "output_type": "execute_result"
    }
   ],
   "source": [
    "B = [28; -2]"
   ]
  },
  {
   "cell_type": "code",
   "execution_count": 26,
   "id": "51606dd8-4475-4e38-8fd4-0abeaca72e4b",
   "metadata": {},
   "outputs": [
    {
     "data": {
      "text/plain": [
       "2-element Vector{Float64}:\n",
       " 13.5\n",
       "  7.25"
      ]
     },
     "execution_count": 26,
     "metadata": {},
     "output_type": "execute_result"
    }
   ],
   "source": [
    "# A*X = B\n",
    "X = A\\B"
   ]
  },
  {
   "cell_type": "code",
   "execution_count": 27,
   "id": "273d22ce-a16d-41aa-bd60-a4ce09f3da24",
   "metadata": {},
   "outputs": [
    {
     "data": {
      "text/plain": [
       "true"
      ]
     },
     "execution_count": 27,
     "metadata": {},
     "output_type": "execute_result"
    }
   ],
   "source": [
    "A*X == B"
   ]
  }
 ],
 "metadata": {
  "kernelspec": {
   "display_name": "Julia 1.8.3",
   "language": "julia",
   "name": "julia-1.8"
  },
  "language_info": {
   "file_extension": ".jl",
   "mimetype": "application/julia",
   "name": "julia",
   "version": "1.8.3"
  }
 },
 "nbformat": 4,
 "nbformat_minor": 5
}
