{
 "cells": [
  {
   "cell_type": "code",
   "execution_count": 1,
   "id": "03dc09d9-54c4-4676-b308-a2edbd1abaf8",
   "metadata": {},
   "outputs": [],
   "source": [
    "#Shishir Khanal\n",
    "#01/17/2023\n",
    "#Tuples in Julia"
   ]
  },
  {
   "cell_type": "code",
   "execution_count": 2,
   "id": "78fa6bb8-4a2e-4304-ae02-dbe28c25455c",
   "metadata": {},
   "outputs": [
    {
     "data": {
      "text/plain": [
       "(3, \"Julia\", 2022, 4.12)"
      ]
     },
     "execution_count": 2,
     "metadata": {},
     "output_type": "execute_result"
    }
   ],
   "source": [
    "tpl1 = (3, \"Julia\", 2022, 4.12)"
   ]
  },
  {
   "cell_type": "code",
   "execution_count": 3,
   "id": "a351a719-c730-4989-8d29-4ad3cec47eeb",
   "metadata": {},
   "outputs": [
    {
     "data": {
      "text/plain": [
       "Tuple{Int64, String, Int64, Float64}"
      ]
     },
     "execution_count": 3,
     "metadata": {},
     "output_type": "execute_result"
    }
   ],
   "source": [
    "typeof(tpl1)"
   ]
  },
  {
   "cell_type": "code",
   "execution_count": 4,
   "id": "120406e6-df6a-481b-9ac7-df479d38337d",
   "metadata": {},
   "outputs": [
    {
     "data": {
      "text/plain": [
       "(3, \"Julia\", 2022, 4.12)"
      ]
     },
     "execution_count": 4,
     "metadata": {},
     "output_type": "execute_result"
    }
   ],
   "source": [
    "tpl2 = tuple(3, \"Julia\", 2022, 4.12)"
   ]
  },
  {
   "cell_type": "code",
   "execution_count": 5,
   "id": "730a6e7e-2f39-494b-8b7d-85d56d8e4e4f",
   "metadata": {},
   "outputs": [
    {
     "data": {
      "text/plain": [
       "true"
      ]
     },
     "execution_count": 5,
     "metadata": {},
     "output_type": "execute_result"
    }
   ],
   "source": [
    "tpl1 == tpl2"
   ]
  },
  {
   "cell_type": "code",
   "execution_count": 6,
   "id": "917366a2-04bd-4e00-b6f4-d5687a10077b",
   "metadata": {},
   "outputs": [
    {
     "data": {
      "text/plain": [
       "Any"
      ]
     },
     "execution_count": 6,
     "metadata": {},
     "output_type": "execute_result"
    }
   ],
   "source": [
    "supertype(Tuple)"
   ]
  },
  {
   "cell_type": "code",
   "execution_count": 7,
   "id": "29812f6c-dd29-43e0-b022-22a41379adcf",
   "metadata": {},
   "outputs": [
    {
     "data": {
      "text/plain": [
       "(4, 9, 3.5, 4.5)"
      ]
     },
     "execution_count": 7,
     "metadata": {},
     "output_type": "execute_result"
    }
   ],
   "source": [
    "tpl2 = (4, 9, 3.5, 4.5)"
   ]
  },
  {
   "cell_type": "code",
   "execution_count": 8,
   "id": "00d340d8-ae79-485d-860a-f543dd6c79ae",
   "metadata": {},
   "outputs": [
    {
     "data": {
      "text/plain": [
       "Tuple{Int64, Int64, Float64, Float64}"
      ]
     },
     "execution_count": 8,
     "metadata": {},
     "output_type": "execute_result"
    }
   ],
   "source": [
    "typeof(tpl2)"
   ]
  },
  {
   "cell_type": "code",
   "execution_count": 9,
   "id": "426a01e5-fa73-4e4d-bd63-9c4aec620510",
   "metadata": {},
   "outputs": [
    {
     "data": {
      "text/plain": [
       "(\"Julia\", 12, 10//3)"
      ]
     },
     "execution_count": 9,
     "metadata": {},
     "output_type": "execute_result"
    }
   ],
   "source": [
    "tpl3 = \"Julia\", 5+7, 10//3"
   ]
  },
  {
   "cell_type": "code",
   "execution_count": 10,
   "id": "b5fb8b0f-2580-4b97-99f6-0277bf609cfc",
   "metadata": {},
   "outputs": [
    {
     "data": {
      "text/plain": [
       "Tuple{String, Int64, Rational{Int64}}"
      ]
     },
     "execution_count": 10,
     "metadata": {},
     "output_type": "execute_result"
    }
   ],
   "source": [
    "typeof(tpl3)"
   ]
  },
  {
   "cell_type": "code",
   "execution_count": 13,
   "id": "a760dceb-87c0-4cc5-bfab-b4e39947fb84",
   "metadata": {},
   "outputs": [
    {
     "data": {
      "text/plain": [
       "6"
      ]
     },
     "execution_count": 13,
     "metadata": {},
     "output_type": "execute_result"
    }
   ],
   "source": [
    "t = (6)"
   ]
  },
  {
   "cell_type": "code",
   "execution_count": 14,
   "id": "ffba883b-7270-458f-b6d4-abb8c3d6fc7f",
   "metadata": {},
   "outputs": [
    {
     "data": {
      "text/plain": [
       "Int64"
      ]
     },
     "execution_count": 14,
     "metadata": {},
     "output_type": "execute_result"
    }
   ],
   "source": [
    "typeof(t)"
   ]
  },
  {
   "cell_type": "code",
   "execution_count": 15,
   "id": "68ad4a9b-91c4-4f8b-9a1e-d0312964fc4f",
   "metadata": {},
   "outputs": [
    {
     "data": {
      "text/plain": [
       "(6,)"
      ]
     },
     "execution_count": 15,
     "metadata": {},
     "output_type": "execute_result"
    }
   ],
   "source": [
    "t = (6, ) #t = 6"
   ]
  },
  {
   "cell_type": "code",
   "execution_count": 16,
   "id": "3d612618-8130-4477-8ac4-df2a4eea30df",
   "metadata": {},
   "outputs": [
    {
     "data": {
      "text/plain": [
       "3"
      ]
     },
     "execution_count": 16,
     "metadata": {},
     "output_type": "execute_result"
    }
   ],
   "source": [
    "tpl1[1]"
   ]
  },
  {
   "cell_type": "code",
   "execution_count": 17,
   "id": "29bfa64b-de7e-4913-b5d4-08f15c896a9c",
   "metadata": {},
   "outputs": [
    {
     "data": {
      "text/plain": [
       "\"Julia\""
      ]
     },
     "execution_count": 17,
     "metadata": {},
     "output_type": "execute_result"
    }
   ],
   "source": [
    "tpl1[2]"
   ]
  },
  {
   "cell_type": "code",
   "execution_count": 20,
   "id": "c1e5c0d1-b16d-487d-848b-2fa4cd57e931",
   "metadata": {},
   "outputs": [
    {
     "data": {
      "text/plain": [
       "(\"Julia\", 2022)"
      ]
     },
     "execution_count": 20,
     "metadata": {},
     "output_type": "execute_result"
    }
   ],
   "source": [
    "tpl1[2:3]"
   ]
  },
  {
   "cell_type": "code",
   "execution_count": 21,
   "id": "e1aa8612-c797-4678-b229-2abf3993b6cf",
   "metadata": {},
   "outputs": [
    {
     "data": {
      "text/plain": [
       "(name = \"Julia\", year = 2012, version = 2017)"
      ]
     },
     "execution_count": 21,
     "metadata": {},
     "output_type": "execute_result"
    }
   ],
   "source": [
    "tpl = (name=\"Julia\", year=2012, version=2017)"
   ]
  },
  {
   "cell_type": "code",
   "execution_count": 22,
   "id": "86a59b86-1424-4424-aeb3-6eef46b489a0",
   "metadata": {},
   "outputs": [
    {
     "data": {
      "text/plain": [
       "\"Julia\""
      ]
     },
     "execution_count": 22,
     "metadata": {},
     "output_type": "execute_result"
    }
   ],
   "source": [
    "tpl[1]"
   ]
  },
  {
   "cell_type": "code",
   "execution_count": 23,
   "id": "805734dd-5bad-4ef4-86bd-5b7f5a36d2a3",
   "metadata": {},
   "outputs": [
    {
     "data": {
      "text/plain": [
       "2017"
      ]
     },
     "execution_count": 23,
     "metadata": {},
     "output_type": "execute_result"
    }
   ],
   "source": [
    "tpl.version"
   ]
  },
  {
   "cell_type": "code",
   "execution_count": 25,
   "id": "f68af54d-5329-4248-b7d7-f47c7299e9f7",
   "metadata": {},
   "outputs": [
    {
     "data": {
      "text/plain": [
       "(π, ℯ, φ)"
      ]
     },
     "execution_count": 25,
     "metadata": {},
     "output_type": "execute_result"
    }
   ],
   "source": [
    "mathConsts = (MathConstants.pi, MathConstants.e, MathConstants.golden)"
   ]
  },
  {
   "cell_type": "code",
   "execution_count": 27,
   "id": "c6aa7dcd-e1a3-4cef-b27f-0aab5a3a90c5",
   "metadata": {},
   "outputs": [
    {
     "data": {
      "text/plain": [
       "(π, ℯ, φ)"
      ]
     },
     "execution_count": 27,
     "metadata": {},
     "output_type": "execute_result"
    }
   ],
   "source": [
    "p, e, g = mathConsts"
   ]
  },
  {
   "cell_type": "code",
   "execution_count": 28,
   "id": "26c9af80-9d90-4c6d-87ac-a5b7c917980e",
   "metadata": {},
   "outputs": [
    {
     "data": {
      "text/plain": [
       "π = 3.1415926535897..."
      ]
     },
     "execution_count": 28,
     "metadata": {},
     "output_type": "execute_result"
    }
   ],
   "source": [
    "p"
   ]
  },
  {
   "cell_type": "code",
   "execution_count": 29,
   "id": "36e5b24f-801b-4998-84b5-9a148528c214",
   "metadata": {},
   "outputs": [
    {
     "data": {
      "text/plain": [
       "ℯ = 2.7182818284590..."
      ]
     },
     "execution_count": 29,
     "metadata": {},
     "output_type": "execute_result"
    }
   ],
   "source": [
    "e"
   ]
  },
  {
   "cell_type": "code",
   "execution_count": 30,
   "id": "5a827aaf-105b-4da0-9a44-d3cdede769d6",
   "metadata": {},
   "outputs": [
    {
     "data": {
      "text/plain": [
       "φ = 1.6180339887498..."
      ]
     },
     "execution_count": 30,
     "metadata": {},
     "output_type": "execute_result"
    }
   ],
   "source": [
    "g"
   ]
  },
  {
   "cell_type": "code",
   "execution_count": 31,
   "id": "ba444f3f-9bd6-4f86-84ef-8242d4ee24ae",
   "metadata": {},
   "outputs": [
    {
     "data": {
      "text/plain": [
       "(3, 4, 5, 6)"
      ]
     },
     "execution_count": 31,
     "metadata": {},
     "output_type": "execute_result"
    }
   ],
   "source": [
    "nt = (3, 4, 5, 6)"
   ]
  },
  {
   "cell_type": "code",
   "execution_count": 32,
   "id": "02e1c21e-ab6f-4a14-b454-7ab5cc24289e",
   "metadata": {},
   "outputs": [
    {
     "data": {
      "text/plain": [
       "NTuple{4, Int64}"
      ]
     },
     "execution_count": 32,
     "metadata": {},
     "output_type": "execute_result"
    }
   ],
   "source": [
    "typeof(nt)"
   ]
  },
  {
   "cell_type": "code",
   "execution_count": 34,
   "id": "8ad8585d-e2c2-4206-9fe3-b82e05c83754",
   "metadata": {},
   "outputs": [
    {
     "data": {
      "text/plain": [
       "(1, 8, 27, 64, 125)"
      ]
     },
     "execution_count": 34,
     "metadata": {},
     "output_type": "execute_result"
    }
   ],
   "source": [
    "ntuple(x -> x^3, 5)\n",
    "#Cube of first 5 integers"
   ]
  },
  {
   "cell_type": "code",
   "execution_count": 35,
   "id": "50d3bd44-22d1-4f0b-96cf-758941635579",
   "metadata": {},
   "outputs": [
    {
     "data": {
      "text/plain": [
       "true"
      ]
     },
     "execution_count": 35,
     "metadata": {},
     "output_type": "execute_result"
    }
   ],
   "source": [
    "in(2022, tpl1)"
   ]
  },
  {
   "cell_type": "code",
   "execution_count": 36,
   "id": "66cd3f8d-4189-4754-80d3-78dd523e1103",
   "metadata": {},
   "outputs": [
    {
     "data": {
      "text/plain": [
       "false"
      ]
     },
     "execution_count": 36,
     "metadata": {},
     "output_type": "execute_result"
    }
   ],
   "source": [
    "in(\"Python\", tpl1)"
   ]
  },
  {
   "cell_type": "code",
   "execution_count": 37,
   "id": "38ec12f8-1980-46ef-80cb-a060d52df7fb",
   "metadata": {},
   "outputs": [
    {
     "data": {
      "text/plain": [
       "true"
      ]
     },
     "execution_count": 37,
     "metadata": {},
     "output_type": "execute_result"
    }
   ],
   "source": [
    "2022 ∈ tpl1 #\\in<TAB>"
   ]
  },
  {
   "cell_type": "code",
   "execution_count": 38,
   "id": "ebbba9e8-f7aa-4706-b013-2c7162c8c95a",
   "metadata": {},
   "outputs": [
    {
     "data": {
      "text/plain": [
       "false"
      ]
     },
     "execution_count": 38,
     "metadata": {},
     "output_type": "execute_result"
    }
   ],
   "source": [
    "\"C++\" ∈ tpl1"
   ]
  },
  {
   "cell_type": "code",
   "execution_count": 39,
   "id": "da89fe5c-c116-4a19-8824-4cc8fd25c6bb",
   "metadata": {},
   "outputs": [
    {
     "data": {
      "text/plain": [
       "true"
      ]
     },
     "execution_count": 39,
     "metadata": {},
     "output_type": "execute_result"
    }
   ],
   "source": [
    "1999 ∉ tpl1"
   ]
  },
  {
   "cell_type": "code",
   "execution_count": 40,
   "id": "52f14562-a26c-413f-9b24-c2a83cbf645a",
   "metadata": {},
   "outputs": [
    {
     "data": {
      "text/plain": [
       "false"
      ]
     },
     "execution_count": 40,
     "metadata": {},
     "output_type": "execute_result"
    }
   ],
   "source": [
    "2022 ∉ tpl1"
   ]
  }
 ],
 "metadata": {
  "kernelspec": {
   "display_name": "Julia 1.8.3",
   "language": "julia",
   "name": "julia-1.8"
  },
  "language_info": {
   "file_extension": ".jl",
   "mimetype": "application/julia",
   "name": "julia",
   "version": "1.8.3"
  }
 },
 "nbformat": 4,
 "nbformat_minor": 5
}
