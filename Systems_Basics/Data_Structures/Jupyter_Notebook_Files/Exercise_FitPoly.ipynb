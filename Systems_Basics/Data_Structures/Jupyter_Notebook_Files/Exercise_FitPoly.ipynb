{
 "cells": [
  {
   "cell_type": "code",
   "execution_count": 6,
   "id": "3eeb03cd-8ff7-40f7-ae13-f351a86bae95",
   "metadata": {},
   "outputs": [],
   "source": [
    "#Shishir Khanal\n",
    "#01/18/2023\n",
    "#Exercise(Least Squares) on Data Structures in Julia"
   ]
  },
  {
   "cell_type": "code",
   "execution_count": 2,
   "id": "c3dca0d8-2bea-471f-b962-72c96b9bb8aa",
   "metadata": {},
   "outputs": [
    {
     "data": {
      "text/plain": [
       "100×3 Matrix{Float64}:\n",
       " 0.645555    0.278725   0.676832\n",
       " 0.917586    0.836257   0.0722193\n",
       " 0.324961    0.508243   0.231942\n",
       " 0.626889    0.733782   0.263416\n",
       " 0.162415    0.540881   0.802692\n",
       " 0.864046    0.857336   0.424188\n",
       " 0.982276    0.107114   0.550819\n",
       " 0.647429    0.233695   0.970663\n",
       " 0.275664    0.907817   0.7797\n",
       " 0.806147    0.350307   0.518254\n",
       " 0.173295    0.0727727  0.806938\n",
       " 0.449614    0.758334   0.512002\n",
       " 0.682026    0.599902   0.111166\n",
       " ⋮                      \n",
       " 0.00452301  0.658232   0.341736\n",
       " 0.504266    0.604683   0.587532\n",
       " 0.0904169   0.958394   0.854111\n",
       " 0.627482    0.812867   0.824624\n",
       " 0.167755    0.123015   0.23022\n",
       " 0.765772    0.658389   0.111748\n",
       " 0.634456    0.850367   0.899189\n",
       " 0.393277    0.0907953  0.223599\n",
       " 0.208696    0.751643   0.610977\n",
       " 0.0479988   0.582641   0.809821\n",
       " 0.325761    0.497833   0.618981\n",
       " 0.980687    0.4967     0.746447"
      ]
     },
     "execution_count": 2,
     "metadata": {},
     "output_type": "execute_result"
    }
   ],
   "source": [
    "X = rand(Float64, (100,3))"
   ]
  },
  {
   "cell_type": "code",
   "execution_count": 3,
   "id": "7767b51d-23de-4b5e-afa7-bb79f4620eac",
   "metadata": {},
   "outputs": [
    {
     "data": {
      "text/plain": [
       "100-element Vector{Float64}:\n",
       " 0.7114905521394878\n",
       " 0.9797393312063981\n",
       " 0.7584983963182361\n",
       " 0.19777078138573667\n",
       " 0.6479671393787073\n",
       " 0.8271434588204816\n",
       " 0.6749355396152309\n",
       " 0.527199708000994\n",
       " 0.6920467266271347\n",
       " 0.10280310922497293\n",
       " 0.5744075944234872\n",
       " 0.8575392806691244\n",
       " 0.5527209141989101\n",
       " ⋮\n",
       " 0.8954980705530027\n",
       " 0.34717862545533895\n",
       " 0.7057084802071787\n",
       " 0.8401519229205623\n",
       " 0.43394504012668145\n",
       " 0.07897491173893167\n",
       " 0.7875447788579649\n",
       " 0.002608134057079603\n",
       " 0.6355316776003204\n",
       " 0.921877195021126\n",
       " 0.7494147471084944\n",
       " 0.45481128180454067"
      ]
     },
     "execution_count": 3,
     "metadata": {},
     "output_type": "execute_result"
    }
   ],
   "source": [
    "Y = rand(100)"
   ]
  },
  {
   "cell_type": "code",
   "execution_count": 4,
   "id": "1c26834f-12bb-481a-a5ca-676195cc928c",
   "metadata": {},
   "outputs": [
    {
     "data": {
      "text/plain": [
       "3-element Vector{Float64}:\n",
       " 0.26430545362987706\n",
       " 0.24314716115809493\n",
       " 0.36198672220663985"
      ]
     },
     "execution_count": 4,
     "metadata": {},
     "output_type": "execute_result"
    }
   ],
   "source": [
    "β = (X' * X)\\X'*Y"
   ]
  },
  {
   "cell_type": "code",
   "execution_count": 5,
   "id": "3fc6d677-0eab-43ac-9f6b-819c50f5991e",
   "metadata": {},
   "outputs": [
    {
     "data": {
      "text/plain": [
       "3-element Vector{Float64}:\n",
       " 0.26430545362987745\n",
       " 0.24314716115809443\n",
       " 0.36198672220663974"
      ]
     },
     "execution_count": 5,
     "metadata": {},
     "output_type": "execute_result"
    }
   ],
   "source": [
    "β = inv(X'X)X'Y"
   ]
  },
  {
   "cell_type": "code",
   "execution_count": null,
   "id": "f1131350-ebbe-46e9-8eee-1f467f96602d",
   "metadata": {},
   "outputs": [],
   "source": []
  }
 ],
 "metadata": {
  "kernelspec": {
   "display_name": "Julia 1.8.3",
   "language": "julia",
   "name": "julia-1.8"
  },
  "language_info": {
   "file_extension": ".jl",
   "mimetype": "application/julia",
   "name": "julia",
   "version": "1.8.3"
  }
 },
 "nbformat": 4,
 "nbformat_minor": 5
}
