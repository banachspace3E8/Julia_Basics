{
 "cells": [
  {
   "cell_type": "code",
   "execution_count": 2,
   "id": "b9404083-c0e2-4d3e-bf3e-188cbd5a73fc",
   "metadata": {},
   "outputs": [],
   "source": [
    "#Shishir Khanal\n",
    "#01/17/2023\n",
    "#Vectors and Matrices in Julia"
   ]
  },
  {
   "cell_type": "code",
   "execution_count": 3,
   "id": "be1e2670-7c36-42b3-b10b-57584d5d2344",
   "metadata": {},
   "outputs": [
    {
     "data": {
      "text/plain": [
       "5-element Vector{Int64}:\n",
       " 1\n",
       " 2\n",
       " 3\n",
       " 4\n",
       " 5"
      ]
     },
     "execution_count": 3,
     "metadata": {},
     "output_type": "execute_result"
    }
   ],
   "source": [
    "#column vector\n",
    "cvec = [1, 2, 3, 4, 5]"
   ]
  },
  {
   "cell_type": "code",
   "execution_count": 5,
   "id": "401a62bb-d126-482d-9cff-8e35e17a10cf",
   "metadata": {},
   "outputs": [
    {
     "data": {
      "text/plain": [
       "1×5 Matrix{Int64}:\n",
       " 1  2  3  4  5"
      ]
     },
     "execution_count": 5,
     "metadata": {},
     "output_type": "execute_result"
    }
   ],
   "source": [
    "#column vector\n",
    "rvec = [1 2 3 4 5]"
   ]
  },
  {
   "cell_type": "code",
   "execution_count": 6,
   "id": "3630c5da-83ef-43e1-904b-c0539619cb13",
   "metadata": {},
   "outputs": [
    {
     "data": {
      "text/plain": [
       "4×3 Matrix{Int64}:\n",
       "  1   2   3\n",
       "  4   5   6\n",
       "  7   8   9\n",
       " 10  11  12"
      ]
     },
     "execution_count": 6,
     "metadata": {},
     "output_type": "execute_result"
    }
   ],
   "source": [
    "mat = [1 2 3; 4 5 6; 7 8 9; 10 11 12]"
   ]
  },
  {
   "cell_type": "code",
   "execution_count": 8,
   "id": "0f911898-0acd-46e1-9d5c-69a404b838b4",
   "metadata": {},
   "outputs": [
    {
     "data": {
      "text/plain": [
       "5-element Vector{Int64}:\n",
       " 1\n",
       " 2\n",
       " 3\n",
       " 4\n",
       " 5"
      ]
     },
     "execution_count": 8,
     "metadata": {},
     "output_type": "execute_result"
    }
   ],
   "source": [
    "#Column vector\n",
    "#comma and semicolon both create a column vector but they cant beused simultaneously\n",
    "cvec = [1; 2; 3; 4; 5]"
   ]
  },
  {
   "cell_type": "code",
   "execution_count": 9,
   "id": "035e9d50-96e6-4707-ac6a-d66ebd562345",
   "metadata": {},
   "outputs": [
    {
     "data": {
      "text/plain": [
       "1"
      ]
     },
     "execution_count": 9,
     "metadata": {},
     "output_type": "execute_result"
    }
   ],
   "source": [
    "ndims(cvec)"
   ]
  },
  {
   "cell_type": "code",
   "execution_count": 10,
   "id": "ed6b025d-230b-4119-9c18-76f5cc951242",
   "metadata": {},
   "outputs": [
    {
     "data": {
      "text/plain": [
       "2"
      ]
     },
     "execution_count": 10,
     "metadata": {},
     "output_type": "execute_result"
    }
   ],
   "source": [
    "#Number of Dimensions\n",
    "ndims(rvec)"
   ]
  },
  {
   "cell_type": "code",
   "execution_count": 11,
   "id": "eb8b9cdb-3162-49fb-95e7-01354f4cc6c6",
   "metadata": {},
   "outputs": [
    {
     "data": {
      "text/plain": [
       "2"
      ]
     },
     "execution_count": 11,
     "metadata": {},
     "output_type": "execute_result"
    }
   ],
   "source": [
    "ndims(mat)"
   ]
  },
  {
   "cell_type": "code",
   "execution_count": 13,
   "id": "b834becf-bf03-4758-b880-e7d6da3f5f4e",
   "metadata": {},
   "outputs": [
    {
     "data": {
      "text/plain": [
       "(4, 3)"
      ]
     },
     "execution_count": 13,
     "metadata": {},
     "output_type": "execute_result"
    }
   ],
   "source": [
    "#Length of rows and columns\n",
    "size(mat)"
   ]
  },
  {
   "cell_type": "code",
   "execution_count": 14,
   "id": "3865f529-3416-46aa-887c-717274017d36",
   "metadata": {},
   "outputs": [
    {
     "data": {
      "text/plain": [
       "4"
      ]
     },
     "execution_count": 14,
     "metadata": {},
     "output_type": "execute_result"
    }
   ],
   "source": [
    "#length of row\n",
    "size(mat, 1)"
   ]
  },
  {
   "cell_type": "code",
   "execution_count": 15,
   "id": "59409e17-7caa-4817-9858-f72b6c4cc8fd",
   "metadata": {},
   "outputs": [
    {
     "data": {
      "text/plain": [
       "3"
      ]
     },
     "execution_count": 15,
     "metadata": {},
     "output_type": "execute_result"
    }
   ],
   "source": [
    "#length of column\n",
    "size(mat, 2)"
   ]
  },
  {
   "cell_type": "code",
   "execution_count": 16,
   "id": "ecda3dbe-bc56-4330-8f37-e126382611ea",
   "metadata": {},
   "outputs": [
    {
     "data": {
      "text/plain": [
       "4×3 Matrix{Int64}:\n",
       "  1   2   3\n",
       "  4   5   6\n",
       "  7   8   9\n",
       " 10  11  12"
      ]
     },
     "execution_count": 16,
     "metadata": {},
     "output_type": "execute_result"
    }
   ],
   "source": [
    "mat"
   ]
  },
  {
   "cell_type": "code",
   "execution_count": 18,
   "id": "7a18e297-4c46-471c-9841-b4e1fec5fc7c",
   "metadata": {},
   "outputs": [
    {
     "data": {
      "text/plain": [
       "6"
      ]
     },
     "execution_count": 18,
     "metadata": {},
     "output_type": "execute_result"
    }
   ],
   "source": [
    "#access element at row-2 and column-3\n",
    "mat[2, 3]"
   ]
  },
  {
   "cell_type": "code",
   "execution_count": 19,
   "id": "abcf8e6e-9142-4604-a5aa-3f749d71f892",
   "metadata": {},
   "outputs": [
    {
     "data": {
      "text/plain": [
       "12"
      ]
     },
     "execution_count": 19,
     "metadata": {},
     "output_type": "execute_result"
    }
   ],
   "source": [
    "mat[end, end]"
   ]
  },
  {
   "cell_type": "code",
   "execution_count": 20,
   "id": "e354b0f6-4a77-4dcc-b5f3-7207ebd3ee9a",
   "metadata": {},
   "outputs": [
    {
     "data": {
      "text/plain": [
       "7"
      ]
     },
     "execution_count": 20,
     "metadata": {},
     "output_type": "execute_result"
    }
   ],
   "source": [
    "mat[3]"
   ]
  },
  {
   "cell_type": "code",
   "execution_count": 21,
   "id": "d3e49bc8-d5cb-4d3b-9c6f-9665058d9fa0",
   "metadata": {},
   "outputs": [
    {
     "data": {
      "text/plain": [
       "2"
      ]
     },
     "execution_count": 21,
     "metadata": {},
     "output_type": "execute_result"
    }
   ],
   "source": [
    "mat[5]"
   ]
  },
  {
   "cell_type": "code",
   "execution_count": 22,
   "id": "ba7755ac-4d20-48ae-8161-31fc36f32f3a",
   "metadata": {},
   "outputs": [
    {
     "data": {
      "text/plain": [
       "3×2 Matrix{Int64}:\n",
       "  5   6\n",
       "  8   9\n",
       " 11  12"
      ]
     },
     "execution_count": 22,
     "metadata": {},
     "output_type": "execute_result"
    }
   ],
   "source": [
    "mat[2:4,2:3]"
   ]
  },
  {
   "cell_type": "code",
   "execution_count": 23,
   "id": "fe58b234-d1f3-4bd1-8195-9a3316b5739a",
   "metadata": {},
   "outputs": [
    {
     "data": {
      "text/plain": [
       "3-element Vector{Int64}:\n",
       " 4\n",
       " 5\n",
       " 6"
      ]
     },
     "execution_count": 23,
     "metadata": {},
     "output_type": "execute_result"
    }
   ],
   "source": [
    "mat[2, :]"
   ]
  },
  {
   "cell_type": "code",
   "execution_count": 26,
   "id": "1c4b10dc-7be4-483d-8c54-a5687640d62f",
   "metadata": {},
   "outputs": [
    {
     "data": {
      "text/plain": [
       "5-element Vector{Int64}:\n",
       " 11\n",
       " 12\n",
       " 13\n",
       " 14\n",
       " 15"
      ]
     },
     "execution_count": 26,
     "metadata": {},
     "output_type": "execute_result"
    }
   ],
   "source": [
    "cvec1 = [1, 2, 3, 4, 5]\n",
    "cvec2 = [6, 7, 8, 9, 10]\n",
    "cvec3 = [11, 12, 13, 14, 15]"
   ]
  },
  {
   "cell_type": "code",
   "execution_count": 29,
   "id": "a0dd2900-8db8-4c83-b95c-b0c8b041c242",
   "metadata": {},
   "outputs": [
    {
     "data": {
      "text/plain": [
       "15-element Vector{Int64}:\n",
       "  1\n",
       "  2\n",
       "  3\n",
       "  4\n",
       "  5\n",
       "  6\n",
       "  7\n",
       "  8\n",
       "  9\n",
       " 10\n",
       " 11\n",
       " 12\n",
       " 13\n",
       " 14\n",
       " 15"
      ]
     },
     "execution_count": 29,
     "metadata": {},
     "output_type": "execute_result"
    }
   ],
   "source": [
    "#vertical concatenation\n",
    "vcat(cvec1, cvec2, cvec3)"
   ]
  },
  {
   "cell_type": "code",
   "execution_count": 35,
   "id": "b8cb0471-8125-49b1-bd9b-6dcab02fe12d",
   "metadata": {},
   "outputs": [
    {
     "data": {
      "text/plain": [
       "3-element Vector{Vector{Int64}}:\n",
       " [1, 2, 3, 4, 5]\n",
       " [6, 7, 8, 9, 10]\n",
       " [11, 12, 13, 14, 15]"
      ]
     },
     "execution_count": 35,
     "metadata": {},
     "output_type": "execute_result"
    }
   ],
   "source": [
    "#Returns array\n",
    "[cvec1, cvec2, cvec3]"
   ]
  },
  {
   "cell_type": "code",
   "execution_count": 32,
   "id": "7069b3e4-98fb-4a7a-9146-3ba10853cea5",
   "metadata": {},
   "outputs": [
    {
     "data": {
      "text/plain": [
       "5×3 Matrix{Int64}:\n",
       " 1   6  11\n",
       " 2   7  12\n",
       " 3   8  13\n",
       " 4   9  14\n",
       " 5  10  15"
      ]
     },
     "execution_count": 32,
     "metadata": {},
     "output_type": "execute_result"
    }
   ],
   "source": [
    "#Horizontal concatenation, FYI: Lengths of element vectors should be same\n",
    "hcat(cvec1, cvec2, cvec3)"
   ]
  },
  {
   "cell_type": "code",
   "execution_count": 33,
   "id": "b2e13e18-73dd-4d65-b64b-b1d293be567c",
   "metadata": {},
   "outputs": [
    {
     "data": {
      "text/plain": [
       "1×5 Matrix{Int64}:\n",
       " 11  12  13  14  15"
      ]
     },
     "execution_count": 33,
     "metadata": {},
     "output_type": "execute_result"
    }
   ],
   "source": [
    "rvec1 = [1 2 3 4 5]\n",
    "rvec2 = [6 7 8 9 10]\n",
    "rvec3 = [11 12 13 14 15]"
   ]
  },
  {
   "cell_type": "code",
   "execution_count": 34,
   "id": "912ad367-e08d-4287-b6de-8c7e9f72ec57",
   "metadata": {},
   "outputs": [
    {
     "data": {
      "text/plain": [
       "1×15 Matrix{Int64}:\n",
       " 1  2  3  4  5  6  7  8  9  10  11  12  13  14  15"
      ]
     },
     "execution_count": 34,
     "metadata": {},
     "output_type": "execute_result"
    }
   ],
   "source": [
    "hcat(rvec1, rvec2, rvec3)"
   ]
  },
  {
   "cell_type": "code",
   "execution_count": 36,
   "id": "e963bb27-81da-4e21-a11d-0e258db67912",
   "metadata": {},
   "outputs": [
    {
     "data": {
      "text/plain": [
       "3×5 Matrix{Int64}:\n",
       "  1   2   3   4   5\n",
       "  6   7   8   9  10\n",
       " 11  12  13  14  15"
      ]
     },
     "execution_count": 36,
     "metadata": {},
     "output_type": "execute_result"
    }
   ],
   "source": [
    "[rvec1; rvec2; rvec3]"
   ]
  },
  {
   "cell_type": "code",
   "execution_count": 37,
   "id": "aafab24e-590b-41db-8fd8-2ff77d3bd7b7",
   "metadata": {},
   "outputs": [
    {
     "data": {
      "text/plain": [
       "1×15 Matrix{Int64}:\n",
       " 1  2  3  4  5  6  7  8  9  10  11  12  13  14  15"
      ]
     },
     "execution_count": 37,
     "metadata": {},
     "output_type": "execute_result"
    }
   ],
   "source": [
    "[rvec1 rvec2 rvec3]"
   ]
  },
  {
   "cell_type": "code",
   "execution_count": 39,
   "id": "cce5e9c4-a4b5-494e-a9be-22dee7ee43f8",
   "metadata": {},
   "outputs": [
    {
     "data": {
      "text/plain": [
       "4×3 Matrix{Int64}:\n",
       "  1   2   3\n",
       "  4   5   6\n",
       " 11  12  13\n",
       " 14  15  16"
      ]
     },
     "execution_count": 39,
     "metadata": {},
     "output_type": "execute_result"
    }
   ],
   "source": [
    "m1 =[1 2 3; 4 5 6]\n",
    "m2 = [11 12 13; 14 15 16]\n",
    "mver = [m1; m2]"
   ]
  },
  {
   "cell_type": "code",
   "execution_count": 40,
   "id": "795c63a5-fe60-4f45-bee6-9ce93ecc3e7f",
   "metadata": {},
   "outputs": [
    {
     "data": {
      "text/plain": [
       "2×6 Matrix{Int64}:\n",
       " 1  2  3  11  12  13\n",
       " 4  5  6  14  15  16"
      ]
     },
     "execution_count": 40,
     "metadata": {},
     "output_type": "execute_result"
    }
   ],
   "source": [
    "mhor = [m1 m2]"
   ]
  },
  {
   "cell_type": "code",
   "execution_count": 41,
   "id": "75fa02d0-6397-4164-ae21-45f4dae3cf82",
   "metadata": {},
   "outputs": [
    {
     "data": {
      "text/plain": [
       "2×3 Matrix{Any}:\n",
       " #undef  #undef  #undef\n",
       " #undef  #undef  #undef"
      ]
     },
     "execution_count": 41,
     "metadata": {},
     "output_type": "execute_result"
    }
   ],
   "source": [
    "emptymt = Matrix(undef, 2, 3)"
   ]
  },
  {
   "cell_type": "code",
   "execution_count": 42,
   "id": "a0b5549d-9b68-48d1-a936-349c82caa102",
   "metadata": {},
   "outputs": [
    {
     "data": {
      "text/plain": [
       "2×3 Matrix{Any}:\n",
       " #undef  #undef  #undef\n",
       " #undef  #undef  #undef"
      ]
     },
     "execution_count": 42,
     "metadata": {},
     "output_type": "execute_result"
    }
   ],
   "source": [
    "Matrix{Any}(undef, 2, 3)"
   ]
  },
  {
   "cell_type": "code",
   "execution_count": 43,
   "id": "998a423d-1f08-4d47-ba10-c3318f272381",
   "metadata": {},
   "outputs": [
    {
     "data": {
      "text/plain": [
       "3×2 Matrix{Float64}:\n",
       " 0.0          0.0\n",
       " 6.9116e-310  6.9116e-310\n",
       " 6.9116e-310  6.9116e-310"
      ]
     },
     "execution_count": 43,
     "metadata": {},
     "output_type": "execute_result"
    }
   ],
   "source": [
    "Matrix{Float64}(undef, 3, 2)"
   ]
  },
  {
   "cell_type": "code",
   "execution_count": 44,
   "id": "34dd5bcd-522b-472d-863d-cc21405259cf",
   "metadata": {},
   "outputs": [
    {
     "data": {
      "text/plain": [
       "3×4 Matrix{Union{Int64, String}}:\n",
       " #undef  #undef  #undef  #undef\n",
       " #undef  #undef  #undef  #undef\n",
       " #undef  #undef  #undef  #undef"
      ]
     },
     "execution_count": 44,
     "metadata": {},
     "output_type": "execute_result"
    }
   ],
   "source": [
    "mat = Matrix{Union{Int64, String}}(undef, 3, 4)"
   ]
  },
  {
   "cell_type": "code",
   "execution_count": 46,
   "id": "e0db9b4f-3e07-41e8-93bd-8c29858f7db8",
   "metadata": {},
   "outputs": [
    {
     "ename": "LoadError",
     "evalue": "MethodError: \u001b[0mCannot `convert` an object of type \n\u001b[0m  \u001b[92mFloat64\u001b[39m\u001b[0m to an object of type \n\u001b[0m  \u001b[91mUnion{Int64, String}\u001b[39m\n\u001b[0mClosest candidates are:\n\u001b[0m  convert(::Type{T}, \u001b[91m::T\u001b[39m) where T at Base.jl:61",
     "output_type": "error",
     "traceback": [
      "MethodError: \u001b[0mCannot `convert` an object of type \n\u001b[0m  \u001b[92mFloat64\u001b[39m\u001b[0m to an object of type \n\u001b[0m  \u001b[91mUnion{Int64, String}\u001b[39m\n\u001b[0mClosest candidates are:\n\u001b[0m  convert(::Type{T}, \u001b[91m::T\u001b[39m) where T at Base.jl:61",
      "",
      "Stacktrace:",
      " [1] setindex!(::Matrix{Union{Int64, String}}, ::Float64, ::Int64, ::Int64)",
      "   @ Base ./array.jl:968",
      " [2] top-level scope",
      "   @ In[46]:2"
     ]
    }
   ],
   "source": [
    "#Data is neither type int64 nor string\n",
    "mat[3, 4] = 6.78"
   ]
  },
  {
   "cell_type": "code",
   "execution_count": 47,
   "id": "0ea22370-fff0-4944-b8c3-ac55b5255e99",
   "metadata": {},
   "outputs": [],
   "source": [
    "nothing"
   ]
  },
  {
   "cell_type": "code",
   "execution_count": 48,
   "id": "881af453-ed71-45e6-847f-a9b230761e79",
   "metadata": {},
   "outputs": [
    {
     "data": {
      "text/plain": [
       "Nothing"
      ]
     },
     "execution_count": 48,
     "metadata": {},
     "output_type": "execute_result"
    }
   ],
   "source": [
    "typeof(nothing)"
   ]
  },
  {
   "cell_type": "code",
   "execution_count": 49,
   "id": "ffe14ce8-650f-4328-a78f-b0d9d027f996",
   "metadata": {},
   "outputs": [
    {
     "data": {
      "text/plain": [
       "2×3 Matrix{Any}:\n",
       " nothing  nothing  nothing\n",
       " nothing  nothing  nothing"
      ]
     },
     "execution_count": 49,
     "metadata": {},
     "output_type": "execute_result"
    }
   ],
   "source": [
    "Matrix{Any}(nothing, (2,3))"
   ]
  },
  {
   "cell_type": "code",
   "execution_count": 53,
   "id": "81f5fd02-ac08-46fc-a05a-eced88dc5a9f",
   "metadata": {},
   "outputs": [
    {
     "data": {
      "text/plain": [
       "2×3 Matrix{Union{Nothing, Int64}}:\n",
       " nothing  nothing  nothing\n",
       " nothing  nothing  nothing"
      ]
     },
     "execution_count": 53,
     "metadata": {},
     "output_type": "execute_result"
    }
   ],
   "source": [
    "#Gives bug\n",
    "#Matrix{Int64}(nothing, (2,3))\n",
    "Matrix{Union{Int64,Nothing}}(nothing, (2,3))"
   ]
  },
  {
   "cell_type": "code",
   "execution_count": 54,
   "id": "fd764c42-5941-47e0-835b-5bae87153665",
   "metadata": {},
   "outputs": [
    {
     "data": {
      "text/plain": [
       "missing"
      ]
     },
     "execution_count": 54,
     "metadata": {},
     "output_type": "execute_result"
    }
   ],
   "source": [
    "missing"
   ]
  },
  {
   "cell_type": "code",
   "execution_count": 55,
   "id": "4fcce0a5-591d-4c2c-a7e2-9735d2b701a2",
   "metadata": {},
   "outputs": [
    {
     "data": {
      "text/plain": [
       "Missing"
      ]
     },
     "execution_count": 55,
     "metadata": {},
     "output_type": "execute_result"
    }
   ],
   "source": [
    "typeof(missing)"
   ]
  },
  {
   "cell_type": "code",
   "execution_count": 56,
   "id": "9688347d-0590-45ef-b712-985c5fe40cf8",
   "metadata": {},
   "outputs": [
    {
     "data": {
      "text/plain": [
       "2×3 Matrix{Union{Missing, String}}:\n",
       " missing  missing  missing\n",
       " missing  missing  missing"
      ]
     },
     "execution_count": 56,
     "metadata": {},
     "output_type": "execute_result"
    }
   ],
   "source": [
    "Matrix{Union{Missing, String}}(missing, (2,3))"
   ]
  },
  {
   "cell_type": "code",
   "execution_count": 57,
   "id": "14e8b390-b6e6-4383-9b14-76095eca65cc",
   "metadata": {},
   "outputs": [
    {
     "data": {
      "text/plain": [
       "3×5 reshape(::UnitRange{Int64}, 3, 5) with eltype Int64:\n",
       " 1  4  7  10  13\n",
       " 2  5  8  11  14\n",
       " 3  6  9  12  15"
      ]
     },
     "execution_count": 57,
     "metadata": {},
     "output_type": "execute_result"
    }
   ],
   "source": [
    "reshape(1:15, 3, 5)"
   ]
  },
  {
   "cell_type": "code",
   "execution_count": 58,
   "id": "3e5c15b9-5fc7-4c9c-a893-743728cf38ed",
   "metadata": {},
   "outputs": [
    {
     "data": {
      "text/plain": [
       "4×3 Matrix{Int64}:\n",
       " 1   3  12\n",
       " 4   6  15\n",
       " 2  11  13\n",
       " 5  14  16"
      ]
     },
     "execution_count": 58,
     "metadata": {},
     "output_type": "execute_result"
    }
   ],
   "source": [
    "reshape(mhor, (4,3))"
   ]
  },
  {
   "cell_type": "code",
   "execution_count": 59,
   "id": "6d3b3c69-25ab-46e3-b02d-f2e45d9bf795",
   "metadata": {},
   "outputs": [
    {
     "data": {
      "text/plain": [
       "2×3 Matrix{Float64}:\n",
       " 0.0  0.0  0.0\n",
       " 0.0  0.0  0.0"
      ]
     },
     "execution_count": 59,
     "metadata": {},
     "output_type": "execute_result"
    }
   ],
   "source": [
    "zeros(2,3)"
   ]
  },
  {
   "cell_type": "code",
   "execution_count": 60,
   "id": "c9f285fb-f40e-419f-a7c3-f547e949dfce",
   "metadata": {},
   "outputs": [
    {
     "data": {
      "text/plain": [
       "2×3 Matrix{Float64}:\n",
       " 1.0  1.0  1.0\n",
       " 1.0  1.0  1.0"
      ]
     },
     "execution_count": 60,
     "metadata": {},
     "output_type": "execute_result"
    }
   ],
   "source": [
    "ones(2,3)"
   ]
  },
  {
   "cell_type": "code",
   "execution_count": 61,
   "id": "1a90ec8d-2f18-409f-a01d-fa11fad7ca28",
   "metadata": {},
   "outputs": [
    {
     "data": {
      "text/plain": [
       "2×3 Matrix{Int32}:\n",
       " 1  1  1\n",
       " 1  1  1"
      ]
     },
     "execution_count": 61,
     "metadata": {},
     "output_type": "execute_result"
    }
   ],
   "source": [
    "ones(Int32, 2, 3)"
   ]
  },
  {
   "cell_type": "code",
   "execution_count": 62,
   "id": "30c9593f-5745-4761-8c6b-3b094227eebc",
   "metadata": {},
   "outputs": [
    {
     "data": {
      "text/plain": [
       "2×2 BitMatrix:\n",
       " 1  1\n",
       " 1  1"
      ]
     },
     "execution_count": 62,
     "metadata": {},
     "output_type": "execute_result"
    }
   ],
   "source": [
    "trues(2, 2)"
   ]
  },
  {
   "cell_type": "code",
   "execution_count": 63,
   "id": "65585412-87ad-4e8f-8a19-35ad5498a615",
   "metadata": {},
   "outputs": [
    {
     "data": {
      "text/plain": [
       "2×2 BitMatrix:\n",
       " 0  0\n",
       " 0  0"
      ]
     },
     "execution_count": 63,
     "metadata": {},
     "output_type": "execute_result"
    }
   ],
   "source": [
    "falses(2,2)"
   ]
  },
  {
   "cell_type": "code",
   "execution_count": 64,
   "id": "a6aa9467-8683-44f3-b1c1-f1823f6ce8d8",
   "metadata": {},
   "outputs": [
    {
     "data": {
      "text/plain": [
       "3×2 Matrix{Float64}:\n",
       " 3.14  3.14\n",
       " 3.14  3.14\n",
       " 3.14  3.14"
      ]
     },
     "execution_count": 64,
     "metadata": {},
     "output_type": "execute_result"
    }
   ],
   "source": [
    "fill(3.14, (3,2))"
   ]
  },
  {
   "cell_type": "code",
   "execution_count": 65,
   "id": "6f7e53e7-f92e-4bea-b90c-0c1074f73fff",
   "metadata": {},
   "outputs": [
    {
     "data": {
      "text/plain": [
       "3×5 Matrix{Int64}:\n",
       " 13   4   7  17  17\n",
       "  4  16  15   8   3\n",
       " 12  14   5   2   7"
      ]
     },
     "execution_count": 65,
     "metadata": {},
     "output_type": "execute_result"
    }
   ],
   "source": [
    "rand(1:20, 3, 5)"
   ]
  },
  {
   "cell_type": "code",
   "execution_count": 66,
   "id": "b59cdf04-306e-46e6-9ca1-b84e4dd2974a",
   "metadata": {},
   "outputs": [
    {
     "data": {
      "text/plain": [
       "3×5 Matrix{Float64}:\n",
       "  1.10925   -0.965283   0.248316  -0.40579    0.144587\n",
       "  1.31773    1.97081    1.19257    0.160309   0.742443\n",
       " -0.543787   0.626436  -1.65113   -0.209939  -2.63127"
      ]
     },
     "execution_count": 66,
     "metadata": {},
     "output_type": "execute_result"
    }
   ],
   "source": [
    "#Normally distributed random numbers\n",
    "randn(3,5)"
   ]
  },
  {
   "cell_type": "code",
   "execution_count": 67,
   "id": "4dccdc50-2b7a-4995-9457-9ab2621cfcba",
   "metadata": {},
   "outputs": [
    {
     "data": {
      "text/plain": [
       "4×3 reshape(::StepRangeLen{Float64, Base.TwicePrecision{Float64}, Base.TwicePrecision{Float64}, Int64}, 4, 3) with eltype Float64:\n",
       " 12.0  16.0  20.0\n",
       " 13.0  17.0  21.0\n",
       " 14.0  18.0  22.0\n",
       " 15.0  19.0  23.0"
      ]
     },
     "execution_count": 67,
     "metadata": {},
     "output_type": "execute_result"
    }
   ],
   "source": [
    "m1 = reshape(range(12., 23., length=12), (4,3))"
   ]
  },
  {
   "cell_type": "code",
   "execution_count": 68,
   "id": "7dbeffea-4dd0-423f-93df-9eeee7c33791",
   "metadata": {},
   "outputs": [
    {
     "data": {
      "text/plain": [
       "4×3 Matrix{Float64}:\n",
       " 6.91161e-310  6.9116e-310   6.91161e-310\n",
       " 6.91161e-310  6.91161e-310  6.91161e-310\n",
       " 6.91161e-310  6.91161e-310  6.91161e-310\n",
       " 6.91161e-310  6.9116e-310   6.91161e-310"
      ]
     },
     "execution_count": 68,
     "metadata": {},
     "output_type": "execute_result"
    }
   ],
   "source": [
    "m2 = similar(m1)"
   ]
  },
  {
   "cell_type": "code",
   "execution_count": 69,
   "id": "b4ba1b06-b146-4275-95ff-a9791d621db1",
   "metadata": {},
   "outputs": [
    {
     "data": {
      "text/plain": [
       "3×3 Matrix{Float64}:\n",
       " 0.0  0.0  0.0\n",
       " 0.0  0.0  0.0\n",
       " 0.0  0.0  6.91161e-310"
      ]
     },
     "execution_count": 69,
     "metadata": {},
     "output_type": "execute_result"
    }
   ],
   "source": [
    "m3 = similar(m1, (3,3))"
   ]
  },
  {
   "cell_type": "code",
   "execution_count": null,
   "id": "90101c87-d9c7-4b37-917d-6db9388e713e",
   "metadata": {},
   "outputs": [],
   "source": []
  }
 ],
 "metadata": {
  "kernelspec": {
   "display_name": "Julia 1.8.3",
   "language": "julia",
   "name": "julia-1.8"
  },
  "language_info": {
   "file_extension": ".jl",
   "mimetype": "application/julia",
   "name": "julia",
   "version": "1.8.3"
  }
 },
 "nbformat": 4,
 "nbformat_minor": 5
}
