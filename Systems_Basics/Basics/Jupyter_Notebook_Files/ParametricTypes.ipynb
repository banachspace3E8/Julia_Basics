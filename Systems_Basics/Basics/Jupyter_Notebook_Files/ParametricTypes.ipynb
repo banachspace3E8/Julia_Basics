{
 "cells": [
  {
   "cell_type": "code",
   "execution_count": 1,
   "id": "96d3e4e2-2397-42d9-ab36-a5698e950e94",
   "metadata": {},
   "outputs": [],
   "source": [
    "#Shishir Khanal\n",
    "#01/17/2023\n",
    "# Parametric types in Julia\n",
    "#-------------------------"
   ]
  },
  {
   "cell_type": "code",
   "execution_count": 2,
   "id": "13144c48-962b-4929-a2ae-1dd38b2e5431",
   "metadata": {},
   "outputs": [],
   "source": [
    "#Struct is a user-defined type\n",
    "struct Rectangle\n",
    "    width::Float64\n",
    "    length::Float64\n",
    "end"
   ]
  },
  {
   "cell_type": "code",
   "execution_count": 3,
   "id": "74b87819-dbba-4841-b374-dd120f22cafc",
   "metadata": {},
   "outputs": [],
   "source": [
    "struct ParRectangle{T}\n",
    "    width::T\n",
    "    height::T\n",
    "end"
   ]
  },
  {
   "cell_type": "code",
   "execution_count": 4,
   "id": "7df58ffa-99bf-4bb7-add2-3807ead3dce8",
   "metadata": {},
   "outputs": [
    {
     "data": {
      "text/plain": [
       "ParRectangle{Int64}(3, 8)"
      ]
     },
     "execution_count": 4,
     "metadata": {},
     "output_type": "execute_result"
    }
   ],
   "source": [
    "r1 = ParRectangle{Int}(3, 8)"
   ]
  },
  {
   "cell_type": "code",
   "execution_count": 5,
   "id": "ac14a2f6-8371-475c-bd64-0a12f9138b06",
   "metadata": {},
   "outputs": [
    {
     "data": {
      "text/plain": [
       "ParRectangle{Float32}(2.78f0, 3.14f0)"
      ]
     },
     "execution_count": 5,
     "metadata": {},
     "output_type": "execute_result"
    }
   ],
   "source": [
    "r2 = ParRectangle{Float32}(2.78, 3.14)"
   ]
  },
  {
   "cell_type": "code",
   "execution_count": 6,
   "id": "a6574dc7-86fc-4e3c-8929-b8e1e8aec77e",
   "metadata": {},
   "outputs": [
    {
     "data": {
      "text/plain": [
       "ParRectangle{String}(\"three\", \"five\")"
      ]
     },
     "execution_count": 6,
     "metadata": {},
     "output_type": "execute_result"
    }
   ],
   "source": [
    "r3 = ParRectangle{String}(\"three\", \"five\")"
   ]
  },
  {
   "cell_type": "code",
   "execution_count": 7,
   "id": "523670e1-19fd-4f66-a438-2ad0d4ae4ef1",
   "metadata": {},
   "outputs": [
    {
     "data": {
      "text/plain": [
       "ParRectangle{Int64}"
      ]
     },
     "execution_count": 7,
     "metadata": {},
     "output_type": "execute_result"
    }
   ],
   "source": [
    "typeof(r1)"
   ]
  },
  {
   "cell_type": "code",
   "execution_count": 8,
   "id": "19c4d166-df84-49a4-8dac-44cb5f81b5f5",
   "metadata": {},
   "outputs": [
    {
     "data": {
      "text/plain": [
       "ParRectangle{Float32}"
      ]
     },
     "execution_count": 8,
     "metadata": {},
     "output_type": "execute_result"
    }
   ],
   "source": [
    "typeof(r2)"
   ]
  },
  {
   "cell_type": "code",
   "execution_count": 9,
   "id": "f69a8415-6074-408f-929e-b2d5aa6c69da",
   "metadata": {},
   "outputs": [
    {
     "data": {
      "text/plain": [
       "ParRectangle{String}"
      ]
     },
     "execution_count": 9,
     "metadata": {},
     "output_type": "execute_result"
    }
   ],
   "source": [
    "typeof(r3)"
   ]
  },
  {
   "cell_type": "code",
   "execution_count": 10,
   "id": "3b12bd4d-31be-43cc-9021-f0c31ab97410",
   "metadata": {},
   "outputs": [
    {
     "data": {
      "text/plain": [
       "true"
      ]
     },
     "execution_count": 10,
     "metadata": {},
     "output_type": "execute_result"
    }
   ],
   "source": [
    "ParRectangle{Float64} <: ParRectangle"
   ]
  },
  {
   "cell_type": "code",
   "execution_count": 11,
   "id": "31e5a96e-e847-4ac6-87bd-eb7b9528a41b",
   "metadata": {},
   "outputs": [
    {
     "data": {
      "text/plain": [
       "ParRectangle{Int64}(3, 4)"
      ]
     },
     "execution_count": 11,
     "metadata": {},
     "output_type": "execute_result"
    }
   ],
   "source": [
    "r4 = ParRectangle{Int64}(3,4)"
   ]
  },
  {
   "cell_type": "code",
   "execution_count": 12,
   "id": "881d3d1e-2765-48e7-9e5f-52071665925d",
   "metadata": {},
   "outputs": [
    {
     "data": {
      "text/plain": [
       "ParRectangle{Float64}(2.0, 3.0)"
      ]
     },
     "execution_count": 12,
     "metadata": {},
     "output_type": "execute_result"
    }
   ],
   "source": [
    "r5 = ParRectangle{Float64}(2.0, 3.0)"
   ]
  },
  {
   "cell_type": "code",
   "execution_count": 13,
   "id": "78e3263a-ac40-4ff1-9dfb-1787b863cd89",
   "metadata": {},
   "outputs": [
    {
     "ename": "LoadError",
     "evalue": "MethodError: no method matching ParRectangle(::Int64, ::Float64)\n\u001b[0mClosest candidates are:\n\u001b[0m  ParRectangle(::T, \u001b[91m::T\u001b[39m) where T at In[3]:2",
     "output_type": "error",
     "traceback": [
      "MethodError: no method matching ParRectangle(::Int64, ::Float64)\n\u001b[0mClosest candidates are:\n\u001b[0m  ParRectangle(::T, \u001b[91m::T\u001b[39m) where T at In[3]:2",
      "",
      "Stacktrace:",
      " [1] top-level scope",
      "   @ In[13]:2"
     ]
    }
   ],
   "source": [
    "# error because ParRectangle requires the values to be of same datatype\n",
    "r6 = ParRectangle(2, 3.0)"
   ]
  },
  {
   "cell_type": "code",
   "execution_count": 14,
   "id": "dcb6e6bf-24e3-4ae9-84d9-ed8bb5c69108",
   "metadata": {},
   "outputs": [],
   "source": [
    "#Limit the datatype using <: operator\n",
    "struct NumRectangle{T <: Real}\n",
    "    width::T\n",
    "    height::T\n",
    "end"
   ]
  },
  {
   "cell_type": "code",
   "execution_count": 15,
   "id": "ba594b28-bb56-430a-aa78-44caaefd649c",
   "metadata": {},
   "outputs": [
    {
     "ename": "LoadError",
     "evalue": "TypeError: in NumRectangle, in T, expected T<:Real, got Type{String}",
     "output_type": "error",
     "traceback": [
      "TypeError: in NumRectangle, in T, expected T<:Real, got Type{String}",
      "",
      "Stacktrace:",
      " [1] top-level scope",
      "   @ In[15]:2"
     ]
    }
   ],
   "source": [
    "#Error because field of T should besubtype of real\n",
    "r4 = NumRectangle{String}(\"three\", \"five\")"
   ]
  },
  {
   "cell_type": "code",
   "execution_count": 16,
   "id": "60f89ca8-0570-45af-ba80-45d3e40c8d9e",
   "metadata": {},
   "outputs": [],
   "source": [
    "abstract type Color{T} end"
   ]
  },
  {
   "cell_type": "code",
   "execution_count": 17,
   "id": "d6fdea32-6d9a-4e95-a0cc-d3b128bbe1b5",
   "metadata": {},
   "outputs": [
    {
     "data": {
      "text/plain": [
       "true"
      ]
     },
     "execution_count": 17,
     "metadata": {},
     "output_type": "execute_result"
    }
   ],
   "source": [
    "Color{Float64} <: Color"
   ]
  },
  {
   "cell_type": "code",
   "execution_count": 18,
   "id": "a65d385a-416a-46ae-a01d-59cedcb48204",
   "metadata": {},
   "outputs": [
    {
     "data": {
      "text/plain": [
       "true"
      ]
     },
     "execution_count": 18,
     "metadata": {},
     "output_type": "execute_result"
    }
   ],
   "source": [
    "Color{String} <: Color"
   ]
  },
  {
   "cell_type": "code",
   "execution_count": 19,
   "id": "1aff34c1-b0a8-4538-953a-afc98963234a",
   "metadata": {},
   "outputs": [],
   "source": [
    "abstract type NewColor{T<:Real} end"
   ]
  },
  {
   "cell_type": "code",
   "execution_count": 20,
   "id": "a3fd2856-659d-400d-b982-b3371bb59014",
   "metadata": {},
   "outputs": [],
   "source": [
    "struct Rational{T<:Integer} <: Real\n",
    "    num::T\n",
    "    den::T\n",
    "end"
   ]
  },
  {
   "cell_type": "code",
   "execution_count": 21,
   "id": "44c701d1-5f0b-4104-ab73-98620f3250d8",
   "metadata": {},
   "outputs": [
    {
     "data": {
      "text/plain": [
       "Rational{Int64}(4, 5)"
      ]
     },
     "execution_count": 21,
     "metadata": {},
     "output_type": "execute_result"
    }
   ],
   "source": [
    "r = Rational(4,5)"
   ]
  },
  {
   "cell_type": "code",
   "execution_count": 22,
   "id": "6b9678fc-9e7c-4bb1-a021-fdfc06e42d46",
   "metadata": {},
   "outputs": [
    {
     "data": {
      "text/plain": [
       "Rational{Int64}"
      ]
     },
     "execution_count": 22,
     "metadata": {},
     "output_type": "execute_result"
    }
   ],
   "source": [
    "typeof(r)"
   ]
  },
  {
   "cell_type": "code",
   "execution_count": 23,
   "id": "d77385ef-642b-4ee5-94a5-674b873d318d",
   "metadata": {},
   "outputs": [],
   "source": [
    "struct NewShape{T<:AbstractString, P<:Number}\n",
    "    name::T\n",
    "    color::T\n",
    "    x_coord::P\n",
    "    y_coord::P\n",
    "end"
   ]
  },
  {
   "cell_type": "code",
   "execution_count": 24,
   "id": "e27d4c7f-c3e3-4b8c-8b32-d713ce0f9463",
   "metadata": {},
   "outputs": [
    {
     "data": {
      "text/plain": [
       "NewShape{String, Float64}(\"Rectangle\", \"Red\", 5.5, 7.5)"
      ]
     },
     "execution_count": 24,
     "metadata": {},
     "output_type": "execute_result"
    }
   ],
   "source": [
    "rect = NewShape(\"Rectangle\", \"Red\", 5.5, 7.5)"
   ]
  },
  {
   "cell_type": "code",
   "execution_count": 26,
   "id": "6b7c9fa9-92cb-43be-8d3e-be3a7a19c21c",
   "metadata": {},
   "outputs": [
    {
     "ename": "LoadError",
     "evalue": "MethodError: no method matching NewShape(::String, ::String, ::Int64, ::Float64)\n\u001b[0mClosest candidates are:\n\u001b[0m  NewShape(::T, ::T, ::P, \u001b[91m::P\u001b[39m) where {T<:AbstractString, P<:Number} at In[23]:2",
     "output_type": "error",
     "traceback": [
      "MethodError: no method matching NewShape(::String, ::String, ::Int64, ::Float64)\n\u001b[0mClosest candidates are:\n\u001b[0m  NewShape(::T, ::T, ::P, \u001b[91m::P\u001b[39m) where {T<:AbstractString, P<:Number} at In[23]:2",
      "",
      "Stacktrace:",
      " [1] top-level scope",
      "   @ In[26]:2"
     ]
    }
   ],
   "source": [
    "# '3'(Int) not allowed\n",
    "circle = NewShape(\"Circle\", \"Black\", 3, 4.5)"
   ]
  },
  {
   "cell_type": "code",
   "execution_count": null,
   "id": "63097005-560b-45da-9178-690d5e6192aa",
   "metadata": {},
   "outputs": [],
   "source": []
  }
 ],
 "metadata": {
  "kernelspec": {
   "display_name": "Julia 1.8.3",
   "language": "julia",
   "name": "julia-1.8"
  },
  "language_info": {
   "file_extension": ".jl",
   "mimetype": "application/julia",
   "name": "julia",
   "version": "1.8.3"
  }
 },
 "nbformat": 4,
 "nbformat_minor": 5
}
