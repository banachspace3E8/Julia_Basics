{
 "cells": [
  {
   "cell_type": "code",
   "execution_count": 1,
   "id": "adaa302a-ceb0-47ac-96db-b4036f0aa59e",
   "metadata": {},
   "outputs": [],
   "source": [
    "#Shishir Khanal\n",
    "#01/17/2023\n",
    "# Primitive and Composite datatypes in Julia\n",
    "#-------------------------"
   ]
  },
  {
   "cell_type": "code",
   "execution_count": 2,
   "id": "400d88a1-f504-466a-9529-2e8184f18d1b",
   "metadata": {},
   "outputs": [],
   "source": [
    "#Struct is a user-defined type\n",
    "struct Rectangle\n",
    "    width::Float64\n",
    "    length::Float64\n",
    "end"
   ]
  },
  {
   "cell_type": "code",
   "execution_count": 3,
   "id": "329fdbb1-f1b1-4ed2-b569-dfe10ec4f34c",
   "metadata": {},
   "outputs": [
    {
     "data": {
      "text/plain": [
       "(:width, :length)"
      ]
     },
     "execution_count": 3,
     "metadata": {},
     "output_type": "execute_result"
    }
   ],
   "source": [
    "fieldnames(Rectangle)"
   ]
  },
  {
   "cell_type": "code",
   "execution_count": 4,
   "id": "902a5bb2-b117-4d1b-9836-9b80a443c349",
   "metadata": {},
   "outputs": [
    {
     "data": {
      "text/plain": [
       "Rectangle(4.0, 7.0)"
      ]
     },
     "execution_count": 4,
     "metadata": {},
     "output_type": "execute_result"
    }
   ],
   "source": [
    "rectangle1 = Rectangle(4,7)"
   ]
  },
  {
   "cell_type": "code",
   "execution_count": 5,
   "id": "ef4c8826-eb6c-4ab4-8622-2b6853f1cad1",
   "metadata": {},
   "outputs": [
    {
     "data": {
      "text/plain": [
       "7.0"
      ]
     },
     "execution_count": 5,
     "metadata": {},
     "output_type": "execute_result"
    }
   ],
   "source": [
    "rectangle1.length"
   ]
  },
  {
   "cell_type": "code",
   "execution_count": 6,
   "id": "732f8595-2468-484b-abdc-a3bca9de3e99",
   "metadata": {},
   "outputs": [
    {
     "data": {
      "text/plain": [
       "4.0"
      ]
     },
     "execution_count": 6,
     "metadata": {},
     "output_type": "execute_result"
    }
   ],
   "source": [
    "rectangle1.width"
   ]
  },
  {
   "cell_type": "code",
   "execution_count": 8,
   "id": "2cf5cd8f-0fc5-4b3b-8a1c-1a104bbbab95",
   "metadata": {},
   "outputs": [
    {
     "ename": "LoadError",
     "evalue": "MethodError: no method matching Rectangle(::Float64)\n\u001b[0mClosest candidates are:\n\u001b[0m  Rectangle(::Float64, \u001b[91m::Float64\u001b[39m) at In[2]:2\n\u001b[0m  Rectangle(::Any, \u001b[91m::Any\u001b[39m) at In[2]:2",
     "output_type": "error",
     "traceback": [
      "MethodError: no method matching Rectangle(::Float64)\n\u001b[0mClosest candidates are:\n\u001b[0m  Rectangle(::Float64, \u001b[91m::Float64\u001b[39m) at In[2]:2\n\u001b[0m  Rectangle(::Any, \u001b[91m::Any\u001b[39m) at In[2]:2",
      "",
      "Stacktrace:",
      " [1] top-level scope",
      "   @ In[8]:2"
     ]
    }
   ],
   "source": [
    "#Constructor needs 2 args\n",
    "rectangle1 = Rectangle(5.0)"
   ]
  },
  {
   "cell_type": "code",
   "execution_count": 10,
   "id": "f7d830c3-dfa0-423a-bb39-49906902d085",
   "metadata": {},
   "outputs": [
    {
     "ename": "LoadError",
     "evalue": "setfield!: immutable struct of type Rectangle cannot be changed",
     "output_type": "error",
     "traceback": [
      "setfield!: immutable struct of type Rectangle cannot be changed",
      "",
      "Stacktrace:",
      " [1] setproperty!(x::Rectangle, f::Symbol, v::Int64)",
      "   @ Base ./Base.jl:39",
      " [2] top-level scope",
      "   @ In[10]:3"
     ]
    }
   ],
   "source": [
    "#Structs are immutable\n",
    "#i.e. once you construct structs, you can't change it's values\n",
    "rectangle1.length = 2"
   ]
  },
  {
   "cell_type": "code",
   "execution_count": 12,
   "id": "72511463-382e-49b6-975b-d52daaa4a582",
   "metadata": {},
   "outputs": [],
   "source": [
    "#mutable struct\n",
    "mutable struct NewRectangle\n",
    "    width::Float64\n",
    "    length::Float64\n",
    "end"
   ]
  },
  {
   "cell_type": "code",
   "execution_count": 15,
   "id": "57b01c9a-da62-4a17-b99b-883e328ff9ca",
   "metadata": {},
   "outputs": [
    {
     "data": {
      "text/plain": [
       "NewRectangle(4.5, 7.8)"
      ]
     },
     "execution_count": 15,
     "metadata": {},
     "output_type": "execute_result"
    }
   ],
   "source": [
    "rectangle2 = NewRectangle(4.5, 7.8)"
   ]
  },
  {
   "cell_type": "code",
   "execution_count": 16,
   "id": "a7e0a646-43e7-4ec6-bc2e-f2aed80ff643",
   "metadata": {},
   "outputs": [
    {
     "data": {
      "text/plain": [
       "2.5"
      ]
     },
     "execution_count": 16,
     "metadata": {},
     "output_type": "execute_result"
    }
   ],
   "source": [
    "rectangle2.width = 2.5"
   ]
  },
  {
   "cell_type": "code",
   "execution_count": 17,
   "id": "0ac0749e-0fae-4f6a-b30c-2003e64641d6",
   "metadata": {},
   "outputs": [
    {
     "data": {
      "text/plain": [
       "NewRectangle(2.5, 7.8)"
      ]
     },
     "execution_count": 17,
     "metadata": {},
     "output_type": "execute_result"
    }
   ],
   "source": [
    "rectangle2"
   ]
  },
  {
   "cell_type": "code",
   "execution_count": 18,
   "id": "bb175e7c-da65-4103-99c5-2b034c32a754",
   "metadata": {},
   "outputs": [
    {
     "data": {
      "text/plain": [
       "Any"
      ]
     },
     "execution_count": 18,
     "metadata": {},
     "output_type": "execute_result"
    }
   ],
   "source": [
    "supertype(Rectangle)"
   ]
  },
  {
   "cell_type": "code",
   "execution_count": 19,
   "id": "7e8362d5-cfef-4975-bfe7-cc2e8fb33897",
   "metadata": {},
   "outputs": [],
   "source": [
    "abstract type Shape end"
   ]
  },
  {
   "cell_type": "code",
   "execution_count": 20,
   "id": "333e0cee-b64e-4ea4-bd4a-1e658fc0e8bd",
   "metadata": {},
   "outputs": [],
   "source": [
    "mutable struct RectangleShape <: Shape\n",
    "    width::Float64\n",
    "    height::Float64\n",
    "end"
   ]
  },
  {
   "cell_type": "code",
   "execution_count": 22,
   "id": "348543b2-1519-4fd0-93d3-9b1e19d7a9de",
   "metadata": {},
   "outputs": [],
   "source": [
    "mutable struct Square <: Shape\n",
    "    length::Float64\n",
    "end"
   ]
  },
  {
   "cell_type": "code",
   "execution_count": 23,
   "id": "95242892-d773-4163-9f32-b69be62826f3",
   "metadata": {},
   "outputs": [],
   "source": [
    "mutable struct Circle <:  Shape\n",
    "    radius::Float64\n",
    "end"
   ]
  },
  {
   "cell_type": "code",
   "execution_count": 28,
   "id": "7af19159-ac37-4a07-bdeb-64f268940a2b",
   "metadata": {},
   "outputs": [
    {
     "data": {
      "text/plain": [
       "Union{AbstractString, Integer}"
      ]
     },
     "execution_count": 28,
     "metadata": {},
     "output_type": "execute_result"
    }
   ],
   "source": [
    "#I may want my program to accept a number but not crash if it comes in string format\n",
    "intstr = Union{Integer, AbstractString}"
   ]
  },
  {
   "cell_type": "code",
   "execution_count": 29,
   "id": "0d255204-c8d8-4fa9-a599-0ca09d7001ec",
   "metadata": {},
   "outputs": [],
   "source": [
    "x = 123; y = \"123\"; z = 123.0;"
   ]
  },
  {
   "cell_type": "code",
   "execution_count": 30,
   "id": "e1040607-c2fc-43c7-967f-006040b84e82",
   "metadata": {},
   "outputs": [
    {
     "data": {
      "text/plain": [
       "123"
      ]
     },
     "execution_count": 30,
     "metadata": {},
     "output_type": "execute_result"
    }
   ],
   "source": [
    "x::intstr"
   ]
  },
  {
   "cell_type": "code",
   "execution_count": 31,
   "id": "06b344b0-9835-406d-9ee4-18128ffec8b8",
   "metadata": {},
   "outputs": [
    {
     "data": {
      "text/plain": [
       "\"123\""
      ]
     },
     "execution_count": 31,
     "metadata": {},
     "output_type": "execute_result"
    }
   ],
   "source": [
    "y::intstr"
   ]
  },
  {
   "cell_type": "code",
   "execution_count": 32,
   "id": "62a4fa61-0b15-4947-8c7c-59508994403c",
   "metadata": {},
   "outputs": [
    {
     "ename": "LoadError",
     "evalue": "TypeError: in typeassert, expected Union{AbstractString, Integer}, got a value of type Float64",
     "output_type": "error",
     "traceback": [
      "TypeError: in typeassert, expected Union{AbstractString, Integer}, got a value of type Float64",
      "",
      "Stacktrace:",
      " [1] top-level scope",
      "   @ In[32]:1"
     ]
    }
   ],
   "source": [
    "This gives error because float is excluded in union definition\n",
    "z::intstr"
   ]
  },
  {
   "cell_type": "code",
   "execution_count": null,
   "id": "cec4b671-2dba-4954-b427-2451a341ae73",
   "metadata": {},
   "outputs": [],
   "source": []
  }
 ],
 "metadata": {
  "kernelspec": {
   "display_name": "Julia 1.8.3",
   "language": "julia",
   "name": "julia-1.8"
  },
  "language_info": {
   "file_extension": ".jl",
   "mimetype": "application/julia",
   "name": "julia",
   "version": "1.8.3"
  }
 },
 "nbformat": 4,
 "nbformat_minor": 5
}
