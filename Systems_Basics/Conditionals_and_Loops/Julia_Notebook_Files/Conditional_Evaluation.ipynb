{
 "cells": [
  {
   "cell_type": "code",
   "execution_count": 1,
   "id": "058ea324-aa0a-438c-beec-d38cc9981146",
   "metadata": {},
   "outputs": [],
   "source": [
    "#Shishir Khanal\n",
    "#01/18/2023\n",
    "#Conditional evaluation in Julia"
   ]
  },
  {
   "cell_type": "code",
   "execution_count": 6,
   "id": "9b6ed3ef-a932-4d5b-a831-5571a500247a",
   "metadata": {},
   "outputs": [],
   "source": [
    "score = 40\n",
    "\n",
    "if score > 60\n",
    "    println(\"passed\")\n",
    "end"
   ]
  },
  {
   "cell_type": "code",
   "execution_count": 7,
   "id": "6ad2b5ea-19dd-4880-96c5-d0fd95713034",
   "metadata": {},
   "outputs": [
    {
     "data": {
      "text/plain": [
       "false"
      ]
     },
     "execution_count": 7,
     "metadata": {},
     "output_type": "execute_result"
    }
   ],
   "source": [
    "(score > 60)"
   ]
  },
  {
   "cell_type": "code",
   "execution_count": 10,
   "id": "456c0f96-f019-4ef0-869e-e97be74e7d6d",
   "metadata": {},
   "outputs": [
    {
     "name": "stdout",
     "output_type": "stream",
     "text": [
      "I am sorry. You failed\n"
     ]
    }
   ],
   "source": [
    "score = 25\n",
    "\n",
    "if score > 60\n",
    "    println(\"Congratulations, you passed!\")\n",
    "else\n",
    "    println(\"I am sorry. You failed\")\n",
    "end"
   ]
  },
  {
   "cell_type": "code",
   "execution_count": 13,
   "id": "3134e9f4-7351-44af-97d9-e8662292bdf7",
   "metadata": {},
   "outputs": [
    {
     "name": "stdout",
     "output_type": "stream",
     "text": [
      "Your grade is F\n"
     ]
    }
   ],
   "source": [
    "if score ≥ 85\n",
    "    println(\"Your grade is A\")\n",
    "else\n",
    "    if score ≥ 70\n",
    "        println(\"Your grade is B\")\n",
    "    else\n",
    "        if score ≥ 60\n",
    "            println(\"Your grade is C\")\n",
    "        else\n",
    "            println(\"Your grade is F\")\n",
    "        end\n",
    "    end\n",
    "end"
   ]
  },
  {
   "cell_type": "code",
   "execution_count": 14,
   "id": "fdd35564-599a-45a3-b6fd-ea2456f4a733",
   "metadata": {},
   "outputs": [
    {
     "name": "stdout",
     "output_type": "stream",
     "text": [
      "Your grade is F\n"
     ]
    }
   ],
   "source": [
    "if score ≥ 85\n",
    "    println(\"Your grade is A\")\n",
    "elseif score ≥ 70\n",
    "    println(\"Your grade is B\")\n",
    "elseif score ≥ 60\n",
    "    println(\"Your grade is C\")\n",
    "else\n",
    "    println(\"Your grade is F\")\n",
    "end"
   ]
  },
  {
   "cell_type": "code",
   "execution_count": 16,
   "id": "8ffaddd2-249a-46bb-bf90-65ebbeec8f2a",
   "metadata": {},
   "outputs": [],
   "source": [
    "# if score ≥85 && score < 100\n",
    "#if 85 ≤ score < 100"
   ]
  },
  {
   "cell_type": "code",
   "execution_count": 19,
   "id": "a3e8056f-bae9-45c5-bc1d-befe1940fded",
   "metadata": {},
   "outputs": [
    {
     "data": {
      "text/plain": [
       "\"passed\""
      ]
     },
     "execution_count": 19,
     "metadata": {},
     "output_type": "execute_result"
    }
   ],
   "source": [
    "score = 70\n",
    "score > 50 ? \"passed\" : \"failed\"\n",
    "\n",
    "#ternary operator\n",
    "# (condition) ? (if true) : (if false)"
   ]
  },
  {
   "cell_type": "code",
   "execution_count": 20,
   "id": "2ed64c91-aa48-47fe-b81f-cda31b3c1f49",
   "metadata": {},
   "outputs": [
    {
     "data": {
      "text/plain": [
       "\"Grade C\""
      ]
     },
     "execution_count": 20,
     "metadata": {},
     "output_type": "execute_result"
    }
   ],
   "source": [
    "score = 55\n",
    "score > 85 ? \"Grade: A\" : score > 60 ? \"Grade: B\" : \"Grade C\""
   ]
  },
  {
   "cell_type": "code",
   "execution_count": null,
   "id": "98fa9009-b987-49d6-b1fb-acfdc7b544fa",
   "metadata": {},
   "outputs": [],
   "source": []
  }
 ],
 "metadata": {
  "kernelspec": {
   "display_name": "Julia 1.8.3",
   "language": "julia",
   "name": "julia-1.8"
  },
  "language_info": {
   "file_extension": ".jl",
   "mimetype": "application/julia",
   "name": "julia",
   "version": "1.8.3"
  }
 },
 "nbformat": 4,
 "nbformat_minor": 5
}
