{
 "cells": [
  {
   "cell_type": "code",
   "execution_count": 3,
   "id": "3b8d95f4-bdb4-4be8-b5e6-c4d39da1c740",
   "metadata": {},
   "outputs": [],
   "source": [
    "#Shishir Khanal\n",
    "#01/18/2023\n",
    "#While Loop in Julia"
   ]
  },
  {
   "cell_type": "code",
   "execution_count": 5,
   "id": "6779cbd9-66e7-458b-aeef-b05fbed11b2b",
   "metadata": {},
   "outputs": [
    {
     "name": "stdout",
     "output_type": "stream",
     "text": [
      "1\n",
      "4\n",
      "9\n",
      "16\n"
     ]
    }
   ],
   "source": [
    "j = 1;\n",
    "\n",
    "while j < 5\n",
    "    println(j^2)\n",
    "    global j += 1\n",
    "end"
   ]
  },
  {
   "cell_type": "code",
   "execution_count": 7,
   "id": "693a6be5-6e53-4db2-aa8f-852eaf740c3a",
   "metadata": {},
   "outputs": [
    {
     "name": "stdout",
     "output_type": "stream",
     "text": [
      "15 11 9 7 5 4 3 "
     ]
    }
   ],
   "source": [
    "arr = [3, 4, 5, 7, 9, 11, 15]\n",
    "\n",
    "while !isempty(arr)\n",
    "    print(pop!(arr),\" \")\n",
    "end"
   ]
  },
  {
   "cell_type": "code",
   "execution_count": 8,
   "id": "2eaae986-0f8c-46fc-82e6-3c4c2d183d8f",
   "metadata": {},
   "outputs": [
    {
     "name": "stdout",
     "output_type": "stream",
     "text": [
      "For loop is the most common type of loop.\n",
      "The other type of loop is the while loop.\n",
      "Loops are very powerful and fast in Julia.\n"
     ]
    }
   ],
   "source": [
    "file = open(\"InputFile.txt\", \"r\")\n",
    "line = readline(file)\n",
    "\n",
    "while line != \"\"\n",
    "    println(line)\n",
    "    line = readline(file)\n",
    "end\n",
    "close(file)"
   ]
  },
  {
   "cell_type": "code",
   "execution_count": null,
   "id": "24368e96-176a-44cf-a534-8567669789d7",
   "metadata": {},
   "outputs": [],
   "source": []
  }
 ],
 "metadata": {
  "kernelspec": {
   "display_name": "Julia 1.8.3",
   "language": "julia",
   "name": "julia-1.8"
  },
  "language_info": {
   "file_extension": ".jl",
   "mimetype": "application/julia",
   "name": "julia",
   "version": "1.8.3"
  }
 },
 "nbformat": 4,
 "nbformat_minor": 5
}
