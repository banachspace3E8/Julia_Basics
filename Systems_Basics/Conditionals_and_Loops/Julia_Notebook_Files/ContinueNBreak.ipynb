{
 "cells": [
  {
   "cell_type": "code",
   "execution_count": 1,
   "id": "8186fffa-42d2-4c3e-8dd2-93cd72682cbf",
   "metadata": {},
   "outputs": [],
   "source": [
    "#Shishir Khanal\n",
    "#01/18/2023\n",
    "#Continue and break in Julia"
   ]
  },
  {
   "cell_type": "code",
   "execution_count": 2,
   "id": "41ee135d-43fb-4742-a6db-6bf248391f95",
   "metadata": {},
   "outputs": [
    {
     "name": "stdout",
     "output_type": "stream",
     "text": [
      "3\n",
      "5\n",
      "7\n",
      "9\n",
      "42\n",
      "Break condition is met!\n"
     ]
    }
   ],
   "source": [
    "arr = [3, 5, 7, 9, 42, 999, 11, 13, 15, 999, 44];\n",
    "\n",
    "for e1 ∈ arr\n",
    "    if e1 == 999\n",
    "        println(\"Break condition is met!\")\n",
    "        break\n",
    "    end\n",
    "    println(e1)\n",
    "end"
   ]
  },
  {
   "cell_type": "code",
   "execution_count": 4,
   "id": "187aaefa-5866-4f76-87ad-c1313c3680cc",
   "metadata": {},
   "outputs": [
    {
     "name": "stdout",
     "output_type": "stream",
     "text": [
      "1\n",
      "2\n",
      "3\n",
      "4\n",
      "5\n",
      "Break condition is met!\n"
     ]
    }
   ],
   "source": [
    "i = 1\n",
    "while i ≤ length(arr)\n",
    "    if arr[i] == 999\n",
    "        println(\"Break condition is met!\")\n",
    "        break\n",
    "    end\n",
    "    println(i)\n",
    "    global i += 1\n",
    "end"
   ]
  },
  {
   "cell_type": "code",
   "execution_count": 5,
   "id": "7085ec3f-7f39-4fcb-9448-3f47a70672d0",
   "metadata": {},
   "outputs": [
    {
     "name": "stdout",
     "output_type": "stream",
     "text": [
      "3\n",
      "5\n",
      "7\n",
      "9\n",
      "42\n",
      "Continue condition is met!\n",
      "11\n",
      "13\n",
      "15\n",
      "Continue condition is met!\n",
      "44\n"
     ]
    }
   ],
   "source": [
    "for e1 ∈ arr\n",
    "    if e1 == 999\n",
    "        println(\"Continue condition is met!\")\n",
    "        continue\n",
    "    end\n",
    "    println(e1)\n",
    "end"
   ]
  },
  {
   "cell_type": "code",
   "execution_count": 6,
   "id": "c75568ef-5efa-4aba-b2a8-db130af9169d",
   "metadata": {},
   "outputs": [
    {
     "name": "stdout",
     "output_type": "stream",
     "text": [
      "3\n",
      "5\n",
      "7\n",
      "9\n",
      "42\n",
      "11\n",
      "13\n",
      "15\n",
      "44\n"
     ]
    }
   ],
   "source": [
    "i = 0\n",
    "\n",
    "while i < length(arr)\n",
    "    global i += 1\n",
    "    if arr[i] == 999\n",
    "        continue\n",
    "    end\n",
    "    println(arr[i])\n",
    "end"
   ]
  },
  {
   "cell_type": "code",
   "execution_count": 7,
   "id": "59da7562-e94d-4e40-8230-ed2d504544b9",
   "metadata": {},
   "outputs": [
    {
     "name": "stdout",
     "output_type": "stream",
     "text": [
      "42\n",
      "44\n"
     ]
    }
   ],
   "source": [
    "for e1 in arr\n",
    "    if e1 % 2 == 1 continue end\n",
    "    println(e1)\n",
    "end"
   ]
  },
  {
   "cell_type": "code",
   "execution_count": 10,
   "id": "109d1332-e545-4b77-b30e-629f7ccd4d1b",
   "metadata": {},
   "outputs": [
    {
     "name": "stdout",
     "output_type": "stream",
     "text": [
      "It took 22 steps to get (6,6).\n"
     ]
    }
   ],
   "source": [
    "numtries = 0\n",
    "while true\n",
    "    global numtries += 1\n",
    "    m, n = rand((1:6)), rand((1:6))\n",
    "    if (m,n) == (6,6) break end\n",
    "end\n",
    "\n",
    "println(\"It took $numtries steps to get (6,6).\")"
   ]
  },
  {
   "cell_type": "code",
   "execution_count": null,
   "id": "10f47902-3678-4f0e-9935-c6c111f4c99b",
   "metadata": {},
   "outputs": [],
   "source": []
  }
 ],
 "metadata": {
  "kernelspec": {
   "display_name": "Julia 1.8.3",
   "language": "julia",
   "name": "julia-1.8"
  },
  "language_info": {
   "file_extension": ".jl",
   "mimetype": "application/julia",
   "name": "julia",
   "version": "1.8.3"
  }
 },
 "nbformat": 4,
 "nbformat_minor": 5
}
