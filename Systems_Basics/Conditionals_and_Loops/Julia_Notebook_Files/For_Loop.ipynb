{
 "cells": [
  {
   "cell_type": "code",
   "execution_count": 1,
   "id": "65de0a76-57f8-4e86-b618-da0c067d899d",
   "metadata": {},
   "outputs": [],
   "source": [
    "#Shishir Khanal\n",
    "#01/18/2023\n",
    "#For loop in Julia"
   ]
  },
  {
   "cell_type": "code",
   "execution_count": 2,
   "id": "78e463dd-e878-4ef0-808d-13a012a71b9f",
   "metadata": {},
   "outputs": [
    {
     "name": "stdout",
     "output_type": "stream",
     "text": [
      "1\n",
      "4\n",
      "9\n",
      "16\n"
     ]
    }
   ],
   "source": [
    "for i in 1:4\n",
    "    println(i^2)\n",
    "end"
   ]
  },
  {
   "cell_type": "code",
   "execution_count": 3,
   "id": "a8e1e9cc-a0ef-42e3-9032-f63ab8455f8d",
   "metadata": {},
   "outputs": [
    {
     "name": "stdout",
     "output_type": "stream",
     "text": [
      "Another iteration in the loop.\n",
      "Another iteration in the loop.\n",
      "Another iteration in the loop.\n",
      "Another iteration in the loop.\n"
     ]
    }
   ],
   "source": [
    "for i in 1:4\n",
    "    println(\"Another iteration in the loop.\")\n",
    "end"
   ]
  },
  {
   "cell_type": "code",
   "execution_count": 4,
   "id": "6135f89a-1474-4152-ba9f-2553f092cc81",
   "metadata": {},
   "outputs": [
    {
     "name": "stdout",
     "output_type": "stream",
     "text": [
      "1\n",
      "4\n",
      "9\n",
      "16\n"
     ]
    }
   ],
   "source": [
    "for k ∈ 1:4\n",
    "    println(k^2)\n",
    "end"
   ]
  },
  {
   "cell_type": "code",
   "execution_count": 5,
   "id": "7c4ed6fa-5d4a-4cb9-8817-f849441a0f7e",
   "metadata": {},
   "outputs": [
    {
     "name": "stdout",
     "output_type": "stream",
     "text": [
      "Julia\n",
      "R\n",
      "Python\n",
      "C\n"
     ]
    }
   ],
   "source": [
    "for name ∈ [\"Julia\", \"R\", \"Python\", \"C\"]\n",
    "    println(name)\n",
    "end"
   ]
  },
  {
   "cell_type": "code",
   "execution_count": 6,
   "id": "50e228d0-f9e2-4472-8174-87fdde00451d",
   "metadata": {},
   "outputs": [
    {
     "data": {
      "text/plain": [
       "5-element Vector{Int64}:\n",
       " 23\n",
       "  6\n",
       " 15\n",
       " 23\n",
       " 20"
      ]
     },
     "execution_count": 6,
     "metadata": {},
     "output_type": "execute_result"
    }
   ],
   "source": [
    "arr = rand(5:25, 5)"
   ]
  },
  {
   "cell_type": "code",
   "execution_count": 7,
   "id": "856c443d-4530-42b4-8a80-12359a16b2b1",
   "metadata": {},
   "outputs": [
    {
     "name": "stdout",
     "output_type": "stream",
     "text": [
      "1. element is 23.\n",
      "2. element is 6.\n",
      "3. element is 15.\n",
      "4. element is 23.\n",
      "5. element is 20.\n"
     ]
    }
   ],
   "source": [
    "for i in 1:length(arr)\n",
    "    println(\"$i. element is $(arr[i]).\")\n",
    "end"
   ]
  },
  {
   "cell_type": "code",
   "execution_count": 8,
   "id": "9f1e3ff6-7203-4f47-abdd-573aa7492f63",
   "metadata": {},
   "outputs": [
    {
     "data": {
      "text/plain": [
       "3×2 Matrix{Int64}:\n",
       " 35  26\n",
       " 29  44\n",
       " 29  26"
      ]
     },
     "execution_count": 8,
     "metadata": {},
     "output_type": "execute_result"
    }
   ],
   "source": [
    "mat = rand(15:44, (3,2))"
   ]
  },
  {
   "cell_type": "code",
   "execution_count": 9,
   "id": "d62ea860-b161-4672-ac89-3ffb2771cd49",
   "metadata": {},
   "outputs": [
    {
     "name": "stdout",
     "output_type": "stream",
     "text": [
      "Row: 1, Column: 1, Value: 35\n",
      "Row: 1, Column: 2, Value: 26\n",
      "Row: 2, Column: 1, Value: 29\n",
      "Row: 2, Column: 2, Value: 44\n",
      "Row: 3, Column: 1, Value: 29\n",
      "Row: 3, Column: 2, Value: 26\n"
     ]
    }
   ],
   "source": [
    "for row in 1:size(mat,1)\n",
    "    for col in 1:size(mat,2)\n",
    "        println(\"Row: $row, Column: $col, Value: $(mat[row, col])\")\n",
    "    end\n",
    "end"
   ]
  },
  {
   "cell_type": "code",
   "execution_count": 10,
   "id": "e3e3bcab-4127-420a-b55d-b100903bfbed",
   "metadata": {},
   "outputs": [
    {
     "name": "stdout",
     "output_type": "stream",
     "text": [
      "Row: 1, Column: 1, Value: 35\n",
      "Row: 1, Column: 2, Value: 26\n",
      "Row: 2, Column: 1, Value: 29\n",
      "Row: 2, Column: 2, Value: 44\n",
      "Row: 3, Column: 1, Value: 29\n",
      "Row: 3, Column: 2, Value: 26\n"
     ]
    }
   ],
   "source": [
    "for row in 1:size(mat,1), col in 1:size(mat,2)\n",
    "    println(\"Row: $row, Column: $col, Value: $(mat[row, col])\")\n",
    "end"
   ]
  },
  {
   "cell_type": "code",
   "execution_count": 11,
   "id": "cb623a57-33ae-4a12-8f41-a3db3a37f7dd",
   "metadata": {},
   "outputs": [
    {
     "name": "stdout",
     "output_type": "stream",
     "text": [
      "(1, 1)(1, 2)(1, 3)(1, 4)\n",
      "(2, 1)(2, 2)(2, 3)(2, 4)\n",
      "(3, 1)(3, 2)(3, 3)(3, 4)\n",
      "(4, 1)(4, 2)(4, 3)(4, 4)\n",
      "(5, 1)(5, 2)(5, 3)(5, 4)\n",
      "(6, 1)(6, 2)(6, 3)(6, 4)\n"
     ]
    }
   ],
   "source": [
    "for row in 1:6\n",
    "    for col in 1:4\n",
    "        print((row, col))\n",
    "    end\n",
    "    println()\n",
    "end"
   ]
  },
  {
   "cell_type": "code",
   "execution_count": 12,
   "id": "5291aa35-6792-4acf-ac1c-b3490cfe8e0b",
   "metadata": {},
   "outputs": [
    {
     "name": "stdout",
     "output_type": "stream",
     "text": [
      "(1, 1)(1, 2)(1, 3)(1, 4)\n",
      "(2, 1)(2, 2)(2, 3)(2, 4)\n",
      "(3, 1)(3, 2)(3, 3)(3, 4)\n",
      "(4, 1)(4, 2)(4, 3)(4, 4)\n",
      "(5, 1)(5, 2)(5, 3)(5, 4)\n",
      "(6, 1)(6, 2)(6, 3)(6, 4)\n"
     ]
    }
   ],
   "source": [
    "for row in 1:6, col in 1:4\n",
    "    print((row, col))\n",
    "    if col == 4\n",
    "        println()\n",
    "    end\n",
    "end"
   ]
  },
  {
   "cell_type": "code",
   "execution_count": 13,
   "id": "4c4a4d90-2a23-43de-9d66-8f82faaeb0d4",
   "metadata": {},
   "outputs": [],
   "source": [
    "names = [\"Albert\", \"Marie\", \"Isaac\", \"Rosalind\", \"Richard\"];\n",
    "surnames = [\"Einstein\", \"Curie\", \"Newton\", \"Franklin\", \"Feynman\"];\n",
    "birthyears = [1879, 1867, 1643, 1918];"
   ]
  },
  {
   "cell_type": "code",
   "execution_count": 15,
   "id": "17c329c3-d2ee-4825-b5a5-22cdc06c2cb4",
   "metadata": {},
   "outputs": [
    {
     "name": "stdout",
     "output_type": "stream",
     "text": [
      "(\"Albert\", \"Einstein\", 1879)\n",
      "(\"Marie\", \"Curie\", 1867)\n",
      "(\"Isaac\", \"Newton\", 1643)\n",
      "(\"Rosalind\", \"Franklin\", 1918)\n"
     ]
    }
   ],
   "source": [
    "for (name, surname, birthyear) ∈ zip(names, surnames, birthyears)\n",
    "    println((name, surname, birthyear))\n",
    "end"
   ]
  },
  {
   "cell_type": "code",
   "execution_count": 16,
   "id": "066e93bd-e8b3-49ea-9aa4-c344b9c20357",
   "metadata": {},
   "outputs": [
    {
     "data": {
      "text/plain": [
       "Dict{String, Int64} with 4 entries:\n",
       "  \"c\" => 30\n",
       "  \"b\" => 20\n",
       "  \"a\" => 10\n",
       "  \"d\" => 40"
      ]
     },
     "execution_count": 16,
     "metadata": {},
     "output_type": "execute_result"
    }
   ],
   "source": [
    "d = Dict(\"a\" => 10, \"b\" => 20, \"c\" => 30, \"d\" => 40)"
   ]
  },
  {
   "cell_type": "code",
   "execution_count": 17,
   "id": "9483f59c-c945-40c0-98f3-4384edd181e6",
   "metadata": {},
   "outputs": [
    {
     "name": "stdout",
     "output_type": "stream",
     "text": [
      "Key is: c, Value is: 30\n",
      "Key is: b, Value is: 20\n",
      "Key is: a, Value is: 10\n",
      "Key is: d, Value is: 40\n"
     ]
    }
   ],
   "source": [
    "for (key, val) in d\n",
    "    println(\"Key is: $key, Value is: $val\")\n",
    "end"
   ]
  },
  {
   "cell_type": "code",
   "execution_count": 18,
   "id": "5a14f651-1189-43b8-980d-6569788888de",
   "metadata": {},
   "outputs": [
    {
     "name": "stdout",
     "output_type": "stream",
     "text": [
      "Key is: c, Value is: 30\n",
      "Key is: b, Value is: 20\n",
      "Key is: a, Value is: 10\n",
      "Key is: d, Value is: 40\n"
     ]
    }
   ],
   "source": [
    "for item in d\n",
    "    println(\"Key is: $(item.first), Value is: $(item.second)\")\n",
    "end  "
   ]
  },
  {
   "cell_type": "code",
   "execution_count": 19,
   "id": "79e1f306-30c2-4b05-9dce-cfcb107e81d8",
   "metadata": {},
   "outputs": [
    {
     "name": "stdout",
     "output_type": "stream",
     "text": [
      "J|u|l|i|a| |L|a|n|g|u|a|g|e|"
     ]
    }
   ],
   "source": [
    "str = \"Julia Language\"\n",
    "for c in str\n",
    "    print(\"$c|\")\n",
    "end"
   ]
  },
  {
   "cell_type": "code",
   "execution_count": 20,
   "id": "8d1d392e-095c-49b3-b24f-143581012edd",
   "metadata": {},
   "outputs": [
    {
     "data": {
      "text/plain": [
       "\"InputFile.txt\""
      ]
     },
     "execution_count": 20,
     "metadata": {},
     "output_type": "execute_result"
    }
   ],
   "source": [
    "file = \"InputFile.txt\""
   ]
  },
  {
   "cell_type": "code",
   "execution_count": 21,
   "id": "ead93e8f-33e1-4596-b1ff-34f4bda341dc",
   "metadata": {},
   "outputs": [
    {
     "name": "stdout",
     "output_type": "stream",
     "text": [
      "For loop is the most common type of loop.\n",
      "The other type of loop is the while loop.\n",
      "Loops are very powerful and fast in Julia.\n"
     ]
    }
   ],
   "source": [
    "for line in eachline(file)\n",
    "    println(line)\n",
    "end"
   ]
  },
  {
   "cell_type": "code",
   "execution_count": 39,
   "id": "ff02de44-7655-4ec5-88c0-3fe326088eaa",
   "metadata": {},
   "outputs": [],
   "source": [
    "#Use Foor loop to find max number in an array\n",
    "arr = rand(-1_000_000:1_000_000, 100);"
   ]
  },
  {
   "cell_type": "code",
   "execution_count": 40,
   "id": "db0f3197-3f9c-496f-84ff-5837859f01e8",
   "metadata": {},
   "outputs": [
    {
     "data": {
      "text/plain": [
       "-9223372036854775808"
      ]
     },
     "execution_count": 40,
     "metadata": {},
     "output_type": "execute_result"
    }
   ],
   "source": [
    "maxnum = typemin(Int64)"
   ]
  },
  {
   "cell_type": "code",
   "execution_count": 41,
   "id": "3098b6ad-ce8f-4c3a-a9d9-452aa2f00b01",
   "metadata": {},
   "outputs": [
    {
     "name": "stdout",
     "output_type": "stream",
     "text": [
      "963524\n"
     ]
    }
   ],
   "source": [
    "for num ∈ arr\n",
    "    if num > maxnum\n",
    "        maxnum = num\n",
    "    end\n",
    "end\n",
    "println(maxnum)"
   ]
  },
  {
   "cell_type": "code",
   "execution_count": 42,
   "id": "daade67b-8557-4f00-935b-c8cea98ef32a",
   "metadata": {},
   "outputs": [
    {
     "name": "stdout",
     "output_type": "stream",
     "text": [
      "34984.46\n"
     ]
    }
   ],
   "source": [
    "#Avg of numbers in array\n",
    "sum = 0\n",
    "n = 0\n",
    "for num = arr\n",
    "    sum += num\n",
    "    n += 1\n",
    "end\n",
    "average = sum / n\n",
    "println(average)"
   ]
  },
  {
   "cell_type": "code",
   "execution_count": 43,
   "id": "d19d6f8b-59b7-4cb3-b9f1-e8b414ed9e83",
   "metadata": {},
   "outputs": [
    {
     "data": {
      "text/plain": [
       "100-element Vector{Int64}:\n",
       "  158536\n",
       "  495302\n",
       "  482759\n",
       " -126408\n",
       " -208289\n",
       "  131526\n",
       " -101539\n",
       " -899714\n",
       " -176203\n",
       " -552500\n",
       "  395159\n",
       "   39090\n",
       " -872599\n",
       "       ⋮\n",
       "  381049\n",
       "  772072\n",
       " -178148\n",
       "  464952\n",
       " -307030\n",
       " -601714\n",
       " -227608\n",
       " -576144\n",
       " -783818\n",
       " -601594\n",
       " -268263\n",
       " -714277"
      ]
     },
     "execution_count": 43,
     "metadata": {},
     "output_type": "execute_result"
    }
   ],
   "source": [
    "arr"
   ]
  }
 ],
 "metadata": {
  "kernelspec": {
   "display_name": "Julia 1.8.3",
   "language": "julia",
   "name": "julia-1.8"
  },
  "language_info": {
   "file_extension": ".jl",
   "mimetype": "application/julia",
   "name": "julia",
   "version": "1.8.3"
  }
 },
 "nbformat": 4,
 "nbformat_minor": 5
}
