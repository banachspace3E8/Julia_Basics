{
 "cells": [
  {
   "cell_type": "code",
   "execution_count": 222,
   "id": "94912723",
   "metadata": {},
   "outputs": [
    {
     "data": {
      "text/plain": [
       "8"
      ]
     },
     "execution_count": 222,
     "metadata": {},
     "output_type": "execute_result"
    }
   ],
   "source": [
    "#Shishir Khanal\n",
    "#26/11/2022\n",
    "#Hello World in Julia\n",
    "\n",
    "3 + 5"
   ]
  },
  {
   "cell_type": "code",
   "execution_count": 223,
   "id": "13db7b9b",
   "metadata": {},
   "outputs": [
    {
     "name": "stdout",
     "output_type": "stream",
     "text": [
      "I am running Julia from Jupyter\n"
     ]
    }
   ],
   "source": [
    "println(\"I am running Julia from Jupyter\")"
   ]
  },
  {
   "cell_type": "code",
   "execution_count": 224,
   "id": "95114db6",
   "metadata": {},
   "outputs": [
    {
     "data": {
      "text/plain": [
       "42"
      ]
     },
     "execution_count": 224,
     "metadata": {},
     "output_type": "execute_result"
    }
   ],
   "source": [
    "42"
   ]
  },
  {
   "cell_type": "code",
   "execution_count": 225,
   "id": "1c9fc9d6",
   "metadata": {},
   "outputs": [
    {
     "data": {
      "text/plain": [
       "4.4"
      ]
     },
     "execution_count": 225,
     "metadata": {},
     "output_type": "execute_result"
    }
   ],
   "source": [
    "4.4"
   ]
  },
  {
   "cell_type": "code",
   "execution_count": 226,
   "id": "09bc23ed",
   "metadata": {},
   "outputs": [
    {
     "data": {
      "text/plain": [
       "Int64"
      ]
     },
     "execution_count": 226,
     "metadata": {},
     "output_type": "execute_result"
    }
   ],
   "source": [
    "typeof(42)"
   ]
  },
  {
   "cell_type": "code",
   "execution_count": 227,
   "id": "f9cd801b",
   "metadata": {},
   "outputs": [
    {
     "data": {
      "text/plain": [
       "Float64"
      ]
     },
     "execution_count": 227,
     "metadata": {},
     "output_type": "execute_result"
    }
   ],
   "source": [
    "typeof(4.4)"
   ]
  },
  {
   "cell_type": "code",
   "execution_count": 228,
   "id": "2b3f8e6c",
   "metadata": {},
   "outputs": [
    {
     "data": {
      "text/plain": [
       "45"
      ]
     },
     "execution_count": 228,
     "metadata": {},
     "output_type": "execute_result"
    }
   ],
   "source": [
    "3 + 6 * 7"
   ]
  },
  {
   "cell_type": "code",
   "execution_count": 229,
   "id": "f96c82e6",
   "metadata": {},
   "outputs": [
    {
     "data": {
      "text/plain": [
       "0.05357142857142857"
      ]
     },
     "execution_count": 229,
     "metadata": {},
     "output_type": "execute_result"
    }
   ],
   "source": [
    "3/56"
   ]
  },
  {
   "cell_type": "code",
   "execution_count": 230,
   "id": "9b50afc1",
   "metadata": {},
   "outputs": [
    {
     "data": {
      "text/plain": [
       "Float64"
      ]
     },
     "execution_count": 230,
     "metadata": {},
     "output_type": "execute_result"
    }
   ],
   "source": [
    "typeof(3/56)"
   ]
  },
  {
   "cell_type": "code",
   "execution_count": 231,
   "id": "a1f2f282",
   "metadata": {},
   "outputs": [
    {
     "data": {
      "text/plain": [
       "34"
      ]
     },
     "execution_count": 231,
     "metadata": {},
     "output_type": "execute_result"
    }
   ],
   "source": [
    "grade = 34"
   ]
  },
  {
   "cell_type": "code",
   "execution_count": 232,
   "id": "d182230c",
   "metadata": {},
   "outputs": [
    {
     "data": {
      "text/plain": [
       "34"
      ]
     },
     "execution_count": 232,
     "metadata": {},
     "output_type": "execute_result"
    }
   ],
   "source": [
    "grade"
   ]
  },
  {
   "cell_type": "code",
   "execution_count": 233,
   "id": "4c287c4a",
   "metadata": {},
   "outputs": [
    {
     "name": "stdout",
     "output_type": "stream",
     "text": [
      "34\n"
     ]
    }
   ],
   "source": [
    "println(grade)"
   ]
  },
  {
   "cell_type": "code",
   "execution_count": 234,
   "id": "a726e06f",
   "metadata": {},
   "outputs": [
    {
     "data": {
      "text/plain": [
       "4"
      ]
     },
     "execution_count": 234,
     "metadata": {},
     "output_type": "execute_result"
    }
   ],
   "source": [
    "rank = 4"
   ]
  },
  {
   "cell_type": "code",
   "execution_count": 235,
   "id": "7016241f",
   "metadata": {},
   "outputs": [
    {
     "data": {
      "text/plain": [
       "38"
      ]
     },
     "execution_count": 235,
     "metadata": {},
     "output_type": "execute_result"
    }
   ],
   "source": [
    "grade + rank"
   ]
  },
  {
   "cell_type": "code",
   "execution_count": 236,
   "id": "e1831c65",
   "metadata": {},
   "outputs": [
    {
     "data": {
      "text/plain": [
       "Int64"
      ]
     },
     "execution_count": 236,
     "metadata": {},
     "output_type": "execute_result"
    }
   ],
   "source": [
    "typeof(rank)"
   ]
  },
  {
   "cell_type": "code",
   "execution_count": 237,
   "id": "57216865",
   "metadata": {},
   "outputs": [
    {
     "data": {
      "text/plain": [
       "π = 3.1415926535897..."
      ]
     },
     "execution_count": 237,
     "metadata": {},
     "output_type": "execute_result"
    }
   ],
   "source": [
    "pi"
   ]
  },
  {
   "cell_type": "code",
   "execution_count": 238,
   "id": "41ffd3df",
   "metadata": {},
   "outputs": [
    {
     "data": {
      "text/plain": [
       "1"
      ]
     },
     "execution_count": 238,
     "metadata": {},
     "output_type": "execute_result"
    }
   ],
   "source": [
    "100 % 3"
   ]
  },
  {
   "cell_type": "code",
   "execution_count": 239,
   "id": "85e303c8",
   "metadata": {},
   "outputs": [
    {
     "data": {
      "text/plain": [
       "8"
      ]
     },
     "execution_count": 239,
     "metadata": {},
     "output_type": "execute_result"
    }
   ],
   "source": [
    "2 ^ 3"
   ]
  },
  {
   "cell_type": "code",
   "execution_count": 240,
   "id": "604aeb9b",
   "metadata": {},
   "outputs": [],
   "source": [
    "#This is comment"
   ]
  },
  {
   "cell_type": "code",
   "execution_count": 241,
   "id": "ef987e3f",
   "metadata": {},
   "outputs": [],
   "source": [
    "#= 1st line\n",
    "2ndline\n",
    "Third line\n",
    "=#"
   ]
  },
  {
   "cell_type": "code",
   "execution_count": 242,
   "id": "2a6019ea",
   "metadata": {},
   "outputs": [
    {
     "data": {
      "text/plain": [
       "\"This is Julia\""
      ]
     },
     "execution_count": 242,
     "metadata": {},
     "output_type": "execute_result"
    }
   ],
   "source": [
    "s1 = \"This is Julia\""
   ]
  },
  {
   "cell_type": "code",
   "execution_count": 243,
   "id": "220b2fce",
   "metadata": {},
   "outputs": [
    {
     "data": {
      "text/plain": [
       "String"
      ]
     },
     "execution_count": 243,
     "metadata": {},
     "output_type": "execute_result"
    }
   ],
   "source": [
    "typeof(s1)"
   ]
  },
  {
   "cell_type": "code",
   "execution_count": 244,
   "id": "3c447496",
   "metadata": {},
   "outputs": [
    {
     "data": {
      "text/plain": [
       "\"This is first line.\\nThis is second line.\\nThis is third line.\""
      ]
     },
     "execution_count": 244,
     "metadata": {},
     "output_type": "execute_result"
    }
   ],
   "source": [
    "s2 = \"\"\"This is first line.\n",
    "This is second line.\n",
    "This is third line.\"\"\""
   ]
  },
  {
   "cell_type": "code",
   "execution_count": 245,
   "id": "59810dff",
   "metadata": {},
   "outputs": [
    {
     "name": "stdout",
     "output_type": "stream",
     "text": [
      "This is first line.\n",
      "This is second line.\n",
      "This is third line.\n"
     ]
    }
   ],
   "source": [
    "println(s2)"
   ]
  },
  {
   "cell_type": "code",
   "execution_count": 246,
   "id": "02f7f73e",
   "metadata": {},
   "outputs": [
    {
     "data": {
      "text/plain": [
       "\"It \\\"is\\\" raining outside\\\" \""
      ]
     },
     "execution_count": 246,
     "metadata": {},
     "output_type": "execute_result"
    }
   ],
   "source": [
    "s3 = \"\"\"It \"is\" raining outside\" \"\"\""
   ]
  },
  {
   "cell_type": "code",
   "execution_count": 247,
   "id": "0199136a",
   "metadata": {},
   "outputs": [
    {
     "name": "stdout",
     "output_type": "stream",
     "text": [
      "It \"is\" raining outside\" \n"
     ]
    }
   ],
   "source": [
    "println(s3)"
   ]
  },
  {
   "cell_type": "code",
   "execution_count": 248,
   "id": "b05f252c",
   "metadata": {},
   "outputs": [
    {
     "name": "stdout",
     "output_type": "stream",
     "text": [
      "My grade is 12\n"
     ]
    }
   ],
   "source": [
    "println(\"My grade is 12\")"
   ]
  },
  {
   "cell_type": "code",
   "execution_count": 249,
   "id": "a5bd317a",
   "metadata": {},
   "outputs": [
    {
     "data": {
      "text/plain": [
       "34"
      ]
     },
     "execution_count": 249,
     "metadata": {},
     "output_type": "execute_result"
    }
   ],
   "source": [
    "grade"
   ]
  },
  {
   "cell_type": "code",
   "execution_count": 250,
   "id": "9e59080c",
   "metadata": {},
   "outputs": [
    {
     "name": "stdout",
     "output_type": "stream",
     "text": [
      "My grade is 34\n"
     ]
    }
   ],
   "source": [
    "println(\"My grade is $grade\")"
   ]
  },
  {
   "cell_type": "code",
   "execution_count": 251,
   "id": "173b475c",
   "metadata": {},
   "outputs": [
    {
     "name": "stdout",
     "output_type": "stream",
     "text": [
      "My grade is 39\n"
     ]
    }
   ],
   "source": [
    "println(\"My grade is $(grade+5)\")"
   ]
  },
  {
   "cell_type": "code",
   "execution_count": 252,
   "id": "c421d231",
   "metadata": {},
   "outputs": [],
   "source": [
    "m1 = \"I love \"\n",
    "m2 = \"Julia\";"
   ]
  },
  {
   "cell_type": "code",
   "execution_count": 253,
   "id": "d890aaac",
   "metadata": {},
   "outputs": [
    {
     "data": {
      "text/plain": [
       "\"I love Julia\""
      ]
     },
     "execution_count": 253,
     "metadata": {},
     "output_type": "execute_result"
    }
   ],
   "source": [
    "string(m1, m2)"
   ]
  },
  {
   "cell_type": "code",
   "execution_count": 254,
   "id": "ab319623",
   "metadata": {},
   "outputs": [
    {
     "data": {
      "text/plain": [
       "\"I love classic Julia\""
      ]
     },
     "execution_count": 254,
     "metadata": {},
     "output_type": "execute_result"
    }
   ],
   "source": [
    "string(m1, \"classic \", m2)"
   ]
  },
  {
   "cell_type": "code",
   "execution_count": 255,
   "id": "35e31652",
   "metadata": {},
   "outputs": [
    {
     "data": {
      "text/plain": [
       "\"Julia \""
      ]
     },
     "execution_count": 255,
     "metadata": {},
     "output_type": "execute_result"
    }
   ],
   "source": [
    "m2 = \"Julia \""
   ]
  },
  {
   "cell_type": "code",
   "execution_count": 256,
   "id": "8e5e09bc",
   "metadata": {},
   "outputs": [
    {
     "data": {
      "text/plain": [
       "\"Julia Julia Julia Julia Julia Julia Julia Julia Julia Julia Julia Julia Julia Julia Julia Julia Julia Julia Julia Julia Julia Julia Julia Julia Julia Julia Julia Julia Julia Julia Julia Julia Julia Julia Julia Julia Julia Julia Julia Julia Julia Julia Julia Julia Julia J\" ⋯ 58 bytes ⋯ \" Julia Julia Julia Julia Julia Julia Julia Julia Julia Julia Julia Julia Julia Julia Julia Julia Julia Julia Julia Julia Julia Julia Julia Julia Julia Julia Julia Julia Julia Julia Julia Julia Julia Julia Julia Julia Julia Julia Julia Julia Julia Julia Julia Julia Julia \""
      ]
     },
     "execution_count": 256,
     "metadata": {},
     "output_type": "execute_result"
    }
   ],
   "source": [
    "m2 ^ 100"
   ]
  },
  {
   "cell_type": "code",
   "execution_count": 257,
   "id": "2e529501",
   "metadata": {},
   "outputs": [
    {
     "data": {
      "text/plain": [
       "\"I love \""
      ]
     },
     "execution_count": 257,
     "metadata": {},
     "output_type": "execute_result"
    }
   ],
   "source": [
    " m1"
   ]
  },
  {
   "cell_type": "markdown",
   "id": "545601e9",
   "metadata": {},
   "source": []
  },
  {
   "cell_type": "code",
   "execution_count": 258,
   "id": "e3e8d4a2",
   "metadata": {},
   "outputs": [
    {
     "data": {
      "text/plain": [
       "'I': ASCII/Unicode U+0049 (category Lu: Letter, uppercase)"
      ]
     },
     "execution_count": 258,
     "metadata": {},
     "output_type": "execute_result"
    }
   ],
   "source": [
    "m1[1]"
   ]
  },
  {
   "cell_type": "code",
   "execution_count": 259,
   "id": "d51bbf0e",
   "metadata": {},
   "outputs": [
    {
     "data": {
      "text/plain": [
       "'l': ASCII/Unicode U+006C (category Ll: Letter, lowercase)"
      ]
     },
     "execution_count": 259,
     "metadata": {},
     "output_type": "execute_result"
    }
   ],
   "source": [
    "m1[3]"
   ]
  },
  {
   "cell_type": "code",
   "execution_count": 260,
   "id": "0232c404",
   "metadata": {},
   "outputs": [
    {
     "data": {
      "text/plain": [
       "\"love\""
      ]
     },
     "execution_count": 260,
     "metadata": {},
     "output_type": "execute_result"
    }
   ],
   "source": [
    "#m1[start index: end index]\n",
    "#Upper bound is always included\n",
    "m1[3:6]"
   ]
  },
  {
   "cell_type": "code",
   "execution_count": 261,
   "id": "4d7db785",
   "metadata": {},
   "outputs": [
    {
     "data": {
      "text/plain": [
       "'m': ASCII/Unicode U+006D (category Ll: Letter, lowercase)"
      ]
     },
     "execution_count": 261,
     "metadata": {},
     "output_type": "execute_result"
    }
   ],
   "source": [
    "ch = 'm'"
   ]
  },
  {
   "cell_type": "code",
   "execution_count": 262,
   "id": "cd657943",
   "metadata": {},
   "outputs": [
    {
     "data": {
      "text/plain": [
       "3-element Vector{Int64}:\n",
       " 3\n",
       " 5\n",
       " 9"
      ]
     },
     "execution_count": 262,
     "metadata": {},
     "output_type": "execute_result"
    }
   ],
   "source": [
    "[3, 5, 9]"
   ]
  },
  {
   "cell_type": "code",
   "execution_count": 263,
   "id": "cc402eec",
   "metadata": {},
   "outputs": [
    {
     "data": {
      "text/plain": [
       "3-element Vector{Int64}:\n",
       "  4\n",
       "  7\n",
       " 12"
      ]
     },
     "execution_count": 263,
     "metadata": {},
     "output_type": "execute_result"
    }
   ],
   "source": [
    "[3, 5, 9] + [1, 2, 3]"
   ]
  },
  {
   "cell_type": "code",
   "execution_count": 264,
   "id": "9fcd16bb",
   "metadata": {},
   "outputs": [
    {
     "data": {
      "text/plain": [
       "4-element Vector{Any}:\n",
       "     \"Hello\"\n",
       "    2\n",
       "   45.7\n",
       " true"
      ]
     },
     "execution_count": 264,
     "metadata": {},
     "output_type": "execute_result"
    }
   ],
   "source": [
    "arr = [\"Hello\", 2, 45.7, true]"
   ]
  },
  {
   "cell_type": "code",
   "execution_count": 265,
   "id": "95820ca6",
   "metadata": {},
   "outputs": [
    {
     "data": {
      "text/plain": [
       "4"
      ]
     },
     "execution_count": 265,
     "metadata": {},
     "output_type": "execute_result"
    }
   ],
   "source": [
    "length(arr)"
   ]
  },
  {
   "cell_type": "code",
   "execution_count": 266,
   "id": "4ca371bb",
   "metadata": {},
   "outputs": [
    {
     "data": {
      "text/plain": [
       "Vector{Any}\u001b[90m (alias for \u001b[39m\u001b[90mArray{Any, 1}\u001b[39m\u001b[90m)\u001b[39m"
      ]
     },
     "execution_count": 266,
     "metadata": {},
     "output_type": "execute_result"
    }
   ],
   "source": [
    "typeof(arr)"
   ]
  },
  {
   "cell_type": "code",
   "execution_count": 267,
   "id": "dc791227",
   "metadata": {},
   "outputs": [
    {
     "data": {
      "text/plain": [
       "9"
      ]
     },
     "execution_count": 267,
     "metadata": {},
     "output_type": "execute_result"
    }
   ],
   "source": [
    "maximum([3, 5, 9])"
   ]
  },
  {
   "cell_type": "code",
   "execution_count": 268,
   "id": "fdd279f6",
   "metadata": {},
   "outputs": [
    {
     "data": {
      "text/plain": [
       "45.7"
      ]
     },
     "execution_count": 268,
     "metadata": {},
     "output_type": "execute_result"
    }
   ],
   "source": [
    "arr[3]"
   ]
  },
  {
   "cell_type": "code",
   "execution_count": 269,
   "id": "ddc2ff61",
   "metadata": {},
   "outputs": [
    {
     "data": {
      "text/plain": [
       "3-element Vector{Any}:\n",
       "    2\n",
       "   45.7\n",
       " true"
      ]
     },
     "execution_count": 269,
     "metadata": {},
     "output_type": "execute_result"
    }
   ],
   "source": [
    "arr[2:4]"
   ]
  },
  {
   "cell_type": "code",
   "execution_count": 270,
   "id": "5b320325",
   "metadata": {},
   "outputs": [
    {
     "data": {
      "text/plain": [
       "1-element Vector{Any}:\n",
       " true"
      ]
     },
     "execution_count": 270,
     "metadata": {},
     "output_type": "execute_result"
    }
   ],
   "source": [
    "arr[4:4]"
   ]
  },
  {
   "cell_type": "code",
   "execution_count": 271,
   "id": "89881911",
   "metadata": {},
   "outputs": [
    {
     "data": {
      "text/plain": [
       "4-element Vector{Float64}:\n",
       " 0.0\n",
       " 0.0\n",
       " 0.0\n",
       " 0.0"
      ]
     },
     "execution_count": 271,
     "metadata": {},
     "output_type": "execute_result"
    }
   ],
   "source": [
    "zeros(4)"
   ]
  },
  {
   "cell_type": "code",
   "execution_count": 272,
   "id": "d51f9559",
   "metadata": {},
   "outputs": [
    {
     "data": {
      "text/plain": [
       "4-element Vector{Float64}:\n",
       " 1.0\n",
       " 1.0\n",
       " 1.0\n",
       " 1.0"
      ]
     },
     "execution_count": 272,
     "metadata": {},
     "output_type": "execute_result"
    }
   ],
   "source": [
    "ones(4)"
   ]
  },
  {
   "cell_type": "code",
   "execution_count": 273,
   "id": "e2d3b098",
   "metadata": {},
   "outputs": [
    {
     "name": "stdout",
     "output_type": "stream",
     "text": [
      "Any[\"Hello\", 2, 45.7, true]\n"
     ]
    }
   ],
   "source": [
    "println(arr)"
   ]
  },
  {
   "cell_type": "code",
   "execution_count": 274,
   "id": "64f32dca",
   "metadata": {},
   "outputs": [
    {
     "data": {
      "text/plain": [
       "5-element Vector{Any}:\n",
       "     \"Hello\"\n",
       "    2\n",
       "   45.7\n",
       " true\n",
       "     \"34\""
      ]
     },
     "execution_count": 274,
     "metadata": {},
     "output_type": "execute_result"
    }
   ],
   "source": [
    "push!(arr, \"34\")"
   ]
  },
  {
   "cell_type": "code",
   "execution_count": 275,
   "id": "936c1460",
   "metadata": {},
   "outputs": [
    {
     "name": "stdout",
     "output_type": "stream",
     "text": [
      "Any[\"Hello\", 2, 45.7, true, \"34\"]\n"
     ]
    }
   ],
   "source": [
    "println(arr)"
   ]
  },
  {
   "cell_type": "code",
   "execution_count": 276,
   "id": "c85051fe",
   "metadata": {},
   "outputs": [
    {
     "data": {
      "text/plain": [
       "3-element Vector{Int64}:\n",
       " -1\n",
       "  3\n",
       "  5"
      ]
     },
     "execution_count": 276,
     "metadata": {},
     "output_type": "execute_result"
    }
   ],
   "source": [
    "sort([3, 5, -1])"
   ]
  },
  {
   "cell_type": "code",
   "execution_count": 277,
   "id": "c75b296b",
   "metadata": {},
   "outputs": [
    {
     "data": {
      "text/plain": [
       "1:100"
      ]
     },
     "execution_count": 277,
     "metadata": {},
     "output_type": "execute_result"
    }
   ],
   "source": [
    "range(1, stop=100)"
   ]
  },
  {
   "cell_type": "code",
   "execution_count": 278,
   "id": "e92edbaa",
   "metadata": {},
   "outputs": [
    {
     "data": {
      "text/plain": [
       "-10:5:35"
      ]
     },
     "execution_count": 278,
     "metadata": {},
     "output_type": "execute_result"
    }
   ],
   "source": [
    "range(-10,step=5, length=10)"
   ]
  },
  {
   "cell_type": "code",
   "execution_count": 279,
   "id": "34e52d6a",
   "metadata": {},
   "outputs": [
    {
     "data": {
      "text/plain": [
       "-10:-1"
      ]
     },
     "execution_count": 279,
     "metadata": {},
     "output_type": "execute_result"
    }
   ],
   "source": [
    "range(-10, length=10)"
   ]
  },
  {
   "cell_type": "code",
   "execution_count": 280,
   "id": "3778eeb9",
   "metadata": {},
   "outputs": [
    {
     "data": {
      "text/plain": [
       "5-element Vector{Any}:\n",
       "     \"Hello\"\n",
       "    2\n",
       "   45.7\n",
       " true\n",
       "     \"34\""
      ]
     },
     "execution_count": 280,
     "metadata": {},
     "output_type": "execute_result"
    }
   ],
   "source": [
    "arr"
   ]
  },
  {
   "cell_type": "code",
   "execution_count": 281,
   "id": "33a01fc3",
   "metadata": {},
   "outputs": [
    {
     "data": {
      "text/plain": [
       "5-element Vector{Any}:\n",
       "     \"Hello\"\n",
       "    2\n",
       "   45.7\n",
       " true\n",
       "     \"34\""
      ]
     },
     "execution_count": 281,
     "metadata": {},
     "output_type": "execute_result"
    }
   ],
   "source": [
    "arr1 = arr\n",
    "#Doesn't create a new copy"
   ]
  },
  {
   "cell_type": "code",
   "execution_count": 282,
   "id": "3fc62372",
   "metadata": {},
   "outputs": [
    {
     "data": {
      "text/plain": [
       "\"Bye\""
      ]
     },
     "execution_count": 282,
     "metadata": {},
     "output_type": "execute_result"
    }
   ],
   "source": [
    "arr1[1] = \"Bye\""
   ]
  },
  {
   "cell_type": "code",
   "execution_count": 283,
   "id": "91575e89",
   "metadata": {},
   "outputs": [
    {
     "name": "stdout",
     "output_type": "stream",
     "text": [
      "Any[\"Bye\", 2, 45.7, true, \"34\"]Any[\"Bye\", 2, 45.7, true, \"34\"]\n"
     ]
    }
   ],
   "source": [
    "println(arr1, arr)"
   ]
  },
  {
   "cell_type": "code",
   "execution_count": 284,
   "id": "63dad88b",
   "metadata": {},
   "outputs": [
    {
     "data": {
      "text/plain": [
       "5-element Vector{Any}:\n",
       "     \"Bye\"\n",
       "    2\n",
       "   45.7\n",
       " true\n",
       "     \"34\""
      ]
     },
     "execution_count": 284,
     "metadata": {},
     "output_type": "execute_result"
    }
   ],
   "source": [
    "arr2 = copy(arr)"
   ]
  },
  {
   "cell_type": "code",
   "execution_count": 285,
   "id": "5592760c",
   "metadata": {},
   "outputs": [
    {
     "data": {
      "text/plain": [
       "\"Julia\""
      ]
     },
     "execution_count": 285,
     "metadata": {},
     "output_type": "execute_result"
    }
   ],
   "source": [
    "arr2[1] = \"Julia\""
   ]
  },
  {
   "cell_type": "code",
   "execution_count": 286,
   "id": "b285e29a",
   "metadata": {},
   "outputs": [
    {
     "name": "stdout",
     "output_type": "stream",
     "text": [
      "Any[\"Bye\", 2, 45.7, true, \"34\"]Any[\"Julia\", 2, 45.7, true, \"34\"]\n"
     ]
    }
   ],
   "source": [
    "println(arr, arr2)"
   ]
  },
  {
   "cell_type": "code",
   "execution_count": 287,
   "id": "f0d1fd3a",
   "metadata": {},
   "outputs": [
    {
     "data": {
      "text/plain": [
       "5-element Vector{Any}:\n",
       "     \"Bye\"\n",
       "    2\n",
       "   45.7\n",
       " true\n",
       "     \"34\""
      ]
     },
     "execution_count": 287,
     "metadata": {},
     "output_type": "execute_result"
    }
   ],
   "source": [
    "arr"
   ]
  },
  {
   "cell_type": "code",
   "execution_count": 288,
   "id": "55e1e33c",
   "metadata": {},
   "outputs": [
    {
     "data": {
      "text/plain": [
       "true"
      ]
     },
     "execution_count": 288,
     "metadata": {},
     "output_type": "execute_result"
    }
   ],
   "source": [
    "in(2, arr)\n",
    "#Does 2 exist in arr?"
   ]
  },
  {
   "cell_type": "code",
   "execution_count": 289,
   "id": "d085d551",
   "metadata": {},
   "outputs": [
    {
     "data": {
      "text/plain": [
       "false"
      ]
     },
     "execution_count": 289,
     "metadata": {},
     "output_type": "execute_result"
    }
   ],
   "source": [
    "in(\"2\", arr)\n",
    "#Does 2(string) exist in arr?"
   ]
  },
  {
   "cell_type": "code",
   "execution_count": 290,
   "id": "c582ea88",
   "metadata": {},
   "outputs": [],
   "source": [
    "#Tuples"
   ]
  },
  {
   "cell_type": "code",
   "execution_count": 291,
   "id": "a56b8ed3",
   "metadata": {},
   "outputs": [
    {
     "data": {
      "text/plain": [
       "(3, 6, true)"
      ]
     },
     "execution_count": 291,
     "metadata": {},
     "output_type": "execute_result"
    }
   ],
   "source": [
    "t1 = (3, 6, true)"
   ]
  },
  {
   "cell_type": "code",
   "execution_count": 292,
   "id": "32dc421f",
   "metadata": {},
   "outputs": [
    {
     "data": {
      "text/plain": [
       "Tuple{Int64, Int64, Bool}"
      ]
     },
     "execution_count": 292,
     "metadata": {},
     "output_type": "execute_result"
    }
   ],
   "source": [
    "typeof(t1)"
   ]
  },
  {
   "cell_type": "code",
   "execution_count": 293,
   "id": "5482679b",
   "metadata": {},
   "outputs": [
    {
     "data": {
      "text/plain": [
       "6"
      ]
     },
     "execution_count": 293,
     "metadata": {},
     "output_type": "execute_result"
    }
   ],
   "source": [
    "t1[2]"
   ]
  },
  {
   "cell_type": "code",
   "execution_count": 294,
   "id": "e0e12a61",
   "metadata": {},
   "outputs": [],
   "source": [
    "#t1[2] = \"hello\"\n",
    "#Once defined tuple values can't be changed"
   ]
  },
  {
   "cell_type": "code",
   "execution_count": 295,
   "id": "365b2bfa",
   "metadata": {},
   "outputs": [
    {
     "data": {
      "text/plain": [
       "3"
      ]
     },
     "execution_count": 295,
     "metadata": {},
     "output_type": "execute_result"
    }
   ],
   "source": [
    "length(t1)"
   ]
  },
  {
   "cell_type": "code",
   "execution_count": 296,
   "id": "35a39732",
   "metadata": {},
   "outputs": [],
   "source": [
    "#Dictionary"
   ]
  },
  {
   "cell_type": "code",
   "execution_count": 297,
   "id": "82f4c7d7",
   "metadata": {},
   "outputs": [
    {
     "data": {
      "text/plain": [
       "Dict{String, String} with 3 entries:\n",
       "  \"John\"  => \"555\"\n",
       "  \"Alice\" => \"111\"\n",
       "  \"Bob\"   => \"333\""
      ]
     },
     "execution_count": 297,
     "metadata": {},
     "output_type": "execute_result"
    }
   ],
   "source": [
    "#=\n",
    "Jogn - 555\n",
    "Alice - 111\n",
    "Bob - 333\n",
    "=#\n",
    "phonebook = Dict(\"John\" => \"555\", \"Alice\" => \"111\", \"Bob\" => \"333\")"
   ]
  },
  {
   "cell_type": "code",
   "execution_count": 298,
   "id": "3f589006",
   "metadata": {},
   "outputs": [
    {
     "data": {
      "text/plain": [
       "KeySet for a Dict{String, String} with 3 entries. Keys:\n",
       "  \"John\"\n",
       "  \"Alice\"\n",
       "  \"Bob\""
      ]
     },
     "execution_count": 298,
     "metadata": {},
     "output_type": "execute_result"
    }
   ],
   "source": [
    "keys(phonebook)"
   ]
  },
  {
   "cell_type": "code",
   "execution_count": 299,
   "id": "f9bf9577",
   "metadata": {},
   "outputs": [
    {
     "data": {
      "text/plain": [
       "ValueIterator for a Dict{String, String} with 3 entries. Values:\n",
       "  \"555\"\n",
       "  \"111\"\n",
       "  \"333\""
      ]
     },
     "execution_count": 299,
     "metadata": {},
     "output_type": "execute_result"
    }
   ],
   "source": [
    "values(phonebook)"
   ]
  },
  {
   "cell_type": "code",
   "execution_count": 300,
   "id": "fceca4a5",
   "metadata": {},
   "outputs": [
    {
     "data": {
      "text/plain": [
       "\"555\""
      ]
     },
     "execution_count": 300,
     "metadata": {},
     "output_type": "execute_result"
    }
   ],
   "source": [
    "phonebook[\"John\"]"
   ]
  },
  {
   "cell_type": "code",
   "execution_count": 301,
   "id": "d753e425",
   "metadata": {},
   "outputs": [
    {
     "name": "stdout",
     "output_type": "stream",
     "text": [
      "John, 555\n",
      "Alice, 111\n",
      "Bob, 333\n"
     ]
    }
   ],
   "source": [
    "for (k, v) in phonebook\n",
    "    println(\"$k, $v\")\n",
    "end"
   ]
  },
  {
   "cell_type": "code",
   "execution_count": 302,
   "id": "5a3057d4",
   "metadata": {},
   "outputs": [
    {
     "data": {
      "text/plain": [
       "3-element Vector{String}:\n",
       " \"John\"\n",
       " \"Alice\"\n",
       " \"Bob\""
      ]
     },
     "execution_count": 302,
     "metadata": {},
     "output_type": "execute_result"
    }
   ],
   "source": [
    "collect(keys(phonebook))"
   ]
  },
  {
   "cell_type": "code",
   "execution_count": 303,
   "id": "0dc51cef",
   "metadata": {},
   "outputs": [
    {
     "data": {
      "text/plain": [
       "true"
      ]
     },
     "execution_count": 303,
     "metadata": {},
     "output_type": "execute_result"
    }
   ],
   "source": [
    "haskey(phonebook, \"John\")"
   ]
  },
  {
   "cell_type": "code",
   "execution_count": 304,
   "id": "85f65450",
   "metadata": {},
   "outputs": [
    {
     "data": {
      "text/plain": [
       "false"
      ]
     },
     "execution_count": 304,
     "metadata": {},
     "output_type": "execute_result"
    }
   ],
   "source": [
    "haskey(phonebook, \"John1\")"
   ]
  },
  {
   "cell_type": "code",
   "execution_count": 305,
   "id": "e2ffd4a7",
   "metadata": {},
   "outputs": [],
   "source": [
    "#Sets"
   ]
  },
  {
   "cell_type": "code",
   "execution_count": 306,
   "id": "1efc63a7",
   "metadata": {},
   "outputs": [
    {
     "data": {
      "text/plain": [
       "Set{Int64} with 3 elements:\n",
       "  6\n",
       "  3\n",
       "  1"
      ]
     },
     "execution_count": 306,
     "metadata": {},
     "output_type": "execute_result"
    }
   ],
   "source": [
    "s1 = Set([1,3,6,6])"
   ]
  },
  {
   "cell_type": "code",
   "execution_count": 307,
   "id": "193b9ebb",
   "metadata": {},
   "outputs": [
    {
     "data": {
      "text/plain": [
       "Set{Int64} with 3 elements:\n",
       "  4\n",
       "  6\n",
       "  3"
      ]
     },
     "execution_count": 307,
     "metadata": {},
     "output_type": "execute_result"
    }
   ],
   "source": [
    "s2 = Set([3, 6, 4, 3])"
   ]
  },
  {
   "cell_type": "code",
   "execution_count": 308,
   "id": "8d563567",
   "metadata": {},
   "outputs": [
    {
     "data": {
      "text/plain": [
       "Set{Int64} with 4 elements:\n",
       "  4\n",
       "  6\n",
       "  3\n",
       "  1"
      ]
     },
     "execution_count": 308,
     "metadata": {},
     "output_type": "execute_result"
    }
   ],
   "source": [
    "union(s1, s2)"
   ]
  },
  {
   "cell_type": "code",
   "execution_count": 309,
   "id": "df5e69f8",
   "metadata": {},
   "outputs": [
    {
     "data": {
      "text/plain": [
       "Set{Int64} with 2 elements:\n",
       "  6\n",
       "  3"
      ]
     },
     "execution_count": 309,
     "metadata": {},
     "output_type": "execute_result"
    }
   ],
   "source": [
    "intersect(s1, s2)"
   ]
  },
  {
   "cell_type": "code",
   "execution_count": 310,
   "id": "53746eac",
   "metadata": {},
   "outputs": [
    {
     "data": {
      "text/plain": [
       "false"
      ]
     },
     "execution_count": 310,
     "metadata": {},
     "output_type": "execute_result"
    }
   ],
   "source": [
    "issubset(s1, s2)"
   ]
  },
  {
   "cell_type": "code",
   "execution_count": 311,
   "id": "1a4d7d27",
   "metadata": {},
   "outputs": [],
   "source": [
    "#Decision making"
   ]
  },
  {
   "cell_type": "code",
   "execution_count": 312,
   "id": "939e1b52",
   "metadata": {},
   "outputs": [
    {
     "data": {
      "text/plain": [
       "20"
      ]
     },
     "execution_count": 312,
     "metadata": {},
     "output_type": "execute_result"
    }
   ],
   "source": [
    "N = 20"
   ]
  },
  {
   "cell_type": "code",
   "execution_count": 313,
   "id": "9694f3c9",
   "metadata": {},
   "outputs": [
    {
     "name": "stdout",
     "output_type": "stream",
     "text": [
      "N is +ve\n"
     ]
    }
   ],
   "source": [
    "if N > 0\n",
    "    println(\"N is +ve\")\n",
    "else\n",
    "    println(\"N is -ve\")\n",
    "end"
   ]
  },
  {
   "cell_type": "code",
   "execution_count": 314,
   "id": "e0128510",
   "metadata": {},
   "outputs": [
    {
     "name": "stdout",
     "output_type": "stream",
     "text": [
      "Number is between 0 an 25\n"
     ]
    }
   ],
   "source": [
    "if N > 25\n",
    "    println(\"Number is greater than 25\")\n",
    "elseif (N > 0 && N < 25)\n",
    "    println(\"Number is between 0 an 25\")\n",
    "else\n",
    "    println(\"Number is negative\")\n",
    "end"
   ]
  },
  {
   "cell_type": "code",
   "execution_count": 315,
   "id": "71ac3560",
   "metadata": {},
   "outputs": [],
   "source": [
    "#Looping"
   ]
  },
  {
   "cell_type": "code",
   "execution_count": 316,
   "id": "b5f4b019",
   "metadata": {},
   "outputs": [
    {
     "name": "stdout",
     "output_type": "stream",
     "text": [
      "1\n",
      "2\n",
      "3\n",
      "4\n",
      "5\n",
      "6\n",
      "7\n",
      "8\n",
      "9\n",
      "10\n",
      "11\n",
      "12\n",
      "13\n",
      "14\n",
      "15\n",
      "16\n",
      "17\n",
      "18\n",
      "19\n",
      "20\n",
      "21\n",
      "22\n",
      "23\n",
      "24\n",
      "25\n"
     ]
    }
   ],
   "source": [
    "for i = 1:25\n",
    "    println(i)\n",
    "end\n"
   ]
  },
  {
   "cell_type": "code",
   "execution_count": 317,
   "id": "da43d140",
   "metadata": {},
   "outputs": [
    {
     "name": "stdout",
     "output_type": "stream",
     "text": [
      "1:1\n",
      "1:2\n",
      "1:3\n",
      "1:4\n",
      "1:5\n",
      "2:1\n",
      "2:2\n",
      "2:3\n",
      "2:4\n",
      "2:5\n",
      "3:1\n",
      "3:2\n",
      "3:3\n",
      "3:4\n",
      "3:5\n",
      "4:1\n",
      "4:2\n",
      "4:3\n",
      "4:4\n",
      "4:5\n",
      "5:1\n",
      "5:2\n",
      "5:3\n",
      "5:4\n",
      "5:5\n"
     ]
    }
   ],
   "source": [
    "for i = 1:5, j = 1:5\n",
    "    println(i, \":\", j)\n",
    "end"
   ]
  },
  {
   "cell_type": "code",
   "execution_count": 318,
   "id": "1cd10468",
   "metadata": {},
   "outputs": [
    {
     "data": {
      "text/plain": [
       "3-element Vector{Any}:\n",
       " 3\n",
       " 5\n",
       "  \"Hello\""
      ]
     },
     "execution_count": 318,
     "metadata": {},
     "output_type": "execute_result"
    }
   ],
   "source": [
    "arr = [3, 5, \"Hello\"]"
   ]
  },
  {
   "cell_type": "code",
   "execution_count": 319,
   "id": "4d1a8eee",
   "metadata": {},
   "outputs": [
    {
     "name": "stdout",
     "output_type": "stream",
     "text": [
      "3\n",
      "5\n",
      "Hello\n"
     ]
    }
   ],
   "source": [
    "for val in arr\n",
    "    println(val)\n",
    "end"
   ]
  },
  {
   "cell_type": "code",
   "execution_count": 320,
   "id": "47b71dd9",
   "metadata": {},
   "outputs": [
    {
     "name": "stdout",
     "output_type": "stream",
     "text": [
      "1\n",
      "2\n",
      "3\n",
      "4\n",
      "5\n"
     ]
    }
   ],
   "source": [
    "for i = 1:5\n",
    "    println(i)\n",
    "end"
   ]
  },
  {
   "cell_type": "code",
   "execution_count": 321,
   "id": "f71d041a",
   "metadata": {
    "scrolled": true
   },
   "outputs": [
    {
     "name": "stdout",
     "output_type": "stream",
     "text": [
      "1\n",
      "2\n",
      "3\n",
      "4\n",
      "5\n"
     ]
    }
   ],
   "source": [
    "i = 1\n",
    "while i < 6\n",
    "    println(i)\n",
    "    i = i + 1\n",
    "end"
   ]
  },
  {
   "cell_type": "code",
   "execution_count": 322,
   "id": "254ccfa3",
   "metadata": {},
   "outputs": [],
   "source": [
    "#Functions"
   ]
  },
  {
   "cell_type": "code",
   "execution_count": 323,
   "id": "0bab191c",
   "metadata": {},
   "outputs": [
    {
     "data": {
      "text/plain": [
       "welcome (generic function with 1 method)"
      ]
     },
     "execution_count": 323,
     "metadata": {},
     "output_type": "execute_result"
    }
   ],
   "source": [
    "function welcome()\n",
    "    println(\"Hello World\")\n",
    "end"
   ]
  },
  {
   "cell_type": "code",
   "execution_count": 324,
   "id": "9ead67d1",
   "metadata": {},
   "outputs": [
    {
     "name": "stdout",
     "output_type": "stream",
     "text": [
      "Hello World\n"
     ]
    }
   ],
   "source": [
    "welcome()"
   ]
  },
  {
   "cell_type": "code",
   "execution_count": 325,
   "id": "3e550c9f",
   "metadata": {},
   "outputs": [
    {
     "data": {
      "text/plain": [
       "welcome1 (generic function with 1 method)"
      ]
     },
     "execution_count": 325,
     "metadata": {},
     "output_type": "execute_result"
    }
   ],
   "source": [
    "function welcome1(name)\n",
    "    println(\"Hello $name\")\n",
    "end"
   ]
  },
  {
   "cell_type": "code",
   "execution_count": 326,
   "id": "4fd7c8d8",
   "metadata": {},
   "outputs": [],
   "source": [
    "#welcome1()\n",
    "#throws an error"
   ]
  },
  {
   "cell_type": "code",
   "execution_count": 327,
   "id": "b42821bd",
   "metadata": {},
   "outputs": [
    {
     "name": "stdout",
     "output_type": "stream",
     "text": [
      "Hello World\n"
     ]
    }
   ],
   "source": [
    "welcome1(\"World\")"
   ]
  },
  {
   "cell_type": "code",
   "execution_count": 328,
   "id": "c0d4a4aa",
   "metadata": {},
   "outputs": [
    {
     "name": "stdout",
     "output_type": "stream",
     "text": [
      "Hello Julia\n"
     ]
    }
   ],
   "source": [
    "welcome1(\"Julia\")"
   ]
  },
  {
   "cell_type": "code",
   "execution_count": 329,
   "id": "6defed94",
   "metadata": {},
   "outputs": [
    {
     "data": {
      "text/plain": [
       "welcome2 (generic function with 1 method)"
      ]
     },
     "execution_count": 329,
     "metadata": {},
     "output_type": "execute_result"
    }
   ],
   "source": [
    "welcome2(name) = println(\"Hello $name\")"
   ]
  },
  {
   "cell_type": "code",
   "execution_count": 330,
   "id": "d96c14d6",
   "metadata": {},
   "outputs": [
    {
     "name": "stdout",
     "output_type": "stream",
     "text": [
      "Hello Julia\n"
     ]
    }
   ],
   "source": [
    "welcome2(\"Julia\")"
   ]
  },
  {
   "cell_type": "code",
   "execution_count": 331,
   "id": "df01b1e0",
   "metadata": {},
   "outputs": [
    {
     "data": {
      "text/plain": [
       "#9 (generic function with 1 method)"
      ]
     },
     "execution_count": 331,
     "metadata": {},
     "output_type": "execute_result"
    }
   ],
   "source": [
    "welcome3 = name -> println(\"Hello $name\")"
   ]
  },
  {
   "cell_type": "code",
   "execution_count": 332,
   "id": "06ec2d7a",
   "metadata": {},
   "outputs": [
    {
     "name": "stdout",
     "output_type": "stream",
     "text": [
      "Hello data\n"
     ]
    }
   ],
   "source": [
    "welcome3(\"data\")"
   ]
  },
  {
   "cell_type": "code",
   "execution_count": 333,
   "id": "1379c624",
   "metadata": {},
   "outputs": [
    {
     "data": {
      "text/plain": [
       "add (generic function with 1 method)"
      ]
     },
     "execution_count": 333,
     "metadata": {},
     "output_type": "execute_result"
    }
   ],
   "source": [
    "function add(x, y)\n",
    "    z = x + y\n",
    "    return z\n",
    "end"
   ]
  },
  {
   "cell_type": "code",
   "execution_count": 334,
   "id": "93877e69",
   "metadata": {},
   "outputs": [
    {
     "data": {
      "text/plain": [
       "10"
      ]
     },
     "execution_count": 334,
     "metadata": {},
     "output_type": "execute_result"
    }
   ],
   "source": [
    "add(4,6)"
   ]
  },
  {
   "cell_type": "code",
   "execution_count": 335,
   "id": "69005b82",
   "metadata": {},
   "outputs": [
    {
     "data": {
      "text/plain": [
       "5-element Vector{Int64}:\n",
       "  2\n",
       "  3\n",
       "  6\n",
       "  0\n",
       " -4"
      ]
     },
     "execution_count": 335,
     "metadata": {},
     "output_type": "execute_result"
    }
   ],
   "source": [
    "arr = [2,3, 6, 0, -4]"
   ]
  },
  {
   "cell_type": "code",
   "execution_count": 336,
   "id": "c79dcfda",
   "metadata": {},
   "outputs": [
    {
     "data": {
      "text/plain": [
       "5-element Vector{Int64}:\n",
       " -4\n",
       "  0\n",
       "  2\n",
       "  3\n",
       "  6"
      ]
     },
     "execution_count": 336,
     "metadata": {},
     "output_type": "execute_result"
    }
   ],
   "source": [
    "sort(arr)"
   ]
  },
  {
   "cell_type": "code",
   "execution_count": 337,
   "id": "57e1730d",
   "metadata": {},
   "outputs": [
    {
     "data": {
      "text/plain": [
       "5-element Vector{Int64}:\n",
       "  2\n",
       "  3\n",
       "  6\n",
       "  0\n",
       " -4"
      ]
     },
     "execution_count": 337,
     "metadata": {},
     "output_type": "execute_result"
    }
   ],
   "source": [
    "arr"
   ]
  },
  {
   "cell_type": "code",
   "execution_count": 338,
   "id": "359cc397",
   "metadata": {},
   "outputs": [
    {
     "data": {
      "text/plain": [
       "5-element Vector{Int64}:\n",
       " -4\n",
       "  0\n",
       "  2\n",
       "  3\n",
       "  6"
      ]
     },
     "execution_count": 338,
     "metadata": {},
     "output_type": "execute_result"
    }
   ],
   "source": [
    "sort!(arr)\n",
    "#modify original variable 'arr'"
   ]
  },
  {
   "cell_type": "code",
   "execution_count": 339,
   "id": "54912df1",
   "metadata": {},
   "outputs": [
    {
     "data": {
      "text/plain": [
       "5-element Vector{Int64}:\n",
       " -4\n",
       "  0\n",
       "  2\n",
       "  3\n",
       "  6"
      ]
     },
     "execution_count": 339,
     "metadata": {},
     "output_type": "execute_result"
    }
   ],
   "source": [
    "arr"
   ]
  },
  {
   "cell_type": "code",
   "execution_count": 340,
   "id": "7ad397e3",
   "metadata": {},
   "outputs": [
    {
     "data": {
      "text/plain": [
       "f1 (generic function with 1 method)"
      ]
     },
     "execution_count": 340,
     "metadata": {},
     "output_type": "execute_result"
    }
   ],
   "source": [
    "function f1(x)\n",
    "    x^2\n",
    "end"
   ]
  },
  {
   "cell_type": "code",
   "execution_count": 341,
   "id": "056180f1",
   "metadata": {},
   "outputs": [
    {
     "data": {
      "text/plain": [
       "5-element Vector{Int64}:\n",
       " 16\n",
       "  0\n",
       "  4\n",
       "  9\n",
       " 36"
      ]
     },
     "execution_count": 341,
     "metadata": {},
     "output_type": "execute_result"
    }
   ],
   "source": [
    "map(f1, arr)"
   ]
  },
  {
   "cell_type": "code",
   "execution_count": 342,
   "id": "b5822619",
   "metadata": {},
   "outputs": [],
   "source": [
    "#Packages"
   ]
  },
  {
   "cell_type": "code",
   "execution_count": 343,
   "id": "2e1a76a0",
   "metadata": {},
   "outputs": [],
   "source": [
    "using Pkg"
   ]
  },
  {
   "cell_type": "code",
   "execution_count": 344,
   "id": "992c0249",
   "metadata": {},
   "outputs": [
    {
     "name": "stderr",
     "output_type": "stream",
     "text": [
      "┌ Warning: Pkg.installed() is deprecated\n",
      "└ @ Pkg /cache/build/default-amdci5-6/julialang/julia-release-1-dot-8/usr/share/julia/stdlib/v1.8/Pkg/src/Pkg.jl:675\n"
     ]
    },
    {
     "data": {
      "text/plain": [
       "Dict{String, VersionNumber} with 5 entries:\n",
       "  \"CSV\"        => v\"0.10.7\"\n",
       "  \"Tables\"     => v\"1.10.0\"\n",
       "  \"JSONTables\" => v\"1.0.3\"\n",
       "  \"IJulia\"     => v\"1.23.3\"\n",
       "  \"DataFrames\" => v\"1.4.3\""
      ]
     },
     "execution_count": 344,
     "metadata": {},
     "output_type": "execute_result"
    }
   ],
   "source": [
    "Pkg.installed()"
   ]
  },
  {
   "cell_type": "code",
   "execution_count": 345,
   "id": "a7cb2a19",
   "metadata": {},
   "outputs": [
    {
     "name": "stderr",
     "output_type": "stream",
     "text": [
      "\u001b[32m\u001b[1m    Updating\u001b[22m\u001b[39m `~/.julia/environments/v1.8/Project.toml`\n",
      " \u001b[90m [10745b16] \u001b[39m\u001b[91m- Statistics\u001b[39m\n",
      "\u001b[32m\u001b[1m  No Changes\u001b[22m\u001b[39m to `~/.julia/environments/v1.8/Manifest.toml`\n"
     ]
    }
   ],
   "source": [
    "Pkg.rm(\"Statistics\")"
   ]
  },
  {
   "cell_type": "code",
   "execution_count": 346,
   "id": "1ed5402f",
   "metadata": {},
   "outputs": [
    {
     "data": {
      "text/plain": [
       "Dict{Base.UUID, Pkg.API.PackageInfo} with 82 entries:\n",
       "  UUID(\"59287772-0a20-5a39… => PackageInfo(\"Formatting\", v\"0.4.2\", \"8339d610432…\n",
       "  UUID(\"e2d170a0-9d28-54be… => PackageInfo(\"DataValueInterfaces\", v\"1.0.0\", \"bf…\n",
       "  UUID(\"a8cc5b0e-0ffa-5ad4… => PackageInfo(\"Crayons\", v\"4.1.1\", \"249fe38abf76d4…\n",
       "  UUID(\"bac558e1-5e72-5ebc… => PackageInfo(\"OrderedCollections\", v\"1.4.1\", \"85f…\n",
       "  UUID(\"29816b5a-b9ab-546f… => PackageInfo(\"LibSSH2_jll\", v\"1.10.2+0\", nothing,…\n",
       "  UUID(\"81def892-9a0e-5fdd… => PackageInfo(\"VersionParsing\", v\"1.3.0\", \"58d6e80…\n",
       "  UUID(\"3bb67fe8-82b1-5028… => PackageInfo(\"TranscodingStreams\", v\"0.9.9\", \"8a7…\n",
       "  UUID(\"b964fa9f-0449-5b57… => PackageInfo(\"LaTeXStrings\", v\"1.3.0\", \"f2355693d…\n",
       "  UUID(\"b85f4697-e234-5449… => PackageInfo(\"SoftGlobalScope\", v\"1.1.0\", \"986ec2…\n",
       "  UUID(\"336ed68f-0bac-5ca0… => PackageInfo(\"CSV\", v\"0.10.7\", \"c5fd7cd27ac4aed0a…\n",
       "  UUID(\"a63ad114-7e13-5084… => PackageInfo(\"Mmap\", nothing, nothing, false, fal…\n",
       "  UUID(\"14a3606d-f60d-562e… => PackageInfo(\"MozillaCACerts_jll\", v\"2022.2.1\", n…\n",
       "  UUID(\"d6f4376e-aef5-505a… => PackageInfo(\"Markdown\", nothing, nothing, false,…\n",
       "  UUID(\"3f19e933-33d8-53b3… => PackageInfo(\"p7zip_jll\", v\"17.4.0+0\", nothing, f…\n",
       "  UUID(\"76f85450-5226-5b5a… => PackageInfo(\"LibGit2\", nothing, nothing, false, …\n",
       "  UUID(\"2a0f44e3-6c83-55bd… => PackageInfo(\"Base64\", nothing, nothing, false, f…\n",
       "  UUID(\"66db9d55-30c0-4569… => PackageInfo(\"SnoopPrecompile\", v\"1.0.1\", \"f60444…\n",
       "  UUID(\"f43a241f-c20a-4ad4… => PackageInfo(\"Downloads\", v\"1.6.0\", nothing, fals…\n",
       "  UUID(\"08abe8d2-0d0c-5749… => PackageInfo(\"PrettyTables\", v\"2.2.1\", \"d8ed35443…\n",
       "  UUID(\"9fa8497b-333b-5362… => PackageInfo(\"Future\", nothing, nothing, false, f…\n",
       "  UUID(\"9a3f8284-a2c9-5f02… => PackageInfo(\"Random\", nothing, nothing, true, fa…\n",
       "  UUID(\"56f22d72-fd6d-98f1… => PackageInfo(\"Artifacts\", nothing, nothing, false…\n",
       "  UUID(\"682c06a0-de6a-54ab… => PackageInfo(\"JSON\", v\"0.21.3\", \"3c837543ddb02250…\n",
       "  UUID(\"b77e0a4c-d291-57a0… => PackageInfo(\"InteractiveUtils\", nothing, nothing…\n",
       "  UUID(\"8f4d0f93-b110-5947… => PackageInfo(\"Conda\", v\"1.7.0\", \"6e47d11ea2776bc5…\n",
       "  ⋮                         => ⋮"
      ]
     },
     "execution_count": 346,
     "metadata": {},
     "output_type": "execute_result"
    }
   ],
   "source": [
    "Pkg.dependencies()"
   ]
  },
  {
   "cell_type": "code",
   "execution_count": 347,
   "id": "a6626330",
   "metadata": {},
   "outputs": [
    {
     "name": "stderr",
     "output_type": "stream",
     "text": [
      "\u001b[32m\u001b[1m   Resolving\u001b[22m\u001b[39m package versions...\n",
      "\u001b[32m\u001b[1m    Updating\u001b[22m\u001b[39m `~/.julia/environments/v1.8/Project.toml`\n",
      " \u001b[90m [10745b16] \u001b[39m\u001b[92m+ Statistics\u001b[39m\n",
      "\u001b[32m\u001b[1m  No Changes\u001b[22m\u001b[39m to `~/.julia/environments/v1.8/Manifest.toml`\n"
     ]
    }
   ],
   "source": [
    "Pkg.add(\"Statistics\")"
   ]
  },
  {
   "cell_type": "code",
   "execution_count": 348,
   "id": "ea782ea6",
   "metadata": {},
   "outputs": [
    {
     "name": "stderr",
     "output_type": "stream",
     "text": [
      "┌ Warning: Pkg.installed() is deprecated\n",
      "└ @ Pkg /cache/build/default-amdci5-6/julialang/julia-release-1-dot-8/usr/share/julia/stdlib/v1.8/Pkg/src/Pkg.jl:675\n"
     ]
    },
    {
     "data": {
      "text/plain": [
       "Dict{String, VersionNumber} with 5 entries:\n",
       "  \"CSV\"        => v\"0.10.7\"\n",
       "  \"Tables\"     => v\"1.10.0\"\n",
       "  \"JSONTables\" => v\"1.0.3\"\n",
       "  \"IJulia\"     => v\"1.23.3\"\n",
       "  \"DataFrames\" => v\"1.4.3\""
      ]
     },
     "execution_count": 348,
     "metadata": {},
     "output_type": "execute_result"
    }
   ],
   "source": [
    "Pkg.installed()"
   ]
  },
  {
   "cell_type": "code",
   "execution_count": 349,
   "id": "f386f5d6",
   "metadata": {},
   "outputs": [],
   "source": [
    "using Statistics"
   ]
  },
  {
   "cell_type": "code",
   "execution_count": 350,
   "id": "d8506aa6",
   "metadata": {},
   "outputs": [
    {
     "data": {
      "text/plain": [
       "6.333333333333333"
      ]
     },
     "execution_count": 350,
     "metadata": {},
     "output_type": "execute_result"
    }
   ],
   "source": [
    "mean([3, 7, 9])"
   ]
  },
  {
   "cell_type": "code",
   "execution_count": 351,
   "id": "6d21b00c",
   "metadata": {},
   "outputs": [],
   "source": [
    "#Vector and Matrix Processing"
   ]
  },
  {
   "cell_type": "code",
   "execution_count": 352,
   "id": "75faef82",
   "metadata": {},
   "outputs": [
    {
     "name": "stderr",
     "output_type": "stream",
     "text": [
      "\u001b[32m\u001b[1m   Resolving\u001b[22m\u001b[39m package versions...\n",
      "\u001b[32m\u001b[1m  No Changes\u001b[22m\u001b[39m to `~/.julia/environments/v1.8/Project.toml`\n",
      "\u001b[32m\u001b[1m  No Changes\u001b[22m\u001b[39m to `~/.julia/environments/v1.8/Manifest.toml`\n"
     ]
    }
   ],
   "source": [
    "using Pkg\n",
    "Pkg.add(\"Random\")"
   ]
  },
  {
   "cell_type": "code",
   "execution_count": 353,
   "id": "a9da4e2f",
   "metadata": {},
   "outputs": [
    {
     "data": {
      "text/plain": [
       "10×2 Matrix{Float64}:\n",
       "  0.227818  -0.379073\n",
       "  1.14473   -1.05861\n",
       " -1.56938   -0.844171\n",
       "  0.911133  -0.541124\n",
       "  0.165618   0.424044\n",
       "  0.530956   0.425637\n",
       "  2.37734   -0.0882609\n",
       "  1.42542    1.82246\n",
       " -1.27063   -1.14812\n",
       "  0.965496   1.71259"
      ]
     },
     "execution_count": 353,
     "metadata": {},
     "output_type": "execute_result"
    }
   ],
   "source": [
    "randn(10, 2)"
   ]
  },
  {
   "cell_type": "code",
   "execution_count": 354,
   "id": "c56e2213",
   "metadata": {},
   "outputs": [
    {
     "data": {
      "text/plain": [
       "\"tfhLGTd6\""
      ]
     },
     "execution_count": 354,
     "metadata": {},
     "output_type": "execute_result"
    }
   ],
   "source": [
    "using Random \n",
    "randstring()"
   ]
  },
  {
   "cell_type": "code",
   "execution_count": 355,
   "id": "26a56bb7",
   "metadata": {},
   "outputs": [
    {
     "data": {
      "text/plain": [
       "\"DPFVTHFUENTNZNUEBTXGEPTPZYHMPZYQYVEKVCICIRWGVODEQO\""
      ]
     },
     "execution_count": 355,
     "metadata": {},
     "output_type": "execute_result"
    }
   ],
   "source": [
    "randstring('A':'Z', 50)"
   ]
  },
  {
   "cell_type": "code",
   "execution_count": 356,
   "id": "7f9cc407",
   "metadata": {},
   "outputs": [
    {
     "data": {
      "text/plain": [
       "10-element Vector{Int64}:\n",
       "  1\n",
       "  2\n",
       "  3\n",
       "  4\n",
       "  5\n",
       "  6\n",
       "  7\n",
       "  8\n",
       "  9\n",
       " 10"
      ]
     },
     "execution_count": 356,
     "metadata": {},
     "output_type": "execute_result"
    }
   ],
   "source": [
    "v1 = Vector(1:10)"
   ]
  },
  {
   "cell_type": "code",
   "execution_count": 357,
   "id": "c7eaa5c1",
   "metadata": {},
   "outputs": [
    {
     "data": {
      "text/plain": [
       "2×5 Matrix{Int64}:\n",
       " 1  3  5  7   9\n",
       " 2  4  6  8  10"
      ]
     },
     "execution_count": 357,
     "metadata": {},
     "output_type": "execute_result"
    }
   ],
   "source": [
    "reshape(v1, (2, 5))"
   ]
  },
  {
   "cell_type": "code",
   "execution_count": 358,
   "id": "28758256",
   "metadata": {},
   "outputs": [
    {
     "data": {
      "text/plain": [
       "3×5 Matrix{Float64}:\n",
       " 1.0  1.0  1.0  1.0  1.0\n",
       " 1.0  1.0  1.0  1.0  1.0\n",
       " 1.0  1.0  1.0  1.0  1.0"
      ]
     },
     "execution_count": 358,
     "metadata": {},
     "output_type": "execute_result"
    }
   ],
   "source": [
    "ones(3, 5)"
   ]
  },
  {
   "cell_type": "code",
   "execution_count": 359,
   "id": "e65cd6f2",
   "metadata": {},
   "outputs": [
    {
     "data": {
      "text/plain": [
       "2×5×6 Array{Float64, 3}:\n",
       "[:, :, 1] =\n",
       " 0.0  0.0  0.0  0.0  0.0\n",
       " 0.0  0.0  0.0  0.0  0.0\n",
       "\n",
       "[:, :, 2] =\n",
       " 0.0  0.0  0.0  0.0  0.0\n",
       " 0.0  0.0  0.0  0.0  0.0\n",
       "\n",
       "[:, :, 3] =\n",
       " 0.0  0.0  0.0  0.0  0.0\n",
       " 0.0  0.0  0.0  0.0  0.0\n",
       "\n",
       "[:, :, 4] =\n",
       " 0.0  0.0  0.0  0.0  0.0\n",
       " 0.0  0.0  0.0  0.0  0.0\n",
       "\n",
       "[:, :, 5] =\n",
       " 0.0  0.0  0.0  0.0  0.0\n",
       " 0.0  0.0  0.0  0.0  0.0\n",
       "\n",
       "[:, :, 6] =\n",
       " 0.0  0.0  0.0  0.0  0.0\n",
       " 0.0  0.0  0.0  0.0  0.0"
      ]
     },
     "execution_count": 359,
     "metadata": {},
     "output_type": "execute_result"
    }
   ],
   "source": [
    "zeros(2, 5, 6)"
   ]
  },
  {
   "cell_type": "code",
   "execution_count": 360,
   "id": "97c20202",
   "metadata": {},
   "outputs": [],
   "source": [
    "using LinearAlgebra"
   ]
  },
  {
   "cell_type": "code",
   "execution_count": 361,
   "id": "1df20286",
   "metadata": {},
   "outputs": [
    {
     "data": {
      "text/plain": [
       "4×4 Diagonal{Bool, Vector{Bool}}:\n",
       " 1  ⋅  ⋅  ⋅\n",
       " ⋅  1  ⋅  ⋅\n",
       " ⋅  ⋅  1  ⋅\n",
       " ⋅  ⋅  ⋅  1"
      ]
     },
     "execution_count": 361,
     "metadata": {},
     "output_type": "execute_result"
    }
   ],
   "source": [
    "I(4)"
   ]
  },
  {
   "cell_type": "code",
   "execution_count": 362,
   "id": "12cbf707",
   "metadata": {},
   "outputs": [
    {
     "data": {
      "text/plain": [
       "10×10 Diagonal{Bool, Vector{Bool}}:\n",
       " 1  ⋅  ⋅  ⋅  ⋅  ⋅  ⋅  ⋅  ⋅  ⋅\n",
       " ⋅  1  ⋅  ⋅  ⋅  ⋅  ⋅  ⋅  ⋅  ⋅\n",
       " ⋅  ⋅  1  ⋅  ⋅  ⋅  ⋅  ⋅  ⋅  ⋅\n",
       " ⋅  ⋅  ⋅  1  ⋅  ⋅  ⋅  ⋅  ⋅  ⋅\n",
       " ⋅  ⋅  ⋅  ⋅  1  ⋅  ⋅  ⋅  ⋅  ⋅\n",
       " ⋅  ⋅  ⋅  ⋅  ⋅  1  ⋅  ⋅  ⋅  ⋅\n",
       " ⋅  ⋅  ⋅  ⋅  ⋅  ⋅  1  ⋅  ⋅  ⋅\n",
       " ⋅  ⋅  ⋅  ⋅  ⋅  ⋅  ⋅  1  ⋅  ⋅\n",
       " ⋅  ⋅  ⋅  ⋅  ⋅  ⋅  ⋅  ⋅  1  ⋅\n",
       " ⋅  ⋅  ⋅  ⋅  ⋅  ⋅  ⋅  ⋅  ⋅  1"
      ]
     },
     "execution_count": 362,
     "metadata": {},
     "output_type": "execute_result"
    }
   ],
   "source": [
    "I(10)"
   ]
  },
  {
   "cell_type": "code",
   "execution_count": 363,
   "id": "837d185a",
   "metadata": {},
   "outputs": [
    {
     "data": {
      "text/plain": [
       "3×3 Matrix{Int64}:\n",
       " 2  4  5\n",
       " 1  2  3\n",
       " 6  7  0"
      ]
     },
     "execution_count": 363,
     "metadata": {},
     "output_type": "execute_result"
    }
   ],
   "source": [
    "M = [2 4 5;1 2 3;6 7 0] "
   ]
  },
  {
   "cell_type": "code",
   "execution_count": 364,
   "id": "19d698e6",
   "metadata": {},
   "outputs": [
    {
     "data": {
      "text/plain": [
       "Matrix{Int64}\u001b[90m (alias for \u001b[39m\u001b[90mArray{Int64, 2}\u001b[39m\u001b[90m)\u001b[39m"
      ]
     },
     "execution_count": 364,
     "metadata": {},
     "output_type": "execute_result"
    }
   ],
   "source": [
    "typeof(M)"
   ]
  },
  {
   "cell_type": "code",
   "execution_count": 365,
   "id": "7ed13e01",
   "metadata": {},
   "outputs": [
    {
     "data": {
      "text/plain": [
       "(3, 3)"
      ]
     },
     "execution_count": 365,
     "metadata": {},
     "output_type": "execute_result"
    }
   ],
   "source": [
    "size(M)"
   ]
  },
  {
   "cell_type": "code",
   "execution_count": 366,
   "id": "a5f50317",
   "metadata": {},
   "outputs": [
    {
     "data": {
      "text/plain": [
       "3-element Vector{Int64}:\n",
       " 4\n",
       " 2\n",
       " 7"
      ]
     },
     "execution_count": 366,
     "metadata": {},
     "output_type": "execute_result"
    }
   ],
   "source": [
    "M[1, :]\n",
    "M[:, 2]"
   ]
  },
  {
   "cell_type": "code",
   "execution_count": 367,
   "id": "2efdc76a",
   "metadata": {},
   "outputs": [
    {
     "data": {
      "text/plain": [
       "3×3 Matrix{Int64}:\n",
       " 1  2  3\n",
       " 4  5  6\n",
       " 7  8  9"
      ]
     },
     "execution_count": 367,
     "metadata": {},
     "output_type": "execute_result"
    }
   ],
   "source": [
    "N = [1 2 3; 4 5 6; 7 8 9]"
   ]
  },
  {
   "cell_type": "code",
   "execution_count": 368,
   "id": "71e5e223",
   "metadata": {},
   "outputs": [
    {
     "data": {
      "text/plain": [
       "3×6 Matrix{Int64}:\n",
       " 2  4  5  1  2  3\n",
       " 1  2  3  4  5  6\n",
       " 6  7  0  7  8  9"
      ]
     },
     "execution_count": 368,
     "metadata": {},
     "output_type": "execute_result"
    }
   ],
   "source": [
    "[M N]"
   ]
  },
  {
   "cell_type": "code",
   "execution_count": 369,
   "id": "350b0530",
   "metadata": {},
   "outputs": [
    {
     "data": {
      "text/plain": [
       "6×3 Matrix{Int64}:\n",
       " 2  4  5\n",
       " 1  2  3\n",
       " 6  7  0\n",
       " 1  2  3\n",
       " 4  5  6\n",
       " 7  8  9"
      ]
     },
     "execution_count": 369,
     "metadata": {},
     "output_type": "execute_result"
    }
   ],
   "source": [
    "[M;N]"
   ]
  },
  {
   "cell_type": "code",
   "execution_count": 370,
   "id": "0f016bae",
   "metadata": {},
   "outputs": [
    {
     "data": {
      "text/plain": [
       "3×6 Matrix{Int64}:\n",
       " 2  4  5  1  2  3\n",
       " 1  2  3  4  5  6\n",
       " 6  7  0  7  8  9"
      ]
     },
     "execution_count": 370,
     "metadata": {},
     "output_type": "execute_result"
    }
   ],
   "source": [
    "hcat(M, N)"
   ]
  },
  {
   "cell_type": "code",
   "execution_count": 371,
   "id": "2d631441",
   "metadata": {},
   "outputs": [
    {
     "data": {
      "text/plain": [
       "6×3 Matrix{Int64}:\n",
       " 2  4  5\n",
       " 1  2  3\n",
       " 6  7  0\n",
       " 1  2  3\n",
       " 4  5  6\n",
       " 7  8  9"
      ]
     },
     "execution_count": 371,
     "metadata": {},
     "output_type": "execute_result"
    }
   ],
   "source": [
    "vcat(M, N)"
   ]
  },
  {
   "cell_type": "code",
   "execution_count": 372,
   "id": "47e1bd41",
   "metadata": {},
   "outputs": [
    {
     "data": {
      "text/plain": [
       "3×3 transpose(::Matrix{Int64}) with eltype Int64:\n",
       " 2  1  6\n",
       " 4  2  7\n",
       " 5  3  0"
      ]
     },
     "execution_count": 372,
     "metadata": {},
     "output_type": "execute_result"
    }
   ],
   "source": [
    "transpose(M)"
   ]
  },
  {
   "cell_type": "code",
   "execution_count": 373,
   "id": "93434a48",
   "metadata": {},
   "outputs": [
    {
     "data": {
      "text/plain": [
       "4"
      ]
     },
     "execution_count": 373,
     "metadata": {},
     "output_type": "execute_result"
    }
   ],
   "source": [
    "tr(M)"
   ]
  },
  {
   "cell_type": "code",
   "execution_count": 374,
   "id": "48d1b3e0",
   "metadata": {},
   "outputs": [
    {
     "data": {
      "text/plain": [
       "5.000000000000001"
      ]
     },
     "execution_count": 374,
     "metadata": {},
     "output_type": "execute_result"
    }
   ],
   "source": [
    "det(M)"
   ]
  },
  {
   "cell_type": "code",
   "execution_count": 375,
   "id": "71ed7cc4",
   "metadata": {},
   "outputs": [
    {
     "data": {
      "text/plain": [
       "3×3 Matrix{Float64}:\n",
       " -4.2   7.0   0.4\n",
       "  3.6  -6.0  -0.2\n",
       " -1.0   2.0   0.0"
      ]
     },
     "execution_count": 375,
     "metadata": {},
     "output_type": "execute_result"
    }
   ],
   "source": [
    "inv(M)"
   ]
  },
  {
   "cell_type": "code",
   "execution_count": 376,
   "id": "174b0e2a",
   "metadata": {},
   "outputs": [
    {
     "data": {
      "text/plain": [
       "3×3 Matrix{Int64}:\n",
       " 2  4  5\n",
       " 1  2  3\n",
       " 6  7  0"
      ]
     },
     "execution_count": 376,
     "metadata": {},
     "output_type": "execute_result"
    }
   ],
   "source": [
    "M"
   ]
  },
  {
   "cell_type": "code",
   "execution_count": 377,
   "id": "72f0da5f",
   "metadata": {},
   "outputs": [
    {
     "data": {
      "text/plain": [
       "3×3 UpperTriangular{Int64, Matrix{Int64}}:\n",
       " 2  4  5\n",
       " ⋅  2  3\n",
       " ⋅  ⋅  0"
      ]
     },
     "execution_count": 377,
     "metadata": {},
     "output_type": "execute_result"
    }
   ],
   "source": [
    "UpperTriangular(M)"
   ]
  },
  {
   "cell_type": "code",
   "execution_count": 378,
   "id": "526c1547",
   "metadata": {},
   "outputs": [
    {
     "data": {
      "text/plain": [
       "3×3 LowerTriangular{Int64, Matrix{Int64}}:\n",
       " 2  ⋅  ⋅\n",
       " 1  2  ⋅\n",
       " 6  7  0"
      ]
     },
     "execution_count": 378,
     "metadata": {},
     "output_type": "execute_result"
    }
   ],
   "source": [
    "LowerTriangular(M)"
   ]
  },
  {
   "cell_type": "code",
   "execution_count": 379,
   "id": "fe53b452",
   "metadata": {},
   "outputs": [
    {
     "data": {
      "text/plain": [
       "3×3 Matrix{Float64}:\n",
       " -0.424033  -0.742562  -0.645135\n",
       " -0.292089   0.639301  -0.358268\n",
       "  0.857251  -0.19974   -0.674866"
      ]
     },
     "execution_count": 379,
     "metadata": {},
     "output_type": "execute_result"
    }
   ],
   "source": [
    "eigvecs(M)"
   ]
  },
  {
   "cell_type": "code",
   "execution_count": 380,
   "id": "b7a267ee",
   "metadata": {},
   "outputs": [
    {
     "data": {
      "text/plain": [
       "3-element Vector{Float64}:\n",
       " -5.352954259951673\n",
       " -0.09882411688237432\n",
       "  9.451778376834048"
      ]
     },
     "execution_count": 380,
     "metadata": {},
     "output_type": "execute_result"
    }
   ],
   "source": [
    "eigvals(M)"
   ]
  },
  {
   "cell_type": "code",
   "execution_count": 381,
   "id": "5eac30eb",
   "metadata": {},
   "outputs": [],
   "source": [
    "#Dataframes"
   ]
  },
  {
   "cell_type": "code",
   "execution_count": 382,
   "id": "0d6cb158",
   "metadata": {},
   "outputs": [
    {
     "name": "stderr",
     "output_type": "stream",
     "text": [
      "\u001b[32m\u001b[1m   Resolving\u001b[22m\u001b[39m package versions...\n",
      "\u001b[32m\u001b[1m  No Changes\u001b[22m\u001b[39m to `~/.julia/environments/v1.8/Project.toml`\n",
      "\u001b[32m\u001b[1m  No Changes\u001b[22m\u001b[39m to `~/.julia/environments/v1.8/Manifest.toml`\n"
     ]
    }
   ],
   "source": [
    "Pkg.add(\"DataFrames\")\n",
    "using DataFrames"
   ]
  },
  {
   "cell_type": "code",
   "execution_count": 383,
   "id": "8d954459",
   "metadata": {},
   "outputs": [
    {
     "data": {
      "text/html": [
       "<div><div style = \"float: left;\"><span>0×0 DataFrame</span></div><div style = \"clear: both;\"></div></div><div class = \"data-frame\" style = \"overflow-x: scroll;\"><table class = \"data-frame\" style = \"margin-bottom: 6px;\"></table></div>"
      ],
      "text/latex": [
       "\\begin{tabular}{r|}\n",
       "\t& \\\\\n",
       "\t\\hline\n",
       "\t& \\\\\n",
       "\t\\hline\n",
       "\\end{tabular}\n"
      ],
      "text/plain": [
       "\u001b[1m0×0 DataFrame\u001b[0m"
      ]
     },
     "execution_count": 383,
     "metadata": {},
     "output_type": "execute_result"
    }
   ],
   "source": [
    "DataFrame()"
   ]
  },
  {
   "cell_type": "code",
   "execution_count": 384,
   "id": "7bb1413e",
   "metadata": {},
   "outputs": [
    {
     "data": {
      "text/html": [
       "<div><div style = \"float: left;\"><span>4×2 DataFrame</span></div><div style = \"clear: both;\"></div></div><div class = \"data-frame\" style = \"overflow-x: scroll;\"><table class = \"data-frame\" style = \"margin-bottom: 6px;\"><thead><tr class = \"header\"><th class = \"rowNumber\" style = \"font-weight: bold; text-align: right;\">Row</th><th style = \"text-align: left;\">A</th><th style = \"text-align: left;\">B</th></tr><tr class = \"subheader headerLastRow\"><th class = \"rowNumber\" style = \"font-weight: bold; text-align: right;\"></th><th title = \"Int64\" style = \"text-align: left;\">Int64</th><th title = \"Float64\" style = \"text-align: left;\">Float64</th></tr></thead><tbody><tr><td class = \"rowNumber\" style = \"font-weight: bold; text-align: right;\">1</td><td style = \"text-align: right;\">1</td><td style = \"text-align: right;\">0.706022</td></tr><tr><td class = \"rowNumber\" style = \"font-weight: bold; text-align: right;\">2</td><td style = \"text-align: right;\">2</td><td style = \"text-align: right;\">0.608332</td></tr><tr><td class = \"rowNumber\" style = \"font-weight: bold; text-align: right;\">3</td><td style = \"text-align: right;\">3</td><td style = \"text-align: right;\">0.206802</td></tr><tr><td class = \"rowNumber\" style = \"font-weight: bold; text-align: right;\">4</td><td style = \"text-align: right;\">4</td><td style = \"text-align: right;\">0.63112</td></tr></tbody></table></div>"
      ],
      "text/latex": [
       "\\begin{tabular}{r|cc}\n",
       "\t& A & B\\\\\n",
       "\t\\hline\n",
       "\t& Int64 & Float64\\\\\n",
       "\t\\hline\n",
       "\t1 & 1 & 0.706022 \\\\\n",
       "\t2 & 2 & 0.608332 \\\\\n",
       "\t3 & 3 & 0.206802 \\\\\n",
       "\t4 & 4 & 0.63112 \\\\\n",
       "\\end{tabular}\n"
      ],
      "text/plain": [
       "\u001b[1m4×2 DataFrame\u001b[0m\n",
       "\u001b[1m Row \u001b[0m│\u001b[1m A     \u001b[0m\u001b[1m B        \u001b[0m\n",
       "     │\u001b[90m Int64 \u001b[0m\u001b[90m Float64  \u001b[0m\n",
       "─────┼─────────────────\n",
       "   1 │     1  0.706022\n",
       "   2 │     2  0.608332\n",
       "   3 │     3  0.206802\n",
       "   4 │     4  0.63112"
      ]
     },
     "execution_count": 384,
     "metadata": {},
     "output_type": "execute_result"
    }
   ],
   "source": [
    "DataFrame(A=1:4, B = rand(4))"
   ]
  },
  {
   "cell_type": "code",
   "execution_count": 385,
   "id": "a25ac6a1",
   "metadata": {},
   "outputs": [
    {
     "data": {
      "text/html": [
       "<div><div style = \"float: left;\"><span>10×3 DataFrame</span></div><div style = \"clear: both;\"></div></div><div class = \"data-frame\" style = \"overflow-x: scroll;\"><table class = \"data-frame\" style = \"margin-bottom: 6px;\"><thead><tr class = \"header\"><th class = \"rowNumber\" style = \"font-weight: bold; text-align: right;\">Row</th><th style = \"text-align: left;\">x1</th><th style = \"text-align: left;\">x2</th><th style = \"text-align: left;\">x3</th></tr><tr class = \"subheader headerLastRow\"><th class = \"rowNumber\" style = \"font-weight: bold; text-align: right;\"></th><th title = \"Float64\" style = \"text-align: left;\">Float64</th><th title = \"Float64\" style = \"text-align: left;\">Float64</th><th title = \"Float64\" style = \"text-align: left;\">Float64</th></tr></thead><tbody><tr><td class = \"rowNumber\" style = \"font-weight: bold; text-align: right;\">1</td><td style = \"text-align: right;\">0.179904</td><td style = \"text-align: right;\">0.222876</td><td style = \"text-align: right;\">0.468106</td></tr><tr><td class = \"rowNumber\" style = \"font-weight: bold; text-align: right;\">2</td><td style = \"text-align: right;\">0.31201</td><td style = \"text-align: right;\">0.0549814</td><td style = \"text-align: right;\">0.507867</td></tr><tr><td class = \"rowNumber\" style = \"font-weight: bold; text-align: right;\">3</td><td style = \"text-align: right;\">0.454247</td><td style = \"text-align: right;\">0.238273</td><td style = \"text-align: right;\">0.344357</td></tr><tr><td class = \"rowNumber\" style = \"font-weight: bold; text-align: right;\">4</td><td style = \"text-align: right;\">0.210249</td><td style = \"text-align: right;\">0.6448</td><td style = \"text-align: right;\">0.208379</td></tr><tr><td class = \"rowNumber\" style = \"font-weight: bold; text-align: right;\">5</td><td style = \"text-align: right;\">0.933275</td><td style = \"text-align: right;\">0.702414</td><td style = \"text-align: right;\">0.914174</td></tr><tr><td class = \"rowNumber\" style = \"font-weight: bold; text-align: right;\">6</td><td style = \"text-align: right;\">0.909735</td><td style = \"text-align: right;\">0.588535</td><td style = \"text-align: right;\">0.260214</td></tr><tr><td class = \"rowNumber\" style = \"font-weight: bold; text-align: right;\">7</td><td style = \"text-align: right;\">0.418997</td><td style = \"text-align: right;\">0.442432</td><td style = \"text-align: right;\">0.54457</td></tr><tr><td class = \"rowNumber\" style = \"font-weight: bold; text-align: right;\">8</td><td style = \"text-align: right;\">0.360252</td><td style = \"text-align: right;\">0.35902</td><td style = \"text-align: right;\">0.936416</td></tr><tr><td class = \"rowNumber\" style = \"font-weight: bold; text-align: right;\">9</td><td style = \"text-align: right;\">0.790326</td><td style = \"text-align: right;\">0.545632</td><td style = \"text-align: right;\">0.10018</td></tr><tr><td class = \"rowNumber\" style = \"font-weight: bold; text-align: right;\">10</td><td style = \"text-align: right;\">0.942377</td><td style = \"text-align: right;\">0.544519</td><td style = \"text-align: right;\">0.202476</td></tr></tbody></table></div>"
      ],
      "text/latex": [
       "\\begin{tabular}{r|ccc}\n",
       "\t& x1 & x2 & x3\\\\\n",
       "\t\\hline\n",
       "\t& Float64 & Float64 & Float64\\\\\n",
       "\t\\hline\n",
       "\t1 & 0.179904 & 0.222876 & 0.468106 \\\\\n",
       "\t2 & 0.31201 & 0.0549814 & 0.507867 \\\\\n",
       "\t3 & 0.454247 & 0.238273 & 0.344357 \\\\\n",
       "\t4 & 0.210249 & 0.6448 & 0.208379 \\\\\n",
       "\t5 & 0.933275 & 0.702414 & 0.914174 \\\\\n",
       "\t6 & 0.909735 & 0.588535 & 0.260214 \\\\\n",
       "\t7 & 0.418997 & 0.442432 & 0.54457 \\\\\n",
       "\t8 & 0.360252 & 0.35902 & 0.936416 \\\\\n",
       "\t9 & 0.790326 & 0.545632 & 0.10018 \\\\\n",
       "\t10 & 0.942377 & 0.544519 & 0.202476 \\\\\n",
       "\\end{tabular}\n"
      ],
      "text/plain": [
       "\u001b[1m10×3 DataFrame\u001b[0m\n",
       "\u001b[1m Row \u001b[0m│\u001b[1m x1       \u001b[0m\u001b[1m x2        \u001b[0m\u001b[1m x3       \u001b[0m\n",
       "     │\u001b[90m Float64  \u001b[0m\u001b[90m Float64   \u001b[0m\u001b[90m Float64  \u001b[0m\n",
       "─────┼───────────────────────────────\n",
       "   1 │ 0.179904  0.222876   0.468106\n",
       "   2 │ 0.31201   0.0549814  0.507867\n",
       "   3 │ 0.454247  0.238273   0.344357\n",
       "   4 │ 0.210249  0.6448     0.208379\n",
       "   5 │ 0.933275  0.702414   0.914174\n",
       "   6 │ 0.909735  0.588535   0.260214\n",
       "   7 │ 0.418997  0.442432   0.54457\n",
       "   8 │ 0.360252  0.35902    0.936416\n",
       "   9 │ 0.790326  0.545632   0.10018\n",
       "  10 │ 0.942377  0.544519   0.202476"
      ]
     },
     "execution_count": 385,
     "metadata": {},
     "output_type": "execute_result"
    }
   ],
   "source": [
    "X1 = DataFrame(rand(10,3), :auto)"
   ]
  },
  {
   "cell_type": "code",
   "execution_count": 386,
   "id": "1c5fbb20",
   "metadata": {},
   "outputs": [
    {
     "data": {
      "text/plain": [
       "10×3 Matrix{Float64}:\n",
       " 0.179904  0.222876   0.468106\n",
       " 0.31201   0.0549814  0.507867\n",
       " 0.454247  0.238273   0.344357\n",
       " 0.210249  0.6448     0.208379\n",
       " 0.933275  0.702414   0.914174\n",
       " 0.909735  0.588535   0.260214\n",
       " 0.418997  0.442432   0.54457\n",
       " 0.360252  0.35902    0.936416\n",
       " 0.790326  0.545632   0.10018\n",
       " 0.942377  0.544519   0.202476"
      ]
     },
     "execution_count": 386,
     "metadata": {},
     "output_type": "execute_result"
    }
   ],
   "source": [
    "Matrix(X1)"
   ]
  },
  {
   "cell_type": "code",
   "execution_count": 387,
   "id": "317a5e4e",
   "metadata": {},
   "outputs": [
    {
     "name": "stderr",
     "output_type": "stream",
     "text": [
      "\u001b[32m\u001b[1m   Resolving\u001b[22m\u001b[39m package versions...\n",
      "\u001b[32m\u001b[1m  No Changes\u001b[22m\u001b[39m to `~/.julia/environments/v1.8/Project.toml`\n",
      "\u001b[32m\u001b[1m  No Changes\u001b[22m\u001b[39m to `~/.julia/environments/v1.8/Manifest.toml`\n"
     ]
    }
   ],
   "source": [
    "Pkg.add(\"Tables\")"
   ]
  },
  {
   "cell_type": "code",
   "execution_count": 388,
   "id": "cc76a393",
   "metadata": {},
   "outputs": [],
   "source": [
    "using Tables"
   ]
  },
  {
   "cell_type": "code",
   "execution_count": 389,
   "id": "c4883390",
   "metadata": {},
   "outputs": [
    {
     "data": {
      "text/plain": [
       "(x1 = [0.17990438642381712, 0.3120097790294787, 0.45424705606069427, 0.21024926049707993, 0.9332745265053426, 0.9097351747184736, 0.4189970853745172, 0.36025222115739997, 0.7903257272915502, 0.9423771516593723], x2 = [0.2228755147412641, 0.05498140150965636, 0.23827290774543186, 0.6448003500559807, 0.7024144580837752, 0.5885351430618508, 0.44243173708199324, 0.35902013187003534, 0.5456320977172394, 0.5445193573109056], x3 = [0.46810565051365016, 0.5078671875168738, 0.3443566342015677, 0.20837941246202785, 0.9141741690985625, 0.2602143361409911, 0.544569866431218, 0.9364160086407148, 0.10018011484641076, 0.20247636021362758])"
      ]
     },
     "execution_count": 389,
     "metadata": {},
     "output_type": "execute_result"
    }
   ],
   "source": [
    "tb = Tables.columntable(X1)"
   ]
  },
  {
   "cell_type": "code",
   "execution_count": 390,
   "id": "a64ac776",
   "metadata": {},
   "outputs": [
    {
     "data": {
      "text/plain": [
       "NamedTuple{(:x1, :x2, :x3), Tuple{Vector{Float64}, Vector{Float64}, Vector{Float64}}}"
      ]
     },
     "execution_count": 390,
     "metadata": {},
     "output_type": "execute_result"
    }
   ],
   "source": [
    "typeof(tb)"
   ]
  },
  {
   "cell_type": "code",
   "execution_count": 391,
   "id": "5953e571",
   "metadata": {},
   "outputs": [
    {
     "data": {
      "text/plain": [
       "10-element Vector{Float64}:\n",
       " 0.46810565051365016\n",
       " 0.5078671875168738\n",
       " 0.3443566342015677\n",
       " 0.20837941246202785\n",
       " 0.9141741690985625\n",
       " 0.2602143361409911\n",
       " 0.544569866431218\n",
       " 0.9364160086407148\n",
       " 0.10018011484641076\n",
       " 0.20247636021362758"
      ]
     },
     "execution_count": 391,
     "metadata": {},
     "output_type": "execute_result"
    }
   ],
   "source": [
    "tb.x1;\n",
    "tb.x2;\n",
    "tb.x3"
   ]
  },
  {
   "cell_type": "code",
   "execution_count": 392,
   "id": "b7688678",
   "metadata": {},
   "outputs": [
    {
     "data": {
      "text/html": [
       "<div><div style = \"float: left;\"><span>10×3 DataFrame</span></div><div style = \"clear: both;\"></div></div><div class = \"data-frame\" style = \"overflow-x: scroll;\"><table class = \"data-frame\" style = \"margin-bottom: 6px;\"><thead><tr class = \"header\"><th class = \"rowNumber\" style = \"font-weight: bold; text-align: right;\">Row</th><th style = \"text-align: left;\">x1</th><th style = \"text-align: left;\">x2</th><th style = \"text-align: left;\">x3</th></tr><tr class = \"subheader headerLastRow\"><th class = \"rowNumber\" style = \"font-weight: bold; text-align: right;\"></th><th title = \"Float64\" style = \"text-align: left;\">Float64</th><th title = \"Float64\" style = \"text-align: left;\">Float64</th><th title = \"Float64\" style = \"text-align: left;\">Float64</th></tr></thead><tbody><tr><td class = \"rowNumber\" style = \"font-weight: bold; text-align: right;\">1</td><td style = \"text-align: right;\">0.179904</td><td style = \"text-align: right;\">0.222876</td><td style = \"text-align: right;\">0.468106</td></tr><tr><td class = \"rowNumber\" style = \"font-weight: bold; text-align: right;\">2</td><td style = \"text-align: right;\">0.31201</td><td style = \"text-align: right;\">0.0549814</td><td style = \"text-align: right;\">0.507867</td></tr><tr><td class = \"rowNumber\" style = \"font-weight: bold; text-align: right;\">3</td><td style = \"text-align: right;\">0.454247</td><td style = \"text-align: right;\">0.238273</td><td style = \"text-align: right;\">0.344357</td></tr><tr><td class = \"rowNumber\" style = \"font-weight: bold; text-align: right;\">4</td><td style = \"text-align: right;\">0.210249</td><td style = \"text-align: right;\">0.6448</td><td style = \"text-align: right;\">0.208379</td></tr><tr><td class = \"rowNumber\" style = \"font-weight: bold; text-align: right;\">5</td><td style = \"text-align: right;\">0.933275</td><td style = \"text-align: right;\">0.702414</td><td style = \"text-align: right;\">0.914174</td></tr><tr><td class = \"rowNumber\" style = \"font-weight: bold; text-align: right;\">6</td><td style = \"text-align: right;\">0.909735</td><td style = \"text-align: right;\">0.588535</td><td style = \"text-align: right;\">0.260214</td></tr><tr><td class = \"rowNumber\" style = \"font-weight: bold; text-align: right;\">7</td><td style = \"text-align: right;\">0.418997</td><td style = \"text-align: right;\">0.442432</td><td style = \"text-align: right;\">0.54457</td></tr><tr><td class = \"rowNumber\" style = \"font-weight: bold; text-align: right;\">8</td><td style = \"text-align: right;\">0.360252</td><td style = \"text-align: right;\">0.35902</td><td style = \"text-align: right;\">0.936416</td></tr><tr><td class = \"rowNumber\" style = \"font-weight: bold; text-align: right;\">9</td><td style = \"text-align: right;\">0.790326</td><td style = \"text-align: right;\">0.545632</td><td style = \"text-align: right;\">0.10018</td></tr><tr><td class = \"rowNumber\" style = \"font-weight: bold; text-align: right;\">10</td><td style = \"text-align: right;\">0.942377</td><td style = \"text-align: right;\">0.544519</td><td style = \"text-align: right;\">0.202476</td></tr></tbody></table></div>"
      ],
      "text/latex": [
       "\\begin{tabular}{r|ccc}\n",
       "\t& x1 & x2 & x3\\\\\n",
       "\t\\hline\n",
       "\t& Float64 & Float64 & Float64\\\\\n",
       "\t\\hline\n",
       "\t1 & 0.179904 & 0.222876 & 0.468106 \\\\\n",
       "\t2 & 0.31201 & 0.0549814 & 0.507867 \\\\\n",
       "\t3 & 0.454247 & 0.238273 & 0.344357 \\\\\n",
       "\t4 & 0.210249 & 0.6448 & 0.208379 \\\\\n",
       "\t5 & 0.933275 & 0.702414 & 0.914174 \\\\\n",
       "\t6 & 0.909735 & 0.588535 & 0.260214 \\\\\n",
       "\t7 & 0.418997 & 0.442432 & 0.54457 \\\\\n",
       "\t8 & 0.360252 & 0.35902 & 0.936416 \\\\\n",
       "\t9 & 0.790326 & 0.545632 & 0.10018 \\\\\n",
       "\t10 & 0.942377 & 0.544519 & 0.202476 \\\\\n",
       "\\end{tabular}\n"
      ],
      "text/plain": [
       "\u001b[1m10×3 DataFrame\u001b[0m\n",
       "\u001b[1m Row \u001b[0m│\u001b[1m x1       \u001b[0m\u001b[1m x2        \u001b[0m\u001b[1m x3       \u001b[0m\n",
       "     │\u001b[90m Float64  \u001b[0m\u001b[90m Float64   \u001b[0m\u001b[90m Float64  \u001b[0m\n",
       "─────┼───────────────────────────────\n",
       "   1 │ 0.179904  0.222876   0.468106\n",
       "   2 │ 0.31201   0.0549814  0.507867\n",
       "   3 │ 0.454247  0.238273   0.344357\n",
       "   4 │ 0.210249  0.6448     0.208379\n",
       "   5 │ 0.933275  0.702414   0.914174\n",
       "   6 │ 0.909735  0.588535   0.260214\n",
       "   7 │ 0.418997  0.442432   0.54457\n",
       "   8 │ 0.360252  0.35902    0.936416\n",
       "   9 │ 0.790326  0.545632   0.10018\n",
       "  10 │ 0.942377  0.544519   0.202476"
      ]
     },
     "execution_count": 392,
     "metadata": {},
     "output_type": "execute_result"
    }
   ],
   "source": [
    "X1"
   ]
  },
  {
   "cell_type": "code",
   "execution_count": 393,
   "id": "23d616c2",
   "metadata": {},
   "outputs": [
    {
     "data": {
      "text/plain": [
       "3-element Vector{String}:\n",
       " \"x1\"\n",
       " \"x2\"\n",
       " \"x3\""
      ]
     },
     "execution_count": 393,
     "metadata": {},
     "output_type": "execute_result"
    }
   ],
   "source": [
    "names(X1)"
   ]
  },
  {
   "cell_type": "code",
   "execution_count": 394,
   "id": "1ec888f7",
   "metadata": {},
   "outputs": [
    {
     "data": {
      "text/plain": [
       "(10, 3)"
      ]
     },
     "execution_count": 394,
     "metadata": {},
     "output_type": "execute_result"
    }
   ],
   "source": [
    "size(X1)"
   ]
  },
  {
   "cell_type": "code",
   "execution_count": 395,
   "id": "cdfcd1d5",
   "metadata": {},
   "outputs": [
    {
     "data": {
      "text/plain": [
       "(10, 3)"
      ]
     },
     "execution_count": 395,
     "metadata": {},
     "output_type": "execute_result"
    }
   ],
   "source": [
    "size(X1, 1), size(X1, 2)"
   ]
  },
  {
   "cell_type": "code",
   "execution_count": 396,
   "id": "13213cfb",
   "metadata": {},
   "outputs": [
    {
     "data": {
      "text/plain": [
       "10"
      ]
     },
     "execution_count": 396,
     "metadata": {},
     "output_type": "execute_result"
    }
   ],
   "source": [
    "nrow(X1)"
   ]
  },
  {
   "cell_type": "code",
   "execution_count": 397,
   "id": "3ddf9d42",
   "metadata": {},
   "outputs": [
    {
     "data": {
      "text/plain": [
       "3"
      ]
     },
     "execution_count": 397,
     "metadata": {},
     "output_type": "execute_result"
    }
   ],
   "source": [
    "ncol(X1)"
   ]
  },
  {
   "cell_type": "code",
   "execution_count": 398,
   "id": "2ead5a77",
   "metadata": {},
   "outputs": [
    {
     "data": {
      "text/html": [
       "<div><div style = \"float: left;\"><span>2×7 DataFrame</span></div><div style = \"clear: both;\"></div></div><div class = \"data-frame\" style = \"overflow-x: scroll;\"><table class = \"data-frame\" style = \"margin-bottom: 6px;\"><thead><tr class = \"header\"><th class = \"rowNumber\" style = \"font-weight: bold; text-align: right;\">Row</th><th style = \"text-align: left;\">variable</th><th style = \"text-align: left;\">mean</th><th style = \"text-align: left;\">min</th><th style = \"text-align: left;\">median</th><th style = \"text-align: left;\">max</th><th style = \"text-align: left;\">nmissing</th><th style = \"text-align: left;\">eltype</th></tr><tr class = \"subheader headerLastRow\"><th class = \"rowNumber\" style = \"font-weight: bold; text-align: right;\"></th><th title = \"Symbol\" style = \"text-align: left;\">Symbol</th><th title = \"Float64\" style = \"text-align: left;\">Float64</th><th title = \"Float64\" style = \"text-align: left;\">Float64</th><th title = \"Float64\" style = \"text-align: left;\">Float64</th><th title = \"Float64\" style = \"text-align: left;\">Float64</th><th title = \"Int64\" style = \"text-align: left;\">Int64</th><th title = \"DataType\" style = \"text-align: left;\">DataType</th></tr></thead><tbody><tr><td class = \"rowNumber\" style = \"font-weight: bold; text-align: right;\">1</td><td style = \"text-align: left;\">x1</td><td style = \"text-align: right;\">0.551137</td><td style = \"text-align: right;\">0.179904</td><td style = \"text-align: right;\">0.436622</td><td style = \"text-align: right;\">0.942377</td><td style = \"text-align: right;\">0</td><td style = \"text-align: left;\">Float64</td></tr><tr><td class = \"rowNumber\" style = \"font-weight: bold; text-align: right;\">2</td><td style = \"text-align: left;\">x2</td><td style = \"text-align: right;\">0.434348</td><td style = \"text-align: right;\">0.0549814</td><td style = \"text-align: right;\">0.493476</td><td style = \"text-align: right;\">0.702414</td><td style = \"text-align: right;\">0</td><td style = \"text-align: left;\">Float64</td></tr></tbody></table></div>"
      ],
      "text/latex": [
       "\\begin{tabular}{r|ccccccc}\n",
       "\t& variable & mean & min & median & max & nmissing & eltype\\\\\n",
       "\t\\hline\n",
       "\t& Symbol & Float64 & Float64 & Float64 & Float64 & Int64 & DataType\\\\\n",
       "\t\\hline\n",
       "\t1 & x1 & 0.551137 & 0.179904 & 0.436622 & 0.942377 & 0 & Float64 \\\\\n",
       "\t2 & x2 & 0.434348 & 0.0549814 & 0.493476 & 0.702414 & 0 & Float64 \\\\\n",
       "\\end{tabular}\n"
      ],
      "text/plain": [
       "\u001b[1m2×7 DataFrame\u001b[0m\n",
       "\u001b[1m Row \u001b[0m│\u001b[1m variable \u001b[0m\u001b[1m mean     \u001b[0m\u001b[1m min       \u001b[0m\u001b[1m median   \u001b[0m\u001b[1m max      \u001b[0m\u001b[1m nmissing \u001b[0m\u001b[1m eltype   \u001b[0m\n",
       "     │\u001b[90m Symbol   \u001b[0m\u001b[90m Float64  \u001b[0m\u001b[90m Float64   \u001b[0m\u001b[90m Float64  \u001b[0m\u001b[90m Float64  \u001b[0m\u001b[90m Int64    \u001b[0m\u001b[90m DataType \u001b[0m\n",
       "─────┼───────────────────────────────────────────────────────────────────────\n",
       "   1 │ x1        0.551137  0.179904   0.436622  0.942377         0  Float64\n",
       "   2 │ x2        0.434348  0.0549814  0.493476  0.702414         0  Float64"
      ]
     },
     "execution_count": 398,
     "metadata": {},
     "output_type": "execute_result"
    }
   ],
   "source": [
    "describe(X1)\n",
    "describe(X1, cols=1:2)"
   ]
  },
  {
   "cell_type": "code",
   "execution_count": 399,
   "id": "8b44ff5b",
   "metadata": {},
   "outputs": [
    {
     "data": {
      "text/plain": [
       "3-element Vector{DataType}:\n",
       " Float64\n",
       " Float64\n",
       " Float64"
      ]
     },
     "execution_count": 399,
     "metadata": {},
     "output_type": "execute_result"
    }
   ],
   "source": [
    "eltype.(eachcol(X1))"
   ]
  },
  {
   "cell_type": "code",
   "execution_count": 400,
   "id": "c70e8b1d",
   "metadata": {},
   "outputs": [
    {
     "data": {
      "text/html": [
       "<div><div style = \"float: left;\"><span>DataFrameRow (3 columns)</span></div><div style = \"clear: both;\"></div></div><div class = \"data-frame\" style = \"overflow-x: scroll;\"><table class = \"data-frame\" style = \"margin-bottom: 6px;\"><thead><tr class = \"header\"><th class = \"rowLabel\" style = \"font-weight: bold; text-align: right;\">Row</th><th style = \"text-align: left;\">x1</th><th style = \"text-align: left;\">x2</th><th style = \"text-align: left;\">x3</th></tr><tr class = \"subheader headerLastRow\"><th class = \"rowLabel\" style = \"font-weight: bold; text-align: right;\"></th><th title = \"Float64\" style = \"text-align: left;\">Float64</th><th title = \"Float64\" style = \"text-align: left;\">Float64</th><th title = \"Float64\" style = \"text-align: left;\">Float64</th></tr></thead><tbody><tr><td class = \"rowLabel\" style = \"font-weight: bold; text-align: right;\">1</td><td style = \"text-align: right;\">0.179904</td><td style = \"text-align: right;\">0.222876</td><td style = \"text-align: right;\">0.468106</td></tr></tbody></table></div>"
      ],
      "text/latex": [
       "\\begin{tabular}{r|ccc}\n",
       "\t& x1 & x2 & x3\\\\\n",
       "\t\\hline\n",
       "\t& Float64 & Float64 & Float64\\\\\n",
       "\t\\hline\n",
       "\t1 & 0.179904 & 0.222876 & 0.468106 \\\\\n",
       "\\end{tabular}\n"
      ],
      "text/plain": [
       "\u001b[1mDataFrameRow\u001b[0m\n",
       "\u001b[1m Row \u001b[0m│\u001b[1m x1       \u001b[0m\u001b[1m x2       \u001b[0m\u001b[1m x3       \u001b[0m\n",
       "     │\u001b[90m Float64  \u001b[0m\u001b[90m Float64  \u001b[0m\u001b[90m Float64  \u001b[0m\n",
       "─────┼──────────────────────────────\n",
       "   1 │ 0.179904  0.222876  0.468106"
      ]
     },
     "execution_count": 400,
     "metadata": {},
     "output_type": "execute_result"
    }
   ],
   "source": [
    "first(X1)"
   ]
  },
  {
   "cell_type": "code",
   "execution_count": 401,
   "id": "03dd0295",
   "metadata": {},
   "outputs": [
    {
     "data": {
      "text/html": [
       "<div><div style = \"float: left;\"><span>5×3 DataFrame</span></div><div style = \"clear: both;\"></div></div><div class = \"data-frame\" style = \"overflow-x: scroll;\"><table class = \"data-frame\" style = \"margin-bottom: 6px;\"><thead><tr class = \"header\"><th class = \"rowNumber\" style = \"font-weight: bold; text-align: right;\">Row</th><th style = \"text-align: left;\">x1</th><th style = \"text-align: left;\">x2</th><th style = \"text-align: left;\">x3</th></tr><tr class = \"subheader headerLastRow\"><th class = \"rowNumber\" style = \"font-weight: bold; text-align: right;\"></th><th title = \"Float64\" style = \"text-align: left;\">Float64</th><th title = \"Float64\" style = \"text-align: left;\">Float64</th><th title = \"Float64\" style = \"text-align: left;\">Float64</th></tr></thead><tbody><tr><td class = \"rowNumber\" style = \"font-weight: bold; text-align: right;\">1</td><td style = \"text-align: right;\">0.179904</td><td style = \"text-align: right;\">0.222876</td><td style = \"text-align: right;\">0.468106</td></tr><tr><td class = \"rowNumber\" style = \"font-weight: bold; text-align: right;\">2</td><td style = \"text-align: right;\">0.31201</td><td style = \"text-align: right;\">0.0549814</td><td style = \"text-align: right;\">0.507867</td></tr><tr><td class = \"rowNumber\" style = \"font-weight: bold; text-align: right;\">3</td><td style = \"text-align: right;\">0.454247</td><td style = \"text-align: right;\">0.238273</td><td style = \"text-align: right;\">0.344357</td></tr><tr><td class = \"rowNumber\" style = \"font-weight: bold; text-align: right;\">4</td><td style = \"text-align: right;\">0.210249</td><td style = \"text-align: right;\">0.6448</td><td style = \"text-align: right;\">0.208379</td></tr><tr><td class = \"rowNumber\" style = \"font-weight: bold; text-align: right;\">5</td><td style = \"text-align: right;\">0.933275</td><td style = \"text-align: right;\">0.702414</td><td style = \"text-align: right;\">0.914174</td></tr></tbody></table></div>"
      ],
      "text/latex": [
       "\\begin{tabular}{r|ccc}\n",
       "\t& x1 & x2 & x3\\\\\n",
       "\t\\hline\n",
       "\t& Float64 & Float64 & Float64\\\\\n",
       "\t\\hline\n",
       "\t1 & 0.179904 & 0.222876 & 0.468106 \\\\\n",
       "\t2 & 0.31201 & 0.0549814 & 0.507867 \\\\\n",
       "\t3 & 0.454247 & 0.238273 & 0.344357 \\\\\n",
       "\t4 & 0.210249 & 0.6448 & 0.208379 \\\\\n",
       "\t5 & 0.933275 & 0.702414 & 0.914174 \\\\\n",
       "\\end{tabular}\n"
      ],
      "text/plain": [
       "\u001b[1m5×3 DataFrame\u001b[0m\n",
       "\u001b[1m Row \u001b[0m│\u001b[1m x1       \u001b[0m\u001b[1m x2        \u001b[0m\u001b[1m x3       \u001b[0m\n",
       "     │\u001b[90m Float64  \u001b[0m\u001b[90m Float64   \u001b[0m\u001b[90m Float64  \u001b[0m\n",
       "─────┼───────────────────────────────\n",
       "   1 │ 0.179904  0.222876   0.468106\n",
       "   2 │ 0.31201   0.0549814  0.507867\n",
       "   3 │ 0.454247  0.238273   0.344357\n",
       "   4 │ 0.210249  0.6448     0.208379\n",
       "   5 │ 0.933275  0.702414   0.914174"
      ]
     },
     "execution_count": 401,
     "metadata": {},
     "output_type": "execute_result"
    }
   ],
   "source": [
    "first(X1, 5)"
   ]
  },
  {
   "cell_type": "code",
   "execution_count": 402,
   "id": "a523130e",
   "metadata": {},
   "outputs": [
    {
     "data": {
      "text/html": [
       "<div><div style = \"float: left;\"><span>2×3 DataFrame</span></div><div style = \"clear: both;\"></div></div><div class = \"data-frame\" style = \"overflow-x: scroll;\"><table class = \"data-frame\" style = \"margin-bottom: 6px;\"><thead><tr class = \"header\"><th class = \"rowNumber\" style = \"font-weight: bold; text-align: right;\">Row</th><th style = \"text-align: left;\">x1</th><th style = \"text-align: left;\">x2</th><th style = \"text-align: left;\">x3</th></tr><tr class = \"subheader headerLastRow\"><th class = \"rowNumber\" style = \"font-weight: bold; text-align: right;\"></th><th title = \"Float64\" style = \"text-align: left;\">Float64</th><th title = \"Float64\" style = \"text-align: left;\">Float64</th><th title = \"Float64\" style = \"text-align: left;\">Float64</th></tr></thead><tbody><tr><td class = \"rowNumber\" style = \"font-weight: bold; text-align: right;\">1</td><td style = \"text-align: right;\">0.790326</td><td style = \"text-align: right;\">0.545632</td><td style = \"text-align: right;\">0.10018</td></tr><tr><td class = \"rowNumber\" style = \"font-weight: bold; text-align: right;\">2</td><td style = \"text-align: right;\">0.942377</td><td style = \"text-align: right;\">0.544519</td><td style = \"text-align: right;\">0.202476</td></tr></tbody></table></div>"
      ],
      "text/latex": [
       "\\begin{tabular}{r|ccc}\n",
       "\t& x1 & x2 & x3\\\\\n",
       "\t\\hline\n",
       "\t& Float64 & Float64 & Float64\\\\\n",
       "\t\\hline\n",
       "\t1 & 0.790326 & 0.545632 & 0.10018 \\\\\n",
       "\t2 & 0.942377 & 0.544519 & 0.202476 \\\\\n",
       "\\end{tabular}\n"
      ],
      "text/plain": [
       "\u001b[1m2×3 DataFrame\u001b[0m\n",
       "\u001b[1m Row \u001b[0m│\u001b[1m x1       \u001b[0m\u001b[1m x2       \u001b[0m\u001b[1m x3       \u001b[0m\n",
       "     │\u001b[90m Float64  \u001b[0m\u001b[90m Float64  \u001b[0m\u001b[90m Float64  \u001b[0m\n",
       "─────┼──────────────────────────────\n",
       "   1 │ 0.790326  0.545632  0.10018\n",
       "   2 │ 0.942377  0.544519  0.202476"
      ]
     },
     "execution_count": 402,
     "metadata": {},
     "output_type": "execute_result"
    }
   ],
   "source": [
    "last(X1);\n",
    "last(X1, 2)"
   ]
  },
  {
   "cell_type": "code",
   "execution_count": 403,
   "id": "a6d54bee",
   "metadata": {},
   "outputs": [
    {
     "data": {
      "text/html": [
       "<div><div style = \"float: left;\"><span>7×2 DataFrame</span></div><div style = \"clear: both;\"></div></div><div class = \"data-frame\" style = \"overflow-x: scroll;\"><table class = \"data-frame\" style = \"margin-bottom: 6px;\"><thead><tr class = \"header\"><th class = \"rowNumber\" style = \"font-weight: bold; text-align: right;\">Row</th><th style = \"text-align: left;\">x1</th><th style = \"text-align: left;\">x2</th></tr><tr class = \"subheader headerLastRow\"><th class = \"rowNumber\" style = \"font-weight: bold; text-align: right;\"></th><th title = \"Float64\" style = \"text-align: left;\">Float64</th><th title = \"Float64\" style = \"text-align: left;\">Float64</th></tr></thead><tbody><tr><td class = \"rowNumber\" style = \"font-weight: bold; text-align: right;\">1</td><td style = \"text-align: right;\">0.179904</td><td style = \"text-align: right;\">0.222876</td></tr><tr><td class = \"rowNumber\" style = \"font-weight: bold; text-align: right;\">2</td><td style = \"text-align: right;\">0.31201</td><td style = \"text-align: right;\">0.0549814</td></tr><tr><td class = \"rowNumber\" style = \"font-weight: bold; text-align: right;\">3</td><td style = \"text-align: right;\">0.454247</td><td style = \"text-align: right;\">0.238273</td></tr><tr><td class = \"rowNumber\" style = \"font-weight: bold; text-align: right;\">4</td><td style = \"text-align: right;\">0.210249</td><td style = \"text-align: right;\">0.6448</td></tr><tr><td class = \"rowNumber\" style = \"font-weight: bold; text-align: right;\">5</td><td style = \"text-align: right;\">0.933275</td><td style = \"text-align: right;\">0.702414</td></tr><tr><td class = \"rowNumber\" style = \"font-weight: bold; text-align: right;\">6</td><td style = \"text-align: right;\">0.909735</td><td style = \"text-align: right;\">0.588535</td></tr><tr><td class = \"rowNumber\" style = \"font-weight: bold; text-align: right;\">7</td><td style = \"text-align: right;\">0.418997</td><td style = \"text-align: right;\">0.442432</td></tr></tbody></table></div>"
      ],
      "text/latex": [
       "\\begin{tabular}{r|cc}\n",
       "\t& x1 & x2\\\\\n",
       "\t\\hline\n",
       "\t& Float64 & Float64\\\\\n",
       "\t\\hline\n",
       "\t1 & 0.179904 & 0.222876 \\\\\n",
       "\t2 & 0.31201 & 0.0549814 \\\\\n",
       "\t3 & 0.454247 & 0.238273 \\\\\n",
       "\t4 & 0.210249 & 0.6448 \\\\\n",
       "\t5 & 0.933275 & 0.702414 \\\\\n",
       "\t6 & 0.909735 & 0.588535 \\\\\n",
       "\t7 & 0.418997 & 0.442432 \\\\\n",
       "\\end{tabular}\n"
      ],
      "text/plain": [
       "\u001b[1m7×2 DataFrame\u001b[0m\n",
       "\u001b[1m Row \u001b[0m│\u001b[1m x1       \u001b[0m\u001b[1m x2        \u001b[0m\n",
       "     │\u001b[90m Float64  \u001b[0m\u001b[90m Float64   \u001b[0m\n",
       "─────┼─────────────────────\n",
       "   1 │ 0.179904  0.222876\n",
       "   2 │ 0.31201   0.0549814\n",
       "   3 │ 0.454247  0.238273\n",
       "   4 │ 0.210249  0.6448\n",
       "   5 │ 0.933275  0.702414\n",
       "   6 │ 0.909735  0.588535\n",
       "   7 │ 0.418997  0.442432"
      ]
     },
     "execution_count": 403,
     "metadata": {},
     "output_type": "execute_result"
    }
   ],
   "source": [
    "#First 7 rows of only x1 and x2 but not x3\n",
    "#X1[Row, col]\n",
    "X1[1:7, 1:2]"
   ]
  },
  {
   "cell_type": "code",
   "execution_count": 404,
   "id": "ca9e1136",
   "metadata": {},
   "outputs": [
    {
     "data": {
      "text/html": [
       "<div><div style = \"float: left;\"><span>7×3 DataFrame</span></div><div style = \"clear: both;\"></div></div><div class = \"data-frame\" style = \"overflow-x: scroll;\"><table class = \"data-frame\" style = \"margin-bottom: 6px;\"><thead><tr class = \"header\"><th class = \"rowNumber\" style = \"font-weight: bold; text-align: right;\">Row</th><th style = \"text-align: left;\">x1</th><th style = \"text-align: left;\">x2</th><th style = \"text-align: left;\">x3</th></tr><tr class = \"subheader headerLastRow\"><th class = \"rowNumber\" style = \"font-weight: bold; text-align: right;\"></th><th title = \"Float64\" style = \"text-align: left;\">Float64</th><th title = \"Float64\" style = \"text-align: left;\">Float64</th><th title = \"Float64\" style = \"text-align: left;\">Float64</th></tr></thead><tbody><tr><td class = \"rowNumber\" style = \"font-weight: bold; text-align: right;\">1</td><td style = \"text-align: right;\">0.179904</td><td style = \"text-align: right;\">0.222876</td><td style = \"text-align: right;\">0.468106</td></tr><tr><td class = \"rowNumber\" style = \"font-weight: bold; text-align: right;\">2</td><td style = \"text-align: right;\">0.31201</td><td style = \"text-align: right;\">0.0549814</td><td style = \"text-align: right;\">0.507867</td></tr><tr><td class = \"rowNumber\" style = \"font-weight: bold; text-align: right;\">3</td><td style = \"text-align: right;\">0.454247</td><td style = \"text-align: right;\">0.238273</td><td style = \"text-align: right;\">0.344357</td></tr><tr><td class = \"rowNumber\" style = \"font-weight: bold; text-align: right;\">4</td><td style = \"text-align: right;\">0.210249</td><td style = \"text-align: right;\">0.6448</td><td style = \"text-align: right;\">0.208379</td></tr><tr><td class = \"rowNumber\" style = \"font-weight: bold; text-align: right;\">5</td><td style = \"text-align: right;\">0.933275</td><td style = \"text-align: right;\">0.702414</td><td style = \"text-align: right;\">0.914174</td></tr><tr><td class = \"rowNumber\" style = \"font-weight: bold; text-align: right;\">6</td><td style = \"text-align: right;\">0.909735</td><td style = \"text-align: right;\">0.588535</td><td style = \"text-align: right;\">0.260214</td></tr><tr><td class = \"rowNumber\" style = \"font-weight: bold; text-align: right;\">7</td><td style = \"text-align: right;\">0.418997</td><td style = \"text-align: right;\">0.442432</td><td style = \"text-align: right;\">0.54457</td></tr></tbody></table></div>"
      ],
      "text/latex": [
       "\\begin{tabular}{r|ccc}\n",
       "\t& x1 & x2 & x3\\\\\n",
       "\t\\hline\n",
       "\t& Float64 & Float64 & Float64\\\\\n",
       "\t\\hline\n",
       "\t1 & 0.179904 & 0.222876 & 0.468106 \\\\\n",
       "\t2 & 0.31201 & 0.0549814 & 0.507867 \\\\\n",
       "\t3 & 0.454247 & 0.238273 & 0.344357 \\\\\n",
       "\t4 & 0.210249 & 0.6448 & 0.208379 \\\\\n",
       "\t5 & 0.933275 & 0.702414 & 0.914174 \\\\\n",
       "\t6 & 0.909735 & 0.588535 & 0.260214 \\\\\n",
       "\t7 & 0.418997 & 0.442432 & 0.54457 \\\\\n",
       "\\end{tabular}\n"
      ],
      "text/plain": [
       "\u001b[1m7×3 DataFrame\u001b[0m\n",
       "\u001b[1m Row \u001b[0m│\u001b[1m x1       \u001b[0m\u001b[1m x2        \u001b[0m\u001b[1m x3       \u001b[0m\n",
       "     │\u001b[90m Float64  \u001b[0m\u001b[90m Float64   \u001b[0m\u001b[90m Float64  \u001b[0m\n",
       "─────┼───────────────────────────────\n",
       "   1 │ 0.179904  0.222876   0.468106\n",
       "   2 │ 0.31201   0.0549814  0.507867\n",
       "   3 │ 0.454247  0.238273   0.344357\n",
       "   4 │ 0.210249  0.6448     0.208379\n",
       "   5 │ 0.933275  0.702414   0.914174\n",
       "   6 │ 0.909735  0.588535   0.260214\n",
       "   7 │ 0.418997  0.442432   0.54457"
      ]
     },
     "execution_count": 404,
     "metadata": {},
     "output_type": "execute_result"
    }
   ],
   "source": [
    "X1[1:7, :]"
   ]
  },
  {
   "cell_type": "code",
   "execution_count": 405,
   "id": "7b173e16",
   "metadata": {},
   "outputs": [
    {
     "data": {
      "text/plain": [
       "10-element Vector{Float64}:\n",
       " 0.46810565051365016\n",
       " 0.5078671875168738\n",
       " 0.3443566342015677\n",
       " 0.20837941246202785\n",
       " 0.9141741690985625\n",
       " 0.2602143361409911\n",
       " 0.544569866431218\n",
       " 0.9364160086407148\n",
       " 0.10018011484641076\n",
       " 0.20247636021362758"
      ]
     },
     "execution_count": 405,
     "metadata": {},
     "output_type": "execute_result"
    }
   ],
   "source": [
    "X1[:, 3]"
   ]
  },
  {
   "cell_type": "code",
   "execution_count": 406,
   "id": "adb15fa2",
   "metadata": {},
   "outputs": [
    {
     "data": {
      "text/html": [
       "<div><div style = \"float: left;\"><span>10×3 DataFrame</span></div><div style = \"clear: both;\"></div></div><div class = \"data-frame\" style = \"overflow-x: scroll;\"><table class = \"data-frame\" style = \"margin-bottom: 6px;\"><thead><tr class = \"header\"><th class = \"rowNumber\" style = \"font-weight: bold; text-align: right;\">Row</th><th style = \"text-align: left;\">x1</th><th style = \"text-align: left;\">x2</th><th style = \"text-align: left;\">x3</th></tr><tr class = \"subheader headerLastRow\"><th class = \"rowNumber\" style = \"font-weight: bold; text-align: right;\"></th><th title = \"Float64\" style = \"text-align: left;\">Float64</th><th title = \"Float64\" style = \"text-align: left;\">Float64</th><th title = \"Float64\" style = \"text-align: left;\">Float64</th></tr></thead><tbody><tr><td class = \"rowNumber\" style = \"font-weight: bold; text-align: right;\">1</td><td style = \"text-align: right;\">0.179904</td><td style = \"text-align: right;\">0.222876</td><td style = \"text-align: right;\">0.468106</td></tr><tr><td class = \"rowNumber\" style = \"font-weight: bold; text-align: right;\">2</td><td style = \"text-align: right;\">0.31201</td><td style = \"text-align: right;\">0.0549814</td><td style = \"text-align: right;\">0.507867</td></tr><tr><td class = \"rowNumber\" style = \"font-weight: bold; text-align: right;\">3</td><td style = \"text-align: right;\">0.454247</td><td style = \"text-align: right;\">0.238273</td><td style = \"text-align: right;\">0.344357</td></tr><tr><td class = \"rowNumber\" style = \"font-weight: bold; text-align: right;\">4</td><td style = \"text-align: right;\">0.210249</td><td style = \"text-align: right;\">0.6448</td><td style = \"text-align: right;\">0.208379</td></tr><tr><td class = \"rowNumber\" style = \"font-weight: bold; text-align: right;\">5</td><td style = \"text-align: right;\">0.933275</td><td style = \"text-align: right;\">0.702414</td><td style = \"text-align: right;\">0.914174</td></tr><tr><td class = \"rowNumber\" style = \"font-weight: bold; text-align: right;\">6</td><td style = \"text-align: right;\">0.909735</td><td style = \"text-align: right;\">0.588535</td><td style = \"text-align: right;\">0.260214</td></tr><tr><td class = \"rowNumber\" style = \"font-weight: bold; text-align: right;\">7</td><td style = \"text-align: right;\">0.418997</td><td style = \"text-align: right;\">0.442432</td><td style = \"text-align: right;\">0.54457</td></tr><tr><td class = \"rowNumber\" style = \"font-weight: bold; text-align: right;\">8</td><td style = \"text-align: right;\">0.360252</td><td style = \"text-align: right;\">0.35902</td><td style = \"text-align: right;\">0.936416</td></tr><tr><td class = \"rowNumber\" style = \"font-weight: bold; text-align: right;\">9</td><td style = \"text-align: right;\">0.790326</td><td style = \"text-align: right;\">0.545632</td><td style = \"text-align: right;\">0.10018</td></tr><tr><td class = \"rowNumber\" style = \"font-weight: bold; text-align: right;\">10</td><td style = \"text-align: right;\">0.942377</td><td style = \"text-align: right;\">0.544519</td><td style = \"text-align: right;\">0.202476</td></tr></tbody></table></div>"
      ],
      "text/latex": [
       "\\begin{tabular}{r|ccc}\n",
       "\t& x1 & x2 & x3\\\\\n",
       "\t\\hline\n",
       "\t& Float64 & Float64 & Float64\\\\\n",
       "\t\\hline\n",
       "\t1 & 0.179904 & 0.222876 & 0.468106 \\\\\n",
       "\t2 & 0.31201 & 0.0549814 & 0.507867 \\\\\n",
       "\t3 & 0.454247 & 0.238273 & 0.344357 \\\\\n",
       "\t4 & 0.210249 & 0.6448 & 0.208379 \\\\\n",
       "\t5 & 0.933275 & 0.702414 & 0.914174 \\\\\n",
       "\t6 & 0.909735 & 0.588535 & 0.260214 \\\\\n",
       "\t7 & 0.418997 & 0.442432 & 0.54457 \\\\\n",
       "\t8 & 0.360252 & 0.35902 & 0.936416 \\\\\n",
       "\t9 & 0.790326 & 0.545632 & 0.10018 \\\\\n",
       "\t10 & 0.942377 & 0.544519 & 0.202476 \\\\\n",
       "\\end{tabular}\n"
      ],
      "text/plain": [
       "\u001b[1m10×3 DataFrame\u001b[0m\n",
       "\u001b[1m Row \u001b[0m│\u001b[1m x1       \u001b[0m\u001b[1m x2        \u001b[0m\u001b[1m x3       \u001b[0m\n",
       "     │\u001b[90m Float64  \u001b[0m\u001b[90m Float64   \u001b[0m\u001b[90m Float64  \u001b[0m\n",
       "─────┼───────────────────────────────\n",
       "   1 │ 0.179904  0.222876   0.468106\n",
       "   2 │ 0.31201   0.0549814  0.507867\n",
       "   3 │ 0.454247  0.238273   0.344357\n",
       "   4 │ 0.210249  0.6448     0.208379\n",
       "   5 │ 0.933275  0.702414   0.914174\n",
       "   6 │ 0.909735  0.588535   0.260214\n",
       "   7 │ 0.418997  0.442432   0.54457\n",
       "   8 │ 0.360252  0.35902    0.936416\n",
       "   9 │ 0.790326  0.545632   0.10018\n",
       "  10 │ 0.942377  0.544519   0.202476"
      ]
     },
     "execution_count": 406,
     "metadata": {},
     "output_type": "execute_result"
    }
   ],
   "source": [
    "X1[:, Between(:x1, :x3)]"
   ]
  },
  {
   "cell_type": "code",
   "execution_count": 407,
   "id": "14e766e1",
   "metadata": {},
   "outputs": [
    {
     "data": {
      "text/plain": [
       "10-element Vector{Float64}:\n",
       " 0.47887796448452846\n",
       " 0.17045428299191334\n",
       " 0.20424258731990852\n",
       " 0.7609808004369392\n",
       " 0.7679709452011922\n",
       " 0.7041923436724514\n",
       " 0.30885912074897526\n",
       " 0.18680593051878225\n",
       " 0.25867235371235553\n",
       " 0.8073591274971317"
      ]
     },
     "execution_count": 407,
     "metadata": {},
     "output_type": "execute_result"
    }
   ],
   "source": [
    "X1.x4 = rand(10)"
   ]
  },
  {
   "cell_type": "code",
   "execution_count": 408,
   "id": "dbd8e90b",
   "metadata": {},
   "outputs": [
    {
     "data": {
      "text/html": [
       "<div><div style = \"float: left;\"><span>10×4 DataFrame</span></div><div style = \"clear: both;\"></div></div><div class = \"data-frame\" style = \"overflow-x: scroll;\"><table class = \"data-frame\" style = \"margin-bottom: 6px;\"><thead><tr class = \"header\"><th class = \"rowNumber\" style = \"font-weight: bold; text-align: right;\">Row</th><th style = \"text-align: left;\">x1</th><th style = \"text-align: left;\">x2</th><th style = \"text-align: left;\">x3</th><th style = \"text-align: left;\">x4</th></tr><tr class = \"subheader headerLastRow\"><th class = \"rowNumber\" style = \"font-weight: bold; text-align: right;\"></th><th title = \"Float64\" style = \"text-align: left;\">Float64</th><th title = \"Float64\" style = \"text-align: left;\">Float64</th><th title = \"Float64\" style = \"text-align: left;\">Float64</th><th title = \"Float64\" style = \"text-align: left;\">Float64</th></tr></thead><tbody><tr><td class = \"rowNumber\" style = \"font-weight: bold; text-align: right;\">1</td><td style = \"text-align: right;\">0.179904</td><td style = \"text-align: right;\">0.222876</td><td style = \"text-align: right;\">0.468106</td><td style = \"text-align: right;\">0.478878</td></tr><tr><td class = \"rowNumber\" style = \"font-weight: bold; text-align: right;\">2</td><td style = \"text-align: right;\">0.31201</td><td style = \"text-align: right;\">0.0549814</td><td style = \"text-align: right;\">0.507867</td><td style = \"text-align: right;\">0.170454</td></tr><tr><td class = \"rowNumber\" style = \"font-weight: bold; text-align: right;\">3</td><td style = \"text-align: right;\">0.454247</td><td style = \"text-align: right;\">0.238273</td><td style = \"text-align: right;\">0.344357</td><td style = \"text-align: right;\">0.204243</td></tr><tr><td class = \"rowNumber\" style = \"font-weight: bold; text-align: right;\">4</td><td style = \"text-align: right;\">0.210249</td><td style = \"text-align: right;\">0.6448</td><td style = \"text-align: right;\">0.208379</td><td style = \"text-align: right;\">0.760981</td></tr><tr><td class = \"rowNumber\" style = \"font-weight: bold; text-align: right;\">5</td><td style = \"text-align: right;\">0.933275</td><td style = \"text-align: right;\">0.702414</td><td style = \"text-align: right;\">0.914174</td><td style = \"text-align: right;\">0.767971</td></tr><tr><td class = \"rowNumber\" style = \"font-weight: bold; text-align: right;\">6</td><td style = \"text-align: right;\">0.909735</td><td style = \"text-align: right;\">0.588535</td><td style = \"text-align: right;\">0.260214</td><td style = \"text-align: right;\">0.704192</td></tr><tr><td class = \"rowNumber\" style = \"font-weight: bold; text-align: right;\">7</td><td style = \"text-align: right;\">0.418997</td><td style = \"text-align: right;\">0.442432</td><td style = \"text-align: right;\">0.54457</td><td style = \"text-align: right;\">0.308859</td></tr><tr><td class = \"rowNumber\" style = \"font-weight: bold; text-align: right;\">8</td><td style = \"text-align: right;\">0.360252</td><td style = \"text-align: right;\">0.35902</td><td style = \"text-align: right;\">0.936416</td><td style = \"text-align: right;\">0.186806</td></tr><tr><td class = \"rowNumber\" style = \"font-weight: bold; text-align: right;\">9</td><td style = \"text-align: right;\">0.790326</td><td style = \"text-align: right;\">0.545632</td><td style = \"text-align: right;\">0.10018</td><td style = \"text-align: right;\">0.258672</td></tr><tr><td class = \"rowNumber\" style = \"font-weight: bold; text-align: right;\">10</td><td style = \"text-align: right;\">0.942377</td><td style = \"text-align: right;\">0.544519</td><td style = \"text-align: right;\">0.202476</td><td style = \"text-align: right;\">0.807359</td></tr></tbody></table></div>"
      ],
      "text/latex": [
       "\\begin{tabular}{r|cccc}\n",
       "\t& x1 & x2 & x3 & x4\\\\\n",
       "\t\\hline\n",
       "\t& Float64 & Float64 & Float64 & Float64\\\\\n",
       "\t\\hline\n",
       "\t1 & 0.179904 & 0.222876 & 0.468106 & 0.478878 \\\\\n",
       "\t2 & 0.31201 & 0.0549814 & 0.507867 & 0.170454 \\\\\n",
       "\t3 & 0.454247 & 0.238273 & 0.344357 & 0.204243 \\\\\n",
       "\t4 & 0.210249 & 0.6448 & 0.208379 & 0.760981 \\\\\n",
       "\t5 & 0.933275 & 0.702414 & 0.914174 & 0.767971 \\\\\n",
       "\t6 & 0.909735 & 0.588535 & 0.260214 & 0.704192 \\\\\n",
       "\t7 & 0.418997 & 0.442432 & 0.54457 & 0.308859 \\\\\n",
       "\t8 & 0.360252 & 0.35902 & 0.936416 & 0.186806 \\\\\n",
       "\t9 & 0.790326 & 0.545632 & 0.10018 & 0.258672 \\\\\n",
       "\t10 & 0.942377 & 0.544519 & 0.202476 & 0.807359 \\\\\n",
       "\\end{tabular}\n"
      ],
      "text/plain": [
       "\u001b[1m10×4 DataFrame\u001b[0m\n",
       "\u001b[1m Row \u001b[0m│\u001b[1m x1       \u001b[0m\u001b[1m x2        \u001b[0m\u001b[1m x3       \u001b[0m\u001b[1m x4       \u001b[0m\n",
       "     │\u001b[90m Float64  \u001b[0m\u001b[90m Float64   \u001b[0m\u001b[90m Float64  \u001b[0m\u001b[90m Float64  \u001b[0m\n",
       "─────┼─────────────────────────────────────────\n",
       "   1 │ 0.179904  0.222876   0.468106  0.478878\n",
       "   2 │ 0.31201   0.0549814  0.507867  0.170454\n",
       "   3 │ 0.454247  0.238273   0.344357  0.204243\n",
       "   4 │ 0.210249  0.6448     0.208379  0.760981\n",
       "   5 │ 0.933275  0.702414   0.914174  0.767971\n",
       "   6 │ 0.909735  0.588535   0.260214  0.704192\n",
       "   7 │ 0.418997  0.442432   0.54457   0.308859\n",
       "   8 │ 0.360252  0.35902    0.936416  0.186806\n",
       "   9 │ 0.790326  0.545632   0.10018   0.258672\n",
       "  10 │ 0.942377  0.544519   0.202476  0.807359"
      ]
     },
     "execution_count": 408,
     "metadata": {},
     "output_type": "execute_result"
    }
   ],
   "source": [
    "X1"
   ]
  },
  {
   "cell_type": "code",
   "execution_count": 409,
   "id": "8918a8cd",
   "metadata": {},
   "outputs": [],
   "source": [
    "#Reading & Writing DataFrames"
   ]
  },
  {
   "cell_type": "code",
   "execution_count": 410,
   "id": "d0b0f7c1",
   "metadata": {},
   "outputs": [
    {
     "data": {
      "text/html": [
       "<div><div style = \"float: left;\"><span>3×3 DataFrame</span></div><div style = \"clear: both;\"></div></div><div class = \"data-frame\" style = \"overflow-x: scroll;\"><table class = \"data-frame\" style = \"margin-bottom: 6px;\"><thead><tr class = \"header\"><th class = \"rowNumber\" style = \"font-weight: bold; text-align: right;\">Row</th><th style = \"text-align: left;\">A</th><th style = \"text-align: left;\">B</th><th style = \"text-align: left;\">C</th></tr><tr class = \"subheader headerLastRow\"><th class = \"rowNumber\" style = \"font-weight: bold; text-align: right;\"></th><th title = \"Bool\" style = \"text-align: left;\">Bool</th><th title = \"Int64\" style = \"text-align: left;\">Int64</th><th title = \"Char\" style = \"text-align: left;\">Char</th></tr></thead><tbody><tr><td class = \"rowNumber\" style = \"font-weight: bold; text-align: right;\">1</td><td style = \"text-align: right;\">true</td><td style = \"text-align: right;\">23</td><td style = \"text-align: left;\">a</td></tr><tr><td class = \"rowNumber\" style = \"font-weight: bold; text-align: right;\">2</td><td style = \"text-align: right;\">false</td><td style = \"text-align: right;\">45</td><td style = \"text-align: left;\">c</td></tr><tr><td class = \"rowNumber\" style = \"font-weight: bold; text-align: right;\">3</td><td style = \"text-align: right;\">true</td><td style = \"text-align: right;\">67</td><td style = \"text-align: left;\">b</td></tr></tbody></table></div>"
      ],
      "text/latex": [
       "\\begin{tabular}{r|ccc}\n",
       "\t& A & B & C\\\\\n",
       "\t\\hline\n",
       "\t& Bool & Int64 & Char\\\\\n",
       "\t\\hline\n",
       "\t1 & 1 & 23 & a \\\\\n",
       "\t2 & 0 & 45 & c \\\\\n",
       "\t3 & 1 & 67 & b \\\\\n",
       "\\end{tabular}\n"
      ],
      "text/plain": [
       "\u001b[1m3×3 DataFrame\u001b[0m\n",
       "\u001b[1m Row \u001b[0m│\u001b[1m A     \u001b[0m\u001b[1m B     \u001b[0m\u001b[1m C    \u001b[0m\n",
       "     │\u001b[90m Bool  \u001b[0m\u001b[90m Int64 \u001b[0m\u001b[90m Char \u001b[0m\n",
       "─────┼────────────────────\n",
       "   1 │  true     23  a\n",
       "   2 │ false     45  c\n",
       "   3 │  true     67  b"
      ]
     },
     "execution_count": 410,
     "metadata": {},
     "output_type": "execute_result"
    }
   ],
   "source": [
    "df = DataFrame(A=[true, false, true], B=[23, 45, 67], C=['a', 'c', 'b'])"
   ]
  },
  {
   "cell_type": "code",
   "execution_count": 411,
   "id": "c4d7fdd8",
   "metadata": {},
   "outputs": [
    {
     "name": "stderr",
     "output_type": "stream",
     "text": [
      "\u001b[32m\u001b[1m   Resolving\u001b[22m\u001b[39m package versions...\n",
      "\u001b[32m\u001b[1m  No Changes\u001b[22m\u001b[39m to `~/.julia/environments/v1.8/Project.toml`\n",
      "\u001b[32m\u001b[1m  No Changes\u001b[22m\u001b[39m to `~/.julia/environments/v1.8/Manifest.toml`\n"
     ]
    }
   ],
   "source": [
    "Pkg.add(\"CSV\")"
   ]
  },
  {
   "cell_type": "code",
   "execution_count": 412,
   "id": "0bd3060b",
   "metadata": {},
   "outputs": [],
   "source": [
    "using CSV"
   ]
  },
  {
   "cell_type": "code",
   "execution_count": 413,
   "id": "9a1fea89",
   "metadata": {},
   "outputs": [
    {
     "data": {
      "text/plain": [
       "\"df.csv\""
      ]
     },
     "execution_count": 413,
     "metadata": {},
     "output_type": "execute_result"
    }
   ],
   "source": [
    "CSV.write(\"df.csv\", df)"
   ]
  },
  {
   "cell_type": "code",
   "execution_count": 414,
   "id": "2cb32f65",
   "metadata": {},
   "outputs": [
    {
     "data": {
      "text/html": [
       "<div><div style = \"float: left;\"><span>3×3 DataFrame</span></div><div style = \"clear: both;\"></div></div><div class = \"data-frame\" style = \"overflow-x: scroll;\"><table class = \"data-frame\" style = \"margin-bottom: 6px;\"><thead><tr class = \"header\"><th class = \"rowNumber\" style = \"font-weight: bold; text-align: right;\">Row</th><th style = \"text-align: left;\">A</th><th style = \"text-align: left;\">B</th><th style = \"text-align: left;\">C</th></tr><tr class = \"subheader headerLastRow\"><th class = \"rowNumber\" style = \"font-weight: bold; text-align: right;\"></th><th title = \"Bool\" style = \"text-align: left;\">Bool</th><th title = \"Int64\" style = \"text-align: left;\">Int64</th><th title = \"String1\" style = \"text-align: left;\">String1</th></tr></thead><tbody><tr><td class = \"rowNumber\" style = \"font-weight: bold; text-align: right;\">1</td><td style = \"text-align: right;\">true</td><td style = \"text-align: right;\">23</td><td style = \"text-align: left;\">a</td></tr><tr><td class = \"rowNumber\" style = \"font-weight: bold; text-align: right;\">2</td><td style = \"text-align: right;\">false</td><td style = \"text-align: right;\">45</td><td style = \"text-align: left;\">c</td></tr><tr><td class = \"rowNumber\" style = \"font-weight: bold; text-align: right;\">3</td><td style = \"text-align: right;\">true</td><td style = \"text-align: right;\">67</td><td style = \"text-align: left;\">b</td></tr></tbody></table></div>"
      ],
      "text/latex": [
       "\\begin{tabular}{r|ccc}\n",
       "\t& A & B & C\\\\\n",
       "\t\\hline\n",
       "\t& Bool & Int64 & String1\\\\\n",
       "\t\\hline\n",
       "\t1 & 1 & 23 & a \\\\\n",
       "\t2 & 0 & 45 & c \\\\\n",
       "\t3 & 1 & 67 & b \\\\\n",
       "\\end{tabular}\n"
      ],
      "text/plain": [
       "\u001b[1m3×3 DataFrame\u001b[0m\n",
       "\u001b[1m Row \u001b[0m│\u001b[1m A     \u001b[0m\u001b[1m B     \u001b[0m\u001b[1m C       \u001b[0m\n",
       "     │\u001b[90m Bool  \u001b[0m\u001b[90m Int64 \u001b[0m\u001b[90m String1 \u001b[0m\n",
       "─────┼───────────────────────\n",
       "   1 │  true     23  a\n",
       "   2 │ false     45  c\n",
       "   3 │  true     67  b"
      ]
     },
     "execution_count": 414,
     "metadata": {},
     "output_type": "execute_result"
    }
   ],
   "source": [
    "new_df = CSV.read(\"df.csv\", DataFrame)"
   ]
  },
  {
   "cell_type": "code",
   "execution_count": 415,
   "id": "6a04ca55",
   "metadata": {},
   "outputs": [
    {
     "name": "stderr",
     "output_type": "stream",
     "text": [
      "\u001b[32m\u001b[1m   Resolving\u001b[22m\u001b[39m package versions...\n",
      "\u001b[32m\u001b[1m  No Changes\u001b[22m\u001b[39m to `~/.julia/environments/v1.8/Project.toml`\n",
      "\u001b[32m\u001b[1m  No Changes\u001b[22m\u001b[39m to `~/.julia/environments/v1.8/Manifest.toml`\n"
     ]
    }
   ],
   "source": [
    "Pkg.add(\"Serialization\")\n",
    "using Serialization"
   ]
  },
  {
   "cell_type": "code",
   "execution_count": 416,
   "id": "b882b0f1",
   "metadata": {},
   "outputs": [],
   "source": [
    "open(\"df.bin\", \"w\") do io\n",
    "    serialize(io, df)\n",
    "end"
   ]
  },
  {
   "cell_type": "code",
   "execution_count": 417,
   "id": "95212377",
   "metadata": {},
   "outputs": [
    {
     "data": {
      "text/html": [
       "<div><div style = \"float: left;\"><span>3×3 DataFrame</span></div><div style = \"clear: both;\"></div></div><div class = \"data-frame\" style = \"overflow-x: scroll;\"><table class = \"data-frame\" style = \"margin-bottom: 6px;\"><thead><tr class = \"header\"><th class = \"rowNumber\" style = \"font-weight: bold; text-align: right;\">Row</th><th style = \"text-align: left;\">A</th><th style = \"text-align: left;\">B</th><th style = \"text-align: left;\">C</th></tr><tr class = \"subheader headerLastRow\"><th class = \"rowNumber\" style = \"font-weight: bold; text-align: right;\"></th><th title = \"Bool\" style = \"text-align: left;\">Bool</th><th title = \"Int64\" style = \"text-align: left;\">Int64</th><th title = \"Char\" style = \"text-align: left;\">Char</th></tr></thead><tbody><tr><td class = \"rowNumber\" style = \"font-weight: bold; text-align: right;\">1</td><td style = \"text-align: right;\">true</td><td style = \"text-align: right;\">23</td><td style = \"text-align: left;\">a</td></tr><tr><td class = \"rowNumber\" style = \"font-weight: bold; text-align: right;\">2</td><td style = \"text-align: right;\">false</td><td style = \"text-align: right;\">45</td><td style = \"text-align: left;\">c</td></tr><tr><td class = \"rowNumber\" style = \"font-weight: bold; text-align: right;\">3</td><td style = \"text-align: right;\">true</td><td style = \"text-align: right;\">67</td><td style = \"text-align: left;\">b</td></tr></tbody></table></div>"
      ],
      "text/latex": [
       "\\begin{tabular}{r|ccc}\n",
       "\t& A & B & C\\\\\n",
       "\t\\hline\n",
       "\t& Bool & Int64 & Char\\\\\n",
       "\t\\hline\n",
       "\t1 & 1 & 23 & a \\\\\n",
       "\t2 & 0 & 45 & c \\\\\n",
       "\t3 & 1 & 67 & b \\\\\n",
       "\\end{tabular}\n"
      ],
      "text/plain": [
       "\u001b[1m3×3 DataFrame\u001b[0m\n",
       "\u001b[1m Row \u001b[0m│\u001b[1m A     \u001b[0m\u001b[1m B     \u001b[0m\u001b[1m C    \u001b[0m\n",
       "     │\u001b[90m Bool  \u001b[0m\u001b[90m Int64 \u001b[0m\u001b[90m Char \u001b[0m\n",
       "─────┼────────────────────\n",
       "   1 │  true     23  a\n",
       "   2 │ false     45  c\n",
       "   3 │  true     67  b"
      ]
     },
     "execution_count": 417,
     "metadata": {},
     "output_type": "execute_result"
    }
   ],
   "source": [
    "open(deserialize, \"df.bin\")"
   ]
  },
  {
   "cell_type": "code",
   "execution_count": 418,
   "id": "4a10ae85",
   "metadata": {},
   "outputs": [
    {
     "name": "stderr",
     "output_type": "stream",
     "text": [
      "\u001b[32m\u001b[1m   Resolving\u001b[22m\u001b[39m package versions...\n",
      "\u001b[32m\u001b[1m  No Changes\u001b[22m\u001b[39m to `~/.julia/environments/v1.8/Project.toml`\n",
      "\u001b[32m\u001b[1m  No Changes\u001b[22m\u001b[39m to `~/.julia/environments/v1.8/Manifest.toml`\n"
     ]
    }
   ],
   "source": [
    "Pkg.add(\"JSONTables\")"
   ]
  },
  {
   "cell_type": "code",
   "execution_count": 419,
   "id": "f6999ddc",
   "metadata": {},
   "outputs": [],
   "source": [
    "using JSONTables"
   ]
  },
  {
   "cell_type": "code",
   "execution_count": 420,
   "id": "6c3ca2ac",
   "metadata": {},
   "outputs": [
    {
     "data": {
      "text/plain": [
       "80"
      ]
     },
     "execution_count": 420,
     "metadata": {},
     "output_type": "execute_result"
    }
   ],
   "source": [
    "open(io -> arraytable(io, df), \"df.json\", \"w\")"
   ]
  },
  {
   "cell_type": "code",
   "execution_count": 421,
   "id": "cdf41143",
   "metadata": {},
   "outputs": [
    {
     "data": {
      "text/html": [
       "<div><div style = \"float: left;\"><span>3×3 DataFrame</span></div><div style = \"clear: both;\"></div></div><div class = \"data-frame\" style = \"overflow-x: scroll;\"><table class = \"data-frame\" style = \"margin-bottom: 6px;\"><thead><tr class = \"header\"><th class = \"rowNumber\" style = \"font-weight: bold; text-align: right;\">Row</th><th style = \"text-align: left;\">A</th><th style = \"text-align: left;\">B</th><th style = \"text-align: left;\">C</th></tr><tr class = \"subheader headerLastRow\"><th class = \"rowNumber\" style = \"font-weight: bold; text-align: right;\"></th><th title = \"Bool\" style = \"text-align: left;\">Bool</th><th title = \"Int64\" style = \"text-align: left;\">Int64</th><th title = \"String\" style = \"text-align: left;\">String</th></tr></thead><tbody><tr><td class = \"rowNumber\" style = \"font-weight: bold; text-align: right;\">1</td><td style = \"text-align: right;\">true</td><td style = \"text-align: right;\">23</td><td style = \"text-align: left;\">a</td></tr><tr><td class = \"rowNumber\" style = \"font-weight: bold; text-align: right;\">2</td><td style = \"text-align: right;\">false</td><td style = \"text-align: right;\">45</td><td style = \"text-align: left;\">c</td></tr><tr><td class = \"rowNumber\" style = \"font-weight: bold; text-align: right;\">3</td><td style = \"text-align: right;\">true</td><td style = \"text-align: right;\">67</td><td style = \"text-align: left;\">b</td></tr></tbody></table></div>"
      ],
      "text/latex": [
       "\\begin{tabular}{r|ccc}\n",
       "\t& A & B & C\\\\\n",
       "\t\\hline\n",
       "\t& Bool & Int64 & String\\\\\n",
       "\t\\hline\n",
       "\t1 & 1 & 23 & a \\\\\n",
       "\t2 & 0 & 45 & c \\\\\n",
       "\t3 & 1 & 67 & b \\\\\n",
       "\\end{tabular}\n"
      ],
      "text/plain": [
       "\u001b[1m3×3 DataFrame\u001b[0m\n",
       "\u001b[1m Row \u001b[0m│\u001b[1m A     \u001b[0m\u001b[1m B     \u001b[0m\u001b[1m C      \u001b[0m\n",
       "     │\u001b[90m Bool  \u001b[0m\u001b[90m Int64 \u001b[0m\u001b[90m String \u001b[0m\n",
       "─────┼──────────────────────\n",
       "   1 │  true     23  a\n",
       "   2 │ false     45  c\n",
       "   3 │  true     67  b"
      ]
     },
     "execution_count": 421,
     "metadata": {},
     "output_type": "execute_result"
    }
   ],
   "source": [
    "open(jsontable, \"df.json\") |> DataFrame"
   ]
  },
  {
   "cell_type": "code",
   "execution_count": 422,
   "id": "eb05139f",
   "metadata": {},
   "outputs": [],
   "source": [
    "#Row and Column Related operations on DataFrames"
   ]
  },
  {
   "cell_type": "code",
   "execution_count": 423,
   "id": "9c3ef9ba",
   "metadata": {},
   "outputs": [
    {
     "data": {
      "text/html": [
       "<div><div style = \"float: left;\"><span>5×4 DataFrame</span></div><div style = \"clear: both;\"></div></div><div class = \"data-frame\" style = \"overflow-x: scroll;\"><table class = \"data-frame\" style = \"margin-bottom: 6px;\"><thead><tr class = \"header\"><th class = \"rowNumber\" style = \"font-weight: bold; text-align: right;\">Row</th><th style = \"text-align: left;\">x1</th><th style = \"text-align: left;\">x2</th><th style = \"text-align: left;\">x3</th><th style = \"text-align: left;\">x4</th></tr><tr class = \"subheader headerLastRow\"><th class = \"rowNumber\" style = \"font-weight: bold; text-align: right;\"></th><th title = \"Float64\" style = \"text-align: left;\">Float64</th><th title = \"Float64\" style = \"text-align: left;\">Float64</th><th title = \"Float64\" style = \"text-align: left;\">Float64</th><th title = \"Float64\" style = \"text-align: left;\">Float64</th></tr></thead><tbody><tr><td class = \"rowNumber\" style = \"font-weight: bold; text-align: right;\">1</td><td style = \"text-align: right;\">0.729509</td><td style = \"text-align: right;\">0.883271</td><td style = \"text-align: right;\">0.48758</td><td style = \"text-align: right;\">0.838227</td></tr><tr><td class = \"rowNumber\" style = \"font-weight: bold; text-align: right;\">2</td><td style = \"text-align: right;\">0.398605</td><td style = \"text-align: right;\">0.195815</td><td style = \"text-align: right;\">0.627964</td><td style = \"text-align: right;\">0.0561729</td></tr><tr><td class = \"rowNumber\" style = \"font-weight: bold; text-align: right;\">3</td><td style = \"text-align: right;\">0.975973</td><td style = \"text-align: right;\">0.638358</td><td style = \"text-align: right;\">0.980977</td><td style = \"text-align: right;\">0.591451</td></tr><tr><td class = \"rowNumber\" style = \"font-weight: bold; text-align: right;\">4</td><td style = \"text-align: right;\">0.972159</td><td style = \"text-align: right;\">0.506985</td><td style = \"text-align: right;\">0.947555</td><td style = \"text-align: right;\">0.437553</td></tr><tr><td class = \"rowNumber\" style = \"font-weight: bold; text-align: right;\">5</td><td style = \"text-align: right;\">0.397127</td><td style = \"text-align: right;\">0.514557</td><td style = \"text-align: right;\">0.493713</td><td style = \"text-align: right;\">0.490845</td></tr></tbody></table></div>"
      ],
      "text/latex": [
       "\\begin{tabular}{r|cccc}\n",
       "\t& x1 & x2 & x3 & x4\\\\\n",
       "\t\\hline\n",
       "\t& Float64 & Float64 & Float64 & Float64\\\\\n",
       "\t\\hline\n",
       "\t1 & 0.729509 & 0.883271 & 0.48758 & 0.838227 \\\\\n",
       "\t2 & 0.398605 & 0.195815 & 0.627964 & 0.0561729 \\\\\n",
       "\t3 & 0.975973 & 0.638358 & 0.980977 & 0.591451 \\\\\n",
       "\t4 & 0.972159 & 0.506985 & 0.947555 & 0.437553 \\\\\n",
       "\t5 & 0.397127 & 0.514557 & 0.493713 & 0.490845 \\\\\n",
       "\\end{tabular}\n"
      ],
      "text/plain": [
       "\u001b[1m5×4 DataFrame\u001b[0m\n",
       "\u001b[1m Row \u001b[0m│\u001b[1m x1       \u001b[0m\u001b[1m x2       \u001b[0m\u001b[1m x3       \u001b[0m\u001b[1m x4        \u001b[0m\n",
       "     │\u001b[90m Float64  \u001b[0m\u001b[90m Float64  \u001b[0m\u001b[90m Float64  \u001b[0m\u001b[90m Float64   \u001b[0m\n",
       "─────┼─────────────────────────────────────────\n",
       "   1 │ 0.729509  0.883271  0.48758   0.838227\n",
       "   2 │ 0.398605  0.195815  0.627964  0.0561729\n",
       "   3 │ 0.975973  0.638358  0.980977  0.591451\n",
       "   4 │ 0.972159  0.506985  0.947555  0.437553\n",
       "   5 │ 0.397127  0.514557  0.493713  0.490845"
      ]
     },
     "execution_count": 423,
     "metadata": {},
     "output_type": "execute_result"
    }
   ],
   "source": [
    "M1 = DataFrame(rand(5, 4), :auto)"
   ]
  },
  {
   "cell_type": "code",
   "execution_count": 424,
   "id": "891d2187",
   "metadata": {},
   "outputs": [
    {
     "data": {
      "text/html": [
       "<div><div style = \"float: left;\"><span>5×4 DataFrame</span></div><div style = \"clear: both;\"></div></div><div class = \"data-frame\" style = \"overflow-x: scroll;\"><table class = \"data-frame\" style = \"margin-bottom: 6px;\"><thead><tr class = \"header\"><th class = \"rowNumber\" style = \"font-weight: bold; text-align: right;\">Row</th><th style = \"text-align: left;\">c1</th><th style = \"text-align: left;\">x2</th><th style = \"text-align: left;\">x3</th><th style = \"text-align: left;\">x4</th></tr><tr class = \"subheader headerLastRow\"><th class = \"rowNumber\" style = \"font-weight: bold; text-align: right;\"></th><th title = \"Float64\" style = \"text-align: left;\">Float64</th><th title = \"Float64\" style = \"text-align: left;\">Float64</th><th title = \"Float64\" style = \"text-align: left;\">Float64</th><th title = \"Float64\" style = \"text-align: left;\">Float64</th></tr></thead><tbody><tr><td class = \"rowNumber\" style = \"font-weight: bold; text-align: right;\">1</td><td style = \"text-align: right;\">0.729509</td><td style = \"text-align: right;\">0.883271</td><td style = \"text-align: right;\">0.48758</td><td style = \"text-align: right;\">0.838227</td></tr><tr><td class = \"rowNumber\" style = \"font-weight: bold; text-align: right;\">2</td><td style = \"text-align: right;\">0.398605</td><td style = \"text-align: right;\">0.195815</td><td style = \"text-align: right;\">0.627964</td><td style = \"text-align: right;\">0.0561729</td></tr><tr><td class = \"rowNumber\" style = \"font-weight: bold; text-align: right;\">3</td><td style = \"text-align: right;\">0.975973</td><td style = \"text-align: right;\">0.638358</td><td style = \"text-align: right;\">0.980977</td><td style = \"text-align: right;\">0.591451</td></tr><tr><td class = \"rowNumber\" style = \"font-weight: bold; text-align: right;\">4</td><td style = \"text-align: right;\">0.972159</td><td style = \"text-align: right;\">0.506985</td><td style = \"text-align: right;\">0.947555</td><td style = \"text-align: right;\">0.437553</td></tr><tr><td class = \"rowNumber\" style = \"font-weight: bold; text-align: right;\">5</td><td style = \"text-align: right;\">0.397127</td><td style = \"text-align: right;\">0.514557</td><td style = \"text-align: right;\">0.493713</td><td style = \"text-align: right;\">0.490845</td></tr></tbody></table></div>"
      ],
      "text/latex": [
       "\\begin{tabular}{r|cccc}\n",
       "\t& c1 & x2 & x3 & x4\\\\\n",
       "\t\\hline\n",
       "\t& Float64 & Float64 & Float64 & Float64\\\\\n",
       "\t\\hline\n",
       "\t1 & 0.729509 & 0.883271 & 0.48758 & 0.838227 \\\\\n",
       "\t2 & 0.398605 & 0.195815 & 0.627964 & 0.0561729 \\\\\n",
       "\t3 & 0.975973 & 0.638358 & 0.980977 & 0.591451 \\\\\n",
       "\t4 & 0.972159 & 0.506985 & 0.947555 & 0.437553 \\\\\n",
       "\t5 & 0.397127 & 0.514557 & 0.493713 & 0.490845 \\\\\n",
       "\\end{tabular}\n"
      ],
      "text/plain": [
       "\u001b[1m5×4 DataFrame\u001b[0m\n",
       "\u001b[1m Row \u001b[0m│\u001b[1m c1       \u001b[0m\u001b[1m x2       \u001b[0m\u001b[1m x3       \u001b[0m\u001b[1m x4        \u001b[0m\n",
       "     │\u001b[90m Float64  \u001b[0m\u001b[90m Float64  \u001b[0m\u001b[90m Float64  \u001b[0m\u001b[90m Float64   \u001b[0m\n",
       "─────┼─────────────────────────────────────────\n",
       "   1 │ 0.729509  0.883271  0.48758   0.838227\n",
       "   2 │ 0.398605  0.195815  0.627964  0.0561729\n",
       "   3 │ 0.975973  0.638358  0.980977  0.591451\n",
       "   4 │ 0.972159  0.506985  0.947555  0.437553\n",
       "   5 │ 0.397127  0.514557  0.493713  0.490845"
      ]
     },
     "execution_count": 424,
     "metadata": {},
     "output_type": "execute_result"
    }
   ],
   "source": [
    "rename(M1, :x1 => :c1)"
   ]
  },
  {
   "cell_type": "code",
   "execution_count": 425,
   "id": "330c99b5",
   "metadata": {},
   "outputs": [
    {
     "data": {
      "text/html": [
       "<div><div style = \"float: left;\"><span>5×4 DataFrame</span></div><div style = \"clear: both;\"></div></div><div class = \"data-frame\" style = \"overflow-x: scroll;\"><table class = \"data-frame\" style = \"margin-bottom: 6px;\"><thead><tr class = \"header\"><th class = \"rowNumber\" style = \"font-weight: bold; text-align: right;\">Row</th><th style = \"text-align: left;\">x1</th><th style = \"text-align: left;\">x2</th><th style = \"text-align: left;\">x3</th><th style = \"text-align: left;\">x4</th></tr><tr class = \"subheader headerLastRow\"><th class = \"rowNumber\" style = \"font-weight: bold; text-align: right;\"></th><th title = \"Float64\" style = \"text-align: left;\">Float64</th><th title = \"Float64\" style = \"text-align: left;\">Float64</th><th title = \"Float64\" style = \"text-align: left;\">Float64</th><th title = \"Float64\" style = \"text-align: left;\">Float64</th></tr></thead><tbody><tr><td class = \"rowNumber\" style = \"font-weight: bold; text-align: right;\">1</td><td style = \"text-align: right;\">0.729509</td><td style = \"text-align: right;\">0.883271</td><td style = \"text-align: right;\">0.48758</td><td style = \"text-align: right;\">0.838227</td></tr><tr><td class = \"rowNumber\" style = \"font-weight: bold; text-align: right;\">2</td><td style = \"text-align: right;\">0.398605</td><td style = \"text-align: right;\">0.195815</td><td style = \"text-align: right;\">0.627964</td><td style = \"text-align: right;\">0.0561729</td></tr><tr><td class = \"rowNumber\" style = \"font-weight: bold; text-align: right;\">3</td><td style = \"text-align: right;\">0.975973</td><td style = \"text-align: right;\">0.638358</td><td style = \"text-align: right;\">0.980977</td><td style = \"text-align: right;\">0.591451</td></tr><tr><td class = \"rowNumber\" style = \"font-weight: bold; text-align: right;\">4</td><td style = \"text-align: right;\">0.972159</td><td style = \"text-align: right;\">0.506985</td><td style = \"text-align: right;\">0.947555</td><td style = \"text-align: right;\">0.437553</td></tr><tr><td class = \"rowNumber\" style = \"font-weight: bold; text-align: right;\">5</td><td style = \"text-align: right;\">0.397127</td><td style = \"text-align: right;\">0.514557</td><td style = \"text-align: right;\">0.493713</td><td style = \"text-align: right;\">0.490845</td></tr></tbody></table></div>"
      ],
      "text/latex": [
       "\\begin{tabular}{r|cccc}\n",
       "\t& x1 & x2 & x3 & x4\\\\\n",
       "\t\\hline\n",
       "\t& Float64 & Float64 & Float64 & Float64\\\\\n",
       "\t\\hline\n",
       "\t1 & 0.729509 & 0.883271 & 0.48758 & 0.838227 \\\\\n",
       "\t2 & 0.398605 & 0.195815 & 0.627964 & 0.0561729 \\\\\n",
       "\t3 & 0.975973 & 0.638358 & 0.980977 & 0.591451 \\\\\n",
       "\t4 & 0.972159 & 0.506985 & 0.947555 & 0.437553 \\\\\n",
       "\t5 & 0.397127 & 0.514557 & 0.493713 & 0.490845 \\\\\n",
       "\\end{tabular}\n"
      ],
      "text/plain": [
       "\u001b[1m5×4 DataFrame\u001b[0m\n",
       "\u001b[1m Row \u001b[0m│\u001b[1m x1       \u001b[0m\u001b[1m x2       \u001b[0m\u001b[1m x3       \u001b[0m\u001b[1m x4        \u001b[0m\n",
       "     │\u001b[90m Float64  \u001b[0m\u001b[90m Float64  \u001b[0m\u001b[90m Float64  \u001b[0m\u001b[90m Float64   \u001b[0m\n",
       "─────┼─────────────────────────────────────────\n",
       "   1 │ 0.729509  0.883271  0.48758   0.838227\n",
       "   2 │ 0.398605  0.195815  0.627964  0.0561729\n",
       "   3 │ 0.975973  0.638358  0.980977  0.591451\n",
       "   4 │ 0.972159  0.506985  0.947555  0.437553\n",
       "   5 │ 0.397127  0.514557  0.493713  0.490845"
      ]
     },
     "execution_count": 425,
     "metadata": {},
     "output_type": "execute_result"
    }
   ],
   "source": [
    "M1"
   ]
  },
  {
   "cell_type": "code",
   "execution_count": 426,
   "id": "6ba58605",
   "metadata": {},
   "outputs": [
    {
     "data": {
      "text/html": [
       "<div><div style = \"float: left;\"><span>5×4 DataFrame</span></div><div style = \"clear: both;\"></div></div><div class = \"data-frame\" style = \"overflow-x: scroll;\"><table class = \"data-frame\" style = \"margin-bottom: 6px;\"><thead><tr class = \"header\"><th class = \"rowNumber\" style = \"font-weight: bold; text-align: right;\">Row</th><th style = \"text-align: left;\">c1</th><th style = \"text-align: left;\">x2</th><th style = \"text-align: left;\">x3</th><th style = \"text-align: left;\">x4</th></tr><tr class = \"subheader headerLastRow\"><th class = \"rowNumber\" style = \"font-weight: bold; text-align: right;\"></th><th title = \"Float64\" style = \"text-align: left;\">Float64</th><th title = \"Float64\" style = \"text-align: left;\">Float64</th><th title = \"Float64\" style = \"text-align: left;\">Float64</th><th title = \"Float64\" style = \"text-align: left;\">Float64</th></tr></thead><tbody><tr><td class = \"rowNumber\" style = \"font-weight: bold; text-align: right;\">1</td><td style = \"text-align: right;\">0.729509</td><td style = \"text-align: right;\">0.883271</td><td style = \"text-align: right;\">0.48758</td><td style = \"text-align: right;\">0.838227</td></tr><tr><td class = \"rowNumber\" style = \"font-weight: bold; text-align: right;\">2</td><td style = \"text-align: right;\">0.398605</td><td style = \"text-align: right;\">0.195815</td><td style = \"text-align: right;\">0.627964</td><td style = \"text-align: right;\">0.0561729</td></tr><tr><td class = \"rowNumber\" style = \"font-weight: bold; text-align: right;\">3</td><td style = \"text-align: right;\">0.975973</td><td style = \"text-align: right;\">0.638358</td><td style = \"text-align: right;\">0.980977</td><td style = \"text-align: right;\">0.591451</td></tr><tr><td class = \"rowNumber\" style = \"font-weight: bold; text-align: right;\">4</td><td style = \"text-align: right;\">0.972159</td><td style = \"text-align: right;\">0.506985</td><td style = \"text-align: right;\">0.947555</td><td style = \"text-align: right;\">0.437553</td></tr><tr><td class = \"rowNumber\" style = \"font-weight: bold; text-align: right;\">5</td><td style = \"text-align: right;\">0.397127</td><td style = \"text-align: right;\">0.514557</td><td style = \"text-align: right;\">0.493713</td><td style = \"text-align: right;\">0.490845</td></tr></tbody></table></div>"
      ],
      "text/latex": [
       "\\begin{tabular}{r|cccc}\n",
       "\t& c1 & x2 & x3 & x4\\\\\n",
       "\t\\hline\n",
       "\t& Float64 & Float64 & Float64 & Float64\\\\\n",
       "\t\\hline\n",
       "\t1 & 0.729509 & 0.883271 & 0.48758 & 0.838227 \\\\\n",
       "\t2 & 0.398605 & 0.195815 & 0.627964 & 0.0561729 \\\\\n",
       "\t3 & 0.975973 & 0.638358 & 0.980977 & 0.591451 \\\\\n",
       "\t4 & 0.972159 & 0.506985 & 0.947555 & 0.437553 \\\\\n",
       "\t5 & 0.397127 & 0.514557 & 0.493713 & 0.490845 \\\\\n",
       "\\end{tabular}\n"
      ],
      "text/plain": [
       "\u001b[1m5×4 DataFrame\u001b[0m\n",
       "\u001b[1m Row \u001b[0m│\u001b[1m c1       \u001b[0m\u001b[1m x2       \u001b[0m\u001b[1m x3       \u001b[0m\u001b[1m x4        \u001b[0m\n",
       "     │\u001b[90m Float64  \u001b[0m\u001b[90m Float64  \u001b[0m\u001b[90m Float64  \u001b[0m\u001b[90m Float64   \u001b[0m\n",
       "─────┼─────────────────────────────────────────\n",
       "   1 │ 0.729509  0.883271  0.48758   0.838227\n",
       "   2 │ 0.398605  0.195815  0.627964  0.0561729\n",
       "   3 │ 0.975973  0.638358  0.980977  0.591451\n",
       "   4 │ 0.972159  0.506985  0.947555  0.437553\n",
       "   5 │ 0.397127  0.514557  0.493713  0.490845"
      ]
     },
     "execution_count": 426,
     "metadata": {},
     "output_type": "execute_result"
    }
   ],
   "source": [
    "rename!(M1, :x1 => :c1)"
   ]
  },
  {
   "cell_type": "code",
   "execution_count": 427,
   "id": "f2ade02d",
   "metadata": {},
   "outputs": [
    {
     "data": {
      "text/html": [
       "<div><div style = \"float: left;\"><span>5×4 DataFrame</span></div><div style = \"clear: both;\"></div></div><div class = \"data-frame\" style = \"overflow-x: scroll;\"><table class = \"data-frame\" style = \"margin-bottom: 6px;\"><thead><tr class = \"header\"><th class = \"rowNumber\" style = \"font-weight: bold; text-align: right;\">Row</th><th style = \"text-align: left;\">c1</th><th style = \"text-align: left;\">x2</th><th style = \"text-align: left;\">x3</th><th style = \"text-align: left;\">x4</th></tr><tr class = \"subheader headerLastRow\"><th class = \"rowNumber\" style = \"font-weight: bold; text-align: right;\"></th><th title = \"Float64\" style = \"text-align: left;\">Float64</th><th title = \"Float64\" style = \"text-align: left;\">Float64</th><th title = \"Float64\" style = \"text-align: left;\">Float64</th><th title = \"Float64\" style = \"text-align: left;\">Float64</th></tr></thead><tbody><tr><td class = \"rowNumber\" style = \"font-weight: bold; text-align: right;\">1</td><td style = \"text-align: right;\">0.729509</td><td style = \"text-align: right;\">0.883271</td><td style = \"text-align: right;\">0.48758</td><td style = \"text-align: right;\">0.838227</td></tr><tr><td class = \"rowNumber\" style = \"font-weight: bold; text-align: right;\">2</td><td style = \"text-align: right;\">0.398605</td><td style = \"text-align: right;\">0.195815</td><td style = \"text-align: right;\">0.627964</td><td style = \"text-align: right;\">0.0561729</td></tr><tr><td class = \"rowNumber\" style = \"font-weight: bold; text-align: right;\">3</td><td style = \"text-align: right;\">0.975973</td><td style = \"text-align: right;\">0.638358</td><td style = \"text-align: right;\">0.980977</td><td style = \"text-align: right;\">0.591451</td></tr><tr><td class = \"rowNumber\" style = \"font-weight: bold; text-align: right;\">4</td><td style = \"text-align: right;\">0.972159</td><td style = \"text-align: right;\">0.506985</td><td style = \"text-align: right;\">0.947555</td><td style = \"text-align: right;\">0.437553</td></tr><tr><td class = \"rowNumber\" style = \"font-weight: bold; text-align: right;\">5</td><td style = \"text-align: right;\">0.397127</td><td style = \"text-align: right;\">0.514557</td><td style = \"text-align: right;\">0.493713</td><td style = \"text-align: right;\">0.490845</td></tr></tbody></table></div>"
      ],
      "text/latex": [
       "\\begin{tabular}{r|cccc}\n",
       "\t& c1 & x2 & x3 & x4\\\\\n",
       "\t\\hline\n",
       "\t& Float64 & Float64 & Float64 & Float64\\\\\n",
       "\t\\hline\n",
       "\t1 & 0.729509 & 0.883271 & 0.48758 & 0.838227 \\\\\n",
       "\t2 & 0.398605 & 0.195815 & 0.627964 & 0.0561729 \\\\\n",
       "\t3 & 0.975973 & 0.638358 & 0.980977 & 0.591451 \\\\\n",
       "\t4 & 0.972159 & 0.506985 & 0.947555 & 0.437553 \\\\\n",
       "\t5 & 0.397127 & 0.514557 & 0.493713 & 0.490845 \\\\\n",
       "\\end{tabular}\n"
      ],
      "text/plain": [
       "\u001b[1m5×4 DataFrame\u001b[0m\n",
       "\u001b[1m Row \u001b[0m│\u001b[1m c1       \u001b[0m\u001b[1m x2       \u001b[0m\u001b[1m x3       \u001b[0m\u001b[1m x4        \u001b[0m\n",
       "     │\u001b[90m Float64  \u001b[0m\u001b[90m Float64  \u001b[0m\u001b[90m Float64  \u001b[0m\u001b[90m Float64   \u001b[0m\n",
       "─────┼─────────────────────────────────────────\n",
       "   1 │ 0.729509  0.883271  0.48758   0.838227\n",
       "   2 │ 0.398605  0.195815  0.627964  0.0561729\n",
       "   3 │ 0.975973  0.638358  0.980977  0.591451\n",
       "   4 │ 0.972159  0.506985  0.947555  0.437553\n",
       "   5 │ 0.397127  0.514557  0.493713  0.490845"
      ]
     },
     "execution_count": 427,
     "metadata": {},
     "output_type": "execute_result"
    }
   ],
   "source": [
    "M1"
   ]
  },
  {
   "cell_type": "code",
   "execution_count": 428,
   "id": "41bec02b",
   "metadata": {},
   "outputs": [
    {
     "data": {
      "text/html": [
       "<div><div style = \"float: left;\"><span>5×4 DataFrame</span></div><div style = \"clear: both;\"></div></div><div class = \"data-frame\" style = \"overflow-x: scroll;\"><table class = \"data-frame\" style = \"margin-bottom: 6px;\"><thead><tr class = \"header\"><th class = \"rowNumber\" style = \"font-weight: bold; text-align: right;\">Row</th><th style = \"text-align: left;\">c1</th><th style = \"text-align: left;\">c2</th><th style = \"text-align: left;\">c3</th><th style = \"text-align: left;\">c4</th></tr><tr class = \"subheader headerLastRow\"><th class = \"rowNumber\" style = \"font-weight: bold; text-align: right;\"></th><th title = \"Float64\" style = \"text-align: left;\">Float64</th><th title = \"Float64\" style = \"text-align: left;\">Float64</th><th title = \"Float64\" style = \"text-align: left;\">Float64</th><th title = \"Float64\" style = \"text-align: left;\">Float64</th></tr></thead><tbody><tr><td class = \"rowNumber\" style = \"font-weight: bold; text-align: right;\">1</td><td style = \"text-align: right;\">0.729509</td><td style = \"text-align: right;\">0.883271</td><td style = \"text-align: right;\">0.48758</td><td style = \"text-align: right;\">0.838227</td></tr><tr><td class = \"rowNumber\" style = \"font-weight: bold; text-align: right;\">2</td><td style = \"text-align: right;\">0.398605</td><td style = \"text-align: right;\">0.195815</td><td style = \"text-align: right;\">0.627964</td><td style = \"text-align: right;\">0.0561729</td></tr><tr><td class = \"rowNumber\" style = \"font-weight: bold; text-align: right;\">3</td><td style = \"text-align: right;\">0.975973</td><td style = \"text-align: right;\">0.638358</td><td style = \"text-align: right;\">0.980977</td><td style = \"text-align: right;\">0.591451</td></tr><tr><td class = \"rowNumber\" style = \"font-weight: bold; text-align: right;\">4</td><td style = \"text-align: right;\">0.972159</td><td style = \"text-align: right;\">0.506985</td><td style = \"text-align: right;\">0.947555</td><td style = \"text-align: right;\">0.437553</td></tr><tr><td class = \"rowNumber\" style = \"font-weight: bold; text-align: right;\">5</td><td style = \"text-align: right;\">0.397127</td><td style = \"text-align: right;\">0.514557</td><td style = \"text-align: right;\">0.493713</td><td style = \"text-align: right;\">0.490845</td></tr></tbody></table></div>"
      ],
      "text/latex": [
       "\\begin{tabular}{r|cccc}\n",
       "\t& c1 & c2 & c3 & c4\\\\\n",
       "\t\\hline\n",
       "\t& Float64 & Float64 & Float64 & Float64\\\\\n",
       "\t\\hline\n",
       "\t1 & 0.729509 & 0.883271 & 0.48758 & 0.838227 \\\\\n",
       "\t2 & 0.398605 & 0.195815 & 0.627964 & 0.0561729 \\\\\n",
       "\t3 & 0.975973 & 0.638358 & 0.980977 & 0.591451 \\\\\n",
       "\t4 & 0.972159 & 0.506985 & 0.947555 & 0.437553 \\\\\n",
       "\t5 & 0.397127 & 0.514557 & 0.493713 & 0.490845 \\\\\n",
       "\\end{tabular}\n"
      ],
      "text/plain": [
       "\u001b[1m5×4 DataFrame\u001b[0m\n",
       "\u001b[1m Row \u001b[0m│\u001b[1m c1       \u001b[0m\u001b[1m c2       \u001b[0m\u001b[1m c3       \u001b[0m\u001b[1m c4        \u001b[0m\n",
       "     │\u001b[90m Float64  \u001b[0m\u001b[90m Float64  \u001b[0m\u001b[90m Float64  \u001b[0m\u001b[90m Float64   \u001b[0m\n",
       "─────┼─────────────────────────────────────────\n",
       "   1 │ 0.729509  0.883271  0.48758   0.838227\n",
       "   2 │ 0.398605  0.195815  0.627964  0.0561729\n",
       "   3 │ 0.975973  0.638358  0.980977  0.591451\n",
       "   4 │ 0.972159  0.506985  0.947555  0.437553\n",
       "   5 │ 0.397127  0.514557  0.493713  0.490845"
      ]
     },
     "execution_count": 428,
     "metadata": {},
     "output_type": "execute_result"
    }
   ],
   "source": [
    "rename(M1, [:c1, :c2, :c3, :c4])"
   ]
  },
  {
   "cell_type": "code",
   "execution_count": 429,
   "id": "0d77c811",
   "metadata": {},
   "outputs": [
    {
     "data": {
      "text/html": [
       "<div><div style = \"float: left;\"><span>5×4 DataFrame</span></div><div style = \"clear: both;\"></div></div><div class = \"data-frame\" style = \"overflow-x: scroll;\"><table class = \"data-frame\" style = \"margin-bottom: 6px;\"><thead><tr class = \"header\"><th class = \"rowNumber\" style = \"font-weight: bold; text-align: right;\">Row</th><th style = \"text-align: left;\">a</th><th style = \"text-align: left;\">b</th><th style = \"text-align: left;\">c</th><th style = \"text-align: left;\">d</th></tr><tr class = \"subheader headerLastRow\"><th class = \"rowNumber\" style = \"font-weight: bold; text-align: right;\"></th><th title = \"Float64\" style = \"text-align: left;\">Float64</th><th title = \"Float64\" style = \"text-align: left;\">Float64</th><th title = \"Float64\" style = \"text-align: left;\">Float64</th><th title = \"Float64\" style = \"text-align: left;\">Float64</th></tr></thead><tbody><tr><td class = \"rowNumber\" style = \"font-weight: bold; text-align: right;\">1</td><td style = \"text-align: right;\">0.729509</td><td style = \"text-align: right;\">0.883271</td><td style = \"text-align: right;\">0.48758</td><td style = \"text-align: right;\">0.838227</td></tr><tr><td class = \"rowNumber\" style = \"font-weight: bold; text-align: right;\">2</td><td style = \"text-align: right;\">0.398605</td><td style = \"text-align: right;\">0.195815</td><td style = \"text-align: right;\">0.627964</td><td style = \"text-align: right;\">0.0561729</td></tr><tr><td class = \"rowNumber\" style = \"font-weight: bold; text-align: right;\">3</td><td style = \"text-align: right;\">0.975973</td><td style = \"text-align: right;\">0.638358</td><td style = \"text-align: right;\">0.980977</td><td style = \"text-align: right;\">0.591451</td></tr><tr><td class = \"rowNumber\" style = \"font-weight: bold; text-align: right;\">4</td><td style = \"text-align: right;\">0.972159</td><td style = \"text-align: right;\">0.506985</td><td style = \"text-align: right;\">0.947555</td><td style = \"text-align: right;\">0.437553</td></tr><tr><td class = \"rowNumber\" style = \"font-weight: bold; text-align: right;\">5</td><td style = \"text-align: right;\">0.397127</td><td style = \"text-align: right;\">0.514557</td><td style = \"text-align: right;\">0.493713</td><td style = \"text-align: right;\">0.490845</td></tr></tbody></table></div>"
      ],
      "text/latex": [
       "\\begin{tabular}{r|cccc}\n",
       "\t& a & b & c & d\\\\\n",
       "\t\\hline\n",
       "\t& Float64 & Float64 & Float64 & Float64\\\\\n",
       "\t\\hline\n",
       "\t1 & 0.729509 & 0.883271 & 0.48758 & 0.838227 \\\\\n",
       "\t2 & 0.398605 & 0.195815 & 0.627964 & 0.0561729 \\\\\n",
       "\t3 & 0.975973 & 0.638358 & 0.980977 & 0.591451 \\\\\n",
       "\t4 & 0.972159 & 0.506985 & 0.947555 & 0.437553 \\\\\n",
       "\t5 & 0.397127 & 0.514557 & 0.493713 & 0.490845 \\\\\n",
       "\\end{tabular}\n"
      ],
      "text/plain": [
       "\u001b[1m5×4 DataFrame\u001b[0m\n",
       "\u001b[1m Row \u001b[0m│\u001b[1m a        \u001b[0m\u001b[1m b        \u001b[0m\u001b[1m c        \u001b[0m\u001b[1m d         \u001b[0m\n",
       "     │\u001b[90m Float64  \u001b[0m\u001b[90m Float64  \u001b[0m\u001b[90m Float64  \u001b[0m\u001b[90m Float64   \u001b[0m\n",
       "─────┼─────────────────────────────────────────\n",
       "   1 │ 0.729509  0.883271  0.48758   0.838227\n",
       "   2 │ 0.398605  0.195815  0.627964  0.0561729\n",
       "   3 │ 0.975973  0.638358  0.980977  0.591451\n",
       "   4 │ 0.972159  0.506985  0.947555  0.437553\n",
       "   5 │ 0.397127  0.514557  0.493713  0.490845"
      ]
     },
     "execution_count": 429,
     "metadata": {},
     "output_type": "execute_result"
    }
   ],
   "source": [
    "#Rename rows to a, b, c,d\n",
    "rename(M1, string.('a':'d'))"
   ]
  },
  {
   "cell_type": "code",
   "execution_count": 430,
   "id": "4095fd17",
   "metadata": {},
   "outputs": [
    {
     "data": {
      "text/html": [
       "<div><div style = \"float: left;\"><span>5×4 DataFrame</span></div><div style = \"clear: both;\"></div></div><div class = \"data-frame\" style = \"overflow-x: scroll;\"><table class = \"data-frame\" style = \"margin-bottom: 6px;\"><thead><tr class = \"header\"><th class = \"rowNumber\" style = \"font-weight: bold; text-align: right;\">Row</th><th style = \"text-align: left;\">x1</th><th style = \"text-align: left;\">x2</th><th style = \"text-align: left;\">x3</th><th style = \"text-align: left;\">x4</th></tr><tr class = \"subheader headerLastRow\"><th class = \"rowNumber\" style = \"font-weight: bold; text-align: right;\"></th><th title = \"Float64\" style = \"text-align: left;\">Float64</th><th title = \"Float64\" style = \"text-align: left;\">Float64</th><th title = \"Float64\" style = \"text-align: left;\">Float64</th><th title = \"Float64\" style = \"text-align: left;\">Float64</th></tr></thead><tbody><tr><td class = \"rowNumber\" style = \"font-weight: bold; text-align: right;\">1</td><td style = \"text-align: right;\">0.313919</td><td style = \"text-align: right;\">0.443422</td><td style = \"text-align: right;\">0.842241</td><td style = \"text-align: right;\">0.742186</td></tr><tr><td class = \"rowNumber\" style = \"font-weight: bold; text-align: right;\">2</td><td style = \"text-align: right;\">0.146726</td><td style = \"text-align: right;\">0.205122</td><td style = \"text-align: right;\">0.272065</td><td style = \"text-align: right;\">0.0965629</td></tr><tr><td class = \"rowNumber\" style = \"font-weight: bold; text-align: right;\">3</td><td style = \"text-align: right;\">0.962569</td><td style = \"text-align: right;\">0.474664</td><td style = \"text-align: right;\">0.278137</td><td style = \"text-align: right;\">0.950534</td></tr><tr><td class = \"rowNumber\" style = \"font-weight: bold; text-align: right;\">4</td><td style = \"text-align: right;\">0.836253</td><td style = \"text-align: right;\">0.885966</td><td style = \"text-align: right;\">0.860218</td><td style = \"text-align: right;\">0.27804</td></tr><tr><td class = \"rowNumber\" style = \"font-weight: bold; text-align: right;\">5</td><td style = \"text-align: right;\">0.315536</td><td style = \"text-align: right;\">0.385046</td><td style = \"text-align: right;\">0.803888</td><td style = \"text-align: right;\">0.798471</td></tr></tbody></table></div>"
      ],
      "text/latex": [
       "\\begin{tabular}{r|cccc}\n",
       "\t& x1 & x2 & x3 & x4\\\\\n",
       "\t\\hline\n",
       "\t& Float64 & Float64 & Float64 & Float64\\\\\n",
       "\t\\hline\n",
       "\t1 & 0.313919 & 0.443422 & 0.842241 & 0.742186 \\\\\n",
       "\t2 & 0.146726 & 0.205122 & 0.272065 & 0.0965629 \\\\\n",
       "\t3 & 0.962569 & 0.474664 & 0.278137 & 0.950534 \\\\\n",
       "\t4 & 0.836253 & 0.885966 & 0.860218 & 0.27804 \\\\\n",
       "\t5 & 0.315536 & 0.385046 & 0.803888 & 0.798471 \\\\\n",
       "\\end{tabular}\n"
      ],
      "text/plain": [
       "\u001b[1m5×4 DataFrame\u001b[0m\n",
       "\u001b[1m Row \u001b[0m│\u001b[1m x1       \u001b[0m\u001b[1m x2       \u001b[0m\u001b[1m x3       \u001b[0m\u001b[1m x4        \u001b[0m\n",
       "     │\u001b[90m Float64  \u001b[0m\u001b[90m Float64  \u001b[0m\u001b[90m Float64  \u001b[0m\u001b[90m Float64   \u001b[0m\n",
       "─────┼─────────────────────────────────────────\n",
       "   1 │ 0.313919  0.443422  0.842241  0.742186\n",
       "   2 │ 0.146726  0.205122  0.272065  0.0965629\n",
       "   3 │ 0.962569  0.474664  0.278137  0.950534\n",
       "   4 │ 0.836253  0.885966  0.860218  0.27804\n",
       "   5 │ 0.315536  0.385046  0.803888  0.798471"
      ]
     },
     "execution_count": 430,
     "metadata": {},
     "output_type": "execute_result"
    }
   ],
   "source": [
    "M2 = DataFrame(rand(5,4), :auto)"
   ]
  },
  {
   "cell_type": "code",
   "execution_count": 431,
   "id": "b79d174b",
   "metadata": {},
   "outputs": [
    {
     "data": {
      "text/html": [
       "<div><div style = \"float: left;\"><span>5×8 DataFrame</span></div><div style = \"clear: both;\"></div></div><div class = \"data-frame\" style = \"overflow-x: scroll;\"><table class = \"data-frame\" style = \"margin-bottom: 6px;\"><thead><tr class = \"header\"><th class = \"rowNumber\" style = \"font-weight: bold; text-align: right;\">Row</th><th style = \"text-align: left;\">c1</th><th style = \"text-align: left;\">x2</th><th style = \"text-align: left;\">x3</th><th style = \"text-align: left;\">x4</th><th style = \"text-align: left;\">x1</th><th style = \"text-align: left;\">x2_1</th><th style = \"text-align: left;\">x3_1</th><th style = \"text-align: left;\">x4_1</th></tr><tr class = \"subheader headerLastRow\"><th class = \"rowNumber\" style = \"font-weight: bold; text-align: right;\"></th><th title = \"Float64\" style = \"text-align: left;\">Float64</th><th title = \"Float64\" style = \"text-align: left;\">Float64</th><th title = \"Float64\" style = \"text-align: left;\">Float64</th><th title = \"Float64\" style = \"text-align: left;\">Float64</th><th title = \"Float64\" style = \"text-align: left;\">Float64</th><th title = \"Float64\" style = \"text-align: left;\">Float64</th><th title = \"Float64\" style = \"text-align: left;\">Float64</th><th title = \"Float64\" style = \"text-align: left;\">Float64</th></tr></thead><tbody><tr><td class = \"rowNumber\" style = \"font-weight: bold; text-align: right;\">1</td><td style = \"text-align: right;\">0.729509</td><td style = \"text-align: right;\">0.883271</td><td style = \"text-align: right;\">0.48758</td><td style = \"text-align: right;\">0.838227</td><td style = \"text-align: right;\">0.313919</td><td style = \"text-align: right;\">0.443422</td><td style = \"text-align: right;\">0.842241</td><td style = \"text-align: right;\">0.742186</td></tr><tr><td class = \"rowNumber\" style = \"font-weight: bold; text-align: right;\">2</td><td style = \"text-align: right;\">0.398605</td><td style = \"text-align: right;\">0.195815</td><td style = \"text-align: right;\">0.627964</td><td style = \"text-align: right;\">0.0561729</td><td style = \"text-align: right;\">0.146726</td><td style = \"text-align: right;\">0.205122</td><td style = \"text-align: right;\">0.272065</td><td style = \"text-align: right;\">0.0965629</td></tr><tr><td class = \"rowNumber\" style = \"font-weight: bold; text-align: right;\">3</td><td style = \"text-align: right;\">0.975973</td><td style = \"text-align: right;\">0.638358</td><td style = \"text-align: right;\">0.980977</td><td style = \"text-align: right;\">0.591451</td><td style = \"text-align: right;\">0.962569</td><td style = \"text-align: right;\">0.474664</td><td style = \"text-align: right;\">0.278137</td><td style = \"text-align: right;\">0.950534</td></tr><tr><td class = \"rowNumber\" style = \"font-weight: bold; text-align: right;\">4</td><td style = \"text-align: right;\">0.972159</td><td style = \"text-align: right;\">0.506985</td><td style = \"text-align: right;\">0.947555</td><td style = \"text-align: right;\">0.437553</td><td style = \"text-align: right;\">0.836253</td><td style = \"text-align: right;\">0.885966</td><td style = \"text-align: right;\">0.860218</td><td style = \"text-align: right;\">0.27804</td></tr><tr><td class = \"rowNumber\" style = \"font-weight: bold; text-align: right;\">5</td><td style = \"text-align: right;\">0.397127</td><td style = \"text-align: right;\">0.514557</td><td style = \"text-align: right;\">0.493713</td><td style = \"text-align: right;\">0.490845</td><td style = \"text-align: right;\">0.315536</td><td style = \"text-align: right;\">0.385046</td><td style = \"text-align: right;\">0.803888</td><td style = \"text-align: right;\">0.798471</td></tr></tbody></table></div>"
      ],
      "text/latex": [
       "\\begin{tabular}{r|cccccccc}\n",
       "\t& c1 & x2 & x3 & x4 & x1 & x2\\_1 & x3\\_1 & x4\\_1\\\\\n",
       "\t\\hline\n",
       "\t& Float64 & Float64 & Float64 & Float64 & Float64 & Float64 & Float64 & Float64\\\\\n",
       "\t\\hline\n",
       "\t1 & 0.729509 & 0.883271 & 0.48758 & 0.838227 & 0.313919 & 0.443422 & 0.842241 & 0.742186 \\\\\n",
       "\t2 & 0.398605 & 0.195815 & 0.627964 & 0.0561729 & 0.146726 & 0.205122 & 0.272065 & 0.0965629 \\\\\n",
       "\t3 & 0.975973 & 0.638358 & 0.980977 & 0.591451 & 0.962569 & 0.474664 & 0.278137 & 0.950534 \\\\\n",
       "\t4 & 0.972159 & 0.506985 & 0.947555 & 0.437553 & 0.836253 & 0.885966 & 0.860218 & 0.27804 \\\\\n",
       "\t5 & 0.397127 & 0.514557 & 0.493713 & 0.490845 & 0.315536 & 0.385046 & 0.803888 & 0.798471 \\\\\n",
       "\\end{tabular}\n"
      ],
      "text/plain": [
       "\u001b[1m5×8 DataFrame\u001b[0m\n",
       "\u001b[1m Row \u001b[0m│\u001b[1m c1       \u001b[0m\u001b[1m x2       \u001b[0m\u001b[1m x3       \u001b[0m\u001b[1m x4        \u001b[0m\u001b[1m x1       \u001b[0m\u001b[1m x2_1     \u001b[0m\u001b[1m x3_1     \u001b[0m\u001b[1m \u001b[0m ⋯\n",
       "     │\u001b[90m Float64  \u001b[0m\u001b[90m Float64  \u001b[0m\u001b[90m Float64  \u001b[0m\u001b[90m Float64   \u001b[0m\u001b[90m Float64  \u001b[0m\u001b[90m Float64  \u001b[0m\u001b[90m Float64  \u001b[0m\u001b[90m \u001b[0m ⋯\n",
       "─────┼──────────────────────────────────────────────────────────────────────────\n",
       "   1 │ 0.729509  0.883271  0.48758   0.838227   0.313919  0.443422  0.842241   ⋯\n",
       "   2 │ 0.398605  0.195815  0.627964  0.0561729  0.146726  0.205122  0.272065\n",
       "   3 │ 0.975973  0.638358  0.980977  0.591451   0.962569  0.474664  0.278137\n",
       "   4 │ 0.972159  0.506985  0.947555  0.437553   0.836253  0.885966  0.860218\n",
       "   5 │ 0.397127  0.514557  0.493713  0.490845   0.315536  0.385046  0.803888   ⋯\n",
       "\u001b[36m                                                                1 column omitted\u001b[0m"
      ]
     },
     "execution_count": 431,
     "metadata": {},
     "output_type": "execute_result"
    }
   ],
   "source": [
    "#M1 and M2 hae the same row names so they can't be simply concatenated\n",
    "hcat(M1, M2, makeunique=true)"
   ]
  },
  {
   "cell_type": "code",
   "execution_count": 432,
   "id": "28ad44be",
   "metadata": {},
   "outputs": [
    {
     "data": {
      "text/html": [
       "<div><div style = \"float: left;\"><span>5×4 DataFrame</span></div><div style = \"clear: both;\"></div></div><div class = \"data-frame\" style = \"overflow-x: scroll;\"><table class = \"data-frame\" style = \"margin-bottom: 6px;\"><thead><tr class = \"header\"><th class = \"rowNumber\" style = \"font-weight: bold; text-align: right;\">Row</th><th style = \"text-align: left;\">x1</th><th style = \"text-align: left;\">x2</th><th style = \"text-align: left;\">x3</th><th style = \"text-align: left;\">x4</th></tr><tr class = \"subheader headerLastRow\"><th class = \"rowNumber\" style = \"font-weight: bold; text-align: right;\"></th><th title = \"Float64\" style = \"text-align: left;\">Float64</th><th title = \"Float64\" style = \"text-align: left;\">Float64</th><th title = \"Float64\" style = \"text-align: left;\">Float64</th><th title = \"Float64\" style = \"text-align: left;\">Float64</th></tr></thead><tbody><tr><td class = \"rowNumber\" style = \"font-weight: bold; text-align: right;\">1</td><td style = \"text-align: right;\">0.729509</td><td style = \"text-align: right;\">0.883271</td><td style = \"text-align: right;\">0.48758</td><td style = \"text-align: right;\">0.838227</td></tr><tr><td class = \"rowNumber\" style = \"font-weight: bold; text-align: right;\">2</td><td style = \"text-align: right;\">0.398605</td><td style = \"text-align: right;\">0.195815</td><td style = \"text-align: right;\">0.627964</td><td style = \"text-align: right;\">0.0561729</td></tr><tr><td class = \"rowNumber\" style = \"font-weight: bold; text-align: right;\">3</td><td style = \"text-align: right;\">0.975973</td><td style = \"text-align: right;\">0.638358</td><td style = \"text-align: right;\">0.980977</td><td style = \"text-align: right;\">0.591451</td></tr><tr><td class = \"rowNumber\" style = \"font-weight: bold; text-align: right;\">4</td><td style = \"text-align: right;\">0.972159</td><td style = \"text-align: right;\">0.506985</td><td style = \"text-align: right;\">0.947555</td><td style = \"text-align: right;\">0.437553</td></tr><tr><td class = \"rowNumber\" style = \"font-weight: bold; text-align: right;\">5</td><td style = \"text-align: right;\">0.397127</td><td style = \"text-align: right;\">0.514557</td><td style = \"text-align: right;\">0.493713</td><td style = \"text-align: right;\">0.490845</td></tr></tbody></table></div>"
      ],
      "text/latex": [
       "\\begin{tabular}{r|cccc}\n",
       "\t& x1 & x2 & x3 & x4\\\\\n",
       "\t\\hline\n",
       "\t& Float64 & Float64 & Float64 & Float64\\\\\n",
       "\t\\hline\n",
       "\t1 & 0.729509 & 0.883271 & 0.48758 & 0.838227 \\\\\n",
       "\t2 & 0.398605 & 0.195815 & 0.627964 & 0.0561729 \\\\\n",
       "\t3 & 0.975973 & 0.638358 & 0.980977 & 0.591451 \\\\\n",
       "\t4 & 0.972159 & 0.506985 & 0.947555 & 0.437553 \\\\\n",
       "\t5 & 0.397127 & 0.514557 & 0.493713 & 0.490845 \\\\\n",
       "\\end{tabular}\n"
      ],
      "text/plain": [
       "\u001b[1m5×4 DataFrame\u001b[0m\n",
       "\u001b[1m Row \u001b[0m│\u001b[1m x1       \u001b[0m\u001b[1m x2       \u001b[0m\u001b[1m x3       \u001b[0m\u001b[1m x4        \u001b[0m\n",
       "     │\u001b[90m Float64  \u001b[0m\u001b[90m Float64  \u001b[0m\u001b[90m Float64  \u001b[0m\u001b[90m Float64   \u001b[0m\n",
       "─────┼─────────────────────────────────────────\n",
       "   1 │ 0.729509  0.883271  0.48758   0.838227\n",
       "   2 │ 0.398605  0.195815  0.627964  0.0561729\n",
       "   3 │ 0.975973  0.638358  0.980977  0.591451\n",
       "   4 │ 0.972159  0.506985  0.947555  0.437553\n",
       "   5 │ 0.397127  0.514557  0.493713  0.490845"
      ]
     },
     "execution_count": 432,
     "metadata": {},
     "output_type": "execute_result"
    }
   ],
   "source": [
    "#vcat(M1, M2)\n",
    "rename!(M1, :c1=>:x1)"
   ]
  },
  {
   "cell_type": "code",
   "execution_count": 433,
   "id": "a8f772b3",
   "metadata": {},
   "outputs": [
    {
     "data": {
      "text/html": [
       "<div><div style = \"float: left;\"><span>10×4 DataFrame</span></div><div style = \"clear: both;\"></div></div><div class = \"data-frame\" style = \"overflow-x: scroll;\"><table class = \"data-frame\" style = \"margin-bottom: 6px;\"><thead><tr class = \"header\"><th class = \"rowNumber\" style = \"font-weight: bold; text-align: right;\">Row</th><th style = \"text-align: left;\">x1</th><th style = \"text-align: left;\">x2</th><th style = \"text-align: left;\">x3</th><th style = \"text-align: left;\">x4</th></tr><tr class = \"subheader headerLastRow\"><th class = \"rowNumber\" style = \"font-weight: bold; text-align: right;\"></th><th title = \"Float64\" style = \"text-align: left;\">Float64</th><th title = \"Float64\" style = \"text-align: left;\">Float64</th><th title = \"Float64\" style = \"text-align: left;\">Float64</th><th title = \"Float64\" style = \"text-align: left;\">Float64</th></tr></thead><tbody><tr><td class = \"rowNumber\" style = \"font-weight: bold; text-align: right;\">1</td><td style = \"text-align: right;\">0.729509</td><td style = \"text-align: right;\">0.883271</td><td style = \"text-align: right;\">0.48758</td><td style = \"text-align: right;\">0.838227</td></tr><tr><td class = \"rowNumber\" style = \"font-weight: bold; text-align: right;\">2</td><td style = \"text-align: right;\">0.398605</td><td style = \"text-align: right;\">0.195815</td><td style = \"text-align: right;\">0.627964</td><td style = \"text-align: right;\">0.0561729</td></tr><tr><td class = \"rowNumber\" style = \"font-weight: bold; text-align: right;\">3</td><td style = \"text-align: right;\">0.975973</td><td style = \"text-align: right;\">0.638358</td><td style = \"text-align: right;\">0.980977</td><td style = \"text-align: right;\">0.591451</td></tr><tr><td class = \"rowNumber\" style = \"font-weight: bold; text-align: right;\">4</td><td style = \"text-align: right;\">0.972159</td><td style = \"text-align: right;\">0.506985</td><td style = \"text-align: right;\">0.947555</td><td style = \"text-align: right;\">0.437553</td></tr><tr><td class = \"rowNumber\" style = \"font-weight: bold; text-align: right;\">5</td><td style = \"text-align: right;\">0.397127</td><td style = \"text-align: right;\">0.514557</td><td style = \"text-align: right;\">0.493713</td><td style = \"text-align: right;\">0.490845</td></tr><tr><td class = \"rowNumber\" style = \"font-weight: bold; text-align: right;\">6</td><td style = \"text-align: right;\">0.313919</td><td style = \"text-align: right;\">0.443422</td><td style = \"text-align: right;\">0.842241</td><td style = \"text-align: right;\">0.742186</td></tr><tr><td class = \"rowNumber\" style = \"font-weight: bold; text-align: right;\">7</td><td style = \"text-align: right;\">0.146726</td><td style = \"text-align: right;\">0.205122</td><td style = \"text-align: right;\">0.272065</td><td style = \"text-align: right;\">0.0965629</td></tr><tr><td class = \"rowNumber\" style = \"font-weight: bold; text-align: right;\">8</td><td style = \"text-align: right;\">0.962569</td><td style = \"text-align: right;\">0.474664</td><td style = \"text-align: right;\">0.278137</td><td style = \"text-align: right;\">0.950534</td></tr><tr><td class = \"rowNumber\" style = \"font-weight: bold; text-align: right;\">9</td><td style = \"text-align: right;\">0.836253</td><td style = \"text-align: right;\">0.885966</td><td style = \"text-align: right;\">0.860218</td><td style = \"text-align: right;\">0.27804</td></tr><tr><td class = \"rowNumber\" style = \"font-weight: bold; text-align: right;\">10</td><td style = \"text-align: right;\">0.315536</td><td style = \"text-align: right;\">0.385046</td><td style = \"text-align: right;\">0.803888</td><td style = \"text-align: right;\">0.798471</td></tr></tbody></table></div>"
      ],
      "text/latex": [
       "\\begin{tabular}{r|cccc}\n",
       "\t& x1 & x2 & x3 & x4\\\\\n",
       "\t\\hline\n",
       "\t& Float64 & Float64 & Float64 & Float64\\\\\n",
       "\t\\hline\n",
       "\t1 & 0.729509 & 0.883271 & 0.48758 & 0.838227 \\\\\n",
       "\t2 & 0.398605 & 0.195815 & 0.627964 & 0.0561729 \\\\\n",
       "\t3 & 0.975973 & 0.638358 & 0.980977 & 0.591451 \\\\\n",
       "\t4 & 0.972159 & 0.506985 & 0.947555 & 0.437553 \\\\\n",
       "\t5 & 0.397127 & 0.514557 & 0.493713 & 0.490845 \\\\\n",
       "\t6 & 0.313919 & 0.443422 & 0.842241 & 0.742186 \\\\\n",
       "\t7 & 0.146726 & 0.205122 & 0.272065 & 0.0965629 \\\\\n",
       "\t8 & 0.962569 & 0.474664 & 0.278137 & 0.950534 \\\\\n",
       "\t9 & 0.836253 & 0.885966 & 0.860218 & 0.27804 \\\\\n",
       "\t10 & 0.315536 & 0.385046 & 0.803888 & 0.798471 \\\\\n",
       "\\end{tabular}\n"
      ],
      "text/plain": [
       "\u001b[1m10×4 DataFrame\u001b[0m\n",
       "\u001b[1m Row \u001b[0m│\u001b[1m x1       \u001b[0m\u001b[1m x2       \u001b[0m\u001b[1m x3       \u001b[0m\u001b[1m x4        \u001b[0m\n",
       "     │\u001b[90m Float64  \u001b[0m\u001b[90m Float64  \u001b[0m\u001b[90m Float64  \u001b[0m\u001b[90m Float64   \u001b[0m\n",
       "─────┼─────────────────────────────────────────\n",
       "   1 │ 0.729509  0.883271  0.48758   0.838227\n",
       "   2 │ 0.398605  0.195815  0.627964  0.0561729\n",
       "   3 │ 0.975973  0.638358  0.980977  0.591451\n",
       "   4 │ 0.972159  0.506985  0.947555  0.437553\n",
       "   5 │ 0.397127  0.514557  0.493713  0.490845\n",
       "   6 │ 0.313919  0.443422  0.842241  0.742186\n",
       "   7 │ 0.146726  0.205122  0.272065  0.0965629\n",
       "   8 │ 0.962569  0.474664  0.278137  0.950534\n",
       "   9 │ 0.836253  0.885966  0.860218  0.27804\n",
       "  10 │ 0.315536  0.385046  0.803888  0.798471"
      ]
     },
     "execution_count": 433,
     "metadata": {},
     "output_type": "execute_result"
    }
   ],
   "source": [
    "vcat(M1, M2)"
   ]
  },
  {
   "cell_type": "code",
   "execution_count": 434,
   "id": "7adbb437",
   "metadata": {},
   "outputs": [
    {
     "data": {
      "text/html": [
       "<div><div style = \"float: left;\"><span>5×5 DataFrame</span></div><div style = \"clear: both;\"></div></div><div class = \"data-frame\" style = \"overflow-x: scroll;\"><table class = \"data-frame\" style = \"margin-bottom: 6px;\"><thead><tr class = \"header\"><th class = \"rowNumber\" style = \"font-weight: bold; text-align: right;\">Row</th><th style = \"text-align: left;\">x1</th><th style = \"text-align: left;\">x2</th><th style = \"text-align: left;\">x3</th><th style = \"text-align: left;\">x4</th><th style = \"text-align: left;\">A</th></tr><tr class = \"subheader headerLastRow\"><th class = \"rowNumber\" style = \"font-weight: bold; text-align: right;\"></th><th title = \"Float64\" style = \"text-align: left;\">Float64</th><th title = \"Float64\" style = \"text-align: left;\">Float64</th><th title = \"Float64\" style = \"text-align: left;\">Float64</th><th title = \"Float64\" style = \"text-align: left;\">Float64</th><th title = \"Int64\" style = \"text-align: left;\">Int64</th></tr></thead><tbody><tr><td class = \"rowNumber\" style = \"font-weight: bold; text-align: right;\">1</td><td style = \"text-align: right;\">0.729509</td><td style = \"text-align: right;\">0.883271</td><td style = \"text-align: right;\">0.48758</td><td style = \"text-align: right;\">0.838227</td><td style = \"text-align: right;\">1</td></tr><tr><td class = \"rowNumber\" style = \"font-weight: bold; text-align: right;\">2</td><td style = \"text-align: right;\">0.398605</td><td style = \"text-align: right;\">0.195815</td><td style = \"text-align: right;\">0.627964</td><td style = \"text-align: right;\">0.0561729</td><td style = \"text-align: right;\">2</td></tr><tr><td class = \"rowNumber\" style = \"font-weight: bold; text-align: right;\">3</td><td style = \"text-align: right;\">0.975973</td><td style = \"text-align: right;\">0.638358</td><td style = \"text-align: right;\">0.980977</td><td style = \"text-align: right;\">0.591451</td><td style = \"text-align: right;\">3</td></tr><tr><td class = \"rowNumber\" style = \"font-weight: bold; text-align: right;\">4</td><td style = \"text-align: right;\">0.972159</td><td style = \"text-align: right;\">0.506985</td><td style = \"text-align: right;\">0.947555</td><td style = \"text-align: right;\">0.437553</td><td style = \"text-align: right;\">4</td></tr><tr><td class = \"rowNumber\" style = \"font-weight: bold; text-align: right;\">5</td><td style = \"text-align: right;\">0.397127</td><td style = \"text-align: right;\">0.514557</td><td style = \"text-align: right;\">0.493713</td><td style = \"text-align: right;\">0.490845</td><td style = \"text-align: right;\">5</td></tr></tbody></table></div>"
      ],
      "text/latex": [
       "\\begin{tabular}{r|ccccc}\n",
       "\t& x1 & x2 & x3 & x4 & A\\\\\n",
       "\t\\hline\n",
       "\t& Float64 & Float64 & Float64 & Float64 & Int64\\\\\n",
       "\t\\hline\n",
       "\t1 & 0.729509 & 0.883271 & 0.48758 & 0.838227 & 1 \\\\\n",
       "\t2 & 0.398605 & 0.195815 & 0.627964 & 0.0561729 & 2 \\\\\n",
       "\t3 & 0.975973 & 0.638358 & 0.980977 & 0.591451 & 3 \\\\\n",
       "\t4 & 0.972159 & 0.506985 & 0.947555 & 0.437553 & 4 \\\\\n",
       "\t5 & 0.397127 & 0.514557 & 0.493713 & 0.490845 & 5 \\\\\n",
       "\\end{tabular}\n"
      ],
      "text/plain": [
       "\u001b[1m5×5 DataFrame\u001b[0m\n",
       "\u001b[1m Row \u001b[0m│\u001b[1m x1       \u001b[0m\u001b[1m x2       \u001b[0m\u001b[1m x3       \u001b[0m\u001b[1m x4        \u001b[0m\u001b[1m A     \u001b[0m\n",
       "     │\u001b[90m Float64  \u001b[0m\u001b[90m Float64  \u001b[0m\u001b[90m Float64  \u001b[0m\u001b[90m Float64   \u001b[0m\u001b[90m Int64 \u001b[0m\n",
       "─────┼────────────────────────────────────────────────\n",
       "   1 │ 0.729509  0.883271  0.48758   0.838227       1\n",
       "   2 │ 0.398605  0.195815  0.627964  0.0561729      2\n",
       "   3 │ 0.975973  0.638358  0.980977  0.591451       3\n",
       "   4 │ 0.972159  0.506985  0.947555  0.437553       4\n",
       "   5 │ 0.397127  0.514557  0.493713  0.490845       5"
      ]
     },
     "execution_count": 434,
     "metadata": {},
     "output_type": "execute_result"
    }
   ],
   "source": [
    "[M1 DataFrame(A=[1, 2, 3, 4, 5])]"
   ]
  },
  {
   "cell_type": "code",
   "execution_count": 435,
   "id": "8a4ff291",
   "metadata": {},
   "outputs": [
    {
     "data": {
      "text/html": [
       "<div><div style = \"float: left;\"><span>5×5 DataFrame</span></div><div style = \"clear: both;\"></div></div><div class = \"data-frame\" style = \"overflow-x: scroll;\"><table class = \"data-frame\" style = \"margin-bottom: 6px;\"><thead><tr class = \"header\"><th class = \"rowNumber\" style = \"font-weight: bold; text-align: right;\">Row</th><th style = \"text-align: left;\">x1</th><th style = \"text-align: left;\">x2</th><th style = \"text-align: left;\">newcol</th><th style = \"text-align: left;\">x3</th><th style = \"text-align: left;\">x4</th></tr><tr class = \"subheader headerLastRow\"><th class = \"rowNumber\" style = \"font-weight: bold; text-align: right;\"></th><th title = \"Float64\" style = \"text-align: left;\">Float64</th><th title = \"Float64\" style = \"text-align: left;\">Float64</th><th title = \"Int64\" style = \"text-align: left;\">Int64</th><th title = \"Float64\" style = \"text-align: left;\">Float64</th><th title = \"Float64\" style = \"text-align: left;\">Float64</th></tr></thead><tbody><tr><td class = \"rowNumber\" style = \"font-weight: bold; text-align: right;\">1</td><td style = \"text-align: right;\">0.729509</td><td style = \"text-align: right;\">0.883271</td><td style = \"text-align: right;\">1</td><td style = \"text-align: right;\">0.48758</td><td style = \"text-align: right;\">0.838227</td></tr><tr><td class = \"rowNumber\" style = \"font-weight: bold; text-align: right;\">2</td><td style = \"text-align: right;\">0.398605</td><td style = \"text-align: right;\">0.195815</td><td style = \"text-align: right;\">2</td><td style = \"text-align: right;\">0.627964</td><td style = \"text-align: right;\">0.0561729</td></tr><tr><td class = \"rowNumber\" style = \"font-weight: bold; text-align: right;\">3</td><td style = \"text-align: right;\">0.975973</td><td style = \"text-align: right;\">0.638358</td><td style = \"text-align: right;\">3</td><td style = \"text-align: right;\">0.980977</td><td style = \"text-align: right;\">0.591451</td></tr><tr><td class = \"rowNumber\" style = \"font-weight: bold; text-align: right;\">4</td><td style = \"text-align: right;\">0.972159</td><td style = \"text-align: right;\">0.506985</td><td style = \"text-align: right;\">4</td><td style = \"text-align: right;\">0.947555</td><td style = \"text-align: right;\">0.437553</td></tr><tr><td class = \"rowNumber\" style = \"font-weight: bold; text-align: right;\">5</td><td style = \"text-align: right;\">0.397127</td><td style = \"text-align: right;\">0.514557</td><td style = \"text-align: right;\">5</td><td style = \"text-align: right;\">0.493713</td><td style = \"text-align: right;\">0.490845</td></tr></tbody></table></div>"
      ],
      "text/latex": [
       "\\begin{tabular}{r|ccccc}\n",
       "\t& x1 & x2 & newcol & x3 & x4\\\\\n",
       "\t\\hline\n",
       "\t& Float64 & Float64 & Int64 & Float64 & Float64\\\\\n",
       "\t\\hline\n",
       "\t1 & 0.729509 & 0.883271 & 1 & 0.48758 & 0.838227 \\\\\n",
       "\t2 & 0.398605 & 0.195815 & 2 & 0.627964 & 0.0561729 \\\\\n",
       "\t3 & 0.975973 & 0.638358 & 3 & 0.980977 & 0.591451 \\\\\n",
       "\t4 & 0.972159 & 0.506985 & 4 & 0.947555 & 0.437553 \\\\\n",
       "\t5 & 0.397127 & 0.514557 & 5 & 0.493713 & 0.490845 \\\\\n",
       "\\end{tabular}\n"
      ],
      "text/plain": [
       "\u001b[1m5×5 DataFrame\u001b[0m\n",
       "\u001b[1m Row \u001b[0m│\u001b[1m x1       \u001b[0m\u001b[1m x2       \u001b[0m\u001b[1m newcol \u001b[0m\u001b[1m x3       \u001b[0m\u001b[1m x4        \u001b[0m\n",
       "     │\u001b[90m Float64  \u001b[0m\u001b[90m Float64  \u001b[0m\u001b[90m Int64  \u001b[0m\u001b[90m Float64  \u001b[0m\u001b[90m Float64   \u001b[0m\n",
       "─────┼─────────────────────────────────────────────────\n",
       "   1 │ 0.729509  0.883271       1  0.48758   0.838227\n",
       "   2 │ 0.398605  0.195815       2  0.627964  0.0561729\n",
       "   3 │ 0.975973  0.638358       3  0.980977  0.591451\n",
       "   4 │ 0.972159  0.506985       4  0.947555  0.437553\n",
       "   5 │ 0.397127  0.514557       5  0.493713  0.490845"
      ]
     },
     "execution_count": 435,
     "metadata": {},
     "output_type": "execute_result"
    }
   ],
   "source": [
    "insertcols!(M1, 3, :newcol => [1, 2, 3, 4, 5])"
   ]
  },
  {
   "cell_type": "code",
   "execution_count": 436,
   "id": "991741dc",
   "metadata": {},
   "outputs": [
    {
     "data": {
      "text/html": [
       "<div><div style = \"float: left;\"><span>5×5 DataFrame</span></div><div style = \"clear: both;\"></div></div><div class = \"data-frame\" style = \"overflow-x: scroll;\"><table class = \"data-frame\" style = \"margin-bottom: 6px;\"><thead><tr class = \"header\"><th class = \"rowNumber\" style = \"font-weight: bold; text-align: right;\">Row</th><th style = \"text-align: left;\">x1</th><th style = \"text-align: left;\">x2</th><th style = \"text-align: left;\">newcol</th><th style = \"text-align: left;\">x3</th><th style = \"text-align: left;\">x4</th></tr><tr class = \"subheader headerLastRow\"><th class = \"rowNumber\" style = \"font-weight: bold; text-align: right;\"></th><th title = \"Float64\" style = \"text-align: left;\">Float64</th><th title = \"Float64\" style = \"text-align: left;\">Float64</th><th title = \"Int64\" style = \"text-align: left;\">Int64</th><th title = \"Float64\" style = \"text-align: left;\">Float64</th><th title = \"Float64\" style = \"text-align: left;\">Float64</th></tr></thead><tbody><tr><td class = \"rowNumber\" style = \"font-weight: bold; text-align: right;\">1</td><td style = \"text-align: right;\">0.729509</td><td style = \"text-align: right;\">0.883271</td><td style = \"text-align: right;\">1</td><td style = \"text-align: right;\">0.48758</td><td style = \"text-align: right;\">0.838227</td></tr><tr><td class = \"rowNumber\" style = \"font-weight: bold; text-align: right;\">2</td><td style = \"text-align: right;\">0.398605</td><td style = \"text-align: right;\">0.195815</td><td style = \"text-align: right;\">2</td><td style = \"text-align: right;\">0.627964</td><td style = \"text-align: right;\">0.0561729</td></tr><tr><td class = \"rowNumber\" style = \"font-weight: bold; text-align: right;\">3</td><td style = \"text-align: right;\">0.975973</td><td style = \"text-align: right;\">0.638358</td><td style = \"text-align: right;\">3</td><td style = \"text-align: right;\">0.980977</td><td style = \"text-align: right;\">0.591451</td></tr><tr><td class = \"rowNumber\" style = \"font-weight: bold; text-align: right;\">4</td><td style = \"text-align: right;\">0.972159</td><td style = \"text-align: right;\">0.506985</td><td style = \"text-align: right;\">4</td><td style = \"text-align: right;\">0.947555</td><td style = \"text-align: right;\">0.437553</td></tr><tr><td class = \"rowNumber\" style = \"font-weight: bold; text-align: right;\">5</td><td style = \"text-align: right;\">0.397127</td><td style = \"text-align: right;\">0.514557</td><td style = \"text-align: right;\">5</td><td style = \"text-align: right;\">0.493713</td><td style = \"text-align: right;\">0.490845</td></tr></tbody></table></div>"
      ],
      "text/latex": [
       "\\begin{tabular}{r|ccccc}\n",
       "\t& x1 & x2 & newcol & x3 & x4\\\\\n",
       "\t\\hline\n",
       "\t& Float64 & Float64 & Int64 & Float64 & Float64\\\\\n",
       "\t\\hline\n",
       "\t1 & 0.729509 & 0.883271 & 1 & 0.48758 & 0.838227 \\\\\n",
       "\t2 & 0.398605 & 0.195815 & 2 & 0.627964 & 0.0561729 \\\\\n",
       "\t3 & 0.975973 & 0.638358 & 3 & 0.980977 & 0.591451 \\\\\n",
       "\t4 & 0.972159 & 0.506985 & 4 & 0.947555 & 0.437553 \\\\\n",
       "\t5 & 0.397127 & 0.514557 & 5 & 0.493713 & 0.490845 \\\\\n",
       "\\end{tabular}\n"
      ],
      "text/plain": [
       "\u001b[1m5×5 DataFrame\u001b[0m\n",
       "\u001b[1m Row \u001b[0m│\u001b[1m x1       \u001b[0m\u001b[1m x2       \u001b[0m\u001b[1m newcol \u001b[0m\u001b[1m x3       \u001b[0m\u001b[1m x4        \u001b[0m\n",
       "     │\u001b[90m Float64  \u001b[0m\u001b[90m Float64  \u001b[0m\u001b[90m Int64  \u001b[0m\u001b[90m Float64  \u001b[0m\u001b[90m Float64   \u001b[0m\n",
       "─────┼─────────────────────────────────────────────────\n",
       "   1 │ 0.729509  0.883271       1  0.48758   0.838227\n",
       "   2 │ 0.398605  0.195815       2  0.627964  0.0561729\n",
       "   3 │ 0.975973  0.638358       3  0.980977  0.591451\n",
       "   4 │ 0.972159  0.506985       4  0.947555  0.437553\n",
       "   5 │ 0.397127  0.514557       5  0.493713  0.490845"
      ]
     },
     "execution_count": 436,
     "metadata": {},
     "output_type": "execute_result"
    }
   ],
   "source": [
    "M1"
   ]
  },
  {
   "cell_type": "code",
   "execution_count": 437,
   "id": "a59357b0",
   "metadata": {},
   "outputs": [
    {
     "data": {
      "text/html": [
       "<div><div style = \"float: left;\"><span>5×2 DataFrame</span></div><div style = \"clear: both;\"></div></div><div class = \"data-frame\" style = \"overflow-x: scroll;\"><table class = \"data-frame\" style = \"margin-bottom: 6px;\"><thead><tr class = \"header\"><th class = \"rowNumber\" style = \"font-weight: bold; text-align: right;\">Row</th><th style = \"text-align: left;\">x2</th><th style = \"text-align: left;\">x3</th></tr><tr class = \"subheader headerLastRow\"><th class = \"rowNumber\" style = \"font-weight: bold; text-align: right;\"></th><th title = \"Float64\" style = \"text-align: left;\">Float64</th><th title = \"Float64\" style = \"text-align: left;\">Float64</th></tr></thead><tbody><tr><td class = \"rowNumber\" style = \"font-weight: bold; text-align: right;\">1</td><td style = \"text-align: right;\">0.883271</td><td style = \"text-align: right;\">0.48758</td></tr><tr><td class = \"rowNumber\" style = \"font-weight: bold; text-align: right;\">2</td><td style = \"text-align: right;\">0.195815</td><td style = \"text-align: right;\">0.627964</td></tr><tr><td class = \"rowNumber\" style = \"font-weight: bold; text-align: right;\">3</td><td style = \"text-align: right;\">0.638358</td><td style = \"text-align: right;\">0.980977</td></tr><tr><td class = \"rowNumber\" style = \"font-weight: bold; text-align: right;\">4</td><td style = \"text-align: right;\">0.506985</td><td style = \"text-align: right;\">0.947555</td></tr><tr><td class = \"rowNumber\" style = \"font-weight: bold; text-align: right;\">5</td><td style = \"text-align: right;\">0.514557</td><td style = \"text-align: right;\">0.493713</td></tr></tbody></table></div>"
      ],
      "text/latex": [
       "\\begin{tabular}{r|cc}\n",
       "\t& x2 & x3\\\\\n",
       "\t\\hline\n",
       "\t& Float64 & Float64\\\\\n",
       "\t\\hline\n",
       "\t1 & 0.883271 & 0.48758 \\\\\n",
       "\t2 & 0.195815 & 0.627964 \\\\\n",
       "\t3 & 0.638358 & 0.980977 \\\\\n",
       "\t4 & 0.506985 & 0.947555 \\\\\n",
       "\t5 & 0.514557 & 0.493713 \\\\\n",
       "\\end{tabular}\n"
      ],
      "text/plain": [
       "\u001b[1m5×2 DataFrame\u001b[0m\n",
       "\u001b[1m Row \u001b[0m│\u001b[1m x2       \u001b[0m\u001b[1m x3       \u001b[0m\n",
       "     │\u001b[90m Float64  \u001b[0m\u001b[90m Float64  \u001b[0m\n",
       "─────┼────────────────────\n",
       "   1 │ 0.883271  0.48758\n",
       "   2 │ 0.195815  0.627964\n",
       "   3 │ 0.638358  0.980977\n",
       "   4 │ 0.506985  0.947555\n",
       "   5 │ 0.514557  0.493713"
      ]
     },
     "execution_count": 437,
     "metadata": {},
     "output_type": "execute_result"
    }
   ],
   "source": [
    "M1[:, [:x2,:x3]]"
   ]
  },
  {
   "cell_type": "code",
   "execution_count": 438,
   "id": "f3abf9f5",
   "metadata": {},
   "outputs": [
    {
     "data": {
      "text/html": [
       "<div><div style = \"float: left;\"><span>5×5 DataFrame</span></div><div style = \"clear: both;\"></div></div><div class = \"data-frame\" style = \"overflow-x: scroll;\"><table class = \"data-frame\" style = \"margin-bottom: 6px;\"><thead><tr class = \"header\"><th class = \"rowNumber\" style = \"font-weight: bold; text-align: right;\">Row</th><th style = \"text-align: left;\">x1</th><th style = \"text-align: left;\">x2</th><th style = \"text-align: left;\">newcol</th><th style = \"text-align: left;\">x3</th><th style = \"text-align: left;\">x4</th></tr><tr class = \"subheader headerLastRow\"><th class = \"rowNumber\" style = \"font-weight: bold; text-align: right;\"></th><th title = \"Float64\" style = \"text-align: left;\">Float64</th><th title = \"Float64\" style = \"text-align: left;\">Float64</th><th title = \"Int64\" style = \"text-align: left;\">Int64</th><th title = \"Float64\" style = \"text-align: left;\">Float64</th><th title = \"Float64\" style = \"text-align: left;\">Float64</th></tr></thead><tbody><tr><td class = \"rowNumber\" style = \"font-weight: bold; text-align: right;\">1</td><td style = \"text-align: right;\">0.729509</td><td style = \"text-align: right;\">0.883271</td><td style = \"text-align: right;\">1</td><td style = \"text-align: right;\">0.48758</td><td style = \"text-align: right;\">0.838227</td></tr><tr><td class = \"rowNumber\" style = \"font-weight: bold; text-align: right;\">2</td><td style = \"text-align: right;\">0.398605</td><td style = \"text-align: right;\">0.195815</td><td style = \"text-align: right;\">2</td><td style = \"text-align: right;\">0.627964</td><td style = \"text-align: right;\">0.0561729</td></tr><tr><td class = \"rowNumber\" style = \"font-weight: bold; text-align: right;\">3</td><td style = \"text-align: right;\">0.975973</td><td style = \"text-align: right;\">0.638358</td><td style = \"text-align: right;\">3</td><td style = \"text-align: right;\">0.980977</td><td style = \"text-align: right;\">0.591451</td></tr><tr><td class = \"rowNumber\" style = \"font-weight: bold; text-align: right;\">4</td><td style = \"text-align: right;\">0.972159</td><td style = \"text-align: right;\">0.506985</td><td style = \"text-align: right;\">4</td><td style = \"text-align: right;\">0.947555</td><td style = \"text-align: right;\">0.437553</td></tr><tr><td class = \"rowNumber\" style = \"font-weight: bold; text-align: right;\">5</td><td style = \"text-align: right;\">0.397127</td><td style = \"text-align: right;\">0.514557</td><td style = \"text-align: right;\">5</td><td style = \"text-align: right;\">0.493713</td><td style = \"text-align: right;\">0.490845</td></tr></tbody></table></div>"
      ],
      "text/latex": [
       "\\begin{tabular}{r|ccccc}\n",
       "\t& x1 & x2 & newcol & x3 & x4\\\\\n",
       "\t\\hline\n",
       "\t& Float64 & Float64 & Int64 & Float64 & Float64\\\\\n",
       "\t\\hline\n",
       "\t1 & 0.729509 & 0.883271 & 1 & 0.48758 & 0.838227 \\\\\n",
       "\t2 & 0.398605 & 0.195815 & 2 & 0.627964 & 0.0561729 \\\\\n",
       "\t3 & 0.975973 & 0.638358 & 3 & 0.980977 & 0.591451 \\\\\n",
       "\t4 & 0.972159 & 0.506985 & 4 & 0.947555 & 0.437553 \\\\\n",
       "\t5 & 0.397127 & 0.514557 & 5 & 0.493713 & 0.490845 \\\\\n",
       "\\end{tabular}\n"
      ],
      "text/plain": [
       "\u001b[1m5×5 DataFrame\u001b[0m\n",
       "\u001b[1m Row \u001b[0m│\u001b[1m x1       \u001b[0m\u001b[1m x2       \u001b[0m\u001b[1m newcol \u001b[0m\u001b[1m x3       \u001b[0m\u001b[1m x4        \u001b[0m\n",
       "     │\u001b[90m Float64  \u001b[0m\u001b[90m Float64  \u001b[0m\u001b[90m Int64  \u001b[0m\u001b[90m Float64  \u001b[0m\u001b[90m Float64   \u001b[0m\n",
       "─────┼─────────────────────────────────────────────────\n",
       "   1 │ 0.729509  0.883271       1  0.48758   0.838227\n",
       "   2 │ 0.398605  0.195815       2  0.627964  0.0561729\n",
       "   3 │ 0.975973  0.638358       3  0.980977  0.591451\n",
       "   4 │ 0.972159  0.506985       4  0.947555  0.437553\n",
       "   5 │ 0.397127  0.514557       5  0.493713  0.490845"
      ]
     },
     "execution_count": 438,
     "metadata": {},
     "output_type": "execute_result"
    }
   ],
   "source": [
    "cp_M1 = copy(M1)"
   ]
  },
  {
   "cell_type": "code",
   "execution_count": 439,
   "id": "5ddc8f86",
   "metadata": {},
   "outputs": [
    {
     "data": {
      "text/plain": [
       "true"
      ]
     },
     "execution_count": 439,
     "metadata": {},
     "output_type": "execute_result"
    }
   ],
   "source": [
    "M1 == cp_M1"
   ]
  },
  {
   "cell_type": "code",
   "execution_count": 440,
   "id": "ad93e3ad",
   "metadata": {},
   "outputs": [
    {
     "data": {
      "text/html": [
       "<div><div style = \"float: left;\"><span>5×5 DataFrame</span></div><div style = \"clear: both;\"></div></div><div class = \"data-frame\" style = \"overflow-x: scroll;\"><table class = \"data-frame\" style = \"margin-bottom: 6px;\"><thead><tr class = \"header\"><th class = \"rowNumber\" style = \"font-weight: bold; text-align: right;\">Row</th><th style = \"text-align: left;\">x1</th><th style = \"text-align: left;\">x2</th><th style = \"text-align: left;\">newcol</th><th style = \"text-align: left;\">x3</th><th style = \"text-align: left;\">x4</th></tr><tr class = \"subheader headerLastRow\"><th class = \"rowNumber\" style = \"font-weight: bold; text-align: right;\"></th><th title = \"Float64\" style = \"text-align: left;\">Float64</th><th title = \"Float64\" style = \"text-align: left;\">Float64</th><th title = \"Int64\" style = \"text-align: left;\">Int64</th><th title = \"Float64\" style = \"text-align: left;\">Float64</th><th title = \"Float64\" style = \"text-align: left;\">Float64</th></tr></thead><tbody><tr><td class = \"rowNumber\" style = \"font-weight: bold; text-align: right;\">1</td><td style = \"text-align: right;\">0.397127</td><td style = \"text-align: right;\">0.514557</td><td style = \"text-align: right;\">5</td><td style = \"text-align: right;\">0.493713</td><td style = \"text-align: right;\">0.490845</td></tr><tr><td class = \"rowNumber\" style = \"font-weight: bold; text-align: right;\">2</td><td style = \"text-align: right;\">0.398605</td><td style = \"text-align: right;\">0.195815</td><td style = \"text-align: right;\">2</td><td style = \"text-align: right;\">0.627964</td><td style = \"text-align: right;\">0.0561729</td></tr><tr><td class = \"rowNumber\" style = \"font-weight: bold; text-align: right;\">3</td><td style = \"text-align: right;\">0.729509</td><td style = \"text-align: right;\">0.883271</td><td style = \"text-align: right;\">1</td><td style = \"text-align: right;\">0.48758</td><td style = \"text-align: right;\">0.838227</td></tr><tr><td class = \"rowNumber\" style = \"font-weight: bold; text-align: right;\">4</td><td style = \"text-align: right;\">0.972159</td><td style = \"text-align: right;\">0.506985</td><td style = \"text-align: right;\">4</td><td style = \"text-align: right;\">0.947555</td><td style = \"text-align: right;\">0.437553</td></tr><tr><td class = \"rowNumber\" style = \"font-weight: bold; text-align: right;\">5</td><td style = \"text-align: right;\">0.975973</td><td style = \"text-align: right;\">0.638358</td><td style = \"text-align: right;\">3</td><td style = \"text-align: right;\">0.980977</td><td style = \"text-align: right;\">0.591451</td></tr></tbody></table></div>"
      ],
      "text/latex": [
       "\\begin{tabular}{r|ccccc}\n",
       "\t& x1 & x2 & newcol & x3 & x4\\\\\n",
       "\t\\hline\n",
       "\t& Float64 & Float64 & Int64 & Float64 & Float64\\\\\n",
       "\t\\hline\n",
       "\t1 & 0.397127 & 0.514557 & 5 & 0.493713 & 0.490845 \\\\\n",
       "\t2 & 0.398605 & 0.195815 & 2 & 0.627964 & 0.0561729 \\\\\n",
       "\t3 & 0.729509 & 0.883271 & 1 & 0.48758 & 0.838227 \\\\\n",
       "\t4 & 0.972159 & 0.506985 & 4 & 0.947555 & 0.437553 \\\\\n",
       "\t5 & 0.975973 & 0.638358 & 3 & 0.980977 & 0.591451 \\\\\n",
       "\\end{tabular}\n"
      ],
      "text/plain": [
       "\u001b[1m5×5 DataFrame\u001b[0m\n",
       "\u001b[1m Row \u001b[0m│\u001b[1m x1       \u001b[0m\u001b[1m x2       \u001b[0m\u001b[1m newcol \u001b[0m\u001b[1m x3       \u001b[0m\u001b[1m x4        \u001b[0m\n",
       "     │\u001b[90m Float64  \u001b[0m\u001b[90m Float64  \u001b[0m\u001b[90m Int64  \u001b[0m\u001b[90m Float64  \u001b[0m\u001b[90m Float64   \u001b[0m\n",
       "─────┼─────────────────────────────────────────────────\n",
       "   1 │ 0.397127  0.514557       5  0.493713  0.490845\n",
       "   2 │ 0.398605  0.195815       2  0.627964  0.0561729\n",
       "   3 │ 0.729509  0.883271       1  0.48758   0.838227\n",
       "   4 │ 0.972159  0.506985       4  0.947555  0.437553\n",
       "   5 │ 0.975973  0.638358       3  0.980977  0.591451"
      ]
     },
     "execution_count": 440,
     "metadata": {},
     "output_type": "execute_result"
    }
   ],
   "source": [
    "#Sort M1 on the basis of x1 col\n",
    "sort(M1, :x1)"
   ]
  },
  {
   "cell_type": "code",
   "execution_count": 441,
   "id": "6a6e8ceb",
   "metadata": {},
   "outputs": [
    {
     "data": {
      "text/html": [
       "<div><div style = \"float: left;\"><span>4×5 DataFrame</span></div><div style = \"clear: both;\"></div></div><div class = \"data-frame\" style = \"overflow-x: scroll;\"><table class = \"data-frame\" style = \"margin-bottom: 6px;\"><thead><tr class = \"header\"><th class = \"rowNumber\" style = \"font-weight: bold; text-align: right;\">Row</th><th style = \"text-align: left;\">x1</th><th style = \"text-align: left;\">x2</th><th style = \"text-align: left;\">newcol</th><th style = \"text-align: left;\">x3</th><th style = \"text-align: left;\">x4</th></tr><tr class = \"subheader headerLastRow\"><th class = \"rowNumber\" style = \"font-weight: bold; text-align: right;\"></th><th title = \"Float64\" style = \"text-align: left;\">Float64</th><th title = \"Float64\" style = \"text-align: left;\">Float64</th><th title = \"Int64\" style = \"text-align: left;\">Int64</th><th title = \"Float64\" style = \"text-align: left;\">Float64</th><th title = \"Float64\" style = \"text-align: left;\">Float64</th></tr></thead><tbody><tr><td class = \"rowNumber\" style = \"font-weight: bold; text-align: right;\">1</td><td style = \"text-align: right;\">0.729509</td><td style = \"text-align: right;\">0.883271</td><td style = \"text-align: right;\">1</td><td style = \"text-align: right;\">0.48758</td><td style = \"text-align: right;\">0.838227</td></tr><tr><td class = \"rowNumber\" style = \"font-weight: bold; text-align: right;\">2</td><td style = \"text-align: right;\">0.398605</td><td style = \"text-align: right;\">0.195815</td><td style = \"text-align: right;\">2</td><td style = \"text-align: right;\">0.627964</td><td style = \"text-align: right;\">0.0561729</td></tr><tr><td class = \"rowNumber\" style = \"font-weight: bold; text-align: right;\">3</td><td style = \"text-align: right;\">0.975973</td><td style = \"text-align: right;\">0.638358</td><td style = \"text-align: right;\">3</td><td style = \"text-align: right;\">0.980977</td><td style = \"text-align: right;\">0.591451</td></tr><tr><td class = \"rowNumber\" style = \"font-weight: bold; text-align: right;\">4</td><td style = \"text-align: right;\">0.397127</td><td style = \"text-align: right;\">0.514557</td><td style = \"text-align: right;\">5</td><td style = \"text-align: right;\">0.493713</td><td style = \"text-align: right;\">0.490845</td></tr></tbody></table></div>"
      ],
      "text/latex": [
       "\\begin{tabular}{r|ccccc}\n",
       "\t& x1 & x2 & newcol & x3 & x4\\\\\n",
       "\t\\hline\n",
       "\t& Float64 & Float64 & Int64 & Float64 & Float64\\\\\n",
       "\t\\hline\n",
       "\t1 & 0.729509 & 0.883271 & 1 & 0.48758 & 0.838227 \\\\\n",
       "\t2 & 0.398605 & 0.195815 & 2 & 0.627964 & 0.0561729 \\\\\n",
       "\t3 & 0.975973 & 0.638358 & 3 & 0.980977 & 0.591451 \\\\\n",
       "\t4 & 0.397127 & 0.514557 & 5 & 0.493713 & 0.490845 \\\\\n",
       "\\end{tabular}\n"
      ],
      "text/plain": [
       "\u001b[1m4×5 DataFrame\u001b[0m\n",
       "\u001b[1m Row \u001b[0m│\u001b[1m x1       \u001b[0m\u001b[1m x2       \u001b[0m\u001b[1m newcol \u001b[0m\u001b[1m x3       \u001b[0m\u001b[1m x4        \u001b[0m\n",
       "     │\u001b[90m Float64  \u001b[0m\u001b[90m Float64  \u001b[0m\u001b[90m Int64  \u001b[0m\u001b[90m Float64  \u001b[0m\u001b[90m Float64   \u001b[0m\n",
       "─────┼─────────────────────────────────────────────────\n",
       "   1 │ 0.729509  0.883271       1  0.48758   0.838227\n",
       "   2 │ 0.398605  0.195815       2  0.627964  0.0561729\n",
       "   3 │ 0.975973  0.638358       3  0.980977  0.591451\n",
       "   4 │ 0.397127  0.514557       5  0.493713  0.490845"
      ]
     },
     "execution_count": 441,
     "metadata": {},
     "output_type": "execute_result"
    }
   ],
   "source": [
    "deleteat!(M1, 4)"
   ]
  },
  {
   "cell_type": "code",
   "execution_count": 442,
   "id": "9d95079a",
   "metadata": {},
   "outputs": [
    {
     "data": {
      "text/html": [
       "<div><div style = \"float: left;\"><span>2×5 DataFrame</span></div><div style = \"clear: both;\"></div></div><div class = \"data-frame\" style = \"overflow-x: scroll;\"><table class = \"data-frame\" style = \"margin-bottom: 6px;\"><thead><tr class = \"header\"><th class = \"rowNumber\" style = \"font-weight: bold; text-align: right;\">Row</th><th style = \"text-align: left;\">x1</th><th style = \"text-align: left;\">x2</th><th style = \"text-align: left;\">newcol</th><th style = \"text-align: left;\">x3</th><th style = \"text-align: left;\">x4</th></tr><tr class = \"subheader headerLastRow\"><th class = \"rowNumber\" style = \"font-weight: bold; text-align: right;\"></th><th title = \"Float64\" style = \"text-align: left;\">Float64</th><th title = \"Float64\" style = \"text-align: left;\">Float64</th><th title = \"Int64\" style = \"text-align: left;\">Int64</th><th title = \"Float64\" style = \"text-align: left;\">Float64</th><th title = \"Float64\" style = \"text-align: left;\">Float64</th></tr></thead><tbody><tr><td class = \"rowNumber\" style = \"font-weight: bold; text-align: right;\">1</td><td style = \"text-align: right;\">0.729509</td><td style = \"text-align: right;\">0.883271</td><td style = \"text-align: right;\">1</td><td style = \"text-align: right;\">0.48758</td><td style = \"text-align: right;\">0.838227</td></tr><tr><td class = \"rowNumber\" style = \"font-weight: bold; text-align: right;\">2</td><td style = \"text-align: right;\">0.975973</td><td style = \"text-align: right;\">0.638358</td><td style = \"text-align: right;\">3</td><td style = \"text-align: right;\">0.980977</td><td style = \"text-align: right;\">0.591451</td></tr></tbody></table></div>"
      ],
      "text/latex": [
       "\\begin{tabular}{r|ccccc}\n",
       "\t& x1 & x2 & newcol & x3 & x4\\\\\n",
       "\t\\hline\n",
       "\t& Float64 & Float64 & Int64 & Float64 & Float64\\\\\n",
       "\t\\hline\n",
       "\t1 & 0.729509 & 0.883271 & 1 & 0.48758 & 0.838227 \\\\\n",
       "\t2 & 0.975973 & 0.638358 & 3 & 0.980977 & 0.591451 \\\\\n",
       "\\end{tabular}\n"
      ],
      "text/plain": [
       "\u001b[1m2×5 DataFrame\u001b[0m\n",
       "\u001b[1m Row \u001b[0m│\u001b[1m x1       \u001b[0m\u001b[1m x2       \u001b[0m\u001b[1m newcol \u001b[0m\u001b[1m x3       \u001b[0m\u001b[1m x4       \u001b[0m\n",
       "     │\u001b[90m Float64  \u001b[0m\u001b[90m Float64  \u001b[0m\u001b[90m Int64  \u001b[0m\u001b[90m Float64  \u001b[0m\u001b[90m Float64  \u001b[0m\n",
       "─────┼────────────────────────────────────────────────\n",
       "   1 │ 0.729509  0.883271       1  0.48758   0.838227\n",
       "   2 │ 0.975973  0.638358       3  0.980977  0.591451"
      ]
     },
     "execution_count": 442,
     "metadata": {},
     "output_type": "execute_result"
    }
   ],
   "source": [
    "#Based on some logical condition ,filter your data\n",
    "# Look at rows of x1 column and only retrieve the rows that are greater than 0.6 in the rows of x1\n",
    "filter( r -> r.x1 > 0.6, M1)"
   ]
  }
 ],
 "metadata": {
  "kernelspec": {
   "display_name": "Julia 1.8.3",
   "language": "julia",
   "name": "julia-1.8"
  },
  "language_info": {
   "file_extension": ".jl",
   "mimetype": "application/julia",
   "name": "julia",
   "version": "1.8.3"
  }
 },
 "nbformat": 4,
 "nbformat_minor": 5
}
